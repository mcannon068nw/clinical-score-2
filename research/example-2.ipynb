{
 "cells": [
  {
   "cell_type": "code",
   "execution_count": 1,
   "metadata": {},
   "outputs": [],
   "source": [
    "import sys\n",
    "import os\n",
    "import pandas as pd\n",
    "from tqdm import tqdm\n",
    "\n",
    "# Add the parent directory of this notebook to the Python path\n",
    "sys.path.append(os.path.abspath('..'))\n",
    "\n",
    "import search_set\n",
    "import indicator\n",
    "import literature\n"
   ]
  },
  {
   "cell_type": "markdown",
   "metadata": {},
   "source": [
    "## Example Code for Generating Literature Indicators\n",
    "Example notebook showing how to use this clinical score package to generate literature indicators for genes and drugs present in DGIdb data. This notebook is specific for the *Pubtator3+Drug* search strategy, which requires a PMID look-up per drug in the dataset"
   ]
  },
  {
   "cell_type": "markdown",
   "metadata": {},
   "source": [
    "### Generate DGIdb Search Set\n",
    "Trim the DGIdb interactions database file to just the set of relevant interactions for a given gene."
   ]
  },
  {
   "cell_type": "code",
   "execution_count": 2,
   "metadata": {},
   "outputs": [
    {
     "name": "stdout",
     "output_type": "stream",
     "text": [
      "Search set saved to search/2025-08-13_BCL2_clin_score.csv\n"
     ]
    }
   ],
   "source": [
    "gene = 'BCL2'\n",
    "search_set.generate_search_set(gene)"
   ]
  },
  {
   "cell_type": "markdown",
   "metadata": {},
   "source": [
    "### Grab PMIDs, Fetch Abstracts\n",
    "Use a desired search method to obtain a list of relevant PubMed IDs to retrieve abstracts for downstream indicator analysis.  \n",
    "  \n",
    "Currently defined search methods are: *Raw String*, *NCBI GeneID*, *PubTator3*, *PubTator3+Drug*  \n",
    "  \n",
    "After PMIDs are identified, fetch all the abstracts."
   ]
  },
  {
   "cell_type": "code",
   "execution_count": null,
   "metadata": {},
   "outputs": [
    {
     "name": "stderr",
     "output_type": "stream",
     "text": [
      "/Users/mjc014/Documents/repo/git/clinical-score-2/literature.py:124: DtypeWarning: Columns (2,3) have mixed types. Specify dtype option on import or set low_memory=False.\n",
      "  gene_reference = pd.read_csv('data/pubtator/gene2pubtator3', sep='\\t', header=None)\n"
     ]
    },
    {
     "name": "stdout",
     "output_type": "stream",
     "text": [
      "Gene Pubtator3 set loaded!\n"
     ]
    }
   ],
   "source": [
    "import importlib\n",
    "importlib.reload(literature)\n",
    "dgidb_df = pd.read_csv('search/2025-08-13_BCL2_clin_score.csv')\n",
    "dgidb_df = dgidb_df.drop_duplicates(subset=['Drug','Gene'], keep='first')\n",
    "dgidb_df.head()\n",
    "\n",
    "\n",
    "pmid_dicts = literature.fetch_pmids_by_pubtator3drug(gene, list(dgidb_df['Drug']))\n",
    "# abstracts = literature.fetch_abstracts(pmids)"
   ]
  },
  {
   "cell_type": "code",
   "execution_count": 6,
   "metadata": {},
   "outputs": [
    {
     "name": "stdout",
     "output_type": "stream",
     "text": [
      "hello\n",
      "test\n"
     ]
    }
   ],
   "source": [
    "test = {'123': 'hello', '456': 'test'}\n",
    "for t in test.keys():\n",
    "    print(test[t])"
   ]
  },
  {
   "cell_type": "code",
   "execution_count": null,
   "metadata": {},
   "outputs": [],
   "source": [
    "abstracts = {}\n",
    "for key in pmid_dicts.key():\n",
    "    abstracts[key] = literature.fetch_abstracts(pmid_dicts[key])"
   ]
  },
  {
   "cell_type": "markdown",
   "metadata": {},
   "source": [
    "### Generate Scores\n",
    "Use retrieved abstracts to determine the literature indicators for each gene, drug interaction pair\n"
   ]
  },
  {
   "cell_type": "code",
   "execution_count": null,
   "metadata": {},
   "outputs": [],
   "source": []
  },
  {
   "cell_type": "code",
   "execution_count": null,
   "metadata": {},
   "outputs": [],
   "source": [
    "indicator.generate_indicators(abstracts, dgidb_df, stop=100)"
   ]
  }
 ],
 "metadata": {
  "kernelspec": {
   "display_name": "3.13.2",
   "language": "python",
   "name": "python3"
  },
  "language_info": {
   "codemirror_mode": {
    "name": "ipython",
    "version": 3
   },
   "file_extension": ".py",
   "mimetype": "text/x-python",
   "name": "python",
   "nbconvert_exporter": "python",
   "pygments_lexer": "ipython3",
   "version": "3.13.2"
  }
 },
 "nbformat": 4,
 "nbformat_minor": 2
}
