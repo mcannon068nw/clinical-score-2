{
 "cells": [
  {
   "cell_type": "code",
   "execution_count": null,
   "metadata": {},
   "outputs": [],
   "source": [
    "import sys\n",
    "import os\n",
    "import pandas as pd\n",
    "from tqdm import tqdm\n",
    "\n",
    "# Add the parent directory of this notebook to the Python path\n",
    "sys.path.append(os.path.abspath('..'))\n",
    "\n",
    "import search_set\n",
    "import indicator\n",
    "import literature\n"
   ]
  },
  {
   "cell_type": "markdown",
   "metadata": {},
   "source": [
    "## Example Code for Generating Literature Indicators\n",
    "Example notebook showing how to use this clinical score package to generate literature indicators for genes and drugs present in DGIdb data. This notebook is specific for the *Pubtator3+Drug* search strategy, which requires a PMID look-up per drug in the dataset"
   ]
  },
  {
   "cell_type": "markdown",
   "metadata": {},
   "source": [
    "### Generate DGIdb Search Set\n",
    "Trim the DGIdb interactions database file to just the set of relevant interactions for a given gene."
   ]
  },
  {
   "cell_type": "code",
   "execution_count": null,
   "metadata": {},
   "outputs": [],
   "source": [
    "gene = 'EGFR'\n",
    "search_set.generate_search_set(gene)"
   ]
  },
  {
   "cell_type": "markdown",
   "metadata": {},
   "source": [
    "### Grab PMIDs, Fetch Abstracts\n",
    "Use a desired search method to obtain a list of relevant PubMed IDs to retrieve abstracts for downstream indicator analysis.  \n",
    "  \n",
    "To use *PubTator3+Drug* as a search method, the overlap for gene, drugs must be identified beforehand to determine the unique set of abstracts to pull for indicator generation. Depending on the search set, this may take anywhere from 20 minutes to an hour (or two)  \n",
    "  \n",
    "  \n",
    "After PMIDs are identified, fetch all the abstracts."
   ]
  },
  {
   "cell_type": "code",
   "execution_count": null,
   "metadata": {},
   "outputs": [],
   "source": [
    "dgidb_df = pd.read_csv('search/2025-08-13_EGFR_clin_score.csv')\n",
    "dgidb_df = dgidb_df.drop_duplicates(subset=['Drug','Gene'], keep='first')\n",
    "pmid_dicts = literature.fetch_pmids_by_pubtator3drug(gene, list(dgidb_df['Drug']))"
   ]
  },
  {
   "cell_type": "code",
   "execution_count": null,
   "metadata": {},
   "outputs": [],
   "source": [
    "unique_pmids = {pmid for pmids in pmid_dicts.values() for pmid in pmids}\n",
    "unique_pmids = [pmid for pmid in unique_pmids]\n",
    "print(len(unique_pmids))\n",
    "abstracts = literature.fetch_abstracts(unique_pmids)"
   ]
  },
  {
   "cell_type": "markdown",
   "metadata": {},
   "source": [
    "### Generate Scores\n",
    "Use retrieved abstracts to determine the literature indicators for each gene, drug interaction pair. Depending on number of abstracts retrieved, this could take many hours.\n"
   ]
  },
  {
   "cell_type": "code",
   "execution_count": null,
   "metadata": {},
   "outputs": [],
   "source": [
    "indicator.generate_indicators(abstracts, dgidb_df)"
   ]
  }
 ],
 "metadata": {
  "kernelspec": {
   "display_name": "3.13.2",
   "language": "python",
   "name": "python3"
  },
  "language_info": {
   "codemirror_mode": {
    "name": "ipython",
    "version": 3
   },
   "file_extension": ".py",
   "mimetype": "text/x-python",
   "name": "python",
   "nbconvert_exporter": "python",
   "pygments_lexer": "ipython3",
   "version": "3.13.2"
  }
 },
 "nbformat": 4,
 "nbformat_minor": 2
}
