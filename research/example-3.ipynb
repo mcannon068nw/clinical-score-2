{
 "cells": [
  {
   "cell_type": "code",
   "execution_count": null,
   "metadata": {},
   "outputs": [],
   "source": [
    "import pandas as pd\n",
    "import sys, os, ast\n",
    "import plotly\n",
    "import plotly.express as px\n",
    "import plotly.graph_objects as go\n",
    "from itertools import combinations\n",
    "from upsetplot import from_memberships, UpSet\n",
    "import matplotlib.pyplot as plt\n",
    "import ast\n",
    "import numpy as np\n",
    "\n",
    "# Add the parent directory of this notebook to the Python path\n",
    "sys.path.append(os.path.abspath('..'))\n",
    "\n",
    "import score"
   ]
  },
  {
   "cell_type": "markdown",
   "metadata": {},
   "source": [
    "## Example Code for Generating Clinical Prioritization Scores\n",
    "Demo notebook demonstrating how to take a set of literature indicators to generate new prioritization scores for downstream curation or hypothesis generation efforts."
   ]
  },
  {
   "cell_type": "markdown",
   "metadata": {},
   "source": [
    "### Load Indicator Scores"
   ]
  },
  {
   "cell_type": "code",
   "execution_count": 2,
   "metadata": {},
   "outputs": [],
   "source": [
    "search_strategies = ['raw','ncbi','pubtator3']\n",
    "assessments = pd.DataFrame()\n",
    "for strategy in search_strategies:\n",
    "    tdf = score.load_pmid_assessments(f'search_strategy_evaluation/{strategy}/2025-08-14_BCL2.zip', strategy)\n",
    "    assessments = pd.concat([assessments,tdf])\n",
    "\n",
    "tdf = score.load_pmid_assessments('search_strategy_evaluation/pubtator3+drug/2025-08-13_BCL2.zip','pubtator3+drug')\n",
    "\n",
    "assessments = pd.concat([assessments, tdf])"
   ]
  },
  {
   "cell_type": "code",
   "execution_count": 3,
   "metadata": {},
   "outputs": [
    {
     "data": {
      "text/html": [
       "<div>\n",
       "<style scoped>\n",
       "    .dataframe tbody tr th:only-of-type {\n",
       "        vertical-align: middle;\n",
       "    }\n",
       "\n",
       "    .dataframe tbody tr th {\n",
       "        vertical-align: top;\n",
       "    }\n",
       "\n",
       "    .dataframe thead th {\n",
       "        text-align: right;\n",
       "    }\n",
       "</style>\n",
       "<table border=\"1\" class=\"dataframe\">\n",
       "  <thead>\n",
       "    <tr style=\"text-align: right;\">\n",
       "      <th></th>\n",
       "      <th>pmid</th>\n",
       "      <th>label</th>\n",
       "      <th>scores</th>\n",
       "      <th>gene</th>\n",
       "      <th>drug</th>\n",
       "      <th>method</th>\n",
       "    </tr>\n",
       "  </thead>\n",
       "  <tbody>\n",
       "    <tr>\n",
       "      <th>0</th>\n",
       "      <td>39796006</td>\n",
       "      <td>not_evaluated</td>\n",
       "      <td>0.0</td>\n",
       "      <td>BCL2</td>\n",
       "      <td>4-PHENYLBUTYRIC ACID</td>\n",
       "      <td>pubtator3</td>\n",
       "    </tr>\n",
       "    <tr>\n",
       "      <th>1</th>\n",
       "      <td>40524014</td>\n",
       "      <td>not_evaluated</td>\n",
       "      <td>0.0</td>\n",
       "      <td>BCL2</td>\n",
       "      <td>4-PHENYLBUTYRIC ACID</td>\n",
       "      <td>pubtator3</td>\n",
       "    </tr>\n",
       "    <tr>\n",
       "      <th>2</th>\n",
       "      <td>40393040</td>\n",
       "      <td>not_evaluated</td>\n",
       "      <td>0.0</td>\n",
       "      <td>BCL2</td>\n",
       "      <td>4-PHENYLBUTYRIC ACID</td>\n",
       "      <td>pubtator3</td>\n",
       "    </tr>\n",
       "    <tr>\n",
       "      <th>3</th>\n",
       "      <td>40619042</td>\n",
       "      <td>not_evaluated</td>\n",
       "      <td>0.0</td>\n",
       "      <td>BCL2</td>\n",
       "      <td>4-PHENYLBUTYRIC ACID</td>\n",
       "      <td>pubtator3</td>\n",
       "    </tr>\n",
       "    <tr>\n",
       "      <th>4</th>\n",
       "      <td>40444042</td>\n",
       "      <td>not_evaluated</td>\n",
       "      <td>0.0</td>\n",
       "      <td>BCL2</td>\n",
       "      <td>4-PHENYLBUTYRIC ACID</td>\n",
       "      <td>pubtator3</td>\n",
       "    </tr>\n",
       "    <tr>\n",
       "      <th>...</th>\n",
       "      <td>...</td>\n",
       "      <td>...</td>\n",
       "      <td>...</td>\n",
       "      <td>...</td>\n",
       "      <td>...</td>\n",
       "      <td>...</td>\n",
       "    </tr>\n",
       "    <tr>\n",
       "      <th>49995</th>\n",
       "      <td>34898246</td>\n",
       "      <td>not_evaluated</td>\n",
       "      <td>0.0</td>\n",
       "      <td>BCL2</td>\n",
       "      <td>ANG1005</td>\n",
       "      <td>pubtator3</td>\n",
       "    </tr>\n",
       "    <tr>\n",
       "      <th>49996</th>\n",
       "      <td>34434246</td>\n",
       "      <td>not_evaluated</td>\n",
       "      <td>0.0</td>\n",
       "      <td>BCL2</td>\n",
       "      <td>ANG1005</td>\n",
       "      <td>pubtator3</td>\n",
       "    </tr>\n",
       "    <tr>\n",
       "      <th>49997</th>\n",
       "      <td>30644246</td>\n",
       "      <td>not_evaluated</td>\n",
       "      <td>0.0</td>\n",
       "      <td>BCL2</td>\n",
       "      <td>ANG1005</td>\n",
       "      <td>pubtator3</td>\n",
       "    </tr>\n",
       "    <tr>\n",
       "      <th>49998</th>\n",
       "      <td>37748246</td>\n",
       "      <td>not_evaluated</td>\n",
       "      <td>0.0</td>\n",
       "      <td>BCL2</td>\n",
       "      <td>ANG1005</td>\n",
       "      <td>pubtator3</td>\n",
       "    </tr>\n",
       "    <tr>\n",
       "      <th>49999</th>\n",
       "      <td>28793246</td>\n",
       "      <td>not_evaluated</td>\n",
       "      <td>0.0</td>\n",
       "      <td>BCL2</td>\n",
       "      <td>ANG1005</td>\n",
       "      <td>pubtator3</td>\n",
       "    </tr>\n",
       "  </tbody>\n",
       "</table>\n",
       "<p>49805 rows × 6 columns</p>\n",
       "</div>"
      ],
      "text/plain": [
       "           pmid          label scores  gene                  drug     method\n",
       "0      39796006  not_evaluated    0.0  BCL2  4-PHENYLBUTYRIC ACID  pubtator3\n",
       "1      40524014  not_evaluated    0.0  BCL2  4-PHENYLBUTYRIC ACID  pubtator3\n",
       "2      40393040  not_evaluated    0.0  BCL2  4-PHENYLBUTYRIC ACID  pubtator3\n",
       "3      40619042  not_evaluated    0.0  BCL2  4-PHENYLBUTYRIC ACID  pubtator3\n",
       "4      40444042  not_evaluated    0.0  BCL2  4-PHENYLBUTYRIC ACID  pubtator3\n",
       "...         ...            ...    ...   ...                   ...        ...\n",
       "49995  34898246  not_evaluated    0.0  BCL2               ANG1005  pubtator3\n",
       "49996  34434246  not_evaluated    0.0  BCL2               ANG1005  pubtator3\n",
       "49997  30644246  not_evaluated    0.0  BCL2               ANG1005  pubtator3\n",
       "49998  37748246  not_evaluated    0.0  BCL2               ANG1005  pubtator3\n",
       "49999  28793246  not_evaluated    0.0  BCL2               ANG1005  pubtator3\n",
       "\n",
       "[49805 rows x 6 columns]"
      ]
     },
     "execution_count": 3,
     "metadata": {},
     "output_type": "execute_result"
    }
   ],
   "source": [
    "assessments[assessments['method']=='pubtator3'].groupby(by='pmid').head()"
   ]
  },
  {
   "cell_type": "code",
   "execution_count": 4,
   "metadata": {},
   "outputs": [
    {
     "data": {
      "text/plain": [
       "method\n",
       "pubtator3+drug    1073\n",
       "raw                382\n",
       "pubtator3          270\n",
       "ncbi                45\n",
       "Name: count, dtype: int64"
      ]
     },
     "execution_count": 4,
     "metadata": {},
     "output_type": "execute_result"
    }
   ],
   "source": [
    "assessments[(assessments['scores']!='0.0') & (assessments['scores']!=0.0) & (assessments['label']!='no_indicator_evidence')]['method'].value_counts()"
   ]
  },
  {
   "cell_type": "markdown",
   "metadata": {},
   "source": [
    "### Attach Indicators to DGIdb Search Set\n",
    "Now that we have indicators loaded from our NLP methods, let's calculate and attach them to their relevant search terms"
   ]
  },
  {
   "cell_type": "code",
   "execution_count": 5,
   "metadata": {},
   "outputs": [
    {
     "data": {
      "text/html": [
       "<div>\n",
       "<style scoped>\n",
       "    .dataframe tbody tr th:only-of-type {\n",
       "        vertical-align: middle;\n",
       "    }\n",
       "\n",
       "    .dataframe tbody tr th {\n",
       "        vertical-align: top;\n",
       "    }\n",
       "\n",
       "    .dataframe thead th {\n",
       "        text-align: right;\n",
       "    }\n",
       "</style>\n",
       "<table border=\"1\" class=\"dataframe\">\n",
       "  <thead>\n",
       "    <tr style=\"text-align: right;\">\n",
       "      <th></th>\n",
       "      <th>nomenclature</th>\n",
       "      <th>Gene</th>\n",
       "      <th>long_name</th>\n",
       "      <th>gene_concept_id</th>\n",
       "      <th>interaction_score</th>\n",
       "      <th>drug_specificity</th>\n",
       "      <th>gene_specificity</th>\n",
       "      <th>evidence_score</th>\n",
       "      <th>source_db_name</th>\n",
       "      <th>source_db_version</th>\n",
       "      <th>...</th>\n",
       "      <th>directionality</th>\n",
       "      <th>definition</th>\n",
       "      <th>reference</th>\n",
       "      <th>drug_name</th>\n",
       "      <th>nomenclature-2</th>\n",
       "      <th>Drug</th>\n",
       "      <th>approved</th>\n",
       "      <th>immunotherapy</th>\n",
       "      <th>anti_neoplastic</th>\n",
       "      <th>drug_concept_id</th>\n",
       "    </tr>\n",
       "  </thead>\n",
       "  <tbody>\n",
       "    <tr>\n",
       "      <th>0</th>\n",
       "      <td>Gene Symbol</td>\n",
       "      <td>BCL2</td>\n",
       "      <td>BCL2 apoptosis regulator</td>\n",
       "      <td>hgnc:990</td>\n",
       "      <td>2.284732</td>\n",
       "      <td>4.141413</td>\n",
       "      <td>0.183893</td>\n",
       "      <td>3.0</td>\n",
       "      <td>TALC</td>\n",
       "      <td>12-May-16</td>\n",
       "      <td>...</td>\n",
       "      <td>1.0</td>\n",
       "      <td>In inhibitor interactions, the drug binds to a...</td>\n",
       "      <td>&lt;a href=\"https://en.wikipedia.org/wiki/Enzyme_...</td>\n",
       "      <td>OBLIMERSEN</td>\n",
       "      <td>Primary Name</td>\n",
       "      <td>OBLIMERSEN</td>\n",
       "      <td>False</td>\n",
       "      <td>False</td>\n",
       "      <td>True</td>\n",
       "      <td>ncit:C1870</td>\n",
       "    </tr>\n",
       "    <tr>\n",
       "      <th>3</th>\n",
       "      <td>Gene Name</td>\n",
       "      <td>BCL2</td>\n",
       "      <td>BCL2 apoptosis regulator</td>\n",
       "      <td>hgnc:990</td>\n",
       "      <td>1.523154</td>\n",
       "      <td>4.141413</td>\n",
       "      <td>0.183893</td>\n",
       "      <td>2.0</td>\n",
       "      <td>NCI</td>\n",
       "      <td>14-Sep-17</td>\n",
       "      <td>...</td>\n",
       "      <td>NaN</td>\n",
       "      <td>NaN</td>\n",
       "      <td>NaN</td>\n",
       "      <td>DOLASTATIN 10</td>\n",
       "      <td>Primary Name</td>\n",
       "      <td>DOLASTATIN 10</td>\n",
       "      <td>False</td>\n",
       "      <td>False</td>\n",
       "      <td>False</td>\n",
       "      <td>ncit:C1300</td>\n",
       "    </tr>\n",
       "    <tr>\n",
       "      <th>4</th>\n",
       "      <td>Gene Name</td>\n",
       "      <td>BCL2</td>\n",
       "      <td>BCL2 apoptosis regulator</td>\n",
       "      <td>hgnc:990</td>\n",
       "      <td>1.523154</td>\n",
       "      <td>4.141413</td>\n",
       "      <td>0.183893</td>\n",
       "      <td>2.0</td>\n",
       "      <td>NCI</td>\n",
       "      <td>14-Sep-17</td>\n",
       "      <td>...</td>\n",
       "      <td>NaN</td>\n",
       "      <td>NaN</td>\n",
       "      <td>NaN</td>\n",
       "      <td>EPISIALIN</td>\n",
       "      <td>Primary Name</td>\n",
       "      <td>MUC-1 ANTIGEN</td>\n",
       "      <td>False</td>\n",
       "      <td>False</td>\n",
       "      <td>False</td>\n",
       "      <td>ncit:C2407</td>\n",
       "    </tr>\n",
       "    <tr>\n",
       "      <th>5</th>\n",
       "      <td>Gene Name</td>\n",
       "      <td>BCL2</td>\n",
       "      <td>BCL2 apoptosis regulator</td>\n",
       "      <td>hgnc:990</td>\n",
       "      <td>1.523154</td>\n",
       "      <td>4.141413</td>\n",
       "      <td>0.183893</td>\n",
       "      <td>2.0</td>\n",
       "      <td>NCI</td>\n",
       "      <td>14-Sep-17</td>\n",
       "      <td>...</td>\n",
       "      <td>NaN</td>\n",
       "      <td>NaN</td>\n",
       "      <td>NaN</td>\n",
       "      <td>MICELLAR PACLITAXEL</td>\n",
       "      <td>Primary Name</td>\n",
       "      <td>MICELLAR PACLITAXEL</td>\n",
       "      <td>False</td>\n",
       "      <td>False</td>\n",
       "      <td>False</td>\n",
       "      <td>ncit:C29256</td>\n",
       "    </tr>\n",
       "    <tr>\n",
       "      <th>6</th>\n",
       "      <td>Gene Name</td>\n",
       "      <td>BCL2</td>\n",
       "      <td>BCL2 apoptosis regulator</td>\n",
       "      <td>hgnc:990</td>\n",
       "      <td>1.523154</td>\n",
       "      <td>4.141413</td>\n",
       "      <td>0.183893</td>\n",
       "      <td>2.0</td>\n",
       "      <td>NCI</td>\n",
       "      <td>14-Sep-17</td>\n",
       "      <td>...</td>\n",
       "      <td>NaN</td>\n",
       "      <td>NaN</td>\n",
       "      <td>NaN</td>\n",
       "      <td>BEAUVERICIN</td>\n",
       "      <td>Primary Name</td>\n",
       "      <td>BEAUVERICIN</td>\n",
       "      <td>False</td>\n",
       "      <td>False</td>\n",
       "      <td>False</td>\n",
       "      <td>ncit:C1011</td>\n",
       "    </tr>\n",
       "  </tbody>\n",
       "</table>\n",
       "<p>5 rows × 31 columns</p>\n",
       "</div>"
      ],
      "text/plain": [
       "  nomenclature  Gene                 long_name gene_concept_id  \\\n",
       "0  Gene Symbol  BCL2  BCL2 apoptosis regulator        hgnc:990   \n",
       "3    Gene Name  BCL2  BCL2 apoptosis regulator        hgnc:990   \n",
       "4    Gene Name  BCL2  BCL2 apoptosis regulator        hgnc:990   \n",
       "5    Gene Name  BCL2  BCL2 apoptosis regulator        hgnc:990   \n",
       "6    Gene Name  BCL2  BCL2 apoptosis regulator        hgnc:990   \n",
       "\n",
       "   interaction_score  drug_specificity  gene_specificity  evidence_score  \\\n",
       "0           2.284732          4.141413          0.183893             3.0   \n",
       "3           1.523154          4.141413          0.183893             2.0   \n",
       "4           1.523154          4.141413          0.183893             2.0   \n",
       "5           1.523154          4.141413          0.183893             2.0   \n",
       "6           1.523154          4.141413          0.183893             2.0   \n",
       "\n",
       "  source_db_name source_db_version  ... directionality  \\\n",
       "0           TALC         12-May-16  ...            1.0   \n",
       "3            NCI         14-Sep-17  ...            NaN   \n",
       "4            NCI         14-Sep-17  ...            NaN   \n",
       "5            NCI         14-Sep-17  ...            NaN   \n",
       "6            NCI         14-Sep-17  ...            NaN   \n",
       "\n",
       "                                          definition  \\\n",
       "0  In inhibitor interactions, the drug binds to a...   \n",
       "3                                                NaN   \n",
       "4                                                NaN   \n",
       "5                                                NaN   \n",
       "6                                                NaN   \n",
       "\n",
       "                                           reference            drug_name  \\\n",
       "0  <a href=\"https://en.wikipedia.org/wiki/Enzyme_...           OBLIMERSEN   \n",
       "3                                                NaN        DOLASTATIN 10   \n",
       "4                                                NaN            EPISIALIN   \n",
       "5                                                NaN  MICELLAR PACLITAXEL   \n",
       "6                                                NaN          BEAUVERICIN   \n",
       "\n",
       "  nomenclature-2                 Drug approved  immunotherapy anti_neoplastic  \\\n",
       "0   Primary Name           OBLIMERSEN    False          False            True   \n",
       "3   Primary Name        DOLASTATIN 10    False          False           False   \n",
       "4   Primary Name        MUC-1 ANTIGEN    False          False           False   \n",
       "5   Primary Name  MICELLAR PACLITAXEL    False          False           False   \n",
       "6   Primary Name          BEAUVERICIN    False          False           False   \n",
       "\n",
       "  drug_concept_id  \n",
       "0      ncit:C1870  \n",
       "3      ncit:C1300  \n",
       "4      ncit:C2407  \n",
       "5     ncit:C29256  \n",
       "6      ncit:C1011  \n",
       "\n",
       "[5 rows x 31 columns]"
      ]
     },
     "execution_count": 5,
     "metadata": {},
     "output_type": "execute_result"
    }
   ],
   "source": [
    "dgidb_df = pd.read_csv('search/2025-08-14_BCL2_clin_score.csv')\n",
    "dgidb_df = dgidb_df.drop_duplicates(subset=['Drug','Gene'], keep='first')\n",
    "dgidb_df.head()"
   ]
  },
  {
   "cell_type": "code",
   "execution_count": 41,
   "metadata": {},
   "outputs": [
    {
     "data": {
      "text/html": [
       "<div>\n",
       "<style scoped>\n",
       "    .dataframe tbody tr th:only-of-type {\n",
       "        vertical-align: middle;\n",
       "    }\n",
       "\n",
       "    .dataframe tbody tr th {\n",
       "        vertical-align: top;\n",
       "    }\n",
       "\n",
       "    .dataframe thead th {\n",
       "        text-align: right;\n",
       "    }\n",
       "</style>\n",
       "<table border=\"1\" class=\"dataframe\">\n",
       "  <thead>\n",
       "    <tr style=\"text-align: right;\">\n",
       "      <th></th>\n",
       "      <th>pmid</th>\n",
       "      <th>label</th>\n",
       "      <th>scores</th>\n",
       "      <th>gene</th>\n",
       "      <th>drug</th>\n",
       "      <th>method</th>\n",
       "      <th>is_relevant</th>\n",
       "      <th>pmid_indicator</th>\n",
       "      <th>total_indicator</th>\n",
       "    </tr>\n",
       "  </thead>\n",
       "  <tbody>\n",
       "    <tr>\n",
       "      <th>0</th>\n",
       "      <td>37753296</td>\n",
       "      <td>indicator_evidence</td>\n",
       "      <td>{'clinical_study': 0, 'case_report': 0, 'anima...</td>\n",
       "      <td>BCL2</td>\n",
       "      <td>4-PHENYLBUTYRIC ACID</td>\n",
       "      <td>raw</td>\n",
       "      <td>True</td>\n",
       "      <td>2</td>\n",
       "      <td>2</td>\n",
       "    </tr>\n",
       "    <tr>\n",
       "      <th>1</th>\n",
       "      <td>40253027</td>\n",
       "      <td>indicator_evidence</td>\n",
       "      <td>{'clinical_study': 1, 'case_report': 0, 'anima...</td>\n",
       "      <td>BCL2</td>\n",
       "      <td>AMINOLEVULINIC ACID</td>\n",
       "      <td>raw</td>\n",
       "      <td>True</td>\n",
       "      <td>5</td>\n",
       "      <td>5</td>\n",
       "    </tr>\n",
       "    <tr>\n",
       "      <th>2</th>\n",
       "      <td>40612794</td>\n",
       "      <td>indicator_evidence</td>\n",
       "      <td>{'clinical_study': 0, 'case_report': 0, 'anima...</td>\n",
       "      <td>BCL2</td>\n",
       "      <td>BEAUVERICIN</td>\n",
       "      <td>raw</td>\n",
       "      <td>True</td>\n",
       "      <td>2</td>\n",
       "      <td>2</td>\n",
       "    </tr>\n",
       "    <tr>\n",
       "      <th>3</th>\n",
       "      <td>40593443</td>\n",
       "      <td>indicator_evidence</td>\n",
       "      <td>{'clinical_study': 1, 'case_report': 0, 'anima...</td>\n",
       "      <td>BCL2</td>\n",
       "      <td>BORTEZOMIB</td>\n",
       "      <td>raw</td>\n",
       "      <td>True</td>\n",
       "      <td>4</td>\n",
       "      <td>27</td>\n",
       "    </tr>\n",
       "    <tr>\n",
       "      <th>4</th>\n",
       "      <td>40539846</td>\n",
       "      <td>indicator_evidence</td>\n",
       "      <td>{'clinical_study': 1, 'case_report': 0, 'anima...</td>\n",
       "      <td>BCL2</td>\n",
       "      <td>BORTEZOMIB</td>\n",
       "      <td>raw</td>\n",
       "      <td>True</td>\n",
       "      <td>2</td>\n",
       "      <td>27</td>\n",
       "    </tr>\n",
       "    <tr>\n",
       "      <th>...</th>\n",
       "      <td>...</td>\n",
       "      <td>...</td>\n",
       "      <td>...</td>\n",
       "      <td>...</td>\n",
       "      <td>...</td>\n",
       "      <td>...</td>\n",
       "      <td>...</td>\n",
       "      <td>...</td>\n",
       "      <td>...</td>\n",
       "    </tr>\n",
       "    <tr>\n",
       "      <th>1765</th>\n",
       "      <td>24289107</td>\n",
       "      <td>indicator_evidence</td>\n",
       "      <td>{'clinical_study': 1, 'case_report': 0, 'anima...</td>\n",
       "      <td>BCL2</td>\n",
       "      <td>VINCRISTINE</td>\n",
       "      <td>pubtator3+drug</td>\n",
       "      <td>True</td>\n",
       "      <td>2</td>\n",
       "      <td>349</td>\n",
       "    </tr>\n",
       "    <tr>\n",
       "      <th>1766</th>\n",
       "      <td>26301373</td>\n",
       "      <td>indicator_evidence</td>\n",
       "      <td>{'clinical_study': 0, 'case_report': 0, 'anima...</td>\n",
       "      <td>BCL2</td>\n",
       "      <td>VINCRISTINE</td>\n",
       "      <td>pubtator3+drug</td>\n",
       "      <td>True</td>\n",
       "      <td>4</td>\n",
       "      <td>349</td>\n",
       "    </tr>\n",
       "    <tr>\n",
       "      <th>1767</th>\n",
       "      <td>25090026</td>\n",
       "      <td>indicator_evidence</td>\n",
       "      <td>{'clinical_study': 1, 'case_report': 0, 'anima...</td>\n",
       "      <td>BCL2</td>\n",
       "      <td>VINCRISTINE</td>\n",
       "      <td>pubtator3+drug</td>\n",
       "      <td>True</td>\n",
       "      <td>1</td>\n",
       "      <td>349</td>\n",
       "    </tr>\n",
       "    <tr>\n",
       "      <th>1768</th>\n",
       "      <td>27628560</td>\n",
       "      <td>indicator_evidence</td>\n",
       "      <td>{'clinical_study': 0, 'case_report': 0, 'anima...</td>\n",
       "      <td>BCL2</td>\n",
       "      <td>VINCRISTINE</td>\n",
       "      <td>pubtator3+drug</td>\n",
       "      <td>True</td>\n",
       "      <td>2</td>\n",
       "      <td>349</td>\n",
       "    </tr>\n",
       "    <tr>\n",
       "      <th>1769</th>\n",
       "      <td>26071053</td>\n",
       "      <td>indicator_evidence</td>\n",
       "      <td>{'clinical_study': 4, 'case_report': 0, 'anima...</td>\n",
       "      <td>BCL2</td>\n",
       "      <td>VINCRISTINE</td>\n",
       "      <td>pubtator3+drug</td>\n",
       "      <td>True</td>\n",
       "      <td>5</td>\n",
       "      <td>349</td>\n",
       "    </tr>\n",
       "  </tbody>\n",
       "</table>\n",
       "<p>1770 rows × 9 columns</p>\n",
       "</div>"
      ],
      "text/plain": [
       "          pmid               label  \\\n",
       "0     37753296  indicator_evidence   \n",
       "1     40253027  indicator_evidence   \n",
       "2     40612794  indicator_evidence   \n",
       "3     40593443  indicator_evidence   \n",
       "4     40539846  indicator_evidence   \n",
       "...        ...                 ...   \n",
       "1765  24289107  indicator_evidence   \n",
       "1766  26301373  indicator_evidence   \n",
       "1767  25090026  indicator_evidence   \n",
       "1768  27628560  indicator_evidence   \n",
       "1769  26071053  indicator_evidence   \n",
       "\n",
       "                                                 scores  gene  \\\n",
       "0     {'clinical_study': 0, 'case_report': 0, 'anima...  BCL2   \n",
       "1     {'clinical_study': 1, 'case_report': 0, 'anima...  BCL2   \n",
       "2     {'clinical_study': 0, 'case_report': 0, 'anima...  BCL2   \n",
       "3     {'clinical_study': 1, 'case_report': 0, 'anima...  BCL2   \n",
       "4     {'clinical_study': 1, 'case_report': 0, 'anima...  BCL2   \n",
       "...                                                 ...   ...   \n",
       "1765  {'clinical_study': 1, 'case_report': 0, 'anima...  BCL2   \n",
       "1766  {'clinical_study': 0, 'case_report': 0, 'anima...  BCL2   \n",
       "1767  {'clinical_study': 1, 'case_report': 0, 'anima...  BCL2   \n",
       "1768  {'clinical_study': 0, 'case_report': 0, 'anima...  BCL2   \n",
       "1769  {'clinical_study': 4, 'case_report': 0, 'anima...  BCL2   \n",
       "\n",
       "                      drug          method  is_relevant  pmid_indicator  \\\n",
       "0     4-PHENYLBUTYRIC ACID             raw         True               2   \n",
       "1      AMINOLEVULINIC ACID             raw         True               5   \n",
       "2              BEAUVERICIN             raw         True               2   \n",
       "3               BORTEZOMIB             raw         True               4   \n",
       "4               BORTEZOMIB             raw         True               2   \n",
       "...                    ...             ...          ...             ...   \n",
       "1765           VINCRISTINE  pubtator3+drug         True               2   \n",
       "1766           VINCRISTINE  pubtator3+drug         True               4   \n",
       "1767           VINCRISTINE  pubtator3+drug         True               1   \n",
       "1768           VINCRISTINE  pubtator3+drug         True               2   \n",
       "1769           VINCRISTINE  pubtator3+drug         True               5   \n",
       "\n",
       "      total_indicator  \n",
       "0                   2  \n",
       "1                   5  \n",
       "2                   2  \n",
       "3                  27  \n",
       "4                  27  \n",
       "...               ...  \n",
       "1765              349  \n",
       "1766              349  \n",
       "1767              349  \n",
       "1768              349  \n",
       "1769              349  \n",
       "\n",
       "[1770 rows x 9 columns]"
      ]
     },
     "execution_count": 41,
     "metadata": {},
     "output_type": "execute_result"
    }
   ],
   "source": [
    "def unpack_total(score):\n",
    "    if type(score) is float:\n",
    "        return 0\n",
    "    if score is None:\n",
    "        return 0\n",
    "    return ast.literal_eval(score)['unweighted_total']\n",
    "\n",
    "trimmed_data = assessments[(assessments['scores']!='0.0') & (assessments['scores']!=0.0) & (assessments['label']!='no_indicator_evidence') & (assessments['scores'].isna()==False)].reset_index(drop=True)\n",
    "\n",
    "trimmed_data['pmid_indicator'] = trimmed_data['scores'].apply(unpack_total)\n",
    "\n",
    "drugs = list(trimmed_data['drug'].unique())\n",
    "\n",
    "trimmed_data['total_indicator'] = trimmed_data.groupby(['drug','method'])['pmid_indicator'].transform(\"sum\")\n",
    "\n",
    "trimmed_data\n"
   ]
  },
  {
   "cell_type": "code",
   "execution_count": 7,
   "metadata": {},
   "outputs": [
    {
     "data": {
      "text/html": [
       "<div>\n",
       "<style scoped>\n",
       "    .dataframe tbody tr th:only-of-type {\n",
       "        vertical-align: middle;\n",
       "    }\n",
       "\n",
       "    .dataframe tbody tr th {\n",
       "        vertical-align: top;\n",
       "    }\n",
       "\n",
       "    .dataframe thead th {\n",
       "        text-align: right;\n",
       "    }\n",
       "</style>\n",
       "<table border=\"1\" class=\"dataframe\">\n",
       "  <thead>\n",
       "    <tr style=\"text-align: right;\">\n",
       "      <th></th>\n",
       "      <th>gene</th>\n",
       "      <th>drug</th>\n",
       "      <th>method</th>\n",
       "      <th>total_indicator</th>\n",
       "      <th>nomenclature</th>\n",
       "      <th>Gene</th>\n",
       "      <th>long_name</th>\n",
       "      <th>gene_concept_id</th>\n",
       "      <th>interaction_score</th>\n",
       "      <th>drug_specificity</th>\n",
       "      <th>...</th>\n",
       "      <th>directionality</th>\n",
       "      <th>definition</th>\n",
       "      <th>reference</th>\n",
       "      <th>drug_name</th>\n",
       "      <th>nomenclature-2</th>\n",
       "      <th>Drug</th>\n",
       "      <th>approved</th>\n",
       "      <th>immunotherapy</th>\n",
       "      <th>anti_neoplastic</th>\n",
       "      <th>drug_concept_id</th>\n",
       "    </tr>\n",
       "  </thead>\n",
       "  <tbody>\n",
       "    <tr>\n",
       "      <th>0</th>\n",
       "      <td>BCL2</td>\n",
       "      <td>ALPHA-TOCOPHEROL</td>\n",
       "      <td>pubtator3</td>\n",
       "      <td>2</td>\n",
       "      <td>Gene Name</td>\n",
       "      <td>BCL2</td>\n",
       "      <td>BCL2 apoptosis regulator</td>\n",
       "      <td>hgnc:990</td>\n",
       "      <td>0.138469</td>\n",
       "      <td>0.376492</td>\n",
       "      <td>...</td>\n",
       "      <td>NaN</td>\n",
       "      <td>NaN</td>\n",
       "      <td>NaN</td>\n",
       "      <td>ALPHA-TOCOPHEROL</td>\n",
       "      <td>Primary Name</td>\n",
       "      <td>ALPHA-TOCOPHEROL</td>\n",
       "      <td>False</td>\n",
       "      <td>False</td>\n",
       "      <td>False</td>\n",
       "      <td>ncit:C74960</td>\n",
       "    </tr>\n",
       "    <tr>\n",
       "      <th>1</th>\n",
       "      <td>BCL2</td>\n",
       "      <td>AMINOLEVULINIC ACID</td>\n",
       "      <td>pubtator3</td>\n",
       "      <td>11</td>\n",
       "      <td>Gene Name</td>\n",
       "      <td>BCL2</td>\n",
       "      <td>BCL2 apoptosis regulator</td>\n",
       "      <td>hgnc:990</td>\n",
       "      <td>1.523154</td>\n",
       "      <td>4.141413</td>\n",
       "      <td>...</td>\n",
       "      <td>NaN</td>\n",
       "      <td>NaN</td>\n",
       "      <td>NaN</td>\n",
       "      <td>5-AMINOLAEVULINIC ACID</td>\n",
       "      <td>Primary Name</td>\n",
       "      <td>AMINOLEVULINIC ACID</td>\n",
       "      <td>False</td>\n",
       "      <td>False</td>\n",
       "      <td>False</td>\n",
       "      <td>ncit:C234</td>\n",
       "    </tr>\n",
       "    <tr>\n",
       "      <th>2</th>\n",
       "      <td>BCL2</td>\n",
       "      <td>BORTEZOMIB</td>\n",
       "      <td>pubtator3</td>\n",
       "      <td>12</td>\n",
       "      <td>Gene Name</td>\n",
       "      <td>BCL2</td>\n",
       "      <td>BCL2 apoptosis regulator</td>\n",
       "      <td>hgnc:990</td>\n",
       "      <td>0.009066</td>\n",
       "      <td>0.049303</td>\n",
       "      <td>...</td>\n",
       "      <td>NaN</td>\n",
       "      <td>NaN</td>\n",
       "      <td>NaN</td>\n",
       "      <td>Bortezomib</td>\n",
       "      <td>Primary Name</td>\n",
       "      <td>BORTEZOMIB</td>\n",
       "      <td>True</td>\n",
       "      <td>False</td>\n",
       "      <td>True</td>\n",
       "      <td>rxcui:358258</td>\n",
       "    </tr>\n",
       "    <tr>\n",
       "      <th>3</th>\n",
       "      <td>BCL2</td>\n",
       "      <td>C5A</td>\n",
       "      <td>pubtator3</td>\n",
       "      <td>4</td>\n",
       "      <td>Gene Name</td>\n",
       "      <td>BCL2</td>\n",
       "      <td>BCL2 apoptosis regulator</td>\n",
       "      <td>hgnc:990</td>\n",
       "      <td>0.217593</td>\n",
       "      <td>0.591630</td>\n",
       "      <td>...</td>\n",
       "      <td>NaN</td>\n",
       "      <td>NaN</td>\n",
       "      <td>NaN</td>\n",
       "      <td>C5A</td>\n",
       "      <td>Primary Name</td>\n",
       "      <td>C5A</td>\n",
       "      <td>False</td>\n",
       "      <td>False</td>\n",
       "      <td>False</td>\n",
       "      <td>iuphar.ligand:3576</td>\n",
       "    </tr>\n",
       "    <tr>\n",
       "      <th>4</th>\n",
       "      <td>BCL2</td>\n",
       "      <td>CARBOPLATIN</td>\n",
       "      <td>pubtator3</td>\n",
       "      <td>7</td>\n",
       "      <td>Gene Symbol</td>\n",
       "      <td>BCL2</td>\n",
       "      <td>BCL2 apoptosis regulator</td>\n",
       "      <td>hgnc:990</td>\n",
       "      <td>0.008960</td>\n",
       "      <td>0.048723</td>\n",
       "      <td>...</td>\n",
       "      <td>NaN</td>\n",
       "      <td>NaN</td>\n",
       "      <td>NaN</td>\n",
       "      <td>CARBOPLATIN</td>\n",
       "      <td>Primary Name</td>\n",
       "      <td>CARBOPLATIN</td>\n",
       "      <td>True</td>\n",
       "      <td>False</td>\n",
       "      <td>True</td>\n",
       "      <td>rxcui:40048</td>\n",
       "    </tr>\n",
       "  </tbody>\n",
       "</table>\n",
       "<p>5 rows × 35 columns</p>\n",
       "</div>"
      ],
      "text/plain": [
       "   gene                 drug     method  total_indicator nomenclature  Gene  \\\n",
       "0  BCL2     ALPHA-TOCOPHEROL  pubtator3                2    Gene Name  BCL2   \n",
       "1  BCL2  AMINOLEVULINIC ACID  pubtator3               11    Gene Name  BCL2   \n",
       "2  BCL2           BORTEZOMIB  pubtator3               12    Gene Name  BCL2   \n",
       "3  BCL2                  C5A  pubtator3                4    Gene Name  BCL2   \n",
       "4  BCL2          CARBOPLATIN  pubtator3                7  Gene Symbol  BCL2   \n",
       "\n",
       "                  long_name gene_concept_id  interaction_score  \\\n",
       "0  BCL2 apoptosis regulator        hgnc:990           0.138469   \n",
       "1  BCL2 apoptosis regulator        hgnc:990           1.523154   \n",
       "2  BCL2 apoptosis regulator        hgnc:990           0.009066   \n",
       "3  BCL2 apoptosis regulator        hgnc:990           0.217593   \n",
       "4  BCL2 apoptosis regulator        hgnc:990           0.008960   \n",
       "\n",
       "   drug_specificity  ...  directionality  definition reference  \\\n",
       "0          0.376492  ...             NaN         NaN       NaN   \n",
       "1          4.141413  ...             NaN         NaN       NaN   \n",
       "2          0.049303  ...             NaN         NaN       NaN   \n",
       "3          0.591630  ...             NaN         NaN       NaN   \n",
       "4          0.048723  ...             NaN         NaN       NaN   \n",
       "\n",
       "                drug_name nomenclature-2                 Drug approved  \\\n",
       "0        ALPHA-TOCOPHEROL   Primary Name     ALPHA-TOCOPHEROL    False   \n",
       "1  5-AMINOLAEVULINIC ACID   Primary Name  AMINOLEVULINIC ACID    False   \n",
       "2              Bortezomib   Primary Name           BORTEZOMIB     True   \n",
       "3                     C5A   Primary Name                  C5A    False   \n",
       "4             CARBOPLATIN   Primary Name          CARBOPLATIN     True   \n",
       "\n",
       "  immunotherapy anti_neoplastic     drug_concept_id  \n",
       "0         False           False         ncit:C74960  \n",
       "1         False           False           ncit:C234  \n",
       "2         False            True        rxcui:358258  \n",
       "3         False           False  iuphar.ligand:3576  \n",
       "4         False            True         rxcui:40048  \n",
       "\n",
       "[5 rows x 35 columns]"
      ]
     },
     "execution_count": 7,
     "metadata": {},
     "output_type": "execute_result"
    }
   ],
   "source": [
    "summary = (trimmed_data.groupby([\"gene\", \"drug\", \"method\"], as_index=False).agg(total_indicator=(\"total_indicator\", \"first\")))\n",
    "\n",
    "method = 'pubtator3'\n",
    "summary = summary[summary['method']==method].reset_index(drop=True)\n",
    "\n",
    "merged_df = pd.merge(\n",
    "    summary,\n",
    "    dgidb_df,\n",
    "    left_on='drug',\n",
    "    right_on='Drug',\n",
    "    how='left'\n",
    ")\n",
    "merged_df.head()"
   ]
  },
  {
   "cell_type": "markdown",
   "metadata": {},
   "source": [
    "### Create Graphs for Research"
   ]
  },
  {
   "cell_type": "code",
   "execution_count": 8,
   "metadata": {},
   "outputs": [
    {
     "data": {
      "text/html": [
       "<div>\n",
       "<style scoped>\n",
       "    .dataframe tbody tr th:only-of-type {\n",
       "        vertical-align: middle;\n",
       "    }\n",
       "\n",
       "    .dataframe tbody tr th {\n",
       "        vertical-align: top;\n",
       "    }\n",
       "\n",
       "    .dataframe thead th {\n",
       "        text-align: right;\n",
       "    }\n",
       "</style>\n",
       "<table border=\"1\" class=\"dataframe\">\n",
       "  <thead>\n",
       "    <tr style=\"text-align: right;\">\n",
       "      <th></th>\n",
       "      <th>pmid</th>\n",
       "      <th>label</th>\n",
       "      <th>scores</th>\n",
       "      <th>gene</th>\n",
       "      <th>drug</th>\n",
       "      <th>method</th>\n",
       "      <th>pmid_indicator</th>\n",
       "      <th>total_indicator</th>\n",
       "    </tr>\n",
       "  </thead>\n",
       "  <tbody>\n",
       "    <tr>\n",
       "      <th>0</th>\n",
       "      <td>37753296</td>\n",
       "      <td>indicator_evidence</td>\n",
       "      <td>{'clinical_study': 0, 'case_report': 0, 'anima...</td>\n",
       "      <td>BCL2</td>\n",
       "      <td>4-PHENYLBUTYRIC ACID</td>\n",
       "      <td>raw</td>\n",
       "      <td>2</td>\n",
       "      <td>2</td>\n",
       "    </tr>\n",
       "    <tr>\n",
       "      <th>1</th>\n",
       "      <td>40253027</td>\n",
       "      <td>indicator_evidence</td>\n",
       "      <td>{'clinical_study': 1, 'case_report': 0, 'anima...</td>\n",
       "      <td>BCL2</td>\n",
       "      <td>AMINOLEVULINIC ACID</td>\n",
       "      <td>raw</td>\n",
       "      <td>5</td>\n",
       "      <td>5</td>\n",
       "    </tr>\n",
       "    <tr>\n",
       "      <th>2</th>\n",
       "      <td>40612794</td>\n",
       "      <td>indicator_evidence</td>\n",
       "      <td>{'clinical_study': 0, 'case_report': 0, 'anima...</td>\n",
       "      <td>BCL2</td>\n",
       "      <td>BEAUVERICIN</td>\n",
       "      <td>raw</td>\n",
       "      <td>2</td>\n",
       "      <td>2</td>\n",
       "    </tr>\n",
       "    <tr>\n",
       "      <th>3</th>\n",
       "      <td>40593443</td>\n",
       "      <td>indicator_evidence</td>\n",
       "      <td>{'clinical_study': 1, 'case_report': 0, 'anima...</td>\n",
       "      <td>BCL2</td>\n",
       "      <td>BORTEZOMIB</td>\n",
       "      <td>raw</td>\n",
       "      <td>4</td>\n",
       "      <td>27</td>\n",
       "    </tr>\n",
       "    <tr>\n",
       "      <th>4</th>\n",
       "      <td>40539846</td>\n",
       "      <td>indicator_evidence</td>\n",
       "      <td>{'clinical_study': 1, 'case_report': 0, 'anima...</td>\n",
       "      <td>BCL2</td>\n",
       "      <td>BORTEZOMIB</td>\n",
       "      <td>raw</td>\n",
       "      <td>2</td>\n",
       "      <td>27</td>\n",
       "    </tr>\n",
       "  </tbody>\n",
       "</table>\n",
       "</div>"
      ],
      "text/plain": [
       "       pmid               label  \\\n",
       "0  37753296  indicator_evidence   \n",
       "1  40253027  indicator_evidence   \n",
       "2  40612794  indicator_evidence   \n",
       "3  40593443  indicator_evidence   \n",
       "4  40539846  indicator_evidence   \n",
       "\n",
       "                                              scores  gene  \\\n",
       "0  {'clinical_study': 0, 'case_report': 0, 'anima...  BCL2   \n",
       "1  {'clinical_study': 1, 'case_report': 0, 'anima...  BCL2   \n",
       "2  {'clinical_study': 0, 'case_report': 0, 'anima...  BCL2   \n",
       "3  {'clinical_study': 1, 'case_report': 0, 'anima...  BCL2   \n",
       "4  {'clinical_study': 1, 'case_report': 0, 'anima...  BCL2   \n",
       "\n",
       "                   drug method  pmid_indicator  total_indicator  \n",
       "0  4-PHENYLBUTYRIC ACID    raw               2                2  \n",
       "1   AMINOLEVULINIC ACID    raw               5                5  \n",
       "2           BEAUVERICIN    raw               2                2  \n",
       "3            BORTEZOMIB    raw               4               27  \n",
       "4            BORTEZOMIB    raw               2               27  "
      ]
     },
     "execution_count": 8,
     "metadata": {},
     "output_type": "execute_result"
    }
   ],
   "source": [
    "trimmed_data.head()"
   ]
  },
  {
   "cell_type": "markdown",
   "metadata": {},
   "source": [
    "#### Relevance\n",
    "Proportion of abstracts retrieved that are relevant to scoring objective. If an abstract is pulled and has no indicator_evidence, then it is not relevant."
   ]
  },
  {
   "cell_type": "code",
   "execution_count": 23,
   "metadata": {},
   "outputs": [
    {
     "name": "stdout",
     "output_type": "stream",
     "text": [
      "raw \n",
      " (3.5219995868622185, relevance_rate\n",
      "0.000000    9341\n",
      "1.298701     306\n",
      "2.597403      31\n",
      "3.896104       2\n",
      "5.194805       2\n",
      "Name: count, dtype: int64)\n",
      "ncbi \n",
      " (1.99700449326011, relevance_rate\n",
      "0.000000    1963\n",
      "1.298701      36\n",
      "2.597403       3\n",
      "3.896104       1\n",
      "Name: count, dtype: int64)\n",
      "pubtator3 \n",
      " (2.399357494227487, relevance_rate\n",
      "0.000000    9722\n",
      "1.298701     210\n",
      "2.597403      27\n",
      "3.896104       2\n",
      "Name: count, dtype: int64)\n",
      "pubtator3+drug \n",
      " (7.340309230048415, relevance_rate\n",
      "0.000000    11866\n",
      "1.298701      821\n",
      "2.597403      106\n",
      "3.896104       12\n",
      "5.194805        1\n",
      "Name: count, dtype: int64)\n"
     ]
    }
   ],
   "source": [
    "def generate_relevance_graph(df, method):\n",
    "    # Subset\n",
    "    subset = df[df['method']==method]\n",
    "\n",
    "    # Calculate Overall Relevance Rate\n",
    "    total_pmids = subset['pmid'].nunique()\n",
    "    relevant_pmids = subset[subset['is_relevant']]['pmid'].nunique()\n",
    "    overall_relevance_rate = (relevant_pmids / total_pmids) * 100\n",
    "\n",
    "    # Relevance Rate by Abstract\n",
    "    pmid_grouped = subset.groupby('pmid')['is_relevant'].agg(total_mentions='count', relevant_mentions='sum').reset_index()\n",
    "    pmid_grouped['relevance_rate'] = (pmid_grouped['relevant_mentions'] / pmid_grouped['total_mentions']) * 100\n",
    "    pmid_grouped['relevance_rate'].value_counts()\n",
    "    \n",
    "    # Graph\n",
    "    gene = str(df['gene'].iloc[0]).replace(\" \", \"_\")\n",
    "    fig = px.histogram(pmid_grouped, x='relevance_rate',nbins=50, title=f'Abstract Relevance Rate ({method})', labels={'relevance_rate': 'Relevance Rate (PMID)'}, opacity=0.75)\n",
    "    fig.update_layout(xaxis_title='Relevance Rate (%, 0.0 = no clinical relation, 1.0 = fully relevant)',\n",
    "                    yaxis_title='Number of Abstracts',\n",
    "                    bargap=0.1)\n",
    "    fig.write_image(f'data/results/{gene}_{method}_relevance_rate_histogram.png', width=800, height=600, scale=2)\n",
    "    \n",
    "    return overall_relevance_rate, pmid_grouped['relevance_rate'].value_counts()\n",
    "\n",
    "\n",
    "\n",
    "assessments['is_relevant'] = assessments['label'] == 'indicator_evidence'\n",
    "for method in ['raw','ncbi','pubtator3','pubtator3+drug']:\n",
    "    print(method, '\\n', generate_relevance_graph(assessments, method))\n",
    "\n"
   ]
  },
  {
   "cell_type": "markdown",
   "metadata": {},
   "source": [
    "#### Uniqueness of PMIDs\n",
    "Assess the total PMIDs, unique PMIDs, and general overlap between all search strategies"
   ]
  },
  {
   "cell_type": "code",
   "execution_count": 14,
   "metadata": {},
   "outputs": [
    {
     "data": {
      "text/html": [
       "<div>\n",
       "<style scoped>\n",
       "    .dataframe tbody tr th:only-of-type {\n",
       "        vertical-align: middle;\n",
       "    }\n",
       "\n",
       "    .dataframe tbody tr th {\n",
       "        vertical-align: top;\n",
       "    }\n",
       "\n",
       "    .dataframe thead th {\n",
       "        text-align: right;\n",
       "    }\n",
       "</style>\n",
       "<table border=\"1\" class=\"dataframe\">\n",
       "  <thead>\n",
       "    <tr style=\"text-align: right;\">\n",
       "      <th></th>\n",
       "      <th>pmid</th>\n",
       "      <th>label</th>\n",
       "      <th>scores</th>\n",
       "      <th>gene</th>\n",
       "      <th>drug</th>\n",
       "      <th>method</th>\n",
       "      <th>is_relevant</th>\n",
       "    </tr>\n",
       "  </thead>\n",
       "  <tbody>\n",
       "    <tr>\n",
       "      <th>0</th>\n",
       "      <td>40810224</td>\n",
       "      <td>not_evaluated</td>\n",
       "      <td>0.0</td>\n",
       "      <td>BCL2</td>\n",
       "      <td>4-PHENYLBUTYRIC ACID</td>\n",
       "      <td>raw</td>\n",
       "      <td>False</td>\n",
       "    </tr>\n",
       "    <tr>\n",
       "      <th>1</th>\n",
       "      <td>40809918</td>\n",
       "      <td>not_evaluated</td>\n",
       "      <td>0.0</td>\n",
       "      <td>BCL2</td>\n",
       "      <td>4-PHENYLBUTYRIC ACID</td>\n",
       "      <td>raw</td>\n",
       "      <td>False</td>\n",
       "    </tr>\n",
       "    <tr>\n",
       "      <th>2</th>\n",
       "      <td>40809891</td>\n",
       "      <td>not_evaluated</td>\n",
       "      <td>0.0</td>\n",
       "      <td>BCL2</td>\n",
       "      <td>4-PHENYLBUTYRIC ACID</td>\n",
       "      <td>raw</td>\n",
       "      <td>False</td>\n",
       "    </tr>\n",
       "    <tr>\n",
       "      <th>3</th>\n",
       "      <td>40809237</td>\n",
       "      <td>not_evaluated</td>\n",
       "      <td>0.0</td>\n",
       "      <td>BCL2</td>\n",
       "      <td>4-PHENYLBUTYRIC ACID</td>\n",
       "      <td>raw</td>\n",
       "      <td>False</td>\n",
       "    </tr>\n",
       "    <tr>\n",
       "      <th>4</th>\n",
       "      <td>40809170</td>\n",
       "      <td>not_evaluated</td>\n",
       "      <td>0.0</td>\n",
       "      <td>BCL2</td>\n",
       "      <td>4-PHENYLBUTYRIC ACID</td>\n",
       "      <td>raw</td>\n",
       "      <td>False</td>\n",
       "    </tr>\n",
       "  </tbody>\n",
       "</table>\n",
       "</div>"
      ],
      "text/plain": [
       "       pmid          label scores  gene                  drug method  \\\n",
       "0  40810224  not_evaluated    0.0  BCL2  4-PHENYLBUTYRIC ACID    raw   \n",
       "1  40809918  not_evaluated    0.0  BCL2  4-PHENYLBUTYRIC ACID    raw   \n",
       "2  40809891  not_evaluated    0.0  BCL2  4-PHENYLBUTYRIC ACID    raw   \n",
       "3  40809237  not_evaluated    0.0  BCL2  4-PHENYLBUTYRIC ACID    raw   \n",
       "4  40809170  not_evaluated    0.0  BCL2  4-PHENYLBUTYRIC ACID    raw   \n",
       "\n",
       "   is_relevant  \n",
       "0        False  \n",
       "1        False  \n",
       "2        False  \n",
       "3        False  \n",
       "4        False  "
      ]
     },
     "execution_count": 14,
     "metadata": {},
     "output_type": "execute_result"
    }
   ],
   "source": [
    "assessments.head()"
   ]
  },
  {
   "cell_type": "code",
   "execution_count": 19,
   "metadata": {},
   "outputs": [
    {
     "name": "stderr",
     "output_type": "stream",
     "text": [
      "/Users/mjc014/.pyenv/versions/3.12.2/lib/python3.12/site-packages/upsetplot/data.py:303: FutureWarning:\n",
      "\n",
      "Downcasting object dtype arrays on .fillna, .ffill, .bfill is deprecated and will change in a future version. Call result.infer_objects(copy=False) instead. To opt-in to the future behavior, set `pd.set_option('future.no_silent_downcasting', True)`\n",
      "\n",
      "/Users/mjc014/.pyenv/versions/3.12.2/lib/python3.12/site-packages/upsetplot/plotting.py:795: FutureWarning:\n",
      "\n",
      "A value is trying to be set on a copy of a DataFrame or Series through chained assignment using an inplace method.\n",
      "The behavior will change in pandas 3.0. This inplace method will never work because the intermediate object on which we are setting values always behaves as a copy.\n",
      "\n",
      "For example, when doing 'df[col].method(value, inplace=True)', try using 'df.method({col: value}, inplace=True)' or df[col] = df[col].method(value) instead, to perform the operation inplace on the original object.\n",
      "\n",
      "\n",
      "\n",
      "/Users/mjc014/.pyenv/versions/3.12.2/lib/python3.12/site-packages/upsetplot/plotting.py:796: FutureWarning:\n",
      "\n",
      "A value is trying to be set on a copy of a DataFrame or Series through chained assignment using an inplace method.\n",
      "The behavior will change in pandas 3.0. This inplace method will never work because the intermediate object on which we are setting values always behaves as a copy.\n",
      "\n",
      "For example, when doing 'df[col].method(value, inplace=True)', try using 'df.method({col: value}, inplace=True)' or df[col] = df[col].method(value) instead, to perform the operation inplace on the original object.\n",
      "\n",
      "\n",
      "\n",
      "/Users/mjc014/.pyenv/versions/3.12.2/lib/python3.12/site-packages/upsetplot/plotting.py:797: FutureWarning:\n",
      "\n",
      "A value is trying to be set on a copy of a DataFrame or Series through chained assignment using an inplace method.\n",
      "The behavior will change in pandas 3.0. This inplace method will never work because the intermediate object on which we are setting values always behaves as a copy.\n",
      "\n",
      "For example, when doing 'df[col].method(value, inplace=True)', try using 'df.method({col: value}, inplace=True)' or df[col] = df[col].method(value) instead, to perform the operation inplace on the original object.\n",
      "\n",
      "\n",
      "\n",
      "/Users/mjc014/.pyenv/versions/3.12.2/lib/python3.12/site-packages/upsetplot/plotting.py:798: FutureWarning:\n",
      "\n",
      "A value is trying to be set on a copy of a DataFrame or Series through chained assignment using an inplace method.\n",
      "The behavior will change in pandas 3.0. This inplace method will never work because the intermediate object on which we are setting values always behaves as a copy.\n",
      "\n",
      "For example, when doing 'df[col].method(value, inplace=True)', try using 'df.method({col: value}, inplace=True)' or df[col] = df[col].method(value) instead, to perform the operation inplace on the original object.\n",
      "\n",
      "\n",
      "\n",
      "/var/folders/5t/sfw5tjx56m10xb861_pd3wfm0000gq/T/ipykernel_25232/2543483018.py:28: UserWarning:\n",
      "\n",
      "This figure includes Axes that are not compatible with tight_layout, so results might be incorrect.\n",
      "\n"
     ]
    },
    {
     "data": {
      "text/plain": [
       "<Figure size 1200x600 with 0 Axes>"
      ]
     },
     "metadata": {},
     "output_type": "display_data"
    },
    {
     "data": {
      "image/png": "[encoded data removed]",
      "text/plain": [
       "<Figure size 800x444.444 with 4 Axes>"
      ]
     },
     "metadata": {},
     "output_type": "display_data"
    }
   ],
   "source": [
    "# Identify unique PMIDs for each search strategy\n",
    "pmids_1 = set(assessments[assessments['method']=='ncbi']['pmid'].unique())\n",
    "pmids_2 = set(assessments[assessments['method']=='raw']['pmid'].unique())\n",
    "pmids_3 = set(assessments[assessments['method']=='pubtator3']['pmid'].unique())\n",
    "pmids_4 = set(assessments[assessments['method']=='pubtator3+drug']['pmid'].unique())\n",
    "\n",
    "all_pmids = pmids_1 | pmids_2 | pmids_3 | pmids_4\n",
    "memberships = []\n",
    "\n",
    "for pmid in all_pmids:\n",
    "    membership = []\n",
    "    if pmid in pmids_1:\n",
    "        membership.append(\"NCBI GeneID Curated\")\n",
    "    if pmid in pmids_2:\n",
    "        membership.append(\"PubMed General Search\")\n",
    "    if pmid in pmids_3:\n",
    "        membership.append(\"PubTator3\")\n",
    "    if pmid in pmids_4:\n",
    "        membership.append(\"PubTator3+Drug\")\n",
    "    memberships.append(membership)\n",
    "\n",
    "\n",
    "data = from_memberships(memberships)\n",
    "upset = UpSet(data, subset_size='count', show_counts=True, show_percentages=True)\n",
    "plt.figure(figsize=(12, 6))\n",
    "upset.plot()\n",
    "plt.suptitle(\"PMID Overlap Across Search Strategies\")\n",
    "plt.tight_layout()\n",
    "\n",
    "gene = str(assessments['gene'].iloc[0]).replace(\" \", \"_\")\n",
    "plt.savefig(f'data/results/{gene}-pmid_overlap_upsetplot.png', dpi=300)\n",
    "\n",
    "plt.show()\n",
    "\n"
   ]
  },
  {
   "cell_type": "code",
   "execution_count": 21,
   "metadata": {},
   "outputs": [
    {
     "name": "stdout",
     "output_type": "stream",
     "text": [
      "\n",
      "Pairwise Jaccard Similarities:\n",
      "\n",
      "NCBI GeneID Curated ∩ PubMed General Search: 0.00% (0 shared PMIDs)\n",
      "NCBI GeneID Curated ∩ PubTator3: 0.82% (97 shared PMIDs)\n",
      "NCBI GeneID Curated ∩ PubTator3+Drug: 0.70% (103 shared PMIDs)\n",
      "PubMed General Search ∩ PubTator3: 2.96% (564 shared PMIDs)\n",
      "PubMed General Search ∩ PubTator3+Drug: 2.27% (499 shared PMIDs)\n",
      "PubTator3 ∩ PubTator3+Drug: 16.62% (3245 shared PMIDs)\n"
     ]
    },
    {
     "data": {
      "application/vnd.plotly.v1+json": {
       "config": {
        "plotlyServerURL": "https://plot.ly"
       },
       "data": [
        {
         "coloraxis": "coloraxis",
         "hovertemplate": "Strategy: %{x}<br>Strategy: %{y}<br>Jaccard Index: %{z}<extra></extra>",
         "name": "0",
         "texttemplate": "%{z:.2f}",
         "type": "heatmap",
         "x": [
          "NCBI GeneID Curated",
          "PubMed General Search",
          "PubTator3",
          "PubTator3+Drug"
         ],
         "xaxis": "x",
         "y": [
          "NCBI GeneID Curated",
          "PubMed General Search",
          "PubTator3",
          "PubTator3+Drug"
         ],
         "yaxis": "y",
         "z": {
          "bdata": "AAAAAAAA8D8AAAAAAAAAAJ03KgF+vYA/YpuZ5CqwfD8AAAAAAAAAAAAAAAAAAPA/LJh1HFFFnj9qGQWC4DyXP503KgF+vYA/LJh1HFFFnj8AAAAAAADwP9ZuvkPJRsU/YpuZ5CqwfD9qGQWC4DyXP9ZuvkPJRsU/AAAAAAAA8D8=",
          "dtype": "f8",
          "shape": "4, 4"
         }
        }
       ],
       "layout": {
        "coloraxis": {
         "colorbar": {
          "title": {
           "text": "Jaccard Index"
          }
         },
         "colorscale": [
          [
           0,
           "rgb(247,251,255)"
          ],
          [
           0.125,
           "rgb(222,235,247)"
          ],
          [
           0.25,
           "rgb(198,219,239)"
          ],
          [
           0.375,
           "rgb(158,202,225)"
          ],
          [
           0.5,
           "rgb(107,174,214)"
          ],
          [
           0.625,
           "rgb(66,146,198)"
          ],
          [
           0.75,
           "rgb(33,113,181)"
          ],
          [
           0.875,
           "rgb(8,81,156)"
          ],
          [
           1,
           "rgb(8,48,107)"
          ]
         ]
        },
        "height": 600,
        "template": {
         "data": {
          "bar": [
           {
            "error_x": {
             "color": "#2a3f5f"
            },
            "error_y": {
             "color": "#2a3f5f"
            },
            "marker": {
             "line": {
              "color": "#E5ECF6",
              "width": 0.5
             },
             "pattern": {
              "fillmode": "overlay",
              "size": 10,
              "solidity": 0.2
             }
            },
            "type": "bar"
           }
          ],
          "barpolar": [
           {
            "marker": {
             "line": {
              "color": "#E5ECF6",
              "width": 0.5
             },
             "pattern": {
              "fillmode": "overlay",
              "size": 10,
              "solidity": 0.2
             }
            },
            "type": "barpolar"
           }
          ],
          "carpet": [
           {
            "aaxis": {
             "endlinecolor": "#2a3f5f",
             "gridcolor": "white",
             "linecolor": "white",
             "minorgridcolor": "white",
             "startlinecolor": "#2a3f5f"
            },
            "baxis": {
             "endlinecolor": "#2a3f5f",
             "gridcolor": "white",
             "linecolor": "white",
             "minorgridcolor": "white",
             "startlinecolor": "#2a3f5f"
            },
            "type": "carpet"
           }
          ],
          "choropleth": [
           {
            "colorbar": {
             "outlinewidth": 0,
             "ticks": ""
            },
            "type": "choropleth"
           }
          ],
          "contour": [
           {
            "colorbar": {
             "outlinewidth": 0,
             "ticks": ""
            },
            "colorscale": [
             [
              0,
              "#0d0887"
             ],
             [
              0.1111111111111111,
              "#46039f"
             ],
             [
              0.2222222222222222,
              "#7201a8"
             ],
             [
              0.3333333333333333,
              "#9c179e"
             ],
             [
              0.4444444444444444,
              "#bd3786"
             ],
             [
              0.5555555555555556,
              "#d8576b"
             ],
             [
              0.6666666666666666,
              "#ed7953"
             ],
             [
              0.7777777777777778,
              "#fb9f3a"
             ],
             [
              0.8888888888888888,
              "#fdca26"
             ],
             [
              1,
              "#f0f921"
             ]
            ],
            "type": "contour"
           }
          ],
          "contourcarpet": [
           {
            "colorbar": {
             "outlinewidth": 0,
             "ticks": ""
            },
            "type": "contourcarpet"
           }
          ],
          "heatmap": [
           {
            "colorbar": {
             "outlinewidth": 0,
             "ticks": ""
            },
            "colorscale": [
             [
              0,
              "#0d0887"
             ],
             [
              0.1111111111111111,
              "#46039f"
             ],
             [
              0.2222222222222222,
              "#7201a8"
             ],
             [
              0.3333333333333333,
              "#9c179e"
             ],
             [
              0.4444444444444444,
              "#bd3786"
             ],
             [
              0.5555555555555556,
              "#d8576b"
             ],
             [
              0.6666666666666666,
              "#ed7953"
             ],
             [
              0.7777777777777778,
              "#fb9f3a"
             ],
             [
              0.8888888888888888,
              "#fdca26"
             ],
             [
              1,
              "#f0f921"
             ]
            ],
            "type": "heatmap"
           }
          ],
          "histogram": [
           {
            "marker": {
             "pattern": {
              "fillmode": "overlay",
              "size": 10,
              "solidity": 0.2
             }
            },
            "type": "histogram"
           }
          ],
          "histogram2d": [
           {
            "colorbar": {
             "outlinewidth": 0,
             "ticks": ""
            },
            "colorscale": [
             [
              0,
              "#0d0887"
             ],
             [
              0.1111111111111111,
              "#46039f"
             ],
             [
              0.2222222222222222,
              "#7201a8"
             ],
             [
              0.3333333333333333,
              "#9c179e"
             ],
             [
              0.4444444444444444,
              "#bd3786"
             ],
             [
              0.5555555555555556,
              "#d8576b"
             ],
             [
              0.6666666666666666,
              "#ed7953"
             ],
             [
              0.7777777777777778,
              "#fb9f3a"
             ],
             [
              0.8888888888888888,
              "#fdca26"
             ],
             [
              1,
              "#f0f921"
             ]
            ],
            "type": "histogram2d"
           }
          ],
          "histogram2dcontour": [
           {
            "colorbar": {
             "outlinewidth": 0,
             "ticks": ""
            },
            "colorscale": [
             [
              0,
              "#0d0887"
             ],
             [
              0.1111111111111111,
              "#46039f"
             ],
             [
              0.2222222222222222,
              "#7201a8"
             ],
             [
              0.3333333333333333,
              "#9c179e"
             ],
             [
              0.4444444444444444,
              "#bd3786"
             ],
             [
              0.5555555555555556,
              "#d8576b"
             ],
             [
              0.6666666666666666,
              "#ed7953"
             ],
             [
              0.7777777777777778,
              "#fb9f3a"
             ],
             [
              0.8888888888888888,
              "#fdca26"
             ],
             [
              1,
              "#f0f921"
             ]
            ],
            "type": "histogram2dcontour"
           }
          ],
          "mesh3d": [
           {
            "colorbar": {
             "outlinewidth": 0,
             "ticks": ""
            },
            "type": "mesh3d"
           }
          ],
          "parcoords": [
           {
            "line": {
             "colorbar": {
              "outlinewidth": 0,
              "ticks": ""
             }
            },
            "type": "parcoords"
           }
          ],
          "pie": [
           {
            "automargin": true,
            "type": "pie"
           }
          ],
          "scatter": [
           {
            "fillpattern": {
             "fillmode": "overlay",
             "size": 10,
             "solidity": 0.2
            },
            "type": "scatter"
           }
          ],
          "scatter3d": [
           {
            "line": {
             "colorbar": {
              "outlinewidth": 0,
              "ticks": ""
             }
            },
            "marker": {
             "colorbar": {
              "outlinewidth": 0,
              "ticks": ""
             }
            },
            "type": "scatter3d"
           }
          ],
          "scattercarpet": [
           {
            "marker": {
             "colorbar": {
              "outlinewidth": 0,
              "ticks": ""
             }
            },
            "type": "scattercarpet"
           }
          ],
          "scattergeo": [
           {
            "marker": {
             "colorbar": {
              "outlinewidth": 0,
              "ticks": ""
             }
            },
            "type": "scattergeo"
           }
          ],
          "scattergl": [
           {
            "marker": {
             "colorbar": {
              "outlinewidth": 0,
              "ticks": ""
             }
            },
            "type": "scattergl"
           }
          ],
          "scattermap": [
           {
            "marker": {
             "colorbar": {
              "outlinewidth": 0,
              "ticks": ""
             }
            },
            "type": "scattermap"
           }
          ],
          "scattermapbox": [
           {
            "marker": {
             "colorbar": {
              "outlinewidth": 0,
              "ticks": ""
             }
            },
            "type": "scattermapbox"
           }
          ],
          "scatterpolar": [
           {
            "marker": {
             "colorbar": {
              "outlinewidth": 0,
              "ticks": ""
             }
            },
            "type": "scatterpolar"
           }
          ],
          "scatterpolargl": [
           {
            "marker": {
             "colorbar": {
              "outlinewidth": 0,
              "ticks": ""
             }
            },
            "type": "scatterpolargl"
           }
          ],
          "scatterternary": [
           {
            "marker": {
             "colorbar": {
              "outlinewidth": 0,
              "ticks": ""
             }
            },
            "type": "scatterternary"
           }
          ],
          "surface": [
           {
            "colorbar": {
             "outlinewidth": 0,
             "ticks": ""
            },
            "colorscale": [
             [
              0,
              "#0d0887"
             ],
             [
              0.1111111111111111,
              "#46039f"
             ],
             [
              0.2222222222222222,
              "#7201a8"
             ],
             [
              0.3333333333333333,
              "#9c179e"
             ],
             [
              0.4444444444444444,
              "#bd3786"
             ],
             [
              0.5555555555555556,
              "#d8576b"
             ],
             [
              0.6666666666666666,
              "#ed7953"
             ],
             [
              0.7777777777777778,
              "#fb9f3a"
             ],
             [
              0.8888888888888888,
              "#fdca26"
             ],
             [
              1,
              "#f0f921"
             ]
            ],
            "type": "surface"
           }
          ],
          "table": [
           {
            "cells": {
             "fill": {
              "color": "#EBF0F8"
             },
             "line": {
              "color": "white"
             }
            },
            "header": {
             "fill": {
              "color": "#C8D4E3"
             },
             "line": {
              "color": "white"
             }
            },
            "type": "table"
           }
          ]
         },
         "layout": {
          "annotationdefaults": {
           "arrowcolor": "#2a3f5f",
           "arrowhead": 0,
           "arrowwidth": 1
          },
          "autotypenumbers": "strict",
          "coloraxis": {
           "colorbar": {
            "outlinewidth": 0,
            "ticks": ""
           }
          },
          "colorscale": {
           "diverging": [
            [
             0,
             "#8e0152"
            ],
            [
             0.1,
             "#c51b7d"
            ],
            [
             0.2,
             "#de77ae"
            ],
            [
             0.3,
             "#f1b6da"
            ],
            [
             0.4,
             "#fde0ef"
            ],
            [
             0.5,
             "#f7f7f7"
            ],
            [
             0.6,
             "#e6f5d0"
            ],
            [
             0.7,
             "#b8e186"
            ],
            [
             0.8,
             "#7fbc41"
            ],
            [
             0.9,
             "#4d9221"
            ],
            [
             1,
             "#276419"
            ]
           ],
           "sequential": [
            [
             0,
             "#0d0887"
            ],
            [
             0.1111111111111111,
             "#46039f"
            ],
            [
             0.2222222222222222,
             "#7201a8"
            ],
            [
             0.3333333333333333,
             "#9c179e"
            ],
            [
             0.4444444444444444,
             "#bd3786"
            ],
            [
             0.5555555555555556,
             "#d8576b"
            ],
            [
             0.6666666666666666,
             "#ed7953"
            ],
            [
             0.7777777777777778,
             "#fb9f3a"
            ],
            [
             0.8888888888888888,
             "#fdca26"
            ],
            [
             1,
             "#f0f921"
            ]
           ],
           "sequentialminus": [
            [
             0,
             "#0d0887"
            ],
            [
             0.1111111111111111,
             "#46039f"
            ],
            [
             0.2222222222222222,
             "#7201a8"
            ],
            [
             0.3333333333333333,
             "#9c179e"
            ],
            [
             0.4444444444444444,
             "#bd3786"
            ],
            [
             0.5555555555555556,
             "#d8576b"
            ],
            [
             0.6666666666666666,
             "#ed7953"
            ],
            [
             0.7777777777777778,
             "#fb9f3a"
            ],
            [
             0.8888888888888888,
             "#fdca26"
            ],
            [
             1,
             "#f0f921"
            ]
           ]
          },
          "colorway": [
           "#636efa",
           "#EF553B",
           "#00cc96",
           "#ab63fa",
           "#FFA15A",
           "#19d3f3",
           "#FF6692",
           "#B6E880",
           "#FF97FF",
           "#FECB52"
          ],
          "font": {
           "color": "#2a3f5f"
          },
          "geo": {
           "bgcolor": "white",
           "lakecolor": "white",
           "landcolor": "#E5ECF6",
           "showlakes": true,
           "showland": true,
           "subunitcolor": "white"
          },
          "hoverlabel": {
           "align": "left"
          },
          "hovermode": "closest",
          "mapbox": {
           "style": "light"
          },
          "paper_bgcolor": "white",
          "plot_bgcolor": "#E5ECF6",
          "polar": {
           "angularaxis": {
            "gridcolor": "white",
            "linecolor": "white",
            "ticks": ""
           },
           "bgcolor": "#E5ECF6",
           "radialaxis": {
            "gridcolor": "white",
            "linecolor": "white",
            "ticks": ""
           }
          },
          "scene": {
           "xaxis": {
            "backgroundcolor": "#E5ECF6",
            "gridcolor": "white",
            "gridwidth": 2,
            "linecolor": "white",
            "showbackground": true,
            "ticks": "",
            "zerolinecolor": "white"
           },
           "yaxis": {
            "backgroundcolor": "#E5ECF6",
            "gridcolor": "white",
            "gridwidth": 2,
            "linecolor": "white",
            "showbackground": true,
            "ticks": "",
            "zerolinecolor": "white"
           },
           "zaxis": {
            "backgroundcolor": "#E5ECF6",
            "gridcolor": "white",
            "gridwidth": 2,
            "linecolor": "white",
            "showbackground": true,
            "ticks": "",
            "zerolinecolor": "white"
           }
          },
          "shapedefaults": {
           "line": {
            "color": "#2a3f5f"
           }
          },
          "ternary": {
           "aaxis": {
            "gridcolor": "white",
            "linecolor": "white",
            "ticks": ""
           },
           "baxis": {
            "gridcolor": "white",
            "linecolor": "white",
            "ticks": ""
           },
           "bgcolor": "#E5ECF6",
           "caxis": {
            "gridcolor": "white",
            "linecolor": "white",
            "ticks": ""
           }
          },
          "title": {
           "x": 0.05
          },
          "xaxis": {
           "automargin": true,
           "gridcolor": "white",
           "linecolor": "white",
           "ticks": "",
           "title": {
            "standoff": 15
           },
           "zerolinecolor": "white",
           "zerolinewidth": 2
          },
          "yaxis": {
           "automargin": true,
           "gridcolor": "white",
           "linecolor": "white",
           "ticks": "",
           "title": {
            "standoff": 15
           },
           "zerolinecolor": "white",
           "zerolinewidth": 2
          }
         }
        },
        "title": {
         "text": "Pairwise Jaccard Similarity Between Search Strategies"
        },
        "width": 600,
        "xaxis": {
         "anchor": "y",
         "constrain": "domain",
         "domain": [
          0,
          1
         ],
         "scaleanchor": "y",
         "title": {
          "text": "Strategy"
         }
        },
        "yaxis": {
         "anchor": "x",
         "autorange": "reversed",
         "constrain": "domain",
         "domain": [
          0,
          1
         ],
         "title": {
          "text": "Strategy"
         }
        }
       }
      }
     },
     "metadata": {},
     "output_type": "display_data"
    }
   ],
   "source": [
    "strategies = {\n",
    "    \"NCBI GeneID Curated\": pmids_1,\n",
    "    \"PubMed General Search\": pmids_2,\n",
    "    \"PubTator3\": pmids_3,\n",
    "    \"PubTator3+Drug\": pmids_4\n",
    "}\n",
    "\n",
    "print(\"\\nPairwise Jaccard Similarities:\\n\")\n",
    "for (name1, set1), (name2, set2) in combinations(strategies.items(), 2):\n",
    "    intersection = len(set1 & set2)\n",
    "    union = len(set1 | set2)\n",
    "    jaccard = intersection / union\n",
    "    print(f\"{name1} ∩ {name2}: {jaccard:.2%} ({intersection} shared PMIDs)\")\n",
    "\n",
    "strategy_names = list(strategies.keys())\n",
    "jaccard_matrix = pd.DataFrame(index=strategy_names, columns=strategy_names, dtype=float)\n",
    "\n",
    "for name1 in strategy_names:\n",
    "    for name2 in strategy_names:\n",
    "        set1 = strategies[name1]\n",
    "        set2 = strategies[name2]\n",
    "        if name1 == name2:\n",
    "            jaccard = 1.0\n",
    "        else:\n",
    "            intersection = len(set1 & set2)\n",
    "            union = len(set1 | set2)\n",
    "            jaccard = intersection / union if union else 0.0\n",
    "        jaccard_matrix.loc[name1, name2] = jaccard\n",
    "\n",
    "fig = px.imshow(\n",
    "    jaccard_matrix,\n",
    "    text_auto=\".2f\",\n",
    "    color_continuous_scale='Blues',\n",
    "    labels=dict(x=\"Strategy\", y=\"Strategy\", color=\"Jaccard Index\"),\n",
    "    title=\"Pairwise Jaccard Similarity Between Search Strategies\"\n",
    ")\n",
    "fig.update_layout(width=600, height=600)\n",
    "fig.show()\n",
    "gene = str(assessments['gene'].iloc[0]).replace(\" \", \"_\")\n",
    "fig.write_image(f'data/results/{gene}-jaccard_similarity_heatmap.png', width=800, height=600, scale=2)"
   ]
  },
  {
   "cell_type": "markdown",
   "metadata": {},
   "source": [
    "#### Score Density"
   ]
  },
  {
   "cell_type": "code",
   "execution_count": null,
   "metadata": {},
   "outputs": [],
   "source": []
  },
  {
   "cell_type": "code",
   "execution_count": 35,
   "metadata": {},
   "outputs": [
    {
     "data": {
      "text/html": [
       "<div>\n",
       "<style scoped>\n",
       "    .dataframe tbody tr th:only-of-type {\n",
       "        vertical-align: middle;\n",
       "    }\n",
       "\n",
       "    .dataframe tbody tr th {\n",
       "        vertical-align: top;\n",
       "    }\n",
       "\n",
       "    .dataframe thead th {\n",
       "        text-align: right;\n",
       "    }\n",
       "</style>\n",
       "<table border=\"1\" class=\"dataframe\">\n",
       "  <thead>\n",
       "    <tr style=\"text-align: right;\">\n",
       "      <th></th>\n",
       "      <th>pmid</th>\n",
       "      <th>label</th>\n",
       "      <th>scores</th>\n",
       "      <th>gene</th>\n",
       "      <th>drug</th>\n",
       "      <th>method</th>\n",
       "      <th>is_relevant</th>\n",
       "    </tr>\n",
       "  </thead>\n",
       "  <tbody>\n",
       "    <tr>\n",
       "      <th>0</th>\n",
       "      <td>40810224</td>\n",
       "      <td>not_evaluated</td>\n",
       "      <td>0.0</td>\n",
       "      <td>BCL2</td>\n",
       "      <td>4-PHENYLBUTYRIC ACID</td>\n",
       "      <td>raw</td>\n",
       "      <td>False</td>\n",
       "    </tr>\n",
       "    <tr>\n",
       "      <th>1</th>\n",
       "      <td>40809918</td>\n",
       "      <td>not_evaluated</td>\n",
       "      <td>0.0</td>\n",
       "      <td>BCL2</td>\n",
       "      <td>4-PHENYLBUTYRIC ACID</td>\n",
       "      <td>raw</td>\n",
       "      <td>False</td>\n",
       "    </tr>\n",
       "    <tr>\n",
       "      <th>2</th>\n",
       "      <td>40809891</td>\n",
       "      <td>not_evaluated</td>\n",
       "      <td>0.0</td>\n",
       "      <td>BCL2</td>\n",
       "      <td>4-PHENYLBUTYRIC ACID</td>\n",
       "      <td>raw</td>\n",
       "      <td>False</td>\n",
       "    </tr>\n",
       "    <tr>\n",
       "      <th>3</th>\n",
       "      <td>40809237</td>\n",
       "      <td>not_evaluated</td>\n",
       "      <td>0.0</td>\n",
       "      <td>BCL2</td>\n",
       "      <td>4-PHENYLBUTYRIC ACID</td>\n",
       "      <td>raw</td>\n",
       "      <td>False</td>\n",
       "    </tr>\n",
       "    <tr>\n",
       "      <th>4</th>\n",
       "      <td>40809170</td>\n",
       "      <td>not_evaluated</td>\n",
       "      <td>0.0</td>\n",
       "      <td>BCL2</td>\n",
       "      <td>4-PHENYLBUTYRIC ACID</td>\n",
       "      <td>raw</td>\n",
       "      <td>False</td>\n",
       "    </tr>\n",
       "    <tr>\n",
       "      <th>...</th>\n",
       "      <td>...</td>\n",
       "      <td>...</td>\n",
       "      <td>...</td>\n",
       "      <td>...</td>\n",
       "      <td>...</td>\n",
       "      <td>...</td>\n",
       "      <td>...</td>\n",
       "    </tr>\n",
       "    <tr>\n",
       "      <th>986057</th>\n",
       "      <td>31799611</td>\n",
       "      <td>not_evaluated</td>\n",
       "      <td>0.0</td>\n",
       "      <td>BCL2</td>\n",
       "      <td>VINCRISTINE</td>\n",
       "      <td>pubtator3+drug</td>\n",
       "      <td>False</td>\n",
       "    </tr>\n",
       "    <tr>\n",
       "      <th>986058</th>\n",
       "      <td>34567953</td>\n",
       "      <td>not_evaluated</td>\n",
       "      <td>0.0</td>\n",
       "      <td>BCL2</td>\n",
       "      <td>VINCRISTINE</td>\n",
       "      <td>pubtator3+drug</td>\n",
       "      <td>False</td>\n",
       "    </tr>\n",
       "    <tr>\n",
       "      <th>986059</th>\n",
       "      <td>34631583</td>\n",
       "      <td>not_evaluated</td>\n",
       "      <td>0.0</td>\n",
       "      <td>BCL2</td>\n",
       "      <td>VINCRISTINE</td>\n",
       "      <td>pubtator3+drug</td>\n",
       "      <td>False</td>\n",
       "    </tr>\n",
       "    <tr>\n",
       "      <th>986060</th>\n",
       "      <td>33760220</td>\n",
       "      <td>not_evaluated</td>\n",
       "      <td>0.0</td>\n",
       "      <td>BCL2</td>\n",
       "      <td>VINCRISTINE</td>\n",
       "      <td>pubtator3+drug</td>\n",
       "      <td>False</td>\n",
       "    </tr>\n",
       "    <tr>\n",
       "      <th>986061</th>\n",
       "      <td>37986346</td>\n",
       "      <td>not_evaluated</td>\n",
       "      <td>0.0</td>\n",
       "      <td>BCL2</td>\n",
       "      <td>VINCRISTINE</td>\n",
       "      <td>pubtator3+drug</td>\n",
       "      <td>False</td>\n",
       "    </tr>\n",
       "  </tbody>\n",
       "</table>\n",
       "<p>2655807 rows × 7 columns</p>\n",
       "</div>"
      ],
      "text/plain": [
       "            pmid          label scores  gene                  drug  \\\n",
       "0       40810224  not_evaluated    0.0  BCL2  4-PHENYLBUTYRIC ACID   \n",
       "1       40809918  not_evaluated    0.0  BCL2  4-PHENYLBUTYRIC ACID   \n",
       "2       40809891  not_evaluated    0.0  BCL2  4-PHENYLBUTYRIC ACID   \n",
       "3       40809237  not_evaluated    0.0  BCL2  4-PHENYLBUTYRIC ACID   \n",
       "4       40809170  not_evaluated    0.0  BCL2  4-PHENYLBUTYRIC ACID   \n",
       "...          ...            ...    ...   ...                   ...   \n",
       "986057  31799611  not_evaluated    0.0  BCL2           VINCRISTINE   \n",
       "986058  34567953  not_evaluated    0.0  BCL2           VINCRISTINE   \n",
       "986059  34631583  not_evaluated    0.0  BCL2           VINCRISTINE   \n",
       "986060  33760220  not_evaluated    0.0  BCL2           VINCRISTINE   \n",
       "986061  37986346  not_evaluated    0.0  BCL2           VINCRISTINE   \n",
       "\n",
       "                method  is_relevant  \n",
       "0                  raw        False  \n",
       "1                  raw        False  \n",
       "2                  raw        False  \n",
       "3                  raw        False  \n",
       "4                  raw        False  \n",
       "...                ...          ...  \n",
       "986057  pubtator3+drug        False  \n",
       "986058  pubtator3+drug        False  \n",
       "986059  pubtator3+drug        False  \n",
       "986060  pubtator3+drug        False  \n",
       "986061  pubtator3+drug        False  \n",
       "\n",
       "[2655807 rows x 7 columns]"
      ]
     },
     "execution_count": 35,
     "metadata": {},
     "output_type": "execute_result"
    }
   ],
   "source": [
    "assessments"
   ]
  },
  {
   "cell_type": "code",
   "execution_count": 49,
   "metadata": {},
   "outputs": [],
   "source": [
    "def unpack_total_safe(score):\n",
    "    # Handle None / NaN\n",
    "    if score is None or (isinstance(score, float) and np.isnan(score)):\n",
    "        return 0.0\n",
    "    \n",
    "    # If it's already a number (int or float), just return it\n",
    "    if isinstance(score, (int, float)):\n",
    "        return float(score)\n",
    "\n",
    "    # If it's a dict-like object\n",
    "    if isinstance(score, dict):\n",
    "        return float(score.get('unweighted_total', 0.0))\n",
    "\n",
    "    # If it's a string that might contain a dict\n",
    "    if isinstance(score, str):\n",
    "        try:\n",
    "            val = ast.literal_eval(score)\n",
    "            if isinstance(val, dict):\n",
    "                return float(val.get('unweighted_total', 0.0))\n",
    "            elif isinstance(val, (int, float)):\n",
    "                return float(val)\n",
    "        except Exception:\n",
    "            return 0.0\n",
    "\n",
    "    # Fallback\n",
    "    return 0.0\n",
    "\n",
    "\n",
    "def compute_score_density(df, strategy_name):\n",
    "    # All abstracts\n",
    "    df = df[df['scores'].isna()==False]\n",
    "    df['total_indicators'] = df['scores'].apply(unpack_total_safe)\n",
    "    all_grouped = df.groupby('pmid')['total_indicators'].sum()\n",
    "    all_scd = all_grouped.mean()\n",
    "    \n",
    "    # Only clinically relevant abstracts\n",
    "    clinical_df = df[df['label'] == 'indicator_evidence']\n",
    "    if not clinical_df.empty:\n",
    "        clinical_grouped = clinical_df.groupby('pmid')['total_indicators'].sum()\n",
    "        clinical_scd = clinical_grouped.mean()\n",
    "    else:\n",
    "        clinical_scd = 0.0  # or np.nan\n",
    "\n",
    "    return {\n",
    "        'Strategy': strategy_name,\n",
    "        'Total Abstracts': df['pmid'].nunique(),\n",
    "        'Clinically Relevant Abstracts': clinical_df['pmid'].nunique(),\n",
    "        'Score Density (All Abstracts)': all_scd,\n",
    "        'Score Density (Clinical Only)': clinical_scd\n",
    "    }"
   ]
  },
  {
   "cell_type": "code",
   "execution_count": null,
   "metadata": {},
   "outputs": [
    {
     "data": {
      "text/plain": [
       "[{'Strategy': 'NCBI GeneID Curated',\n",
       "  'Total Abstracts': 2003,\n",
       "  'Clinically Relevant Abstracts': 40,\n",
       "  'Score Density (All Abstracts)': 0.05591612581128307,\n",
       "  'Score Density (Clinical Only)': 2.8},\n",
       " {'Strategy': 'PubMed General Search',\n",
       "  'Total Abstracts': 9682,\n",
       "  'Clinically Relevant Abstracts': 341,\n",
       "  'Score Density (All Abstracts)': 0.10989464986573022,\n",
       "  'Score Density (Clinical Only)': 3.1202346041055717},\n",
       " {'Strategy': 'PubTator3',\n",
       "  'Total Abstracts': 9961,\n",
       "  'Clinically Relevant Abstracts': 239,\n",
       "  'Score Density (All Abstracts)': 0.07308503162333099,\n",
       "  'Score Density (Clinical Only)': 3.0460251046025104},\n",
       " {'Strategy': 'PubTator3+Drug',\n",
       "  'Total Abstracts': 12806,\n",
       "  'Clinically Relevant Abstracts': 940,\n",
       "  'Score Density (All Abstracts)': 0.22333281274402625,\n",
       "  'Score Density (Clinical Only)': 3.0425531914893615}]"
      ]
     },
     "execution_count": 48,
     "metadata": {},
     "output_type": "execute_result"
    }
   ],
   "source": [
    "# BCL2 Results\n",
    "_ncbi = assessments[assessments['method']=='ncbi']\n",
    "_raw = assessments[assessments['method']=='raw']\n",
    "_pubtator3 = assessments[assessments['method']=='pubtator3']\n",
    "_pubtator3drug = assessments[assessments['method']=='pubtator3+drug']\n",
    "\n",
    "# Compute all densities\n",
    "results = []\n",
    "results.append(compute_score_density(_ncbi,'NCBI GeneID Curated'))\n",
    "results.append(compute_score_density(_raw,'PubMed General Search'))\n",
    "results.append(compute_score_density(_pubtator3,'PubTator3'))\n",
    "results.append(compute_score_density(_pubtator3drug,'PubTator3+Drug'))\n",
    "\n",
    "results"
   ]
  },
  {
   "cell_type": "code",
   "execution_count": 50,
   "metadata": {},
   "outputs": [
    {
     "data": {
      "application/vnd.plotly.v1+json": {
       "config": {
        "plotlyServerURL": "https://plot.ly"
       },
       "data": [
        {
         "alignmentgroup": "True",
         "hovertemplate": "variable=Score Density (All Abstracts)<br>Strategy=%{x}<br>Average Indicator per Abstract=%{y}<extra></extra>",
         "legendgroup": "Score Density (All Abstracts)",
         "marker": {
          "color": "#636efa",
          "pattern": {
           "shape": ""
          }
         },
         "name": "Score Density (All Abstracts)",
         "offsetgroup": "Score Density (All Abstracts)",
         "orientation": "v",
         "showlegend": true,
         "textposition": "auto",
         "type": "bar",
         "x": [
          "NCBI GeneID Curated",
          "PubMed General Search",
          "PubTator3",
          "PubTator3+Drug"
         ],
         "xaxis": "x",
         "y": {
          "bdata": "B2Jb1wmhrD8cvi1HDiK8P6Y6plyztbI/C/1tayuWzD8=",
          "dtype": "f8"
         },
         "yaxis": "y"
        },
        {
         "alignmentgroup": "True",
         "hovertemplate": "variable=Score Density (Clinical Only)<br>Strategy=%{x}<br>Average Indicator per Abstract=%{y}<extra></extra>",
         "legendgroup": "Score Density (Clinical Only)",
         "marker": {
          "color": "#EF553B",
          "pattern": {
           "shape": ""
          }
         },
         "name": "Score Density (Clinical Only)",
         "offsetgroup": "Score Density (Clinical Only)",
         "orientation": "v",
         "showlegend": true,
         "textposition": "auto",
         "type": "bar",
         "x": [
          "NCBI GeneID Curated",
          "PubMed General Search",
          "PubTator3",
          "PubTator3+Drug"
         ],
         "xaxis": "x",
         "y": {
          "bdata": "ZmZmZmZmBkD22GOPPfYIQImA+GhCXghAQUyuICZXCEA=",
          "dtype": "f8"
         },
         "yaxis": "y"
        }
       ],
       "layout": {
        "barmode": "group",
        "legend": {
         "title": {
          "text": "variable"
         },
         "tracegroupgap": 0
        },
        "template": {
         "data": {
          "bar": [
           {
            "error_x": {
             "color": "#2a3f5f"
            },
            "error_y": {
             "color": "#2a3f5f"
            },
            "marker": {
             "line": {
              "color": "#E5ECF6",
              "width": 0.5
             },
             "pattern": {
              "fillmode": "overlay",
              "size": 10,
              "solidity": 0.2
             }
            },
            "type": "bar"
           }
          ],
          "barpolar": [
           {
            "marker": {
             "line": {
              "color": "#E5ECF6",
              "width": 0.5
             },
             "pattern": {
              "fillmode": "overlay",
              "size": 10,
              "solidity": 0.2
             }
            },
            "type": "barpolar"
           }
          ],
          "carpet": [
           {
            "aaxis": {
             "endlinecolor": "#2a3f5f",
             "gridcolor": "white",
             "linecolor": "white",
             "minorgridcolor": "white",
             "startlinecolor": "#2a3f5f"
            },
            "baxis": {
             "endlinecolor": "#2a3f5f",
             "gridcolor": "white",
             "linecolor": "white",
             "minorgridcolor": "white",
             "startlinecolor": "#2a3f5f"
            },
            "type": "carpet"
           }
          ],
          "choropleth": [
           {
            "colorbar": {
             "outlinewidth": 0,
             "ticks": ""
            },
            "type": "choropleth"
           }
          ],
          "contour": [
           {
            "colorbar": {
             "outlinewidth": 0,
             "ticks": ""
            },
            "colorscale": [
             [
              0,
              "#0d0887"
             ],
             [
              0.1111111111111111,
              "#46039f"
             ],
             [
              0.2222222222222222,
              "#7201a8"
             ],
             [
              0.3333333333333333,
              "#9c179e"
             ],
             [
              0.4444444444444444,
              "#bd3786"
             ],
             [
              0.5555555555555556,
              "#d8576b"
             ],
             [
              0.6666666666666666,
              "#ed7953"
             ],
             [
              0.7777777777777778,
              "#fb9f3a"
             ],
             [
              0.8888888888888888,
              "#fdca26"
             ],
             [
              1,
              "#f0f921"
             ]
            ],
            "type": "contour"
           }
          ],
          "contourcarpet": [
           {
            "colorbar": {
             "outlinewidth": 0,
             "ticks": ""
            },
            "type": "contourcarpet"
           }
          ],
          "heatmap": [
           {
            "colorbar": {
             "outlinewidth": 0,
             "ticks": ""
            },
            "colorscale": [
             [
              0,
              "#0d0887"
             ],
             [
              0.1111111111111111,
              "#46039f"
             ],
             [
              0.2222222222222222,
              "#7201a8"
             ],
             [
              0.3333333333333333,
              "#9c179e"
             ],
             [
              0.4444444444444444,
              "#bd3786"
             ],
             [
              0.5555555555555556,
              "#d8576b"
             ],
             [
              0.6666666666666666,
              "#ed7953"
             ],
             [
              0.7777777777777778,
              "#fb9f3a"
             ],
             [
              0.8888888888888888,
              "#fdca26"
             ],
             [
              1,
              "#f0f921"
             ]
            ],
            "type": "heatmap"
           }
          ],
          "histogram": [
           {
            "marker": {
             "pattern": {
              "fillmode": "overlay",
              "size": 10,
              "solidity": 0.2
             }
            },
            "type": "histogram"
           }
          ],
          "histogram2d": [
           {
            "colorbar": {
             "outlinewidth": 0,
             "ticks": ""
            },
            "colorscale": [
             [
              0,
              "#0d0887"
             ],
             [
              0.1111111111111111,
              "#46039f"
             ],
             [
              0.2222222222222222,
              "#7201a8"
             ],
             [
              0.3333333333333333,
              "#9c179e"
             ],
             [
              0.4444444444444444,
              "#bd3786"
             ],
             [
              0.5555555555555556,
              "#d8576b"
             ],
             [
              0.6666666666666666,
              "#ed7953"
             ],
             [
              0.7777777777777778,
              "#fb9f3a"
             ],
             [
              0.8888888888888888,
              "#fdca26"
             ],
             [
              1,
              "#f0f921"
             ]
            ],
            "type": "histogram2d"
           }
          ],
          "histogram2dcontour": [
           {
            "colorbar": {
             "outlinewidth": 0,
             "ticks": ""
            },
            "colorscale": [
             [
              0,
              "#0d0887"
             ],
             [
              0.1111111111111111,
              "#46039f"
             ],
             [
              0.2222222222222222,
              "#7201a8"
             ],
             [
              0.3333333333333333,
              "#9c179e"
             ],
             [
              0.4444444444444444,
              "#bd3786"
             ],
             [
              0.5555555555555556,
              "#d8576b"
             ],
             [
              0.6666666666666666,
              "#ed7953"
             ],
             [
              0.7777777777777778,
              "#fb9f3a"
             ],
             [
              0.8888888888888888,
              "#fdca26"
             ],
             [
              1,
              "#f0f921"
             ]
            ],
            "type": "histogram2dcontour"
           }
          ],
          "mesh3d": [
           {
            "colorbar": {
             "outlinewidth": 0,
             "ticks": ""
            },
            "type": "mesh3d"
           }
          ],
          "parcoords": [
           {
            "line": {
             "colorbar": {
              "outlinewidth": 0,
              "ticks": ""
             }
            },
            "type": "parcoords"
           }
          ],
          "pie": [
           {
            "automargin": true,
            "type": "pie"
           }
          ],
          "scatter": [
           {
            "fillpattern": {
             "fillmode": "overlay",
             "size": 10,
             "solidity": 0.2
            },
            "type": "scatter"
           }
          ],
          "scatter3d": [
           {
            "line": {
             "colorbar": {
              "outlinewidth": 0,
              "ticks": ""
             }
            },
            "marker": {
             "colorbar": {
              "outlinewidth": 0,
              "ticks": ""
             }
            },
            "type": "scatter3d"
           }
          ],
          "scattercarpet": [
           {
            "marker": {
             "colorbar": {
              "outlinewidth": 0,
              "ticks": ""
             }
            },
            "type": "scattercarpet"
           }
          ],
          "scattergeo": [
           {
            "marker": {
             "colorbar": {
              "outlinewidth": 0,
              "ticks": ""
             }
            },
            "type": "scattergeo"
           }
          ],
          "scattergl": [
           {
            "marker": {
             "colorbar": {
              "outlinewidth": 0,
              "ticks": ""
             }
            },
            "type": "scattergl"
           }
          ],
          "scattermap": [
           {
            "marker": {
             "colorbar": {
              "outlinewidth": 0,
              "ticks": ""
             }
            },
            "type": "scattermap"
           }
          ],
          "scattermapbox": [
           {
            "marker": {
             "colorbar": {
              "outlinewidth": 0,
              "ticks": ""
             }
            },
            "type": "scattermapbox"
           }
          ],
          "scatterpolar": [
           {
            "marker": {
             "colorbar": {
              "outlinewidth": 0,
              "ticks": ""
             }
            },
            "type": "scatterpolar"
           }
          ],
          "scatterpolargl": [
           {
            "marker": {
             "colorbar": {
              "outlinewidth": 0,
              "ticks": ""
             }
            },
            "type": "scatterpolargl"
           }
          ],
          "scatterternary": [
           {
            "marker": {
             "colorbar": {
              "outlinewidth": 0,
              "ticks": ""
             }
            },
            "type": "scatterternary"
           }
          ],
          "surface": [
           {
            "colorbar": {
             "outlinewidth": 0,
             "ticks": ""
            },
            "colorscale": [
             [
              0,
              "#0d0887"
             ],
             [
              0.1111111111111111,
              "#46039f"
             ],
             [
              0.2222222222222222,
              "#7201a8"
             ],
             [
              0.3333333333333333,
              "#9c179e"
             ],
             [
              0.4444444444444444,
              "#bd3786"
             ],
             [
              0.5555555555555556,
              "#d8576b"
             ],
             [
              0.6666666666666666,
              "#ed7953"
             ],
             [
              0.7777777777777778,
              "#fb9f3a"
             ],
             [
              0.8888888888888888,
              "#fdca26"
             ],
             [
              1,
              "#f0f921"
             ]
            ],
            "type": "surface"
           }
          ],
          "table": [
           {
            "cells": {
             "fill": {
              "color": "#EBF0F8"
             },
             "line": {
              "color": "white"
             }
            },
            "header": {
             "fill": {
              "color": "#C8D4E3"
             },
             "line": {
              "color": "white"
             }
            },
            "type": "table"
           }
          ]
         },
         "layout": {
          "annotationdefaults": {
           "arrowcolor": "#2a3f5f",
           "arrowhead": 0,
           "arrowwidth": 1
          },
          "autotypenumbers": "strict",
          "coloraxis": {
           "colorbar": {
            "outlinewidth": 0,
            "ticks": ""
           }
          },
          "colorscale": {
           "diverging": [
            [
             0,
             "#8e0152"
            ],
            [
             0.1,
             "#c51b7d"
            ],
            [
             0.2,
             "#de77ae"
            ],
            [
             0.3,
             "#f1b6da"
            ],
            [
             0.4,
             "#fde0ef"
            ],
            [
             0.5,
             "#f7f7f7"
            ],
            [
             0.6,
             "#e6f5d0"
            ],
            [
             0.7,
             "#b8e186"
            ],
            [
             0.8,
             "#7fbc41"
            ],
            [
             0.9,
             "#4d9221"
            ],
            [
             1,
             "#276419"
            ]
           ],
           "sequential": [
            [
             0,
             "#0d0887"
            ],
            [
             0.1111111111111111,
             "#46039f"
            ],
            [
             0.2222222222222222,
             "#7201a8"
            ],
            [
             0.3333333333333333,
             "#9c179e"
            ],
            [
             0.4444444444444444,
             "#bd3786"
            ],
            [
             0.5555555555555556,
             "#d8576b"
            ],
            [
             0.6666666666666666,
             "#ed7953"
            ],
            [
             0.7777777777777778,
             "#fb9f3a"
            ],
            [
             0.8888888888888888,
             "#fdca26"
            ],
            [
             1,
             "#f0f921"
            ]
           ],
           "sequentialminus": [
            [
             0,
             "#0d0887"
            ],
            [
             0.1111111111111111,
             "#46039f"
            ],
            [
             0.2222222222222222,
             "#7201a8"
            ],
            [
             0.3333333333333333,
             "#9c179e"
            ],
            [
             0.4444444444444444,
             "#bd3786"
            ],
            [
             0.5555555555555556,
             "#d8576b"
            ],
            [
             0.6666666666666666,
             "#ed7953"
            ],
            [
             0.7777777777777778,
             "#fb9f3a"
            ],
            [
             0.8888888888888888,
             "#fdca26"
            ],
            [
             1,
             "#f0f921"
            ]
           ]
          },
          "colorway": [
           "#636efa",
           "#EF553B",
           "#00cc96",
           "#ab63fa",
           "#FFA15A",
           "#19d3f3",
           "#FF6692",
           "#B6E880",
           "#FF97FF",
           "#FECB52"
          ],
          "font": {
           "color": "#2a3f5f"
          },
          "geo": {
           "bgcolor": "white",
           "lakecolor": "white",
           "landcolor": "#E5ECF6",
           "showlakes": true,
           "showland": true,
           "subunitcolor": "white"
          },
          "hoverlabel": {
           "align": "left"
          },
          "hovermode": "closest",
          "mapbox": {
           "style": "light"
          },
          "paper_bgcolor": "white",
          "plot_bgcolor": "#E5ECF6",
          "polar": {
           "angularaxis": {
            "gridcolor": "white",
            "linecolor": "white",
            "ticks": ""
           },
           "bgcolor": "#E5ECF6",
           "radialaxis": {
            "gridcolor": "white",
            "linecolor": "white",
            "ticks": ""
           }
          },
          "scene": {
           "xaxis": {
            "backgroundcolor": "#E5ECF6",
            "gridcolor": "white",
            "gridwidth": 2,
            "linecolor": "white",
            "showbackground": true,
            "ticks": "",
            "zerolinecolor": "white"
           },
           "yaxis": {
            "backgroundcolor": "#E5ECF6",
            "gridcolor": "white",
            "gridwidth": 2,
            "linecolor": "white",
            "showbackground": true,
            "ticks": "",
            "zerolinecolor": "white"
           },
           "zaxis": {
            "backgroundcolor": "#E5ECF6",
            "gridcolor": "white",
            "gridwidth": 2,
            "linecolor": "white",
            "showbackground": true,
            "ticks": "",
            "zerolinecolor": "white"
           }
          },
          "shapedefaults": {
           "line": {
            "color": "#2a3f5f"
           }
          },
          "ternary": {
           "aaxis": {
            "gridcolor": "white",
            "linecolor": "white",
            "ticks": ""
           },
           "baxis": {
            "gridcolor": "white",
            "linecolor": "white",
            "ticks": ""
           },
           "bgcolor": "#E5ECF6",
           "caxis": {
            "gridcolor": "white",
            "linecolor": "white",
            "ticks": ""
           }
          },
          "title": {
           "x": 0.05
          },
          "xaxis": {
           "automargin": true,
           "gridcolor": "white",
           "linecolor": "white",
           "ticks": "",
           "title": {
            "standoff": 15
           },
           "zerolinecolor": "white",
           "zerolinewidth": 2
          },
          "yaxis": {
           "automargin": true,
           "gridcolor": "white",
           "linecolor": "white",
           "ticks": "",
           "title": {
            "standoff": 15
           },
           "zerolinecolor": "white",
           "zerolinewidth": 2
          }
         }
        },
        "title": {
         "text": "Score Contribution Density by Search Strategy"
        },
        "xaxis": {
         "anchor": "y",
         "domain": [
          0,
          1
         ],
         "title": {
          "text": "Strategy"
         }
        },
        "yaxis": {
         "anchor": "x",
         "domain": [
          0,
          1
         ],
         "title": {
          "text": "Average Indicator per Abstract"
         }
        }
       }
      }
     },
     "metadata": {},
     "output_type": "display_data"
    }
   ],
   "source": [
    "scd_df = pd.DataFrame(results)\n",
    "fig = px.bar(\n",
    "    scd_df.melt(id_vars='Strategy', value_vars=[\n",
    "        'Score Density (All Abstracts)',\n",
    "        'Score Density (Clinical Only)'\n",
    "    ]),\n",
    "    x='Strategy',\n",
    "    y='value',\n",
    "    color='variable',\n",
    "    barmode='group',\n",
    "    title='Score Contribution Density by Search Strategy',\n",
    "    labels={'value': 'Average Indicator per Abstract'}\n",
    ")\n",
    "fig.show()\n",
    "\n",
    "gene = str(assessments['gene'].iloc[0]).replace(\" \", \"_\")\n",
    "fig.write_image(f'data/results/{gene}-score_contribution_density.png', width=800, height=600, scale=2)"
   ]
  },
  {
   "cell_type": "markdown",
   "metadata": {},
   "source": [
    "#### Top 10 Interactions by Strategy\n"
   ]
  },
  {
   "cell_type": "code",
   "execution_count": 51,
   "metadata": {},
   "outputs": [],
   "source": [
    "def adjust_one(value):\n",
    "    return value + 1"
   ]
  },
  {
   "cell_type": "code",
   "execution_count": null,
   "metadata": {},
   "outputs": [
    {
     "data": {
      "text/html": [
       "<div>\n",
       "<style scoped>\n",
       "    .dataframe tbody tr th:only-of-type {\n",
       "        vertical-align: middle;\n",
       "    }\n",
       "\n",
       "    .dataframe tbody tr th {\n",
       "        vertical-align: top;\n",
       "    }\n",
       "\n",
       "    .dataframe thead th {\n",
       "        text-align: right;\n",
       "    }\n",
       "</style>\n",
       "<table border=\"1\" class=\"dataframe\">\n",
       "  <thead>\n",
       "    <tr style=\"text-align: right;\">\n",
       "      <th></th>\n",
       "      <th>Drug</th>\n",
       "      <th>interaction_score</th>\n",
       "      <th>total_indicator</th>\n",
       "      <th>clinical_score</th>\n",
       "      <th>IS_Ranking</th>\n",
       "      <th>CS_Ranking</th>\n",
       "    </tr>\n",
       "  </thead>\n",
       "  <tbody>\n",
       "    <tr>\n",
       "      <th>0</th>\n",
       "      <td>VENETOCLAX</td>\n",
       "      <td>0.169239</td>\n",
       "      <td>301</td>\n",
       "      <td>12.735264</td>\n",
       "      <td>9</td>\n",
       "      <td>1</td>\n",
       "    </tr>\n",
       "    <tr>\n",
       "      <th>1</th>\n",
       "      <td>AMINOLEVULINIC ACID</td>\n",
       "      <td>1.523154</td>\n",
       "      <td>11</td>\n",
       "      <td>8.37735</td>\n",
       "      <td>1</td>\n",
       "      <td>2</td>\n",
       "    </tr>\n",
       "    <tr>\n",
       "      <th>2</th>\n",
       "      <td>NAVITOCLAX</td>\n",
       "      <td>0.271992</td>\n",
       "      <td>35</td>\n",
       "      <td>1.903943</td>\n",
       "      <td>5</td>\n",
       "      <td>3</td>\n",
       "    </tr>\n",
       "    <tr>\n",
       "      <th>3</th>\n",
       "      <td>TRAIL</td>\n",
       "      <td>0.175749</td>\n",
       "      <td>21</td>\n",
       "      <td>1.23024</td>\n",
       "      <td>8</td>\n",
       "      <td>4</td>\n",
       "    </tr>\n",
       "    <tr>\n",
       "      <th>4</th>\n",
       "      <td>VINCRISTINE</td>\n",
       "      <td>0.009520</td>\n",
       "      <td>104</td>\n",
       "      <td>0.99005</td>\n",
       "      <td>29</td>\n",
       "      <td>5</td>\n",
       "    </tr>\n",
       "    <tr>\n",
       "      <th>5</th>\n",
       "      <td>LYSOZYME</td>\n",
       "      <td>0.507718</td>\n",
       "      <td>3</td>\n",
       "      <td>0.761577</td>\n",
       "      <td>3</td>\n",
       "      <td>6</td>\n",
       "    </tr>\n",
       "    <tr>\n",
       "      <th>6</th>\n",
       "      <td>HYPOXANTHINE</td>\n",
       "      <td>0.507718</td>\n",
       "      <td>3</td>\n",
       "      <td>0.761577</td>\n",
       "      <td>2</td>\n",
       "      <td>7</td>\n",
       "    </tr>\n",
       "    <tr>\n",
       "      <th>7</th>\n",
       "      <td>CISPLATIN</td>\n",
       "      <td>0.020865</td>\n",
       "      <td>109</td>\n",
       "      <td>0.568575</td>\n",
       "      <td>26</td>\n",
       "      <td>8</td>\n",
       "    </tr>\n",
       "    <tr>\n",
       "      <th>8</th>\n",
       "      <td>SELENIUM</td>\n",
       "      <td>0.134396</td>\n",
       "      <td>11</td>\n",
       "      <td>0.492785</td>\n",
       "      <td>14</td>\n",
       "      <td>9</td>\n",
       "    </tr>\n",
       "    <tr>\n",
       "      <th>9</th>\n",
       "      <td>C5A</td>\n",
       "      <td>0.217593</td>\n",
       "      <td>4</td>\n",
       "      <td>0.435187</td>\n",
       "      <td>6</td>\n",
       "      <td>10</td>\n",
       "    </tr>\n",
       "  </tbody>\n",
       "</table>\n",
       "</div>"
      ],
      "text/plain": [
       "                  Drug  interaction_score  total_indicator clinical_score  \\\n",
       "0           VENETOCLAX           0.169239              301      12.735264   \n",
       "1  AMINOLEVULINIC ACID           1.523154               11        8.37735   \n",
       "2           NAVITOCLAX           0.271992               35       1.903943   \n",
       "3                TRAIL           0.175749               21        1.23024   \n",
       "4          VINCRISTINE           0.009520              104        0.99005   \n",
       "5             LYSOZYME           0.507718                3       0.761577   \n",
       "6         HYPOXANTHINE           0.507718                3       0.761577   \n",
       "7            CISPLATIN           0.020865              109       0.568575   \n",
       "8             SELENIUM           0.134396               11       0.492785   \n",
       "9                  C5A           0.217593                4       0.435187   \n",
       "\n",
       "   IS_Ranking  CS_Ranking  \n",
       "0           9           1  \n",
       "1           1           2  \n",
       "2           5           3  \n",
       "3           8           4  \n",
       "4          29           5  \n",
       "5           3           6  \n",
       "6           2           7  \n",
       "7          26           8  \n",
       "8          14           9  \n",
       "9           6          10  "
      ]
     },
     "execution_count": 61,
     "metadata": {},
     "output_type": "execute_result"
    }
   ],
   "source": [
    "# TODO: Create results tables by search strategy, graph, also mask CHEMOTHERAPY_AGENTS\n",
    "\n",
    "\n",
    "# Calculate Clinical Score\n",
    "for idx, row in merged_df.iterrows():\n",
    "    try:\n",
    "        merged_df.at[idx,'clinical_score'] = float(row['total_indicator']) * float(row['drug_specificity']) * float(row['gene_specificity'])\n",
    "    except:\n",
    "        merged_df.at[idx,'clinical_score'] = None\n",
    "\n",
    "merged_df #total_indicator\n",
    "\n",
    "# Rankings\n",
    "tdf = merged_df.sort_values(by='interaction_score',ascending=False).reset_index(drop=True)\n",
    "tdf = tdf.drop_duplicates(subset=['Gene', 'Drug']).reset_index(drop=True)\n",
    "tdf['IS_Ranking'] = tdf.index\n",
    "tdf['IS_Ranking'] = tdf['IS_Ranking'].apply(adjust_one)\n",
    "\n",
    "tdf = tdf.sort_values(by='clinical_score',ascending=False).reset_index(drop=True)\n",
    "tdf['CS_Ranking'] = tdf.index\n",
    "tdf['CS_Ranking'] = tdf['CS_Ranking'].apply(adjust_one)\n",
    "\n",
    "top10_1 = set(tdf.sort_values('CS_Ranking').head(10)['Drug'])\n",
    "\n",
    "tdf[['Drug','interaction_score','total_indicator','clinical_score','IS_Ranking','CS_Ranking']][0:10]\n"
   ]
  }
 ],
 "metadata": {
  "kernelspec": {
   "display_name": "3.12.2",
   "language": "python",
   "name": "python3"
  },
  "language_info": {
   "codemirror_mode": {
    "name": "ipython",
    "version": 3
   },
   "file_extension": ".py",
   "mimetype": "text/x-python",
   "name": "python",
   "nbconvert_exporter": "python",
   "pygments_lexer": "ipython3",
   "version": "3.12.2"
  }
 },
 "nbformat": 4,
 "nbformat_minor": 2
}
