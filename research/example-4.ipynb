{
 "cells": [
  {
   "cell_type": "code",
   "execution_count": 39,
   "metadata": {},
   "outputs": [],
   "source": [
    "import pandas as pd\n",
    "import sys, os\n",
    "import inflect\n",
    "from tqdm import tqdm\n",
    "import requests\n",
    "\n",
    "# Add the parent directory of this notebook to the Python path\n",
    "sys.path.append(os.path.abspath('..'))\n",
    "\n",
    "import score\n",
    "import novel\n",
    "import search_set\n",
    "import indicator\n",
    "import literature\n",
    "\n",
    "\n",
    "# Surpress NLP Mask Warning for Apple Silicon\n",
    "import warnings\n",
    "warnings.filterwarnings(\n",
    "    \"ignore\",\n",
    "    category=FutureWarning,\n",
    "    message=r\".*encoder_attention_mask.*BertSdpaSelfAttention\\.forward\"\n",
    ")"
   ]
  },
  {
   "cell_type": "markdown",
   "metadata": {},
   "source": [
    "## Example Code for Identifying Literature to Curate\n",
    "Demo notebook demonstrating how to use NLP methods to identify literature containing possible interactions for prioritization, manual review, and inclusion as supporting evidence in DGIdb."
   ]
  },
  {
   "cell_type": "code",
   "execution_count": null,
   "metadata": {},
   "outputs": [],
   "source": [
    "gene = 'BCL2'\n",
    "search_set.generate_search_set(gene)"
   ]
  },
  {
   "cell_type": "code",
   "execution_count": 2,
   "metadata": {},
   "outputs": [
    {
     "data": {
      "text/html": [
       "<div>\n",
       "<style scoped>\n",
       "    .dataframe tbody tr th:only-of-type {\n",
       "        vertical-align: middle;\n",
       "    }\n",
       "\n",
       "    .dataframe tbody tr th {\n",
       "        vertical-align: top;\n",
       "    }\n",
       "\n",
       "    .dataframe thead th {\n",
       "        text-align: right;\n",
       "    }\n",
       "</style>\n",
       "<table border=\"1\" class=\"dataframe\">\n",
       "  <thead>\n",
       "    <tr style=\"text-align: right;\">\n",
       "      <th></th>\n",
       "      <th>Title</th>\n",
       "      <th>Abstract</th>\n",
       "    </tr>\n",
       "  </thead>\n",
       "  <tbody>\n",
       "    <tr>\n",
       "      <th>0</th>\n",
       "      <td>39796006</td>\n",
       "      <td>In the tissue regeneration field, stem cell tr...</td>\n",
       "    </tr>\n",
       "    <tr>\n",
       "      <th>1</th>\n",
       "      <td>40524014</td>\n",
       "      <td>Follicular lymphoma (FL), marginal zone lympho...</td>\n",
       "    </tr>\n",
       "    <tr>\n",
       "      <th>2</th>\n",
       "      <td>40393040</td>\n",
       "      <td>Primary cutaneous diffuse large B cell lymphom...</td>\n",
       "    </tr>\n",
       "    <tr>\n",
       "      <th>3</th>\n",
       "      <td>40619042</td>\n",
       "      <td>Primary ovarian insufficiency (POI), which aff...</td>\n",
       "    </tr>\n",
       "    <tr>\n",
       "      <th>4</th>\n",
       "      <td>40444042</td>\n",
       "      <td>This investigation sought to explore the inhib...</td>\n",
       "    </tr>\n",
       "    <tr>\n",
       "      <th>...</th>\n",
       "      <td>...</td>\n",
       "      <td>...</td>\n",
       "    </tr>\n",
       "    <tr>\n",
       "      <th>39523</th>\n",
       "      <td>25873999</td>\n",
       "      <td>The role played by microRNAs in the deregulati...</td>\n",
       "    </tr>\n",
       "    <tr>\n",
       "      <th>39524</th>\n",
       "      <td>34394999</td>\n",
       "      <td>Late-onset posttransplant lymphoproliferative ...</td>\n",
       "    </tr>\n",
       "    <tr>\n",
       "      <th>39525</th>\n",
       "      <td>22431999</td>\n",
       "      <td>Several studies demonstrated that treatment wi...</td>\n",
       "    </tr>\n",
       "    <tr>\n",
       "      <th>39526</th>\n",
       "      <td>31465999</td>\n",
       "      <td>Antiviral interferons (IFN-alpha/beta) are pos...</td>\n",
       "    </tr>\n",
       "    <tr>\n",
       "      <th>39527</th>\n",
       "      <td>37885999</td>\n",
       "      <td>This study aimed to determine the effect of 8-...</td>\n",
       "    </tr>\n",
       "  </tbody>\n",
       "</table>\n",
       "<p>39528 rows × 2 columns</p>\n",
       "</div>"
      ],
      "text/plain": [
       "          Title                                           Abstract\n",
       "0      39796006  In the tissue regeneration field, stem cell tr...\n",
       "1      40524014  Follicular lymphoma (FL), marginal zone lympho...\n",
       "2      40393040  Primary cutaneous diffuse large B cell lymphom...\n",
       "3      40619042  Primary ovarian insufficiency (POI), which aff...\n",
       "4      40444042  This investigation sought to explore the inhib...\n",
       "...         ...                                                ...\n",
       "39523  25873999  The role played by microRNAs in the deregulati...\n",
       "39524  34394999  Late-onset posttransplant lymphoproliferative ...\n",
       "39525  22431999  Several studies demonstrated that treatment wi...\n",
       "39526  31465999  Antiviral interferons (IFN-alpha/beta) are pos...\n",
       "39527  37885999  This study aimed to determine the effect of 8-...\n",
       "\n",
       "[39528 rows x 2 columns]"
      ]
     },
     "execution_count": 2,
     "metadata": {},
     "output_type": "execute_result"
    }
   ],
   "source": [
    "abstracts = pd.read_csv('abstracts.csv')\n",
    "abstracts"
   ]
  },
  {
   "cell_type": "code",
   "execution_count": 11,
   "metadata": {},
   "outputs": [
    {
     "name": "stderr",
     "output_type": "stream",
     "text": [
      "Device set to use mps:0\n",
      "Device set to use mps:0\n",
      "Device set to use mps:0\n",
      "100%|██████████| 39528/39528 [1:27:22<00:00,  7.54it/s]\n"
     ]
    },
    {
     "data": {
      "text/html": [
       "<div>\n",
       "<style scoped>\n",
       "    .dataframe tbody tr th:only-of-type {\n",
       "        vertical-align: middle;\n",
       "    }\n",
       "\n",
       "    .dataframe tbody tr th {\n",
       "        vertical-align: top;\n",
       "    }\n",
       "\n",
       "    .dataframe thead th {\n",
       "        text-align: right;\n",
       "    }\n",
       "</style>\n",
       "<table border=\"1\" class=\"dataframe\">\n",
       "  <thead>\n",
       "    <tr style=\"text-align: right;\">\n",
       "      <th></th>\n",
       "      <th>original_text</th>\n",
       "      <th>entity_group</th>\n",
       "      <th>score</th>\n",
       "      <th>word</th>\n",
       "      <th>start</th>\n",
       "      <th>end</th>\n",
       "    </tr>\n",
       "  </thead>\n",
       "  <tbody>\n",
       "    <tr>\n",
       "      <th>0</th>\n",
       "      <td>Follicular lymphoma (FL), marginal zone lympho...</td>\n",
       "      <td>GENETIC</td>\n",
       "      <td>0.999927</td>\n",
       "      <td>CD47 - blocking antibody</td>\n",
       "      <td>273</td>\n",
       "      <td>295</td>\n",
       "    </tr>\n",
       "    <tr>\n",
       "      <th>1</th>\n",
       "      <td>Follicular lymphoma (FL), marginal zone lympho...</td>\n",
       "      <td>GENETIC</td>\n",
       "      <td>0.999985</td>\n",
       "      <td>CD47</td>\n",
       "      <td>306</td>\n",
       "      <td>310</td>\n",
       "    </tr>\n",
       "    <tr>\n",
       "      <th>2</th>\n",
       "      <td>Follicular lymphoma (FL), marginal zone lympho...</td>\n",
       "      <td>GENETIC</td>\n",
       "      <td>0.999992</td>\n",
       "      <td>SIRPα</td>\n",
       "      <td>311</td>\n",
       "      <td>316</td>\n",
       "    </tr>\n",
       "    <tr>\n",
       "      <th>3</th>\n",
       "      <td>Follicular lymphoma (FL), marginal zone lympho...</td>\n",
       "      <td>GENETIC</td>\n",
       "      <td>0.999992</td>\n",
       "      <td>anti - CD20 antibody</td>\n",
       "      <td>403</td>\n",
       "      <td>421</td>\n",
       "    </tr>\n",
       "    <tr>\n",
       "      <th>4</th>\n",
       "      <td>Follicular lymphoma (FL), marginal zone lympho...</td>\n",
       "      <td>GENETIC</td>\n",
       "      <td>0.882086</td>\n",
       "      <td>rituximab</td>\n",
       "      <td>422</td>\n",
       "      <td>431</td>\n",
       "    </tr>\n",
       "    <tr>\n",
       "      <th>...</th>\n",
       "      <td>...</td>\n",
       "      <td>...</td>\n",
       "      <td>...</td>\n",
       "      <td>...</td>\n",
       "      <td>...</td>\n",
       "      <td>...</td>\n",
       "    </tr>\n",
       "    <tr>\n",
       "      <th>712789</th>\n",
       "      <td>This study aimed to determine the effect of 8-...</td>\n",
       "      <td>DISEASE</td>\n",
       "      <td>0.999993</td>\n",
       "      <td>T2D</td>\n",
       "      <td>596</td>\n",
       "      <td>599</td>\n",
       "    </tr>\n",
       "    <tr>\n",
       "      <th>712790</th>\n",
       "      <td>This study aimed to determine the effect of 8-...</td>\n",
       "      <td>DISEASE</td>\n",
       "      <td>0.937653</td>\n",
       "      <td>insulin</td>\n",
       "      <td>781</td>\n",
       "      <td>788</td>\n",
       "    </tr>\n",
       "    <tr>\n",
       "      <th>712791</th>\n",
       "      <td>This study aimed to determine the effect of 8-...</td>\n",
       "      <td>DISEASE</td>\n",
       "      <td>0.999973</td>\n",
       "      <td>musculoaponeurotic fibrosarcoma</td>\n",
       "      <td>826</td>\n",
       "      <td>857</td>\n",
       "    </tr>\n",
       "    <tr>\n",
       "      <th>712792</th>\n",
       "      <td>This study aimed to determine the effect of 8-...</td>\n",
       "      <td>DISEASE</td>\n",
       "      <td>0.999990</td>\n",
       "      <td>T2D</td>\n",
       "      <td>1078</td>\n",
       "      <td>1081</td>\n",
       "    </tr>\n",
       "    <tr>\n",
       "      <th>712793</th>\n",
       "      <td>This study aimed to determine the effect of 8-...</td>\n",
       "      <td>DISEASE</td>\n",
       "      <td>0.999989</td>\n",
       "      <td>T2D</td>\n",
       "      <td>1503</td>\n",
       "      <td>1506</td>\n",
       "    </tr>\n",
       "  </tbody>\n",
       "</table>\n",
       "<p>712794 rows × 6 columns</p>\n",
       "</div>"
      ],
      "text/plain": [
       "                                            original_text entity_group  \\\n",
       "0       Follicular lymphoma (FL), marginal zone lympho...      GENETIC   \n",
       "1       Follicular lymphoma (FL), marginal zone lympho...      GENETIC   \n",
       "2       Follicular lymphoma (FL), marginal zone lympho...      GENETIC   \n",
       "3       Follicular lymphoma (FL), marginal zone lympho...      GENETIC   \n",
       "4       Follicular lymphoma (FL), marginal zone lympho...      GENETIC   \n",
       "...                                                   ...          ...   \n",
       "712789  This study aimed to determine the effect of 8-...      DISEASE   \n",
       "712790  This study aimed to determine the effect of 8-...      DISEASE   \n",
       "712791  This study aimed to determine the effect of 8-...      DISEASE   \n",
       "712792  This study aimed to determine the effect of 8-...      DISEASE   \n",
       "712793  This study aimed to determine the effect of 8-...      DISEASE   \n",
       "\n",
       "           score                             word  start   end  \n",
       "0       0.999927         CD47 - blocking antibody    273   295  \n",
       "1       0.999985                             CD47    306   310  \n",
       "2       0.999992                            SIRPα    311   316  \n",
       "3       0.999992             anti - CD20 antibody    403   421  \n",
       "4       0.882086                        rituximab    422   431  \n",
       "...          ...                              ...    ...   ...  \n",
       "712789  0.999993                              T2D    596   599  \n",
       "712790  0.937653                          insulin    781   788  \n",
       "712791  0.999973  musculoaponeurotic fibrosarcoma    826   857  \n",
       "712792  0.999990                              T2D   1078  1081  \n",
       "712793  0.999989                              T2D   1503  1506  \n",
       "\n",
       "[712794 rows x 6 columns]"
      ]
     },
     "execution_count": 11,
     "metadata": {},
     "output_type": "execute_result"
    }
   ],
   "source": [
    "import importlib\n",
    "importlib.reload(novel)\n",
    "results = novel.batch(abstracts['Abstract'])\n",
    "results"
   ]
  },
  {
   "cell_type": "code",
   "execution_count": 15,
   "metadata": {},
   "outputs": [],
   "source": [
    "results.to_excel('checkpoint.xlsx')"
   ]
  },
  {
   "cell_type": "code",
   "execution_count": 24,
   "metadata": {},
   "outputs": [
    {
     "name": "stderr",
     "output_type": "stream",
     "text": [
      "1507it [06:03,  3.92it/s]/var/folders/5t/sfw5tjx56m10xb861_pd3wfm0000gq/T/ipykernel_20542/1454545004.py:37: FutureWarning: Setting an item of incompatible dtype is deprecated and will raise an error in a future version of pandas. Value 'Failure to Normalize' has dtype incompatible with float64, please explicitly cast to a compatible dtype first.\n",
      "  results.at[index, 'concept_match_type'] = norm_result[0]\n",
      "5000it [20:29, 18.59s/it]"
     ]
    },
    {
     "name": "stdout",
     "output_type": "stream",
     "text": [
      "Checkpoint saved at row 5000 -> normalized_results_checkpoint_checkpoint_5000.xlsx\n"
     ]
    },
    {
     "name": "stderr",
     "output_type": "stream",
     "text": [
      "10000it [40:53, 20.07s/it]"
     ]
    },
    {
     "name": "stdout",
     "output_type": "stream",
     "text": [
      "Checkpoint saved at row 10000 -> normalized_results_checkpoint_checkpoint_10000.xlsx\n"
     ]
    },
    {
     "name": "stderr",
     "output_type": "stream",
     "text": [
      "15000it [59:47, 19.45s/it]"
     ]
    },
    {
     "name": "stdout",
     "output_type": "stream",
     "text": [
      "Checkpoint saved at row 15000 -> normalized_results_checkpoint_checkpoint_15000.xlsx\n"
     ]
    },
    {
     "name": "stderr",
     "output_type": "stream",
     "text": [
      "20000it [1:19:35, 10.96s/it]"
     ]
    },
    {
     "name": "stdout",
     "output_type": "stream",
     "text": [
      "Checkpoint saved at row 20000 -> normalized_results_checkpoint_checkpoint_20000.xlsx\n"
     ]
    },
    {
     "name": "stderr",
     "output_type": "stream",
     "text": [
      "25001it [1:32:19, 10.39s/it]"
     ]
    },
    {
     "name": "stdout",
     "output_type": "stream",
     "text": [
      "Checkpoint saved at row 25000 -> normalized_results_checkpoint_checkpoint_25000.xlsx\n"
     ]
    },
    {
     "name": "stderr",
     "output_type": "stream",
     "text": [
      "30000it [1:45:40, 16.57s/it]"
     ]
    },
    {
     "name": "stdout",
     "output_type": "stream",
     "text": [
      "Checkpoint saved at row 30000 -> normalized_results_checkpoint_checkpoint_30000.xlsx\n"
     ]
    },
    {
     "name": "stderr",
     "output_type": "stream",
     "text": [
      "35000it [1:58:38, 17.44s/it]"
     ]
    },
    {
     "name": "stdout",
     "output_type": "stream",
     "text": [
      "Checkpoint saved at row 35000 -> normalized_results_checkpoint_checkpoint_35000.xlsx\n"
     ]
    },
    {
     "name": "stderr",
     "output_type": "stream",
     "text": [
      "40001it [2:11:23, 11.58s/it]"
     ]
    },
    {
     "name": "stdout",
     "output_type": "stream",
     "text": [
      "Checkpoint saved at row 40000 -> normalized_results_checkpoint_checkpoint_40000.xlsx\n"
     ]
    },
    {
     "name": "stderr",
     "output_type": "stream",
     "text": [
      "45001it [2:23:48, 11.69s/it]"
     ]
    },
    {
     "name": "stdout",
     "output_type": "stream",
     "text": [
      "Checkpoint saved at row 45000 -> normalized_results_checkpoint_checkpoint_45000.xlsx\n"
     ]
    },
    {
     "name": "stderr",
     "output_type": "stream",
     "text": [
      "50000it [2:36:12, 15.80s/it]"
     ]
    },
    {
     "name": "stdout",
     "output_type": "stream",
     "text": [
      "Checkpoint saved at row 50000 -> normalized_results_checkpoint_checkpoint_50000.xlsx\n"
     ]
    },
    {
     "name": "stderr",
     "output_type": "stream",
     "text": [
      "55001it [2:48:44,  8.49s/it]"
     ]
    },
    {
     "name": "stdout",
     "output_type": "stream",
     "text": [
      "Checkpoint saved at row 55000 -> normalized_results_checkpoint_checkpoint_55000.xlsx\n"
     ]
    },
    {
     "name": "stderr",
     "output_type": "stream",
     "text": [
      "60000it [3:01:07, 12.66s/it]"
     ]
    },
    {
     "name": "stdout",
     "output_type": "stream",
     "text": [
      "Checkpoint saved at row 60000 -> normalized_results_checkpoint_checkpoint_60000.xlsx\n"
     ]
    },
    {
     "name": "stderr",
     "output_type": "stream",
     "text": [
      "65001it [3:13:22, 11.92s/it]"
     ]
    },
    {
     "name": "stdout",
     "output_type": "stream",
     "text": [
      "Checkpoint saved at row 65000 -> normalized_results_checkpoint_checkpoint_65000.xlsx\n"
     ]
    },
    {
     "name": "stderr",
     "output_type": "stream",
     "text": [
      "70001it [3:25:41, 11.18s/it]"
     ]
    },
    {
     "name": "stdout",
     "output_type": "stream",
     "text": [
      "Checkpoint saved at row 70000 -> normalized_results_checkpoint_checkpoint_70000.xlsx\n"
     ]
    },
    {
     "name": "stderr",
     "output_type": "stream",
     "text": [
      "75000it [3:37:54, 12.61s/it]"
     ]
    },
    {
     "name": "stdout",
     "output_type": "stream",
     "text": [
      "Checkpoint saved at row 75000 -> normalized_results_checkpoint_checkpoint_75000.xlsx\n"
     ]
    },
    {
     "name": "stderr",
     "output_type": "stream",
     "text": [
      "80000it [3:50:11, 15.41s/it]"
     ]
    },
    {
     "name": "stdout",
     "output_type": "stream",
     "text": [
      "Checkpoint saved at row 80000 -> normalized_results_checkpoint_checkpoint_80000.xlsx\n"
     ]
    },
    {
     "name": "stderr",
     "output_type": "stream",
     "text": [
      "85001it [4:02:34, 11.23s/it]"
     ]
    },
    {
     "name": "stdout",
     "output_type": "stream",
     "text": [
      "Checkpoint saved at row 85000 -> normalized_results_checkpoint_checkpoint_85000.xlsx\n"
     ]
    },
    {
     "name": "stderr",
     "output_type": "stream",
     "text": [
      "90001it [4:15:19, 10.00s/it]"
     ]
    },
    {
     "name": "stdout",
     "output_type": "stream",
     "text": [
      "Checkpoint saved at row 90000 -> normalized_results_checkpoint_checkpoint_90000.xlsx\n"
     ]
    },
    {
     "name": "stderr",
     "output_type": "stream",
     "text": [
      "95001it [4:27:55, 11.33s/it]"
     ]
    },
    {
     "name": "stdout",
     "output_type": "stream",
     "text": [
      "Checkpoint saved at row 95000 -> normalized_results_checkpoint_checkpoint_95000.xlsx\n"
     ]
    },
    {
     "name": "stderr",
     "output_type": "stream",
     "text": [
      "96459it [4:31:13,  5.93it/s]\n"
     ]
    },
    {
     "name": "stdout",
     "output_type": "stream",
     "text": [
      "Final results saved -> normalized_results_checkpoint_final.xlsx\n"
     ]
    }
   ],
   "source": [
    "def _singularize(word):\n",
    "    inflector = inflect.engine()\n",
    "    return inflector.singular_noun(word) or word\n",
    "\n",
    "def _normalize_therapy(word):\n",
    "    try:\n",
    "        r = requests.get(\n",
    "            f'https://normalize.cancervariants.org/therapy/normalize?q={word}&infer_namespace=true',\n",
    "            timeout=10  # Set timeout for network reliability\n",
    "        )\n",
    "        r.raise_for_status()\n",
    "        response = r.json()\n",
    "\n",
    "        if isinstance(response, dict) and response.get('match_type') is not None:\n",
    "            if response['match_type'] != 0:\n",
    "                return [\n",
    "                    response['match_type'],\n",
    "                    response['therapy']['id'],\n",
    "                    response['therapy']['name']\n",
    "                ]\n",
    "            else:\n",
    "                return [0, None, None]  # Not matched\n",
    "        else:\n",
    "            return ['Unexpected Response Format', None, None]\n",
    "    except requests.exceptions.RequestException as e:\n",
    "        return ['HTTP Error', str(e), None]\n",
    "    except Exception as e:\n",
    "        return ['Failure to Normalize', str(e), None]\n",
    "\n",
    "# Main loop\n",
    "checkpoint_interval = 5000\n",
    "output_base = \"normalized_results_checkpoint\"\n",
    "for idx, (index, row) in enumerate(tqdm(results[results['entity_group'] == 'CHEMICAL'].iterrows()), 1):\n",
    "    word = _singularize(row['word'])\n",
    "    norm_result = _normalize_therapy(word)\n",
    "\n",
    "    results.at[index, 'concept_match_type'] = norm_result[0]\n",
    "    results.at[index, 'concept_id'] = norm_result[1]\n",
    "    results.at[index, 'concept_label'] = norm_result[2]\n",
    "\n",
    "    if idx % checkpoint_interval == 0:\n",
    "        checkpoint_filename = f\"{output_base}_checkpoint_{idx}.xlsx\"\n",
    "        results.to_excel(checkpoint_filename, index=False)\n",
    "        print(f\"Checkpoint saved at row {idx} -> {checkpoint_filename}\")\n",
    "\n",
    "# Final save after loop completes\n",
    "final_filename = f\"{output_base}_final.xlsx\"\n",
    "results.to_excel(final_filename, index=False)\n",
    "print(f\"Final results saved -> {final_filename}\")"
   ]
  },
  {
   "cell_type": "code",
   "execution_count": null,
   "metadata": {},
   "outputs": [
    {
     "name": "stderr",
     "output_type": "stream",
     "text": [
      "/var/folders/5t/sfw5tjx56m10xb861_pd3wfm0000gq/T/ipykernel_20542/2943807529.py:3: DeprecationWarning: DataFrameGroupBy.apply operated on the grouping columns. This behavior is deprecated, and in a future version of pandas the grouping columns will be excluded from the operation. Either pass `include_groups=False` to exclude the groupings or explicitly select the grouping columns after groupby to silence this warning.\n",
      "  condensed_results = tdf.groupby('original_text').apply(\n"
     ]
    },
    {
     "data": {
      "text/html": [
       "<div>\n",
       "<style scoped>\n",
       "    .dataframe tbody tr th:only-of-type {\n",
       "        vertical-align: middle;\n",
       "    }\n",
       "\n",
       "    .dataframe tbody tr th {\n",
       "        vertical-align: top;\n",
       "    }\n",
       "\n",
       "    .dataframe thead th {\n",
       "        text-align: right;\n",
       "    }\n",
       "</style>\n",
       "<table border=\"1\" class=\"dataframe\">\n",
       "  <thead>\n",
       "    <tr style=\"text-align: right;\">\n",
       "      <th></th>\n",
       "      <th>original_text</th>\n",
       "      <th>DRUG_LABELS</th>\n",
       "      <th>DRUG_IDS</th>\n",
       "    </tr>\n",
       "  </thead>\n",
       "  <tbody>\n",
       "    <tr>\n",
       "      <th>0</th>\n",
       "      <td>ADLE was administered to high-fat diet treate...</td>\n",
       "      <td>nitric oxide | palmitate | oxygen | nitrite io...</td>\n",
       "      <td>normalize.therapy.rxcui:7442 | normalize.thera...</td>\n",
       "    </tr>\n",
       "    <tr>\n",
       "      <th>1</th>\n",
       "      <td>GOT1-bearing BALB/c nude mice were treated wi...</td>\n",
       "      <td>sonidegib</td>\n",
       "      <td>normalize.therapy.rxcui:1659191</td>\n",
       "    </tr>\n",
       "    <tr>\n",
       "      <th>2</th>\n",
       "      <td>In this study, we have investigated the cytot...</td>\n",
       "      <td>lactate | ACRIDINE ORANGE | PROPIDIUM | oxygen</td>\n",
       "      <td>normalize.therapy.rxcui:114202 | normalize.the...</td>\n",
       "    </tr>\n",
       "    <tr>\n",
       "      <th>3</th>\n",
       "      <td>PNS were identified from the Traditional Chin...</td>\n",
       "      <td>glutathione | malondialdehyde | ESTROGENS, CON...</td>\n",
       "      <td>normalize.therapy.rxcui:4890 | normalize.thera...</td>\n",
       "    </tr>\n",
       "    <tr>\n",
       "      <th>4</th>\n",
       "      <td>Several databases were screened for bioactive...</td>\n",
       "      <td>Tenamfetamine | glutathione</td>\n",
       "      <td>normalize.therapy.ncit:C80152 | normalize.ther...</td>\n",
       "    </tr>\n",
       "    <tr>\n",
       "      <th>...</th>\n",
       "      <td>...</td>\n",
       "      <td>...</td>\n",
       "      <td>...</td>\n",
       "    </tr>\n",
       "    <tr>\n",
       "      <th>15320</th>\n",
       "      <td>β-thalassemias are common hemoglobinopathies d...</td>\n",
       "      <td>oxygen</td>\n",
       "      <td>normalize.therapy.rxcui:7806</td>\n",
       "    </tr>\n",
       "    <tr>\n",
       "      <th>15321</th>\n",
       "      <td>δ-Tocotrienol is a naturally occurring proteas...</td>\n",
       "      <td>CERAMIDE</td>\n",
       "      <td>normalize.therapy.chembl:CHEMBL155886</td>\n",
       "    </tr>\n",
       "    <tr>\n",
       "      <th>15322</th>\n",
       "      <td>The malondialdehyde (MDA) level and TA count ...</td>\n",
       "      <td>malondialdehyde | Tenamfetamine | tantalum</td>\n",
       "      <td>normalize.therapy.rxcui:1657018 | normalize.th...</td>\n",
       "    </tr>\n",
       "    <tr>\n",
       "      <th>15323</th>\n",
       "      <td>• To investigate the role that oxidative stres...</td>\n",
       "      <td>streptozocin | glutathione | oxygen</td>\n",
       "      <td>normalize.therapy.rxcui:10114 | normalize.ther...</td>\n",
       "    </tr>\n",
       "    <tr>\n",
       "      <th>15324</th>\n",
       "      <td>OBJECTIVE: The study evaluated the effects o...</td>\n",
       "      <td>anhydrous dextrose | fructose | sucrose | glyc...</td>\n",
       "      <td>normalize.therapy.rxcui:349730 | normalize.the...</td>\n",
       "    </tr>\n",
       "  </tbody>\n",
       "</table>\n",
       "<p>15325 rows × 3 columns</p>\n",
       "</div>"
      ],
      "text/plain": [
       "                                           original_text  \\\n",
       "0       ADLE was administered to high-fat diet treate...   \n",
       "1       GOT1-bearing BALB/c nude mice were treated wi...   \n",
       "2       In this study, we have investigated the cytot...   \n",
       "3       PNS were identified from the Traditional Chin...   \n",
       "4       Several databases were screened for bioactive...   \n",
       "...                                                  ...   \n",
       "15320  β-thalassemias are common hemoglobinopathies d...   \n",
       "15321  δ-Tocotrienol is a naturally occurring proteas...   \n",
       "15322   The malondialdehyde (MDA) level and TA count ...   \n",
       "15323  • To investigate the role that oxidative stres...   \n",
       "15324  　　OBJECTIVE: The study evaluated the effects o...   \n",
       "\n",
       "                                             DRUG_LABELS  \\\n",
       "0      nitric oxide | palmitate | oxygen | nitrite io...   \n",
       "1                                              sonidegib   \n",
       "2         lactate | ACRIDINE ORANGE | PROPIDIUM | oxygen   \n",
       "3      glutathione | malondialdehyde | ESTROGENS, CON...   \n",
       "4                            Tenamfetamine | glutathione   \n",
       "...                                                  ...   \n",
       "15320                                             oxygen   \n",
       "15321                                           CERAMIDE   \n",
       "15322         malondialdehyde | Tenamfetamine | tantalum   \n",
       "15323                streptozocin | glutathione | oxygen   \n",
       "15324  anhydrous dextrose | fructose | sucrose | glyc...   \n",
       "\n",
       "                                                DRUG_IDS  \n",
       "0      normalize.therapy.rxcui:7442 | normalize.thera...  \n",
       "1                        normalize.therapy.rxcui:1659191  \n",
       "2      normalize.therapy.rxcui:114202 | normalize.the...  \n",
       "3      normalize.therapy.rxcui:4890 | normalize.thera...  \n",
       "4      normalize.therapy.ncit:C80152 | normalize.ther...  \n",
       "...                                                  ...  \n",
       "15320                       normalize.therapy.rxcui:7806  \n",
       "15321              normalize.therapy.chembl:CHEMBL155886  \n",
       "15322  normalize.therapy.rxcui:1657018 | normalize.th...  \n",
       "15323  normalize.therapy.rxcui:10114 | normalize.ther...  \n",
       "15324  normalize.therapy.rxcui:349730 | normalize.the...  \n",
       "\n",
       "[15325 rows x 3 columns]"
      ]
     },
     "execution_count": 31,
     "metadata": {},
     "output_type": "execute_result"
    }
   ],
   "source": [
    "tdf = results[(results['concept_match_type']!=0) & (results['concept_match_type'].isna()==False)].reset_index(drop=True)\n",
    "\n",
    "condensed_results = tdf.groupby('original_text').apply(\n",
    "    lambda group: pd.Series({\n",
    "        'DRUG_LABELS': ' | '.join(group.loc[group['entity_group'] == 'CHEMICAL', 'concept_label'].dropna().astype(str).unique()),\n",
    "        'DRUG_IDS': ' | '.join(group.loc[group['entity_group'] == 'CHEMICAL', 'concept_id'].dropna().astype(str).unique())\n",
    "    })\n",
    ").reset_index()\n",
    "\n",
    "condensed_results"
   ]
  },
  {
   "cell_type": "code",
   "execution_count": 43,
   "metadata": {},
   "outputs": [
    {
     "data": {
      "text/html": [
       "<div>\n",
       "<style scoped>\n",
       "    .dataframe tbody tr th:only-of-type {\n",
       "        vertical-align: middle;\n",
       "    }\n",
       "\n",
       "    .dataframe tbody tr th {\n",
       "        vertical-align: top;\n",
       "    }\n",
       "\n",
       "    .dataframe thead th {\n",
       "        text-align: right;\n",
       "    }\n",
       "</style>\n",
       "<table border=\"1\" class=\"dataframe\">\n",
       "  <thead>\n",
       "    <tr style=\"text-align: right;\">\n",
       "      <th></th>\n",
       "      <th>Title</th>\n",
       "      <th>Abstract</th>\n",
       "      <th>original_text</th>\n",
       "      <th>DRUG_LABELS</th>\n",
       "      <th>DRUG_IDS</th>\n",
       "    </tr>\n",
       "  </thead>\n",
       "  <tbody>\n",
       "    <tr>\n",
       "      <th>0</th>\n",
       "      <td>40393040</td>\n",
       "      <td>Primary cutaneous diffuse large B cell lymphom...</td>\n",
       "      <td>Primary cutaneous diffuse large B cell lymphom...</td>\n",
       "      <td>cyclophosphamide anhydrous | doxorubicin hydro...</td>\n",
       "      <td>normalize.therapy.rxcui:1545988 | normalize.th...</td>\n",
       "    </tr>\n",
       "    <tr>\n",
       "      <th>1</th>\n",
       "      <td>40619042</td>\n",
       "      <td>Primary ovarian insufficiency (POI), which aff...</td>\n",
       "      <td>Primary ovarian insufficiency (POI), which aff...</td>\n",
       "      <td>estradiol valerate | progesterone | Luteolin |...</td>\n",
       "      <td>normalize.therapy.rxcui:24395 | normalize.ther...</td>\n",
       "    </tr>\n",
       "    <tr>\n",
       "      <th>2</th>\n",
       "      <td>40444042</td>\n",
       "      <td>This investigation sought to explore the inhib...</td>\n",
       "      <td>This investigation sought to explore the inhib...</td>\n",
       "      <td>wogonin | bromocriptine</td>\n",
       "      <td>normalize.therapy.rxcui:2001619 | normalize.th...</td>\n",
       "    </tr>\n",
       "    <tr>\n",
       "      <th>3</th>\n",
       "      <td>40447053</td>\n",
       "      <td>The fate of granulosa cells determines ovarian...</td>\n",
       "      <td>The fate of granulosa cells determines ovarian...</td>\n",
       "      <td>acetate | propionate | butyric acid</td>\n",
       "      <td>normalize.therapy.rxcui:164 | normalize.therap...</td>\n",
       "    </tr>\n",
       "    <tr>\n",
       "      <th>4</th>\n",
       "      <td>40512124</td>\n",
       "      <td>BCL-2 is an anti-apoptotic protein expressed b...</td>\n",
       "      <td>BCL-2 is an anti-apoptotic protein expressed b...</td>\n",
       "      <td>venetoclax</td>\n",
       "      <td>normalize.therapy.rxcui:1747556</td>\n",
       "    </tr>\n",
       "    <tr>\n",
       "      <th>...</th>\n",
       "      <td>...</td>\n",
       "      <td>...</td>\n",
       "      <td>...</td>\n",
       "      <td>...</td>\n",
       "      <td>...</td>\n",
       "    </tr>\n",
       "    <tr>\n",
       "      <th>15399</th>\n",
       "      <td>36042999</td>\n",
       "      <td>Background The Oncotype DX Recurrence Score (O...</td>\n",
       "      <td>Background The Oncotype DX Recurrence Score (O...</td>\n",
       "      <td>ESTROGENS, CONJUGATED</td>\n",
       "      <td>normalize.therapy.chembl:CHEMBL1201649</td>\n",
       "    </tr>\n",
       "    <tr>\n",
       "      <th>15400</th>\n",
       "      <td>38580999</td>\n",
       "      <td>Smilax china L. (SCL) is a traditional herbal ...</td>\n",
       "      <td>Smilax china L. (SCL) is a traditional herbal ...</td>\n",
       "      <td>ASTILBIN</td>\n",
       "      <td>normalize.therapy.chembl:CHEMBL486017</td>\n",
       "    </tr>\n",
       "    <tr>\n",
       "      <th>15401</th>\n",
       "      <td>34376999</td>\n",
       "      <td>Glioblastoma multiforme (GBM) is the primary a...</td>\n",
       "      <td>Glioblastoma multiforme (GBM) is the primary a...</td>\n",
       "      <td>curcumin | BISDEMETHOXYCURCUMIN | DEMETHOXYCUR...</td>\n",
       "      <td>normalize.therapy.rxcui:2955 | normalize.thera...</td>\n",
       "    </tr>\n",
       "    <tr>\n",
       "      <th>15402</th>\n",
       "      <td>30515999</td>\n",
       "      <td>Lung squamous cell carcinoma (SCC) accounts fo...</td>\n",
       "      <td>Lung squamous cell carcinoma (SCC) accounts fo...</td>\n",
       "      <td>honokiol</td>\n",
       "      <td>normalize.therapy.rxcui:2562546</td>\n",
       "    </tr>\n",
       "    <tr>\n",
       "      <th>15403</th>\n",
       "      <td>22431999</td>\n",
       "      <td>Several studies demonstrated that treatment wi...</td>\n",
       "      <td>Several studies demonstrated that treatment wi...</td>\n",
       "      <td>cisplatin | creatinine</td>\n",
       "      <td>normalize.therapy.rxcui:2555 | normalize.thera...</td>\n",
       "    </tr>\n",
       "  </tbody>\n",
       "</table>\n",
       "<p>15404 rows × 5 columns</p>\n",
       "</div>"
      ],
      "text/plain": [
       "          Title                                           Abstract  \\\n",
       "0      40393040  Primary cutaneous diffuse large B cell lymphom...   \n",
       "1      40619042  Primary ovarian insufficiency (POI), which aff...   \n",
       "2      40444042  This investigation sought to explore the inhib...   \n",
       "3      40447053  The fate of granulosa cells determines ovarian...   \n",
       "4      40512124  BCL-2 is an anti-apoptotic protein expressed b...   \n",
       "...         ...                                                ...   \n",
       "15399  36042999  Background The Oncotype DX Recurrence Score (O...   \n",
       "15400  38580999  Smilax china L. (SCL) is a traditional herbal ...   \n",
       "15401  34376999  Glioblastoma multiforme (GBM) is the primary a...   \n",
       "15402  30515999  Lung squamous cell carcinoma (SCC) accounts fo...   \n",
       "15403  22431999  Several studies demonstrated that treatment wi...   \n",
       "\n",
       "                                           original_text  \\\n",
       "0      Primary cutaneous diffuse large B cell lymphom...   \n",
       "1      Primary ovarian insufficiency (POI), which aff...   \n",
       "2      This investigation sought to explore the inhib...   \n",
       "3      The fate of granulosa cells determines ovarian...   \n",
       "4      BCL-2 is an anti-apoptotic protein expressed b...   \n",
       "...                                                  ...   \n",
       "15399  Background The Oncotype DX Recurrence Score (O...   \n",
       "15400  Smilax china L. (SCL) is a traditional herbal ...   \n",
       "15401  Glioblastoma multiforme (GBM) is the primary a...   \n",
       "15402  Lung squamous cell carcinoma (SCC) accounts fo...   \n",
       "15403  Several studies demonstrated that treatment wi...   \n",
       "\n",
       "                                             DRUG_LABELS  \\\n",
       "0      cyclophosphamide anhydrous | doxorubicin hydro...   \n",
       "1      estradiol valerate | progesterone | Luteolin |...   \n",
       "2                                wogonin | bromocriptine   \n",
       "3                    acetate | propionate | butyric acid   \n",
       "4                                             venetoclax   \n",
       "...                                                  ...   \n",
       "15399                              ESTROGENS, CONJUGATED   \n",
       "15400                                           ASTILBIN   \n",
       "15401  curcumin | BISDEMETHOXYCURCUMIN | DEMETHOXYCUR...   \n",
       "15402                                           honokiol   \n",
       "15403                             cisplatin | creatinine   \n",
       "\n",
       "                                                DRUG_IDS  \n",
       "0      normalize.therapy.rxcui:1545988 | normalize.th...  \n",
       "1      normalize.therapy.rxcui:24395 | normalize.ther...  \n",
       "2      normalize.therapy.rxcui:2001619 | normalize.th...  \n",
       "3      normalize.therapy.rxcui:164 | normalize.therap...  \n",
       "4                        normalize.therapy.rxcui:1747556  \n",
       "...                                                  ...  \n",
       "15399             normalize.therapy.chembl:CHEMBL1201649  \n",
       "15400              normalize.therapy.chembl:CHEMBL486017  \n",
       "15401  normalize.therapy.rxcui:2955 | normalize.thera...  \n",
       "15402                    normalize.therapy.rxcui:2562546  \n",
       "15403  normalize.therapy.rxcui:2555 | normalize.thera...  \n",
       "\n",
       "[15404 rows x 5 columns]"
      ]
     },
     "execution_count": 43,
     "metadata": {},
     "output_type": "execute_result"
    }
   ],
   "source": [
    "merged_df = pd.merge(\n",
    "    abstracts,\n",
    "    condensed_results,\n",
    "    left_on='Abstract',\n",
    "    right_on='original_text',\n",
    "    how='left'\n",
    ")\n",
    "merged_df = merged_df[merged_df['DRUG_LABELS'].isnull()==False].reset_index(drop=True)\n",
    "merged_df"
   ]
  },
  {
   "cell_type": "markdown",
   "metadata": {},
   "source": [
    "### Generate Score"
   ]
  },
  {
   "cell_type": "code",
   "execution_count": 44,
   "metadata": {},
   "outputs": [
    {
     "data": {
      "text/html": [
       "<div>\n",
       "<style scoped>\n",
       "    .dataframe tbody tr th:only-of-type {\n",
       "        vertical-align: middle;\n",
       "    }\n",
       "\n",
       "    .dataframe tbody tr th {\n",
       "        vertical-align: top;\n",
       "    }\n",
       "\n",
       "    .dataframe thead th {\n",
       "        text-align: right;\n",
       "    }\n",
       "</style>\n",
       "<table border=\"1\" class=\"dataframe\">\n",
       "  <thead>\n",
       "    <tr style=\"text-align: right;\">\n",
       "      <th></th>\n",
       "      <th>nomenclature</th>\n",
       "      <th>Gene</th>\n",
       "      <th>long_name</th>\n",
       "      <th>gene_concept_id</th>\n",
       "      <th>interaction_score</th>\n",
       "      <th>drug_specificity</th>\n",
       "      <th>gene_specificity</th>\n",
       "      <th>evidence_score</th>\n",
       "      <th>source_db_name</th>\n",
       "      <th>source_db_version</th>\n",
       "      <th>...</th>\n",
       "      <th>directionality</th>\n",
       "      <th>definition</th>\n",
       "      <th>reference</th>\n",
       "      <th>drug_name</th>\n",
       "      <th>nomenclature-2</th>\n",
       "      <th>Drug</th>\n",
       "      <th>approved</th>\n",
       "      <th>immunotherapy</th>\n",
       "      <th>anti_neoplastic</th>\n",
       "      <th>drug_concept_id</th>\n",
       "    </tr>\n",
       "  </thead>\n",
       "  <tbody>\n",
       "    <tr>\n",
       "      <th>0</th>\n",
       "      <td>Gene Symbol</td>\n",
       "      <td>BCL2</td>\n",
       "      <td>BCL2 apoptosis regulator</td>\n",
       "      <td>hgnc:990</td>\n",
       "      <td>2.284732</td>\n",
       "      <td>4.141413</td>\n",
       "      <td>0.183893</td>\n",
       "      <td>3.0</td>\n",
       "      <td>TALC</td>\n",
       "      <td>12-May-16</td>\n",
       "      <td>...</td>\n",
       "      <td>1.0</td>\n",
       "      <td>In inhibitor interactions, the drug binds to a...</td>\n",
       "      <td>&lt;a href=\"https://en.wikipedia.org/wiki/Enzyme_...</td>\n",
       "      <td>OBLIMERSEN</td>\n",
       "      <td>Primary Name</td>\n",
       "      <td>OBLIMERSEN</td>\n",
       "      <td>False</td>\n",
       "      <td>False</td>\n",
       "      <td>True</td>\n",
       "      <td>ncit:C1870</td>\n",
       "    </tr>\n",
       "    <tr>\n",
       "      <th>3</th>\n",
       "      <td>Gene Name</td>\n",
       "      <td>BCL2</td>\n",
       "      <td>BCL2 apoptosis regulator</td>\n",
       "      <td>hgnc:990</td>\n",
       "      <td>1.523154</td>\n",
       "      <td>4.141413</td>\n",
       "      <td>0.183893</td>\n",
       "      <td>2.0</td>\n",
       "      <td>NCI</td>\n",
       "      <td>14-Sep-17</td>\n",
       "      <td>...</td>\n",
       "      <td>NaN</td>\n",
       "      <td>NaN</td>\n",
       "      <td>NaN</td>\n",
       "      <td>DOLASTATIN 10</td>\n",
       "      <td>Primary Name</td>\n",
       "      <td>DOLASTATIN 10</td>\n",
       "      <td>False</td>\n",
       "      <td>False</td>\n",
       "      <td>False</td>\n",
       "      <td>ncit:C1300</td>\n",
       "    </tr>\n",
       "    <tr>\n",
       "      <th>4</th>\n",
       "      <td>Gene Name</td>\n",
       "      <td>BCL2</td>\n",
       "      <td>BCL2 apoptosis regulator</td>\n",
       "      <td>hgnc:990</td>\n",
       "      <td>1.523154</td>\n",
       "      <td>4.141413</td>\n",
       "      <td>0.183893</td>\n",
       "      <td>2.0</td>\n",
       "      <td>NCI</td>\n",
       "      <td>14-Sep-17</td>\n",
       "      <td>...</td>\n",
       "      <td>NaN</td>\n",
       "      <td>NaN</td>\n",
       "      <td>NaN</td>\n",
       "      <td>EPISIALIN</td>\n",
       "      <td>Primary Name</td>\n",
       "      <td>MUC-1 ANTIGEN</td>\n",
       "      <td>False</td>\n",
       "      <td>False</td>\n",
       "      <td>False</td>\n",
       "      <td>ncit:C2407</td>\n",
       "    </tr>\n",
       "    <tr>\n",
       "      <th>5</th>\n",
       "      <td>Gene Name</td>\n",
       "      <td>BCL2</td>\n",
       "      <td>BCL2 apoptosis regulator</td>\n",
       "      <td>hgnc:990</td>\n",
       "      <td>1.523154</td>\n",
       "      <td>4.141413</td>\n",
       "      <td>0.183893</td>\n",
       "      <td>2.0</td>\n",
       "      <td>NCI</td>\n",
       "      <td>14-Sep-17</td>\n",
       "      <td>...</td>\n",
       "      <td>NaN</td>\n",
       "      <td>NaN</td>\n",
       "      <td>NaN</td>\n",
       "      <td>MICELLAR PACLITAXEL</td>\n",
       "      <td>Primary Name</td>\n",
       "      <td>MICELLAR PACLITAXEL</td>\n",
       "      <td>False</td>\n",
       "      <td>False</td>\n",
       "      <td>False</td>\n",
       "      <td>ncit:C29256</td>\n",
       "    </tr>\n",
       "    <tr>\n",
       "      <th>6</th>\n",
       "      <td>Gene Name</td>\n",
       "      <td>BCL2</td>\n",
       "      <td>BCL2 apoptosis regulator</td>\n",
       "      <td>hgnc:990</td>\n",
       "      <td>1.523154</td>\n",
       "      <td>4.141413</td>\n",
       "      <td>0.183893</td>\n",
       "      <td>2.0</td>\n",
       "      <td>NCI</td>\n",
       "      <td>14-Sep-17</td>\n",
       "      <td>...</td>\n",
       "      <td>NaN</td>\n",
       "      <td>NaN</td>\n",
       "      <td>NaN</td>\n",
       "      <td>BEAUVERICIN</td>\n",
       "      <td>Primary Name</td>\n",
       "      <td>BEAUVERICIN</td>\n",
       "      <td>False</td>\n",
       "      <td>False</td>\n",
       "      <td>False</td>\n",
       "      <td>ncit:C1011</td>\n",
       "    </tr>\n",
       "  </tbody>\n",
       "</table>\n",
       "<p>5 rows × 31 columns</p>\n",
       "</div>"
      ],
      "text/plain": [
       "  nomenclature  Gene                 long_name gene_concept_id  \\\n",
       "0  Gene Symbol  BCL2  BCL2 apoptosis regulator        hgnc:990   \n",
       "3    Gene Name  BCL2  BCL2 apoptosis regulator        hgnc:990   \n",
       "4    Gene Name  BCL2  BCL2 apoptosis regulator        hgnc:990   \n",
       "5    Gene Name  BCL2  BCL2 apoptosis regulator        hgnc:990   \n",
       "6    Gene Name  BCL2  BCL2 apoptosis regulator        hgnc:990   \n",
       "\n",
       "   interaction_score  drug_specificity  gene_specificity  evidence_score  \\\n",
       "0           2.284732          4.141413          0.183893             3.0   \n",
       "3           1.523154          4.141413          0.183893             2.0   \n",
       "4           1.523154          4.141413          0.183893             2.0   \n",
       "5           1.523154          4.141413          0.183893             2.0   \n",
       "6           1.523154          4.141413          0.183893             2.0   \n",
       "\n",
       "  source_db_name source_db_version  ... directionality  \\\n",
       "0           TALC         12-May-16  ...            1.0   \n",
       "3            NCI         14-Sep-17  ...            NaN   \n",
       "4            NCI         14-Sep-17  ...            NaN   \n",
       "5            NCI         14-Sep-17  ...            NaN   \n",
       "6            NCI         14-Sep-17  ...            NaN   \n",
       "\n",
       "                                          definition  \\\n",
       "0  In inhibitor interactions, the drug binds to a...   \n",
       "3                                                NaN   \n",
       "4                                                NaN   \n",
       "5                                                NaN   \n",
       "6                                                NaN   \n",
       "\n",
       "                                           reference            drug_name  \\\n",
       "0  <a href=\"https://en.wikipedia.org/wiki/Enzyme_...           OBLIMERSEN   \n",
       "3                                                NaN        DOLASTATIN 10   \n",
       "4                                                NaN            EPISIALIN   \n",
       "5                                                NaN  MICELLAR PACLITAXEL   \n",
       "6                                                NaN          BEAUVERICIN   \n",
       "\n",
       "  nomenclature-2                 Drug approved  immunotherapy anti_neoplastic  \\\n",
       "0   Primary Name           OBLIMERSEN    False          False            True   \n",
       "3   Primary Name        DOLASTATIN 10    False          False           False   \n",
       "4   Primary Name        MUC-1 ANTIGEN    False          False           False   \n",
       "5   Primary Name  MICELLAR PACLITAXEL    False          False           False   \n",
       "6   Primary Name          BEAUVERICIN    False          False           False   \n",
       "\n",
       "  drug_concept_id  \n",
       "0      ncit:C1870  \n",
       "3      ncit:C1300  \n",
       "4      ncit:C2407  \n",
       "5     ncit:C29256  \n",
       "6      ncit:C1011  \n",
       "\n",
       "[5 rows x 31 columns]"
      ]
     },
     "execution_count": 44,
     "metadata": {},
     "output_type": "execute_result"
    }
   ],
   "source": [
    "dgidb_df = pd.read_csv('search/2025-08-13_BCL2_clin_score.csv')\n",
    "dgidb_df = dgidb_df.drop_duplicates(subset=['Drug','Gene'], keep='first')\n",
    "dgidb_df.head()"
   ]
  },
  {
   "cell_type": "code",
   "execution_count": 74,
   "metadata": {},
   "outputs": [
    {
     "name": "stderr",
     "output_type": "stream",
     "text": [
      "                                     \r"
     ]
    },
    {
     "name": "stdout",
     "output_type": "stream",
     "text": [
      "Results saved to 2025-08-19_BCL2.zip!\n"
     ]
    }
   ],
   "source": [
    "import importlib\n",
    "importlib.reload(indicator)\n",
    "\n",
    "indicator.generate_interaction_evidence(merged_df, dgidb_df)"
   ]
  }
 ],
 "metadata": {
  "kernelspec": {
   "display_name": "3.13.2",
   "language": "python",
   "name": "python3"
  },
  "language_info": {
   "codemirror_mode": {
    "name": "ipython",
    "version": 3
   },
   "file_extension": ".py",
   "mimetype": "text/x-python",
   "name": "python",
   "nbconvert_exporter": "python",
   "pygments_lexer": "ipython3",
   "version": "3.13.2"
  }
 },
 "nbformat": 4,
 "nbformat_minor": 2
}
