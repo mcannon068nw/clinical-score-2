{
 "cells": [
  {
   "cell_type": "code",
   "execution_count": 39,
   "metadata": {},
   "outputs": [],
   "source": [
    "import sys\n",
    "import os\n",
    "import pandas as pd\n",
    "from tqdm import tqdm\n",
    "\n",
    "# Add the parent directory of this notebook to the Python path\n",
    "sys.path.append(os.path.abspath('..'))\n",
    "\n",
    "import search_set\n",
    "import indicator\n",
    "import literature\n"
   ]
  },
  {
   "cell_type": "markdown",
   "metadata": {},
   "source": [
    "## Example Code for Generating Literature Indicators\n",
    "Example notebook showing how to use this clinical score package to generate literature indicators for genes and drugs present in DGIdb data. This notebook demonstrates three of the four search strategies: *Raw String*, *NCBI GeneID*, *PubTator3*"
   ]
  },
  {
   "cell_type": "markdown",
   "metadata": {},
   "source": [
    "### Generate DGIdb Search Set\n",
    "Trim the DGIdb interactions database file to just the set of relevant interactions for a given gene."
   ]
  },
  {
   "cell_type": "code",
   "execution_count": 40,
   "metadata": {},
   "outputs": [
    {
     "name": "stdout",
     "output_type": "stream",
     "text": [
      "Search set saved to search/2025-08-14_BCL2_clin_score.csv\n"
     ]
    }
   ],
   "source": [
    "gene = 'BCL2'\n",
    "search_set.generate_search_set(gene)"
   ]
  },
  {
   "cell_type": "markdown",
   "metadata": {},
   "source": [
    "### Grab PMIDs, Fetch Abstracts\n",
    "Use a desired search method to obtain a list of relevant PubMed IDs to retrieve abstracts for downstream indicator analysis.  \n",
    "  \n",
    "Currently defined search methods are: *Raw String*, *NCBI GeneID*, *PubTator3*, *PubTator3+Drug*  \n",
    "  \n",
    "After PMIDs are identified, fetch all the abstracts."
   ]
  },
  {
   "cell_type": "code",
   "execution_count": 45,
   "metadata": {},
   "outputs": [
    {
     "name": "stderr",
     "output_type": "stream",
     "text": [
      "/Users/mjc014/Documents/repo/git/clinical-score-2/literature.py:110: DtypeWarning: Columns (2,3) have mixed types. Specify dtype option on import or set low_memory=False.\n",
      "  gene_reference = pd.read_csv('data/pubtator/gene2pubtator3', sep='\\t', header=None)\n"
     ]
    },
    {
     "name": "stdout",
     "output_type": "stream",
     "text": [
      "Gene Pubtator3 set loaded!\n",
      "49965 PMIDs found!\n",
      "Fetching...\n"
     ]
    },
    {
     "name": "stderr",
     "output_type": "stream",
     "text": [
      "100%|██████████| 250/250 [08:42<00:00,  2.09s/it]\n"
     ]
    }
   ],
   "source": [
    "import importlib\n",
    "importlib.reload(literature)\n",
    "pmids = literature.fetch_pmids_by_pubtator3(gene)\n",
    "abstracts = literature.fetch_abstracts(pmids)"
   ]
  },
  {
   "cell_type": "code",
   "execution_count": 46,
   "metadata": {},
   "outputs": [
    {
     "data": {
      "text/plain": [
       "39528"
      ]
     },
     "execution_count": 46,
     "metadata": {},
     "output_type": "execute_result"
    }
   ],
   "source": [
    "len(abstracts)"
   ]
  },
  {
   "cell_type": "markdown",
   "metadata": {},
   "source": [
    "### Generate Scores\n",
    "Use retrieved abstracts to determine the literature indicators for each gene, drug interaction pair\n"
   ]
  },
  {
   "cell_type": "code",
   "execution_count": 47,
   "metadata": {},
   "outputs": [
    {
     "data": {
      "text/html": [
       "<div>\n",
       "<style scoped>\n",
       "    .dataframe tbody tr th:only-of-type {\n",
       "        vertical-align: middle;\n",
       "    }\n",
       "\n",
       "    .dataframe tbody tr th {\n",
       "        vertical-align: top;\n",
       "    }\n",
       "\n",
       "    .dataframe thead th {\n",
       "        text-align: right;\n",
       "    }\n",
       "</style>\n",
       "<table border=\"1\" class=\"dataframe\">\n",
       "  <thead>\n",
       "    <tr style=\"text-align: right;\">\n",
       "      <th></th>\n",
       "      <th>nomenclature</th>\n",
       "      <th>Gene</th>\n",
       "      <th>long_name</th>\n",
       "      <th>gene_concept_id</th>\n",
       "      <th>interaction_score</th>\n",
       "      <th>drug_specificity</th>\n",
       "      <th>gene_specificity</th>\n",
       "      <th>evidence_score</th>\n",
       "      <th>source_db_name</th>\n",
       "      <th>source_db_version</th>\n",
       "      <th>...</th>\n",
       "      <th>directionality</th>\n",
       "      <th>definition</th>\n",
       "      <th>reference</th>\n",
       "      <th>drug_name</th>\n",
       "      <th>nomenclature-2</th>\n",
       "      <th>Drug</th>\n",
       "      <th>approved</th>\n",
       "      <th>immunotherapy</th>\n",
       "      <th>anti_neoplastic</th>\n",
       "      <th>drug_concept_id</th>\n",
       "    </tr>\n",
       "  </thead>\n",
       "  <tbody>\n",
       "    <tr>\n",
       "      <th>0</th>\n",
       "      <td>Gene Symbol</td>\n",
       "      <td>BCL2</td>\n",
       "      <td>BCL2 apoptosis regulator</td>\n",
       "      <td>hgnc:990</td>\n",
       "      <td>2.284732</td>\n",
       "      <td>4.141413</td>\n",
       "      <td>0.183893</td>\n",
       "      <td>3.0</td>\n",
       "      <td>TALC</td>\n",
       "      <td>12-May-16</td>\n",
       "      <td>...</td>\n",
       "      <td>1.0</td>\n",
       "      <td>In inhibitor interactions, the drug binds to a...</td>\n",
       "      <td>&lt;a href=\"https://en.wikipedia.org/wiki/Enzyme_...</td>\n",
       "      <td>OBLIMERSEN</td>\n",
       "      <td>Primary Name</td>\n",
       "      <td>OBLIMERSEN</td>\n",
       "      <td>False</td>\n",
       "      <td>False</td>\n",
       "      <td>True</td>\n",
       "      <td>ncit:C1870</td>\n",
       "    </tr>\n",
       "    <tr>\n",
       "      <th>3</th>\n",
       "      <td>Gene Name</td>\n",
       "      <td>BCL2</td>\n",
       "      <td>BCL2 apoptosis regulator</td>\n",
       "      <td>hgnc:990</td>\n",
       "      <td>1.523154</td>\n",
       "      <td>4.141413</td>\n",
       "      <td>0.183893</td>\n",
       "      <td>2.0</td>\n",
       "      <td>NCI</td>\n",
       "      <td>14-Sep-17</td>\n",
       "      <td>...</td>\n",
       "      <td>NaN</td>\n",
       "      <td>NaN</td>\n",
       "      <td>NaN</td>\n",
       "      <td>DOLASTATIN 10</td>\n",
       "      <td>Primary Name</td>\n",
       "      <td>DOLASTATIN 10</td>\n",
       "      <td>False</td>\n",
       "      <td>False</td>\n",
       "      <td>False</td>\n",
       "      <td>ncit:C1300</td>\n",
       "    </tr>\n",
       "    <tr>\n",
       "      <th>4</th>\n",
       "      <td>Gene Name</td>\n",
       "      <td>BCL2</td>\n",
       "      <td>BCL2 apoptosis regulator</td>\n",
       "      <td>hgnc:990</td>\n",
       "      <td>1.523154</td>\n",
       "      <td>4.141413</td>\n",
       "      <td>0.183893</td>\n",
       "      <td>2.0</td>\n",
       "      <td>NCI</td>\n",
       "      <td>14-Sep-17</td>\n",
       "      <td>...</td>\n",
       "      <td>NaN</td>\n",
       "      <td>NaN</td>\n",
       "      <td>NaN</td>\n",
       "      <td>EPISIALIN</td>\n",
       "      <td>Primary Name</td>\n",
       "      <td>MUC-1 ANTIGEN</td>\n",
       "      <td>False</td>\n",
       "      <td>False</td>\n",
       "      <td>False</td>\n",
       "      <td>ncit:C2407</td>\n",
       "    </tr>\n",
       "    <tr>\n",
       "      <th>5</th>\n",
       "      <td>Gene Name</td>\n",
       "      <td>BCL2</td>\n",
       "      <td>BCL2 apoptosis regulator</td>\n",
       "      <td>hgnc:990</td>\n",
       "      <td>1.523154</td>\n",
       "      <td>4.141413</td>\n",
       "      <td>0.183893</td>\n",
       "      <td>2.0</td>\n",
       "      <td>NCI</td>\n",
       "      <td>14-Sep-17</td>\n",
       "      <td>...</td>\n",
       "      <td>NaN</td>\n",
       "      <td>NaN</td>\n",
       "      <td>NaN</td>\n",
       "      <td>MICELLAR PACLITAXEL</td>\n",
       "      <td>Primary Name</td>\n",
       "      <td>MICELLAR PACLITAXEL</td>\n",
       "      <td>False</td>\n",
       "      <td>False</td>\n",
       "      <td>False</td>\n",
       "      <td>ncit:C29256</td>\n",
       "    </tr>\n",
       "    <tr>\n",
       "      <th>6</th>\n",
       "      <td>Gene Name</td>\n",
       "      <td>BCL2</td>\n",
       "      <td>BCL2 apoptosis regulator</td>\n",
       "      <td>hgnc:990</td>\n",
       "      <td>1.523154</td>\n",
       "      <td>4.141413</td>\n",
       "      <td>0.183893</td>\n",
       "      <td>2.0</td>\n",
       "      <td>NCI</td>\n",
       "      <td>14-Sep-17</td>\n",
       "      <td>...</td>\n",
       "      <td>NaN</td>\n",
       "      <td>NaN</td>\n",
       "      <td>NaN</td>\n",
       "      <td>BEAUVERICIN</td>\n",
       "      <td>Primary Name</td>\n",
       "      <td>BEAUVERICIN</td>\n",
       "      <td>False</td>\n",
       "      <td>False</td>\n",
       "      <td>False</td>\n",
       "      <td>ncit:C1011</td>\n",
       "    </tr>\n",
       "  </tbody>\n",
       "</table>\n",
       "<p>5 rows × 31 columns</p>\n",
       "</div>"
      ],
      "text/plain": [
       "  nomenclature  Gene                 long_name gene_concept_id  \\\n",
       "0  Gene Symbol  BCL2  BCL2 apoptosis regulator        hgnc:990   \n",
       "3    Gene Name  BCL2  BCL2 apoptosis regulator        hgnc:990   \n",
       "4    Gene Name  BCL2  BCL2 apoptosis regulator        hgnc:990   \n",
       "5    Gene Name  BCL2  BCL2 apoptosis regulator        hgnc:990   \n",
       "6    Gene Name  BCL2  BCL2 apoptosis regulator        hgnc:990   \n",
       "\n",
       "   interaction_score  drug_specificity  gene_specificity  evidence_score  \\\n",
       "0           2.284732          4.141413          0.183893             3.0   \n",
       "3           1.523154          4.141413          0.183893             2.0   \n",
       "4           1.523154          4.141413          0.183893             2.0   \n",
       "5           1.523154          4.141413          0.183893             2.0   \n",
       "6           1.523154          4.141413          0.183893             2.0   \n",
       "\n",
       "  source_db_name source_db_version  ... directionality  \\\n",
       "0           TALC         12-May-16  ...            1.0   \n",
       "3            NCI         14-Sep-17  ...            NaN   \n",
       "4            NCI         14-Sep-17  ...            NaN   \n",
       "5            NCI         14-Sep-17  ...            NaN   \n",
       "6            NCI         14-Sep-17  ...            NaN   \n",
       "\n",
       "                                          definition  \\\n",
       "0  In inhibitor interactions, the drug binds to a...   \n",
       "3                                                NaN   \n",
       "4                                                NaN   \n",
       "5                                                NaN   \n",
       "6                                                NaN   \n",
       "\n",
       "                                           reference            drug_name  \\\n",
       "0  <a href=\"https://en.wikipedia.org/wiki/Enzyme_...           OBLIMERSEN   \n",
       "3                                                NaN        DOLASTATIN 10   \n",
       "4                                                NaN            EPISIALIN   \n",
       "5                                                NaN  MICELLAR PACLITAXEL   \n",
       "6                                                NaN          BEAUVERICIN   \n",
       "\n",
       "  nomenclature-2                 Drug approved  immunotherapy anti_neoplastic  \\\n",
       "0   Primary Name           OBLIMERSEN    False          False            True   \n",
       "3   Primary Name        DOLASTATIN 10    False          False           False   \n",
       "4   Primary Name        MUC-1 ANTIGEN    False          False           False   \n",
       "5   Primary Name  MICELLAR PACLITAXEL    False          False           False   \n",
       "6   Primary Name          BEAUVERICIN    False          False           False   \n",
       "\n",
       "  drug_concept_id  \n",
       "0      ncit:C1870  \n",
       "3      ncit:C1300  \n",
       "4      ncit:C2407  \n",
       "5     ncit:C29256  \n",
       "6      ncit:C1011  \n",
       "\n",
       "[5 rows x 31 columns]"
      ]
     },
     "execution_count": 47,
     "metadata": {},
     "output_type": "execute_result"
    }
   ],
   "source": [
    "dgidb_df = pd.read_csv('search/2025-08-14_BCL2_clin_score.csv')\n",
    "dgidb_df = dgidb_df.drop_duplicates(subset=['Drug','Gene'], keep='first')\n",
    "dgidb_df.head()"
   ]
  },
  {
   "cell_type": "code",
   "execution_count": 48,
   "metadata": {},
   "outputs": [
    {
     "name": "stderr",
     "output_type": "stream",
     "text": [
      "0it [00:25, ?it/s]\n"
     ]
    },
    {
     "ename": "KeyboardInterrupt",
     "evalue": "",
     "output_type": "error",
     "traceback": [
      "\u001b[0;31m---------------------------------------------------------------------------\u001b[0m",
      "\u001b[0;31mKeyboardInterrupt\u001b[0m                         Traceback (most recent call last)",
      "Cell \u001b[0;32mIn[48], line 1\u001b[0m\n\u001b[0;32m----> 1\u001b[0m \u001b[43mindicator\u001b[49m\u001b[38;5;241;43m.\u001b[39;49m\u001b[43mgenerate_indicators\u001b[49m\u001b[43m(\u001b[49m\u001b[43mabstracts\u001b[49m\u001b[43m,\u001b[49m\u001b[43m \u001b[49m\u001b[43mdgidb_df\u001b[49m\u001b[43m)\u001b[49m\n",
      "File \u001b[0;32m~/Documents/repo/git/clinical-score-2/indicator.py:102\u001b[0m, in \u001b[0;36mgenerate_indicators\u001b[0;34m(abstracts, reference_df, start, stop)\u001b[0m\n\u001b[1;32m    100\u001b[0m                 writer \u001b[38;5;241m=\u001b[39m csv\u001b[38;5;241m.\u001b[39mDictWriter(fh, fieldnames\u001b[38;5;241m=\u001b[39m[\u001b[38;5;124m\"\u001b[39m\u001b[38;5;124mpmid\u001b[39m\u001b[38;5;124m\"\u001b[39m, \u001b[38;5;124m\"\u001b[39m\u001b[38;5;124mlabel\u001b[39m\u001b[38;5;124m\"\u001b[39m, \u001b[38;5;124m\"\u001b[39m\u001b[38;5;124mscores\u001b[39m\u001b[38;5;124m\"\u001b[39m])\n\u001b[1;32m    101\u001b[0m                 writer\u001b[38;5;241m.\u001b[39mwriteheader()\n\u001b[0;32m--> 102\u001b[0m                 \u001b[43mwriter\u001b[49m\u001b[38;5;241;43m.\u001b[39;49m\u001b[43mwriterows\u001b[49m\u001b[43m(\u001b[49m\u001b[43mresults\u001b[49m\u001b[43m)\u001b[49m\n\u001b[1;32m    104\u001b[0m archive_path \u001b[38;5;241m=\u001b[39m shutil\u001b[38;5;241m.\u001b[39mmake_archive(base_name\u001b[38;5;241m=\u001b[39mtimestamp_folder, \u001b[38;5;28mformat\u001b[39m\u001b[38;5;241m=\u001b[39m\u001b[38;5;124m\"\u001b[39m\u001b[38;5;124mzip\u001b[39m\u001b[38;5;124m\"\u001b[39m, base_dir\u001b[38;5;241m=\u001b[39m\u001b[38;5;124mf\u001b[39m\u001b[38;5;124m'\u001b[39m\u001b[38;5;132;01m{\u001b[39;00mtimestamp\u001b[38;5;132;01m}\u001b[39;00m\u001b[38;5;124m_\u001b[39m\u001b[38;5;132;01m{\u001b[39;00mgene\u001b[38;5;132;01m}\u001b[39;00m\u001b[38;5;124m'\u001b[39m)\n\u001b[1;32m    105\u001b[0m shutil\u001b[38;5;241m.\u001b[39mrmtree(timestamp_folder)\n",
      "File \u001b[0;32m~/.pyenv/versions/3.13.2/lib/python3.13/csv.py:229\u001b[0m, in \u001b[0;36mDictWriter.writerows\u001b[0;34m(self, rowdicts)\u001b[0m\n\u001b[1;32m    228\u001b[0m \u001b[38;5;28;01mdef\u001b[39;00m\u001b[38;5;250m \u001b[39m\u001b[38;5;21mwriterows\u001b[39m(\u001b[38;5;28mself\u001b[39m, rowdicts):\n\u001b[0;32m--> 229\u001b[0m     \u001b[38;5;28;01mreturn\u001b[39;00m \u001b[38;5;28;43mself\u001b[39;49m\u001b[38;5;241;43m.\u001b[39;49m\u001b[43mwriter\u001b[49m\u001b[38;5;241;43m.\u001b[39;49m\u001b[43mwriterows\u001b[49m\u001b[43m(\u001b[49m\u001b[38;5;28;43mmap\u001b[39;49m\u001b[43m(\u001b[49m\u001b[38;5;28;43mself\u001b[39;49m\u001b[38;5;241;43m.\u001b[39;49m\u001b[43m_dict_to_list\u001b[49m\u001b[43m,\u001b[49m\u001b[43m \u001b[49m\u001b[43mrowdicts\u001b[49m\u001b[43m)\u001b[49m\u001b[43m)\u001b[49m\n",
      "File \u001b[0;32m~/.pyenv/versions/3.13.2/lib/python3.13/csv.py:223\u001b[0m, in \u001b[0;36m<genexpr>\u001b[0;34m(.0)\u001b[0m\n\u001b[1;32m    220\u001b[0m     \u001b[38;5;28;01mif\u001b[39;00m wrong_fields:\n\u001b[1;32m    221\u001b[0m         \u001b[38;5;28;01mraise\u001b[39;00m \u001b[38;5;167;01mValueError\u001b[39;00m(\u001b[38;5;124m\"\u001b[39m\u001b[38;5;124mdict contains fields not in fieldnames: \u001b[39m\u001b[38;5;124m\"\u001b[39m\n\u001b[1;32m    222\u001b[0m                          \u001b[38;5;241m+\u001b[39m \u001b[38;5;124m\"\u001b[39m\u001b[38;5;124m, \u001b[39m\u001b[38;5;124m\"\u001b[39m\u001b[38;5;241m.\u001b[39mjoin([\u001b[38;5;28mrepr\u001b[39m(x) \u001b[38;5;28;01mfor\u001b[39;00m x \u001b[38;5;129;01min\u001b[39;00m wrong_fields]))\n\u001b[0;32m--> 223\u001b[0m \u001b[38;5;28;01mreturn\u001b[39;00m (\u001b[43mrowdict\u001b[49m\u001b[38;5;241;43m.\u001b[39;49m\u001b[43mget\u001b[49m\u001b[43m(\u001b[49m\u001b[43mkey\u001b[49m\u001b[43m,\u001b[49m\u001b[43m \u001b[49m\u001b[38;5;28;43mself\u001b[39;49m\u001b[38;5;241;43m.\u001b[39;49m\u001b[43mrestval\u001b[49m\u001b[43m)\u001b[49m \u001b[38;5;28;01mfor\u001b[39;00m key \u001b[38;5;129;01min\u001b[39;00m \u001b[38;5;28mself\u001b[39m\u001b[38;5;241m.\u001b[39mfieldnames)\n",
      "\u001b[0;31mKeyboardInterrupt\u001b[0m: "
     ]
    }
   ],
   "source": [
    "indicator.generate_indicators(abstracts, dgidb_df)"
   ]
  }
 ],
 "metadata": {
  "kernelspec": {
   "display_name": "3.13.2",
   "language": "python",
   "name": "python3"
  },
  "language_info": {
   "codemirror_mode": {
    "name": "ipython",
    "version": 3
   },
   "file_extension": ".py",
   "mimetype": "text/x-python",
   "name": "python",
   "nbconvert_exporter": "python",
   "pygments_lexer": "ipython3",
   "version": "3.13.2"
  }
 },
 "nbformat": 4,
 "nbformat_minor": 2
}
