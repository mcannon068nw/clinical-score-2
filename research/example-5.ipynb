{
 "cells": [
  {
   "cell_type": "code",
   "execution_count": 1,
   "metadata": {},
   "outputs": [
    {
     "name": "stderr",
     "output_type": "stream",
     "text": [
      "/Users/mjc014/.pyenv/versions/3.13.2/lib/python3.13/site-packages/tqdm/auto.py:21: TqdmWarning: IProgress not found. Please update jupyter and ipywidgets. See https://ipywidgets.readthedocs.io/en/stable/user_install.html\n",
      "  from .autonotebook import tqdm as notebook_tqdm\n",
      "Device set to use mps:0\n",
      "Device set to use mps:0\n",
      "Device set to use mps:0\n"
     ]
    }
   ],
   "source": [
    "import pandas as pd\n",
    "import sys, os\n",
    "import inflect\n",
    "from tqdm import tqdm\n",
    "import requests\n",
    "import ast\n",
    "\n",
    "# Add the parent directory of this notebook to the Python path\n",
    "sys.path.append(os.path.abspath('..'))\n",
    "\n",
    "import score\n",
    "import novel\n",
    "import search_set\n",
    "import indicator\n",
    "import literature\n",
    "\n",
    "\n",
    "# Surpress NLP Mask Warning for Apple Silicon\n",
    "import warnings\n",
    "warnings.filterwarnings(\n",
    "    \"ignore\",\n",
    "    category=FutureWarning,\n",
    "    message=r\".*encoder_attention_mask.*BertSdpaSelfAttention\\.forward\"\n",
    ")"
   ]
  },
  {
   "cell_type": "markdown",
   "metadata": {},
   "source": [
    "## Curate Literature (DGIdb Control)"
   ]
  },
  {
   "cell_type": "code",
   "execution_count": 5,
   "metadata": {},
   "outputs": [
    {
     "name": "stdout",
     "output_type": "stream",
     "text": [
      "13142 PMIDs found!\n",
      "Fetching...\n"
     ]
    },
    {
     "name": "stderr",
     "output_type": "stream",
     "text": [
      "100%|██████████| 66/66 [01:34<00:00,  1.44s/it]\n"
     ]
    },
    {
     "data": {
      "text/plain": [
       "[('38496920',\n",
       "  'Isocitrate dehydrogenase (IDH) is commonly mutated (mIDH) in gliomas, and this mutant enzyme produces the oncometabolite 2-hydroxyglutarate (2HG). 2HG promotes gliomagenesis and is implicated in epileptogenesis. Ivosidenib (IVO), a small molecule oral mIDH1 inhibitor, is FDA-approved for mIDH1 newly diagnosed and relapsed/refractory acute myeloid leukemia. Moreover, IVO has efficacy in clinical trials for recurrent mIDH1 gliomas. Given the lack of targeted treatments for gliomas, we initiated off-label IVO for mIDH glioma patients in October 2020. Retrospectively, we sought to assess early outcomes in our patients and describe their experience on IVO from October 2020 through February 2022. Our objective was to report on the following variables of off-label use of IVO: radiographic response, seizure control, tolerability, and access to the medication. All patients initially received single-agent IVO dosed at 500 mg orally once daily. The cohort age range was 21-74 years. Tumor types included astrocytoma ( Targeted therapies like IVO are options for mIDH glioma patients and can provide positive oncologic and neurological outcomes.'),\n",
       " ('10100098',\n",
       "  'The tissue renin-angiotensin system and extracellular matrix are involved in the cardiovascular hypertrophy and remodeling induced by hypertension. In this study, we examined the gene expression of the tissue renin-angiotensin system and fibronectin in inbred Dahl Iwai salt-sensitive and salt-resistant rats. Eight pairs of 6-week-old male Dahl Iwai salt-sensitive and salt-resistant rats were fed either a low- or high-salt diet (0.3% or 8% NaCl, respectively) for 4 weeks. Activities of the circulating renin-angiotensin system were measured by radioimmunoassay and the gene expression of tissue angiotensinogen, the angiotensin II type 1 receptor (AT1) and fibronectin were analyzed by Northern blot analysis. Salt loading significantly increased blood pressure and produced cardiovascular hypertrophy and nephrosclerosis in the salt-sensitive rats. Activities of the circulating renin-angiotensin system were lower in salt-sensitive rats than in salt-resistant rats fed the low-salt diet, and salt loading lowered these activities in salt-resistant rats but not in salt-sensitive rats. In salt-resistant rats, salt loading increased renal, cardiac and aortic angiotensinogen, AT1 and fibronectin messenger (m)RNA expression except for aortic fibronectin mRNA expression. In contrast, in the salt-sensitive rats, salt loading stimulated the expression of cardiac fibronectin and aortic angiotensinogen, AT1 and fibronectin mRNAs. Furthermore, the cardiac and aortic fibronectin mRNA levels in salt-sensitive rats were higher than those in salt-resistant rats when both strains were fed the high-salt diet. These results demonstrate that the expression of tissue angiotensinogen, AT1 and fibronectin mRNAs is regulated differently in Dahl Iwai salt-sensitive and salt-resistant rats, and indicate that salt-mediated hypertension activates the cardiac fibronectin gene independently of the tissue renin-angiotensin system and stimulates the aortic fibronectin gene with activation of the tissue renin-angiotensin system.'),\n",
       " ('25686592',\n",
       "  'Intestinal P-glycoprotein (P-gp) is a limiting step for oral absorption of drugs. Therefore, P-gp inhibitors have been studied as enhancers of oral absorption of drugs that are P-gp substrates. We investigated the in vitro and in vivo P-gp inhibitory activity of synthesized xanthone analogues. With 3-(3-chloro-2-hydroxypropoxy)-1-hydroxy-9H-thioxanthen-9-one, compound 13, accumulation of daunomycin (DNM) increased 707% and efflux of DNM decreased 66% compared to DNM alone. Relative bioavailability (RB) of paclitaxel (PTX, 25 mg/kg) increased 2.5-fold after oral administration with 13 (5 mg/kg). In a xenograft animal model, oral administration of PTX (40 mg/kg) with 13 (10 mg/kg) significantly inhibited tumour growth and was more effective than intravenously administered PTX (10 mg/kg) alone. Therefore, the synthesized xanthone analogue 13 might have therapeutic benefits for oral absorption of P-gp substrate anticancer drugs.'),\n",
       " ('23920485',\n",
       "  'Design, synthesis and anticancer activity of a series of imine-pyrazolopyrimidinones is reported for the first time. Compounds 9d, 9n and 9o in the series show encouraging in vitro anticancer activity with low micromolar IC50 values against prostate (PC3) and breast (MCF7) cancer cell lines. Some notions about structure-activity relationships and plausible mechanism of biological activity are presented.'),\n",
       " ('23459444',\n",
       "  'Compelling evidence points to a key role for insulin-like growth factor 1 (IGF1) signaling in breast cancer development and progression. In addition, IGF1 receptor (IGF1R) expression has been correlated and functionally linked with estrogen receptor (ER) signaling. Recent translational studies support a cross talk between IGF1R and ERα at different levels and data suggest enhanced IGF1R signaling as a causative mechanism of tamoxifen (TAM) resistance. We tested whether functional germline variations in the IGF pathway are associated with clinical outcome in ER-positive primary invasive breast cancer patients, who were treated with surgery and adjuvant TAM. Tissue samples of 222 patients with ER+ primary invasive breast cancer, who had undergone surgery at Charing Cross Hospital, London, UK between 1981 and 2003, were analyzed. Genomic DNA was extracted from formalin-fixed, paraffin-embedded tissue samples and six functional IGF1 pathway polymorphisms were analyzed using direct DNA sequencing and PCR-restriction fragment length polymorphism. In multivariable analysis, patients with primary invasive breast cancer carrying IGF1R_rs2016347 G allele had a significantly increased risk of early tumor progression (hazard ratio (HR) 2.01; adjusted P=0.004) and death (HR 1.84; adjusted P=0.023) compared with patients carrying G/T or T/T, independent of established clinicopathological determinants. This association remained significant after adjusting for multiple testing. In addition, we were able to demonstrate that IRS1_rs1801123 and IGFBP3_rs2854744 were significantly associated with lymph node involvement and tumor size, respectively. We provide the first evidence for IGF1R_rs2016347 as an independent prognostic marker for ER+ breast cancer patients treated with TAM and support a rational for combined treatment strategies.')]"
      ]
     },
     "execution_count": 5,
     "metadata": {},
     "output_type": "execute_result"
    }
   ],
   "source": [
    "publications = pd.read_csv('data/dgidb/publications.csv')\n",
    "pmids = publications['pmid'].tolist()\n",
    "pmids = [str(pmid) for pmid in pmids]\n",
    "abstracts = literature.fetch_abstracts(pmids)\n",
    "abstracts[0:5]"
   ]
  },
  {
   "cell_type": "code",
   "execution_count": 9,
   "metadata": {},
   "outputs": [
    {
     "data": {
      "text/html": [
       "<div>\n",
       "<style scoped>\n",
       "    .dataframe tbody tr th:only-of-type {\n",
       "        vertical-align: middle;\n",
       "    }\n",
       "\n",
       "    .dataframe tbody tr th {\n",
       "        vertical-align: top;\n",
       "    }\n",
       "\n",
       "    .dataframe thead th {\n",
       "        text-align: right;\n",
       "    }\n",
       "</style>\n",
       "<table border=\"1\" class=\"dataframe\">\n",
       "  <thead>\n",
       "    <tr style=\"text-align: right;\">\n",
       "      <th></th>\n",
       "      <th>Title</th>\n",
       "      <th>Abstract</th>\n",
       "    </tr>\n",
       "  </thead>\n",
       "  <tbody>\n",
       "    <tr>\n",
       "      <th>0</th>\n",
       "      <td>38496920</td>\n",
       "      <td>Isocitrate dehydrogenase (IDH) is commonly mut...</td>\n",
       "    </tr>\n",
       "    <tr>\n",
       "      <th>1</th>\n",
       "      <td>10100098</td>\n",
       "      <td>The tissue renin-angiotensin system and extrac...</td>\n",
       "    </tr>\n",
       "    <tr>\n",
       "      <th>2</th>\n",
       "      <td>25686592</td>\n",
       "      <td>Intestinal P-glycoprotein (P-gp) is a limiting...</td>\n",
       "    </tr>\n",
       "    <tr>\n",
       "      <th>3</th>\n",
       "      <td>23920485</td>\n",
       "      <td>Design, synthesis and anticancer activity of a...</td>\n",
       "    </tr>\n",
       "    <tr>\n",
       "      <th>4</th>\n",
       "      <td>23459444</td>\n",
       "      <td>Compelling evidence points to a key role for i...</td>\n",
       "    </tr>\n",
       "    <tr>\n",
       "      <th>...</th>\n",
       "      <td>...</td>\n",
       "      <td>...</td>\n",
       "    </tr>\n",
       "    <tr>\n",
       "      <th>12756</th>\n",
       "      <td>20855208</td>\n",
       "      <td>Cancer therapy has moved beyond conventional c...</td>\n",
       "    </tr>\n",
       "    <tr>\n",
       "      <th>12757</th>\n",
       "      <td>22369181</td>\n",
       "      <td>The ligand-regulated nuclear receptor peroxiso...</td>\n",
       "    </tr>\n",
       "    <tr>\n",
       "      <th>12758</th>\n",
       "      <td>37773077</td>\n",
       "      <td>Approximately 10% to 15% of triple-negative br...</td>\n",
       "    </tr>\n",
       "    <tr>\n",
       "      <th>12759</th>\n",
       "      <td>29992026</td>\n",
       "      <td>Tramadol is a complex drug, being metabolized ...</td>\n",
       "    </tr>\n",
       "    <tr>\n",
       "      <th>12760</th>\n",
       "      <td>20542753</td>\n",
       "      <td>Bladder cancer accounts for nearly 5% of all n...</td>\n",
       "    </tr>\n",
       "  </tbody>\n",
       "</table>\n",
       "<p>12761 rows × 2 columns</p>\n",
       "</div>"
      ],
      "text/plain": [
       "          Title                                           Abstract\n",
       "0      38496920  Isocitrate dehydrogenase (IDH) is commonly mut...\n",
       "1      10100098  The tissue renin-angiotensin system and extrac...\n",
       "2      25686592  Intestinal P-glycoprotein (P-gp) is a limiting...\n",
       "3      23920485  Design, synthesis and anticancer activity of a...\n",
       "4      23459444  Compelling evidence points to a key role for i...\n",
       "...         ...                                                ...\n",
       "12756  20855208  Cancer therapy has moved beyond conventional c...\n",
       "12757  22369181  The ligand-regulated nuclear receptor peroxiso...\n",
       "12758  37773077  Approximately 10% to 15% of triple-negative br...\n",
       "12759  29992026  Tramadol is a complex drug, being metabolized ...\n",
       "12760  20542753  Bladder cancer accounts for nearly 5% of all n...\n",
       "\n",
       "[12761 rows x 2 columns]"
      ]
     },
     "execution_count": 9,
     "metadata": {},
     "output_type": "execute_result"
    }
   ],
   "source": [
    "abstract = pd.DataFrame(abstracts, columns=[\"Title\", \"Abstract\"])\n",
    "abstract"
   ]
  },
  {
   "cell_type": "code",
   "execution_count": 11,
   "metadata": {},
   "outputs": [
    {
     "name": "stderr",
     "output_type": "stream",
     "text": [
      "100%|██████████| 12761/12761 [32:21<00:00,  6.57it/s] \n"
     ]
    },
    {
     "data": {
      "text/html": [
       "<div>\n",
       "<style scoped>\n",
       "    .dataframe tbody tr th:only-of-type {\n",
       "        vertical-align: middle;\n",
       "    }\n",
       "\n",
       "    .dataframe tbody tr th {\n",
       "        vertical-align: top;\n",
       "    }\n",
       "\n",
       "    .dataframe thead th {\n",
       "        text-align: right;\n",
       "    }\n",
       "</style>\n",
       "<table border=\"1\" class=\"dataframe\">\n",
       "  <thead>\n",
       "    <tr style=\"text-align: right;\">\n",
       "      <th></th>\n",
       "      <th>entity_group</th>\n",
       "      <th>score</th>\n",
       "      <th>word</th>\n",
       "      <th>start</th>\n",
       "      <th>end</th>\n",
       "      <th>original_text</th>\n",
       "    </tr>\n",
       "  </thead>\n",
       "  <tbody>\n",
       "    <tr>\n",
       "      <th>0</th>\n",
       "      <td>GENETIC</td>\n",
       "      <td>0.999992</td>\n",
       "      <td>Isocitrate dehydrogenase</td>\n",
       "      <td>0</td>\n",
       "      <td>24</td>\n",
       "      <td>Isocitrate dehydrogenase (IDH) is commonly mut...</td>\n",
       "    </tr>\n",
       "    <tr>\n",
       "      <th>1</th>\n",
       "      <td>GENETIC</td>\n",
       "      <td>0.999984</td>\n",
       "      <td>IDH</td>\n",
       "      <td>26</td>\n",
       "      <td>29</td>\n",
       "      <td>Isocitrate dehydrogenase (IDH) is commonly mut...</td>\n",
       "    </tr>\n",
       "    <tr>\n",
       "      <th>2</th>\n",
       "      <td>GENETIC</td>\n",
       "      <td>0.999972</td>\n",
       "      <td>mIDH</td>\n",
       "      <td>52</td>\n",
       "      <td>56</td>\n",
       "      <td>Isocitrate dehydrogenase (IDH) is commonly mut...</td>\n",
       "    </tr>\n",
       "    <tr>\n",
       "      <th>3</th>\n",
       "      <td>GENETIC</td>\n",
       "      <td>0.999993</td>\n",
       "      <td>mIDH1</td>\n",
       "      <td>252</td>\n",
       "      <td>257</td>\n",
       "      <td>Isocitrate dehydrogenase (IDH) is commonly mut...</td>\n",
       "    </tr>\n",
       "    <tr>\n",
       "      <th>4</th>\n",
       "      <td>GENETIC</td>\n",
       "      <td>0.999970</td>\n",
       "      <td>mIDH1</td>\n",
       "      <td>289</td>\n",
       "      <td>294</td>\n",
       "      <td>Isocitrate dehydrogenase (IDH) is commonly mut...</td>\n",
       "    </tr>\n",
       "    <tr>\n",
       "      <th>...</th>\n",
       "      <td>...</td>\n",
       "      <td>...</td>\n",
       "      <td>...</td>\n",
       "      <td>...</td>\n",
       "      <td>...</td>\n",
       "      <td>...</td>\n",
       "    </tr>\n",
       "    <tr>\n",
       "      <th>317746</th>\n",
       "      <td>DISEASE</td>\n",
       "      <td>0.999982</td>\n",
       "      <td>tumor</td>\n",
       "      <td>1252</td>\n",
       "      <td>1257</td>\n",
       "      <td>Bladder cancer accounts for nearly 5% of all n...</td>\n",
       "    </tr>\n",
       "    <tr>\n",
       "      <th>317747</th>\n",
       "      <td>DISEASE</td>\n",
       "      <td>0.999979</td>\n",
       "      <td>tumor</td>\n",
       "      <td>1333</td>\n",
       "      <td>1338</td>\n",
       "      <td>Bladder cancer accounts for nearly 5% of all n...</td>\n",
       "    </tr>\n",
       "    <tr>\n",
       "      <th>317748</th>\n",
       "      <td>DISEASE</td>\n",
       "      <td>0.999992</td>\n",
       "      <td>bladder cancer</td>\n",
       "      <td>1403</td>\n",
       "      <td>1417</td>\n",
       "      <td>Bladder cancer accounts for nearly 5% of all n...</td>\n",
       "    </tr>\n",
       "    <tr>\n",
       "      <th>317749</th>\n",
       "      <td>DISEASE</td>\n",
       "      <td>0.999992</td>\n",
       "      <td>bladder cancer</td>\n",
       "      <td>1509</td>\n",
       "      <td>1523</td>\n",
       "      <td>Bladder cancer accounts for nearly 5% of all n...</td>\n",
       "    </tr>\n",
       "    <tr>\n",
       "      <th>317750</th>\n",
       "      <td>DISEASE</td>\n",
       "      <td>0.999991</td>\n",
       "      <td>bladder tumors</td>\n",
       "      <td>1601</td>\n",
       "      <td>1615</td>\n",
       "      <td>Bladder cancer accounts for nearly 5% of all n...</td>\n",
       "    </tr>\n",
       "  </tbody>\n",
       "</table>\n",
       "<p>317751 rows × 6 columns</p>\n",
       "</div>"
      ],
      "text/plain": [
       "       entity_group     score                      word  start   end  \\\n",
       "0           GENETIC  0.999992  Isocitrate dehydrogenase      0    24   \n",
       "1           GENETIC  0.999984                       IDH     26    29   \n",
       "2           GENETIC  0.999972                      mIDH     52    56   \n",
       "3           GENETIC  0.999993                     mIDH1    252   257   \n",
       "4           GENETIC  0.999970                     mIDH1    289   294   \n",
       "...             ...       ...                       ...    ...   ...   \n",
       "317746      DISEASE  0.999982                     tumor   1252  1257   \n",
       "317747      DISEASE  0.999979                     tumor   1333  1338   \n",
       "317748      DISEASE  0.999992            bladder cancer   1403  1417   \n",
       "317749      DISEASE  0.999992            bladder cancer   1509  1523   \n",
       "317750      DISEASE  0.999991            bladder tumors   1601  1615   \n",
       "\n",
       "                                            original_text  \n",
       "0       Isocitrate dehydrogenase (IDH) is commonly mut...  \n",
       "1       Isocitrate dehydrogenase (IDH) is commonly mut...  \n",
       "2       Isocitrate dehydrogenase (IDH) is commonly mut...  \n",
       "3       Isocitrate dehydrogenase (IDH) is commonly mut...  \n",
       "4       Isocitrate dehydrogenase (IDH) is commonly mut...  \n",
       "...                                                   ...  \n",
       "317746  Bladder cancer accounts for nearly 5% of all n...  \n",
       "317747  Bladder cancer accounts for nearly 5% of all n...  \n",
       "317748  Bladder cancer accounts for nearly 5% of all n...  \n",
       "317749  Bladder cancer accounts for nearly 5% of all n...  \n",
       "317750  Bladder cancer accounts for nearly 5% of all n...  \n",
       "\n",
       "[317751 rows x 6 columns]"
      ]
     },
     "execution_count": 11,
     "metadata": {},
     "output_type": "execute_result"
    }
   ],
   "source": [
    "results = novel.batch(abstract['Abstract'])\n",
    "results"
   ]
  },
  {
   "cell_type": "code",
   "execution_count": 13,
   "metadata": {},
   "outputs": [
    {
     "data": {
      "text/html": [
       "<div>\n",
       "<style scoped>\n",
       "    .dataframe tbody tr th:only-of-type {\n",
       "        vertical-align: middle;\n",
       "    }\n",
       "\n",
       "    .dataframe tbody tr th {\n",
       "        vertical-align: top;\n",
       "    }\n",
       "\n",
       "    .dataframe thead th {\n",
       "        text-align: right;\n",
       "    }\n",
       "</style>\n",
       "<table border=\"1\" class=\"dataframe\">\n",
       "  <thead>\n",
       "    <tr style=\"text-align: right;\">\n",
       "      <th></th>\n",
       "      <th>entity_group</th>\n",
       "      <th>score</th>\n",
       "      <th>word</th>\n",
       "      <th>start</th>\n",
       "      <th>end</th>\n",
       "      <th>original_text</th>\n",
       "      <th>concept_match_type</th>\n",
       "      <th>concept_id</th>\n",
       "      <th>concept_label</th>\n",
       "    </tr>\n",
       "  </thead>\n",
       "  <tbody>\n",
       "    <tr>\n",
       "      <th>5</th>\n",
       "      <td>CHEMICAL</td>\n",
       "      <td>0.999998</td>\n",
       "      <td>Isocitrate</td>\n",
       "      <td>0</td>\n",
       "      <td>10</td>\n",
       "      <td>Isocitrate dehydrogenase (IDH) is commonly mut...</td>\n",
       "      <td>80.0</td>\n",
       "      <td>normalize.therapy.chembl:CHEMBL539669</td>\n",
       "      <td>ISOCITRATE</td>\n",
       "    </tr>\n",
       "    <tr>\n",
       "      <th>6</th>\n",
       "      <td>CHEMICAL</td>\n",
       "      <td>0.999999</td>\n",
       "      <td>2 - hydroxyglutarate</td>\n",
       "      <td>121</td>\n",
       "      <td>139</td>\n",
       "      <td>Isocitrate dehydrogenase (IDH) is commonly mut...</td>\n",
       "      <td>0.0</td>\n",
       "      <td>None</td>\n",
       "      <td>None</td>\n",
       "    </tr>\n",
       "    <tr>\n",
       "      <th>7</th>\n",
       "      <td>CHEMICAL</td>\n",
       "      <td>0.999998</td>\n",
       "      <td>2HG</td>\n",
       "      <td>141</td>\n",
       "      <td>144</td>\n",
       "      <td>Isocitrate dehydrogenase (IDH) is commonly mut...</td>\n",
       "      <td>0.0</td>\n",
       "      <td>None</td>\n",
       "      <td>None</td>\n",
       "    </tr>\n",
       "    <tr>\n",
       "      <th>8</th>\n",
       "      <td>CHEMICAL</td>\n",
       "      <td>0.999994</td>\n",
       "      <td>2HG</td>\n",
       "      <td>147</td>\n",
       "      <td>150</td>\n",
       "      <td>Isocitrate dehydrogenase (IDH) is commonly mut...</td>\n",
       "      <td>0.0</td>\n",
       "      <td>None</td>\n",
       "      <td>None</td>\n",
       "    </tr>\n",
       "    <tr>\n",
       "      <th>9</th>\n",
       "      <td>CHEMICAL</td>\n",
       "      <td>0.999996</td>\n",
       "      <td>Ivosidenib</td>\n",
       "      <td>212</td>\n",
       "      <td>222</td>\n",
       "      <td>Isocitrate dehydrogenase (IDH) is commonly mut...</td>\n",
       "      <td>80.0</td>\n",
       "      <td>normalize.therapy.rxcui:2049873</td>\n",
       "      <td>ivosidenib</td>\n",
       "    </tr>\n",
       "    <tr>\n",
       "      <th>...</th>\n",
       "      <td>...</td>\n",
       "      <td>...</td>\n",
       "      <td>...</td>\n",
       "      <td>...</td>\n",
       "      <td>...</td>\n",
       "      <td>...</td>\n",
       "      <td>...</td>\n",
       "      <td>...</td>\n",
       "      <td>...</td>\n",
       "    </tr>\n",
       "    <tr>\n",
       "      <th>317719</th>\n",
       "      <td>CHEMICAL</td>\n",
       "      <td>0.999972</td>\n",
       "      <td>olaparib</td>\n",
       "      <td>1450</td>\n",
       "      <td>1458</td>\n",
       "      <td>Approximately 10% to 15% of triple-negative br...</td>\n",
       "      <td>NaN</td>\n",
       "      <td>NaN</td>\n",
       "      <td>NaN</td>\n",
       "    </tr>\n",
       "    <tr>\n",
       "      <th>317720</th>\n",
       "      <td>CHEMICAL</td>\n",
       "      <td>0.999997</td>\n",
       "      <td>ceralasertib</td>\n",
       "      <td>1463</td>\n",
       "      <td>1475</td>\n",
       "      <td>Approximately 10% to 15% of triple-negative br...</td>\n",
       "      <td>NaN</td>\n",
       "      <td>NaN</td>\n",
       "      <td>NaN</td>\n",
       "    </tr>\n",
       "    <tr>\n",
       "      <th>317721</th>\n",
       "      <td>CHEMICAL</td>\n",
       "      <td>0.958486</td>\n",
       "      <td>olaparib</td>\n",
       "      <td>1641</td>\n",
       "      <td>1649</td>\n",
       "      <td>Approximately 10% to 15% of triple-negative br...</td>\n",
       "      <td>NaN</td>\n",
       "      <td>NaN</td>\n",
       "      <td>NaN</td>\n",
       "    </tr>\n",
       "    <tr>\n",
       "      <th>317728</th>\n",
       "      <td>CHEMICAL</td>\n",
       "      <td>0.999998</td>\n",
       "      <td>Tramadol</td>\n",
       "      <td>0</td>\n",
       "      <td>8</td>\n",
       "      <td>Tramadol is a complex drug, being metabolized ...</td>\n",
       "      <td>NaN</td>\n",
       "      <td>NaN</td>\n",
       "      <td>NaN</td>\n",
       "    </tr>\n",
       "    <tr>\n",
       "      <th>317729</th>\n",
       "      <td>CHEMICAL</td>\n",
       "      <td>0.999998</td>\n",
       "      <td>tramadol</td>\n",
       "      <td>293</td>\n",
       "      <td>301</td>\n",
       "      <td>Tramadol is a complex drug, being metabolized ...</td>\n",
       "      <td>NaN</td>\n",
       "      <td>NaN</td>\n",
       "      <td>NaN</td>\n",
       "    </tr>\n",
       "  </tbody>\n",
       "</table>\n",
       "<p>100297 rows × 9 columns</p>\n",
       "</div>"
      ],
      "text/plain": [
       "       entity_group     score                  word  start   end  \\\n",
       "5          CHEMICAL  0.999998            Isocitrate      0    10   \n",
       "6          CHEMICAL  0.999999  2 - hydroxyglutarate    121   139   \n",
       "7          CHEMICAL  0.999998                   2HG    141   144   \n",
       "8          CHEMICAL  0.999994                   2HG    147   150   \n",
       "9          CHEMICAL  0.999996            Ivosidenib    212   222   \n",
       "...             ...       ...                   ...    ...   ...   \n",
       "317719     CHEMICAL  0.999972              olaparib   1450  1458   \n",
       "317720     CHEMICAL  0.999997          ceralasertib   1463  1475   \n",
       "317721     CHEMICAL  0.958486              olaparib   1641  1649   \n",
       "317728     CHEMICAL  0.999998              Tramadol      0     8   \n",
       "317729     CHEMICAL  0.999998              tramadol    293   301   \n",
       "\n",
       "                                            original_text  concept_match_type  \\\n",
       "5       Isocitrate dehydrogenase (IDH) is commonly mut...                80.0   \n",
       "6       Isocitrate dehydrogenase (IDH) is commonly mut...                 0.0   \n",
       "7       Isocitrate dehydrogenase (IDH) is commonly mut...                 0.0   \n",
       "8       Isocitrate dehydrogenase (IDH) is commonly mut...                 0.0   \n",
       "9       Isocitrate dehydrogenase (IDH) is commonly mut...                80.0   \n",
       "...                                                   ...                 ...   \n",
       "317719  Approximately 10% to 15% of triple-negative br...                 NaN   \n",
       "317720  Approximately 10% to 15% of triple-negative br...                 NaN   \n",
       "317721  Approximately 10% to 15% of triple-negative br...                 NaN   \n",
       "317728  Tramadol is a complex drug, being metabolized ...                 NaN   \n",
       "317729  Tramadol is a complex drug, being metabolized ...                 NaN   \n",
       "\n",
       "                                   concept_id concept_label  \n",
       "5       normalize.therapy.chembl:CHEMBL539669    ISOCITRATE  \n",
       "6                                        None          None  \n",
       "7                                        None          None  \n",
       "8                                        None          None  \n",
       "9             normalize.therapy.rxcui:2049873    ivosidenib  \n",
       "...                                       ...           ...  \n",
       "317719                                    NaN           NaN  \n",
       "317720                                    NaN           NaN  \n",
       "317721                                    NaN           NaN  \n",
       "317728                                    NaN           NaN  \n",
       "317729                                    NaN           NaN  \n",
       "\n",
       "[100297 rows x 9 columns]"
      ]
     },
     "execution_count": 13,
     "metadata": {},
     "output_type": "execute_result"
    }
   ],
   "source": [
    "results[results['entity_group'] == 'CHEMICAL']"
   ]
  },
  {
   "cell_type": "code",
   "execution_count": 14,
   "metadata": {},
   "outputs": [
    {
     "name": "stderr",
     "output_type": "stream",
     "text": [
      "909it [04:04,  3.60it/s]/var/folders/5t/sfw5tjx56m10xb861_pd3wfm0000gq/T/ipykernel_86589/1454545004.py:37: FutureWarning: Setting an item of incompatible dtype is deprecated and will raise an error in a future version of pandas. Value 'Failure to Normalize' has dtype incompatible with float64, please explicitly cast to a compatible dtype first.\n",
      "  results.at[index, 'concept_match_type'] = norm_result[0]\n",
      "5000it [22:47,  8.47s/it]"
     ]
    },
    {
     "name": "stdout",
     "output_type": "stream",
     "text": [
      "Checkpoint saved at row 5000 -> normalized_results_checkpoint_checkpoint_5000.xlsx\n"
     ]
    },
    {
     "name": "stderr",
     "output_type": "stream",
     "text": [
      "10001it [48:24,  5.89s/it]"
     ]
    },
    {
     "name": "stdout",
     "output_type": "stream",
     "text": [
      "Checkpoint saved at row 10000 -> normalized_results_checkpoint_checkpoint_10000.xlsx\n"
     ]
    },
    {
     "name": "stderr",
     "output_type": "stream",
     "text": [
      "15001it [1:08:17,  5.96s/it]"
     ]
    },
    {
     "name": "stdout",
     "output_type": "stream",
     "text": [
      "Checkpoint saved at row 15000 -> normalized_results_checkpoint_checkpoint_15000.xlsx\n"
     ]
    },
    {
     "name": "stderr",
     "output_type": "stream",
     "text": [
      "20000it [1:28:44,  8.67s/it]"
     ]
    },
    {
     "name": "stdout",
     "output_type": "stream",
     "text": [
      "Checkpoint saved at row 20000 -> normalized_results_checkpoint_checkpoint_20000.xlsx\n"
     ]
    },
    {
     "name": "stderr",
     "output_type": "stream",
     "text": [
      "25001it [1:49:18,  6.03s/it]"
     ]
    },
    {
     "name": "stdout",
     "output_type": "stream",
     "text": [
      "Checkpoint saved at row 25000 -> normalized_results_checkpoint_checkpoint_25000.xlsx\n"
     ]
    },
    {
     "name": "stderr",
     "output_type": "stream",
     "text": [
      "30000it [2:09:52,  8.64s/it]"
     ]
    },
    {
     "name": "stdout",
     "output_type": "stream",
     "text": [
      "Checkpoint saved at row 30000 -> normalized_results_checkpoint_checkpoint_30000.xlsx\n"
     ]
    },
    {
     "name": "stderr",
     "output_type": "stream",
     "text": [
      "35002it [2:28:09,  4.17s/it]"
     ]
    },
    {
     "name": "stdout",
     "output_type": "stream",
     "text": [
      "Checkpoint saved at row 35000 -> normalized_results_checkpoint_checkpoint_35000.xlsx\n"
     ]
    },
    {
     "name": "stderr",
     "output_type": "stream",
     "text": [
      "40000it [2:40:19,  5.14s/it]"
     ]
    },
    {
     "name": "stdout",
     "output_type": "stream",
     "text": [
      "Checkpoint saved at row 40000 -> normalized_results_checkpoint_checkpoint_40000.xlsx\n"
     ]
    },
    {
     "name": "stderr",
     "output_type": "stream",
     "text": [
      "45001it [2:52:33,  5.54s/it]"
     ]
    },
    {
     "name": "stdout",
     "output_type": "stream",
     "text": [
      "Checkpoint saved at row 45000 -> normalized_results_checkpoint_checkpoint_45000.xlsx\n"
     ]
    },
    {
     "name": "stderr",
     "output_type": "stream",
     "text": [
      "50000it [3:04:42,  8.20s/it]"
     ]
    },
    {
     "name": "stdout",
     "output_type": "stream",
     "text": [
      "Checkpoint saved at row 50000 -> normalized_results_checkpoint_checkpoint_50000.xlsx\n"
     ]
    },
    {
     "name": "stderr",
     "output_type": "stream",
     "text": [
      "55001it [3:17:14,  5.88s/it]"
     ]
    },
    {
     "name": "stdout",
     "output_type": "stream",
     "text": [
      "Checkpoint saved at row 55000 -> normalized_results_checkpoint_checkpoint_55000.xlsx\n"
     ]
    },
    {
     "name": "stderr",
     "output_type": "stream",
     "text": [
      "60001it [3:29:22,  5.57s/it]"
     ]
    },
    {
     "name": "stdout",
     "output_type": "stream",
     "text": [
      "Checkpoint saved at row 60000 -> normalized_results_checkpoint_checkpoint_60000.xlsx\n"
     ]
    },
    {
     "name": "stderr",
     "output_type": "stream",
     "text": [
      "65002it [3:41:28,  4.50s/it]"
     ]
    },
    {
     "name": "stdout",
     "output_type": "stream",
     "text": [
      "Checkpoint saved at row 65000 -> normalized_results_checkpoint_checkpoint_65000.xlsx\n"
     ]
    },
    {
     "name": "stderr",
     "output_type": "stream",
     "text": [
      "70001it [3:53:19,  5.01s/it]"
     ]
    },
    {
     "name": "stdout",
     "output_type": "stream",
     "text": [
      "Checkpoint saved at row 70000 -> normalized_results_checkpoint_checkpoint_70000.xlsx\n"
     ]
    },
    {
     "name": "stderr",
     "output_type": "stream",
     "text": [
      "75001it [4:05:26,  5.32s/it]"
     ]
    },
    {
     "name": "stdout",
     "output_type": "stream",
     "text": [
      "Checkpoint saved at row 75000 -> normalized_results_checkpoint_checkpoint_75000.xlsx\n"
     ]
    },
    {
     "name": "stderr",
     "output_type": "stream",
     "text": [
      "80001it [4:17:25,  5.81s/it]"
     ]
    },
    {
     "name": "stdout",
     "output_type": "stream",
     "text": [
      "Checkpoint saved at row 80000 -> normalized_results_checkpoint_checkpoint_80000.xlsx\n"
     ]
    },
    {
     "name": "stderr",
     "output_type": "stream",
     "text": [
      "85001it [4:29:30,  4.80s/it]"
     ]
    },
    {
     "name": "stdout",
     "output_type": "stream",
     "text": [
      "Checkpoint saved at row 85000 -> normalized_results_checkpoint_checkpoint_85000.xlsx\n"
     ]
    },
    {
     "name": "stderr",
     "output_type": "stream",
     "text": [
      "90000it [4:41:41,  6.98s/it]"
     ]
    },
    {
     "name": "stdout",
     "output_type": "stream",
     "text": [
      "Checkpoint saved at row 90000 -> normalized_results_checkpoint_checkpoint_90000.xlsx\n"
     ]
    },
    {
     "name": "stderr",
     "output_type": "stream",
     "text": [
      "95001it [4:53:59,  4.49s/it]"
     ]
    },
    {
     "name": "stdout",
     "output_type": "stream",
     "text": [
      "Checkpoint saved at row 95000 -> normalized_results_checkpoint_checkpoint_95000.xlsx\n"
     ]
    },
    {
     "name": "stderr",
     "output_type": "stream",
     "text": [
      "100000it [5:06:24,  8.67s/it]"
     ]
    },
    {
     "name": "stdout",
     "output_type": "stream",
     "text": [
      "Checkpoint saved at row 100000 -> normalized_results_checkpoint_checkpoint_100000.xlsx\n"
     ]
    },
    {
     "name": "stderr",
     "output_type": "stream",
     "text": [
      "100297it [5:07:03,  5.44it/s]\n"
     ]
    },
    {
     "name": "stdout",
     "output_type": "stream",
     "text": [
      "Final results saved -> normalized_results_checkpoint_final.xlsx\n"
     ]
    }
   ],
   "source": [
    "def _singularize(word):\n",
    "    inflector = inflect.engine()\n",
    "    return inflector.singular_noun(word) or word\n",
    "\n",
    "def _normalize_therapy(word):\n",
    "    try:\n",
    "        r = requests.get(\n",
    "            f'https://normalize.cancervariants.org/therapy/normalize?q={word}&infer_namespace=true',\n",
    "            timeout=10  # Set timeout for network reliability\n",
    "        )\n",
    "        r.raise_for_status()\n",
    "        response = r.json()\n",
    "\n",
    "        if isinstance(response, dict) and response.get('match_type') is not None:\n",
    "            if response['match_type'] != 0:\n",
    "                return [\n",
    "                    response['match_type'],\n",
    "                    response['therapy']['id'],\n",
    "                    response['therapy']['name']\n",
    "                ]\n",
    "            else:\n",
    "                return [0, None, None]  # Not matched\n",
    "        else:\n",
    "            return ['Unexpected Response Format', None, None]\n",
    "    except requests.exceptions.RequestException as e:\n",
    "        return ['HTTP Error', str(e), None]\n",
    "    except Exception as e:\n",
    "        return ['Failure to Normalize', str(e), None]\n",
    "\n",
    "# Main loop\n",
    "checkpoint_interval = 5000\n",
    "output_base = \"normalized_results_checkpoint\"\n",
    "for idx, (index, row) in enumerate(tqdm(results[results['entity_group'] == 'CHEMICAL'].iterrows()), 1):\n",
    "    word = _singularize(row['word'])\n",
    "    norm_result = _normalize_therapy(word)\n",
    "\n",
    "    results.at[index, 'concept_match_type'] = norm_result[0]\n",
    "    results.at[index, 'concept_id'] = norm_result[1]\n",
    "    results.at[index, 'concept_label'] = norm_result[2]\n",
    "\n",
    "    if idx % checkpoint_interval == 0:\n",
    "        checkpoint_filename = f\"{output_base}_checkpoint_{idx}.xlsx\"\n",
    "        results.to_excel(checkpoint_filename, index=False)\n",
    "        print(f\"Checkpoint saved at row {idx} -> {checkpoint_filename}\")\n",
    "\n",
    "# Final save after loop completes\n",
    "final_filename = f\"{output_base}_final.xlsx\"\n",
    "results.to_excel(final_filename, index=False)\n",
    "print(f\"Final results saved -> {final_filename}\")"
   ]
  }
 ],
 "metadata": {
  "kernelspec": {
   "display_name": "3.13.2",
   "language": "python",
   "name": "python3"
  },
  "language_info": {
   "codemirror_mode": {
    "name": "ipython",
    "version": 3
   },
   "file_extension": ".py",
   "mimetype": "text/x-python",
   "name": "python",
   "nbconvert_exporter": "python",
   "pygments_lexer": "ipython3",
   "version": "3.13.2"
  }
 },
 "nbformat": 4,
 "nbformat_minor": 2
}
