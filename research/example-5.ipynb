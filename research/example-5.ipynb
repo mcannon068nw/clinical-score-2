{
 "cells": [
  {
   "cell_type": "code",
   "execution_count": 3,
   "metadata": {},
   "outputs": [
    {
     "ename": "ModuleNotFoundError",
     "evalue": "Could not import module 'pipeline'. Are this object's requirements defined correctly?",
     "output_type": "error",
     "traceback": [
      "\u001b[0;31m---------------------------------------------------------------------------\u001b[0m",
      "\u001b[0;31mModuleNotFoundError\u001b[0m                       Traceback (most recent call last)",
      "File \u001b[0;32m~/.pyenv/versions/3.12.2/lib/python3.12/site-packages/transformers/utils/import_utils.py:2276\u001b[0m, in \u001b[0;36m_LazyModule.__getattr__\u001b[0;34m(self, name)\u001b[0m\n\u001b[1;32m   2275\u001b[0m \u001b[38;5;28;01mtry\u001b[39;00m:\n\u001b[0;32m-> 2276\u001b[0m     module \u001b[38;5;241m=\u001b[39m \u001b[38;5;28;43mself\u001b[39;49m\u001b[38;5;241;43m.\u001b[39;49m\u001b[43m_get_module\u001b[49m\u001b[43m(\u001b[49m\u001b[38;5;28;43mself\u001b[39;49m\u001b[38;5;241;43m.\u001b[39;49m\u001b[43m_class_to_module\u001b[49m\u001b[43m[\u001b[49m\u001b[43mname\u001b[49m\u001b[43m]\u001b[49m\u001b[43m)\u001b[49m\n\u001b[1;32m   2277\u001b[0m     value \u001b[38;5;241m=\u001b[39m \u001b[38;5;28mgetattr\u001b[39m(module, name)\n",
      "File \u001b[0;32m~/.pyenv/versions/3.12.2/lib/python3.12/site-packages/transformers/utils/import_utils.py:2306\u001b[0m, in \u001b[0;36m_LazyModule._get_module\u001b[0;34m(self, module_name)\u001b[0m\n\u001b[1;32m   2305\u001b[0m \u001b[38;5;28;01mexcept\u001b[39;00m \u001b[38;5;167;01mException\u001b[39;00m \u001b[38;5;28;01mas\u001b[39;00m e:\n\u001b[0;32m-> 2306\u001b[0m     \u001b[38;5;28;01mraise\u001b[39;00m e\n",
      "File \u001b[0;32m~/.pyenv/versions/3.12.2/lib/python3.12/site-packages/transformers/utils/import_utils.py:2304\u001b[0m, in \u001b[0;36m_LazyModule._get_module\u001b[0;34m(self, module_name)\u001b[0m\n\u001b[1;32m   2303\u001b[0m \u001b[38;5;28;01mtry\u001b[39;00m:\n\u001b[0;32m-> 2304\u001b[0m     \u001b[38;5;28;01mreturn\u001b[39;00m \u001b[43mimportlib\u001b[49m\u001b[38;5;241;43m.\u001b[39;49m\u001b[43mimport_module\u001b[49m\u001b[43m(\u001b[49m\u001b[38;5;124;43m\"\u001b[39;49m\u001b[38;5;124;43m.\u001b[39;49m\u001b[38;5;124;43m\"\u001b[39;49m\u001b[43m \u001b[49m\u001b[38;5;241;43m+\u001b[39;49m\u001b[43m \u001b[49m\u001b[43mmodule_name\u001b[49m\u001b[43m,\u001b[49m\u001b[43m \u001b[49m\u001b[38;5;28;43mself\u001b[39;49m\u001b[38;5;241;43m.\u001b[39;49m\u001b[38;5;18;43m__name__\u001b[39;49m\u001b[43m)\u001b[49m\n\u001b[1;32m   2305\u001b[0m \u001b[38;5;28;01mexcept\u001b[39;00m \u001b[38;5;167;01mException\u001b[39;00m \u001b[38;5;28;01mas\u001b[39;00m e:\n",
      "File \u001b[0;32m~/.pyenv/versions/3.12.2/lib/python3.12/importlib/__init__.py:90\u001b[0m, in \u001b[0;36mimport_module\u001b[0;34m(name, package)\u001b[0m\n\u001b[1;32m     89\u001b[0m         level \u001b[38;5;241m+\u001b[39m\u001b[38;5;241m=\u001b[39m \u001b[38;5;241m1\u001b[39m\n\u001b[0;32m---> 90\u001b[0m \u001b[38;5;28;01mreturn\u001b[39;00m \u001b[43m_bootstrap\u001b[49m\u001b[38;5;241;43m.\u001b[39;49m\u001b[43m_gcd_import\u001b[49m\u001b[43m(\u001b[49m\u001b[43mname\u001b[49m\u001b[43m[\u001b[49m\u001b[43mlevel\u001b[49m\u001b[43m:\u001b[49m\u001b[43m]\u001b[49m\u001b[43m,\u001b[49m\u001b[43m \u001b[49m\u001b[43mpackage\u001b[49m\u001b[43m,\u001b[49m\u001b[43m \u001b[49m\u001b[43mlevel\u001b[49m\u001b[43m)\u001b[49m\n",
      "File \u001b[0;32m<frozen importlib._bootstrap>:1387\u001b[0m, in \u001b[0;36m_gcd_import\u001b[0;34m(name, package, level)\u001b[0m\n",
      "File \u001b[0;32m<frozen importlib._bootstrap>:1360\u001b[0m, in \u001b[0;36m_find_and_load\u001b[0;34m(name, import_)\u001b[0m\n",
      "File \u001b[0;32m<frozen importlib._bootstrap>:1331\u001b[0m, in \u001b[0;36m_find_and_load_unlocked\u001b[0;34m(name, import_)\u001b[0m\n",
      "File \u001b[0;32m<frozen importlib._bootstrap>:935\u001b[0m, in \u001b[0;36m_load_unlocked\u001b[0;34m(spec)\u001b[0m\n",
      "File \u001b[0;32m<frozen importlib._bootstrap_external>:995\u001b[0m, in \u001b[0;36mexec_module\u001b[0;34m(self, module)\u001b[0m\n",
      "File \u001b[0;32m<frozen importlib._bootstrap>:488\u001b[0m, in \u001b[0;36m_call_with_frames_removed\u001b[0;34m(f, *args, **kwds)\u001b[0m\n",
      "File \u001b[0;32m~/.pyenv/versions/3.12.2/lib/python3.12/site-packages/transformers/pipelines/__init__.py:26\u001b[0m\n\u001b[1;32m     25\u001b[0m \u001b[38;5;28;01mfrom\u001b[39;00m \u001b[38;5;21;01m.\u001b[39;00m\u001b[38;5;21;01m.\u001b[39;00m\u001b[38;5;21;01mfeature_extraction_utils\u001b[39;00m \u001b[38;5;28;01mimport\u001b[39;00m PreTrainedFeatureExtractor\n\u001b[0;32m---> 26\u001b[0m \u001b[38;5;28;01mfrom\u001b[39;00m \u001b[38;5;21;01m.\u001b[39;00m\u001b[38;5;21;01m.\u001b[39;00m\u001b[38;5;21;01mimage_processing_utils\u001b[39;00m \u001b[38;5;28;01mimport\u001b[39;00m BaseImageProcessor\n\u001b[1;32m     27\u001b[0m \u001b[38;5;28;01mfrom\u001b[39;00m \u001b[38;5;21;01m.\u001b[39;00m\u001b[38;5;21;01m.\u001b[39;00m\u001b[38;5;21;01mmodels\u001b[39;00m\u001b[38;5;21;01m.\u001b[39;00m\u001b[38;5;21;01mauto\u001b[39;00m\u001b[38;5;21;01m.\u001b[39;00m\u001b[38;5;21;01mconfiguration_auto\u001b[39;00m \u001b[38;5;28;01mimport\u001b[39;00m AutoConfig\n",
      "File \u001b[0;32m~/.pyenv/versions/3.12.2/lib/python3.12/site-packages/transformers/image_processing_utils.py:22\u001b[0m\n\u001b[1;32m     21\u001b[0m \u001b[38;5;28;01mfrom\u001b[39;00m \u001b[38;5;21;01m.\u001b[39;00m\u001b[38;5;21;01mimage_processing_base\u001b[39;00m \u001b[38;5;28;01mimport\u001b[39;00m BatchFeature, ImageProcessingMixin\n\u001b[0;32m---> 22\u001b[0m \u001b[38;5;28;01mfrom\u001b[39;00m \u001b[38;5;21;01m.\u001b[39;00m\u001b[38;5;21;01mimage_transforms\u001b[39;00m \u001b[38;5;28;01mimport\u001b[39;00m center_crop, normalize, rescale\n\u001b[1;32m     23\u001b[0m \u001b[38;5;28;01mfrom\u001b[39;00m \u001b[38;5;21;01m.\u001b[39;00m\u001b[38;5;21;01mimage_utils\u001b[39;00m \u001b[38;5;28;01mimport\u001b[39;00m ChannelDimension, get_image_size\n",
      "File \u001b[0;32m~/.pyenv/versions/3.12.2/lib/python3.12/site-packages/transformers/image_transforms.py:22\u001b[0m\n\u001b[1;32m     20\u001b[0m \u001b[38;5;28;01mimport\u001b[39;00m \u001b[38;5;21;01mnumpy\u001b[39;00m \u001b[38;5;28;01mas\u001b[39;00m \u001b[38;5;21;01mnp\u001b[39;00m\n\u001b[0;32m---> 22\u001b[0m \u001b[38;5;28;01mfrom\u001b[39;00m \u001b[38;5;21;01m.\u001b[39;00m\u001b[38;5;21;01mimage_utils\u001b[39;00m \u001b[38;5;28;01mimport\u001b[39;00m (\n\u001b[1;32m     23\u001b[0m     ChannelDimension,\n\u001b[1;32m     24\u001b[0m     ImageInput,\n\u001b[1;32m     25\u001b[0m     get_channel_dimension_axis,\n\u001b[1;32m     26\u001b[0m     get_image_size,\n\u001b[1;32m     27\u001b[0m     infer_channel_dimension_format,\n\u001b[1;32m     28\u001b[0m )\n\u001b[1;32m     29\u001b[0m \u001b[38;5;28;01mfrom\u001b[39;00m \u001b[38;5;21;01m.\u001b[39;00m\u001b[38;5;21;01mutils\u001b[39;00m \u001b[38;5;28;01mimport\u001b[39;00m ExplicitEnum, TensorType, is_jax_tensor, is_tf_tensor, is_torch_tensor\n",
      "File \u001b[0;32m~/.pyenv/versions/3.12.2/lib/python3.12/site-packages/transformers/image_utils.py:59\u001b[0m\n\u001b[1;32m     58\u001b[0m \u001b[38;5;28;01mif\u001b[39;00m is_torchvision_available():\n\u001b[0;32m---> 59\u001b[0m     \u001b[38;5;28;01mfrom\u001b[39;00m \u001b[38;5;21;01mtorchvision\u001b[39;00m\u001b[38;5;21;01m.\u001b[39;00m\u001b[38;5;21;01mtransforms\u001b[39;00m \u001b[38;5;28;01mimport\u001b[39;00m InterpolationMode\n\u001b[1;32m     61\u001b[0m     pil_torch_interpolation_mapping \u001b[38;5;241m=\u001b[39m {\n\u001b[1;32m     62\u001b[0m         PILImageResampling\u001b[38;5;241m.\u001b[39mNEAREST: InterpolationMode\u001b[38;5;241m.\u001b[39mNEAREST_EXACT,\n\u001b[1;32m     63\u001b[0m         PILImageResampling\u001b[38;5;241m.\u001b[39mBOX: InterpolationMode\u001b[38;5;241m.\u001b[39mBOX,\n\u001b[0;32m   (...)\u001b[0m\n\u001b[1;32m     67\u001b[0m         PILImageResampling\u001b[38;5;241m.\u001b[39mLANCZOS: InterpolationMode\u001b[38;5;241m.\u001b[39mLANCZOS,\n\u001b[1;32m     68\u001b[0m     }\n",
      "File \u001b[0;32m~/.pyenv/versions/3.12.2/lib/python3.12/site-packages/torchvision/__init__.py:6\u001b[0m\n\u001b[1;32m      5\u001b[0m \u001b[38;5;28;01mimport\u001b[39;00m \u001b[38;5;21;01mtorch\u001b[39;00m\n\u001b[0;32m----> 6\u001b[0m \u001b[38;5;28;01mfrom\u001b[39;00m \u001b[38;5;21;01mtorchvision\u001b[39;00m \u001b[38;5;28;01mimport\u001b[39;00m _meta_registrations, datasets, io, models, ops, transforms, utils\n\u001b[1;32m      8\u001b[0m \u001b[38;5;28;01mfrom\u001b[39;00m \u001b[38;5;21;01m.\u001b[39;00m\u001b[38;5;21;01mextension\u001b[39;00m \u001b[38;5;28;01mimport\u001b[39;00m _HAS_OPS\n",
      "File \u001b[0;32m~/.pyenv/versions/3.12.2/lib/python3.12/site-packages/torchvision/datasets/__init__.py:1\u001b[0m\n\u001b[0;32m----> 1\u001b[0m \u001b[38;5;28;01mfrom\u001b[39;00m \u001b[38;5;21;01m.\u001b[39;00m\u001b[38;5;21;01m_optical_flow\u001b[39;00m \u001b[38;5;28;01mimport\u001b[39;00m FlyingChairs, FlyingThings3D, HD1K, KittiFlow, Sintel\n\u001b[1;32m      2\u001b[0m \u001b[38;5;28;01mfrom\u001b[39;00m \u001b[38;5;21;01m.\u001b[39;00m\u001b[38;5;21;01m_stereo_matching\u001b[39;00m \u001b[38;5;28;01mimport\u001b[39;00m (\n\u001b[1;32m      3\u001b[0m     CarlaStereo,\n\u001b[1;32m      4\u001b[0m     CREStereo,\n\u001b[0;32m   (...)\u001b[0m\n\u001b[1;32m     12\u001b[0m     SintelStereo,\n\u001b[1;32m     13\u001b[0m )\n",
      "File \u001b[0;32m~/.pyenv/versions/3.12.2/lib/python3.12/site-packages/torchvision/datasets/_optical_flow.py:13\u001b[0m\n\u001b[1;32m     12\u001b[0m \u001b[38;5;28;01mfrom\u001b[39;00m \u001b[38;5;21;01m.\u001b[39;00m\u001b[38;5;21;01m.\u001b[39;00m\u001b[38;5;21;01mio\u001b[39;00m\u001b[38;5;21;01m.\u001b[39;00m\u001b[38;5;21;01mimage\u001b[39;00m \u001b[38;5;28;01mimport\u001b[39;00m _read_png_16\n\u001b[0;32m---> 13\u001b[0m \u001b[38;5;28;01mfrom\u001b[39;00m \u001b[38;5;21;01m.\u001b[39;00m\u001b[38;5;21;01mutils\u001b[39;00m \u001b[38;5;28;01mimport\u001b[39;00m _read_pfm, verify_str_arg\n\u001b[1;32m     14\u001b[0m \u001b[38;5;28;01mfrom\u001b[39;00m \u001b[38;5;21;01m.\u001b[39;00m\u001b[38;5;21;01mvision\u001b[39;00m \u001b[38;5;28;01mimport\u001b[39;00m VisionDataset\n",
      "File \u001b[0;32m~/.pyenv/versions/3.12.2/lib/python3.12/site-packages/torchvision/datasets/utils.py:4\u001b[0m\n\u001b[1;32m      3\u001b[0m \u001b[38;5;28;01mimport\u001b[39;00m \u001b[38;5;21;01mhashlib\u001b[39;00m\n\u001b[0;32m----> 4\u001b[0m \u001b[38;5;28;01mimport\u001b[39;00m \u001b[38;5;21;01mlzma\u001b[39;00m\n\u001b[1;32m      5\u001b[0m \u001b[38;5;28;01mimport\u001b[39;00m \u001b[38;5;21;01mos\u001b[39;00m\n",
      "File \u001b[0;32m~/.pyenv/versions/3.12.2/lib/python3.12/lzma.py:27\u001b[0m\n\u001b[1;32m     26\u001b[0m \u001b[38;5;28;01mimport\u001b[39;00m \u001b[38;5;21;01mos\u001b[39;00m\n\u001b[0;32m---> 27\u001b[0m \u001b[38;5;28;01mfrom\u001b[39;00m \u001b[38;5;21;01m_lzma\u001b[39;00m \u001b[38;5;28;01mimport\u001b[39;00m \u001b[38;5;241m*\u001b[39m\n\u001b[1;32m     28\u001b[0m \u001b[38;5;28;01mfrom\u001b[39;00m \u001b[38;5;21;01m_lzma\u001b[39;00m \u001b[38;5;28;01mimport\u001b[39;00m _encode_filter_properties, _decode_filter_properties\n",
      "\u001b[0;31mModuleNotFoundError\u001b[0m: No module named '_lzma'",
      "\nThe above exception was the direct cause of the following exception:\n",
      "\u001b[0;31mModuleNotFoundError\u001b[0m                       Traceback (most recent call last)",
      "Cell \u001b[0;32mIn[3], line 12\u001b[0m\n\u001b[1;32m      9\u001b[0m sys\u001b[38;5;241m.\u001b[39mpath\u001b[38;5;241m.\u001b[39mappend(os\u001b[38;5;241m.\u001b[39mpath\u001b[38;5;241m.\u001b[39mabspath(\u001b[38;5;124m'\u001b[39m\u001b[38;5;124m..\u001b[39m\u001b[38;5;124m'\u001b[39m))\n\u001b[1;32m     11\u001b[0m \u001b[38;5;28;01mimport\u001b[39;00m \u001b[38;5;21;01mscore\u001b[39;00m\n\u001b[0;32m---> 12\u001b[0m \u001b[38;5;28;01mimport\u001b[39;00m \u001b[38;5;21;01mnovel\u001b[39;00m\n\u001b[1;32m     13\u001b[0m \u001b[38;5;28;01mimport\u001b[39;00m \u001b[38;5;21;01msearch_set\u001b[39;00m\n\u001b[1;32m     14\u001b[0m \u001b[38;5;28;01mimport\u001b[39;00m \u001b[38;5;21;01mindicator\u001b[39;00m\n",
      "File \u001b[0;32m~/Documents/repo/git/clinical-score-2/novel.py:3\u001b[0m\n\u001b[1;32m      1\u001b[0m \u001b[38;5;66;03m# Imports & NLP Code\u001b[39;00m\n\u001b[1;32m      2\u001b[0m \u001b[38;5;28;01mimport\u001b[39;00m \u001b[38;5;21;01mpandas\u001b[39;00m \u001b[38;5;28;01mas\u001b[39;00m \u001b[38;5;21;01mpd\u001b[39;00m\n\u001b[0;32m----> 3\u001b[0m \u001b[38;5;28;01mfrom\u001b[39;00m \u001b[38;5;21;01mtransformers\u001b[39;00m \u001b[38;5;28;01mimport\u001b[39;00m pipeline\n\u001b[1;32m      4\u001b[0m \u001b[38;5;28;01mimport\u001b[39;00m \u001b[38;5;21;01mpandas\u001b[39;00m \u001b[38;5;28;01mas\u001b[39;00m \u001b[38;5;21;01mpd\u001b[39;00m\n\u001b[1;32m      5\u001b[0m \u001b[38;5;28;01mimport\u001b[39;00m \u001b[38;5;21;01mrequests\u001b[39;00m\n",
      "File \u001b[0;32m~/.pyenv/versions/3.12.2/lib/python3.12/site-packages/transformers/utils/import_utils.py:2279\u001b[0m, in \u001b[0;36m_LazyModule.__getattr__\u001b[0;34m(self, name)\u001b[0m\n\u001b[1;32m   2277\u001b[0m         value \u001b[38;5;241m=\u001b[39m \u001b[38;5;28mgetattr\u001b[39m(module, name)\n\u001b[1;32m   2278\u001b[0m     \u001b[38;5;28;01mexcept\u001b[39;00m (\u001b[38;5;167;01mModuleNotFoundError\u001b[39;00m, \u001b[38;5;167;01mRuntimeError\u001b[39;00m) \u001b[38;5;28;01mas\u001b[39;00m e:\n\u001b[0;32m-> 2279\u001b[0m         \u001b[38;5;28;01mraise\u001b[39;00m \u001b[38;5;167;01mModuleNotFoundError\u001b[39;00m(\n\u001b[1;32m   2280\u001b[0m             \u001b[38;5;124mf\u001b[39m\u001b[38;5;124m\"\u001b[39m\u001b[38;5;124mCould not import module \u001b[39m\u001b[38;5;124m'\u001b[39m\u001b[38;5;132;01m{\u001b[39;00mname\u001b[38;5;132;01m}\u001b[39;00m\u001b[38;5;124m'\u001b[39m\u001b[38;5;124m. Are this object\u001b[39m\u001b[38;5;124m'\u001b[39m\u001b[38;5;124ms requirements defined correctly?\u001b[39m\u001b[38;5;124m\"\u001b[39m\n\u001b[1;32m   2281\u001b[0m         ) \u001b[38;5;28;01mfrom\u001b[39;00m \u001b[38;5;21;01me\u001b[39;00m\n\u001b[1;32m   2283\u001b[0m \u001b[38;5;28;01melif\u001b[39;00m name \u001b[38;5;129;01min\u001b[39;00m \u001b[38;5;28mself\u001b[39m\u001b[38;5;241m.\u001b[39m_modules:\n\u001b[1;32m   2284\u001b[0m     \u001b[38;5;28;01mtry\u001b[39;00m:\n",
      "\u001b[0;31mModuleNotFoundError\u001b[0m: Could not import module 'pipeline'. Are this object's requirements defined correctly?"
     ]
    }
   ],
   "source": [
    "import pandas as pd\n",
    "import sys, os\n",
    "import inflect\n",
    "from tqdm import tqdm\n",
    "import requests\n",
    "import ast\n",
    "\n",
    "# Add the parent directory of this notebook to the Python path\n",
    "sys.path.append(os.path.abspath('..'))\n",
    "\n",
    "import score\n",
    "import novel\n",
    "import search_set\n",
    "import indicator\n",
    "import literature\n",
    "\n",
    "\n",
    "# Surpress NLP Mask Warning for Apple Silicon\n",
    "import warnings\n",
    "warnings.filterwarnings(\n",
    "    \"ignore\",\n",
    "    category=FutureWarning,\n",
    "    message=r\".*encoder_attention_mask.*BertSdpaSelfAttention\\.forward\"\n",
    ")"
   ]
  },
  {
   "cell_type": "markdown",
   "metadata": {},
   "source": [
    "## Curate Literature (DGIdb Control)"
   ]
  },
  {
   "cell_type": "code",
   "execution_count": 7,
   "metadata": {},
   "outputs": [
    {
     "name": "stdout",
     "output_type": "stream",
     "text": [
      "13142 PMIDs found!\n",
      "Fetching...\n"
     ]
    },
    {
     "name": "stderr",
     "output_type": "stream",
     "text": [
      "100%|██████████| 66/66 [01:29<00:00,  1.36s/it]\n"
     ]
    },
    {
     "data": {
      "text/plain": [
       "[('38496920',\n",
       "  'Isocitrate dehydrogenase (IDH) is commonly mutated (mIDH) in gliomas, and this mutant enzyme produces the oncometabolite 2-hydroxyglutarate (2HG). 2HG promotes gliomagenesis and is implicated in epileptogenesis. Ivosidenib (IVO), a small molecule oral mIDH1 inhibitor, is FDA-approved for mIDH1 newly diagnosed and relapsed/refractory acute myeloid leukemia. Moreover, IVO has efficacy in clinical trials for recurrent mIDH1 gliomas. Given the lack of targeted treatments for gliomas, we initiated off-label IVO for mIDH glioma patients in October 2020. Retrospectively, we sought to assess early outcomes in our patients and describe their experience on IVO from October 2020 through February 2022. Our objective was to report on the following variables of off-label use of IVO: radiographic response, seizure control, tolerability, and access to the medication. All patients initially received single-agent IVO dosed at 500 mg orally once daily. The cohort age range was 21-74 years. Tumor types included astrocytoma ( Targeted therapies like IVO are options for mIDH glioma patients and can provide positive oncologic and neurological outcomes.'),\n",
       " ('10100098',\n",
       "  'The tissue renin-angiotensin system and extracellular matrix are involved in the cardiovascular hypertrophy and remodeling induced by hypertension. In this study, we examined the gene expression of the tissue renin-angiotensin system and fibronectin in inbred Dahl Iwai salt-sensitive and salt-resistant rats. Eight pairs of 6-week-old male Dahl Iwai salt-sensitive and salt-resistant rats were fed either a low- or high-salt diet (0.3% or 8% NaCl, respectively) for 4 weeks. Activities of the circulating renin-angiotensin system were measured by radioimmunoassay and the gene expression of tissue angiotensinogen, the angiotensin II type 1 receptor (AT1) and fibronectin were analyzed by Northern blot analysis. Salt loading significantly increased blood pressure and produced cardiovascular hypertrophy and nephrosclerosis in the salt-sensitive rats. Activities of the circulating renin-angiotensin system were lower in salt-sensitive rats than in salt-resistant rats fed the low-salt diet, and salt loading lowered these activities in salt-resistant rats but not in salt-sensitive rats. In salt-resistant rats, salt loading increased renal, cardiac and aortic angiotensinogen, AT1 and fibronectin messenger (m)RNA expression except for aortic fibronectin mRNA expression. In contrast, in the salt-sensitive rats, salt loading stimulated the expression of cardiac fibronectin and aortic angiotensinogen, AT1 and fibronectin mRNAs. Furthermore, the cardiac and aortic fibronectin mRNA levels in salt-sensitive rats were higher than those in salt-resistant rats when both strains were fed the high-salt diet. These results demonstrate that the expression of tissue angiotensinogen, AT1 and fibronectin mRNAs is regulated differently in Dahl Iwai salt-sensitive and salt-resistant rats, and indicate that salt-mediated hypertension activates the cardiac fibronectin gene independently of the tissue renin-angiotensin system and stimulates the aortic fibronectin gene with activation of the tissue renin-angiotensin system.'),\n",
       " ('25686592',\n",
       "  'Intestinal P-glycoprotein (P-gp) is a limiting step for oral absorption of drugs. Therefore, P-gp inhibitors have been studied as enhancers of oral absorption of drugs that are P-gp substrates. We investigated the in vitro and in vivo P-gp inhibitory activity of synthesized xanthone analogues. With 3-(3-chloro-2-hydroxypropoxy)-1-hydroxy-9H-thioxanthen-9-one, compound 13, accumulation of daunomycin (DNM) increased 707% and efflux of DNM decreased 66% compared to DNM alone. Relative bioavailability (RB) of paclitaxel (PTX, 25 mg/kg) increased 2.5-fold after oral administration with 13 (5 mg/kg). In a xenograft animal model, oral administration of PTX (40 mg/kg) with 13 (10 mg/kg) significantly inhibited tumour growth and was more effective than intravenously administered PTX (10 mg/kg) alone. Therefore, the synthesized xanthone analogue 13 might have therapeutic benefits for oral absorption of P-gp substrate anticancer drugs.'),\n",
       " ('23920485',\n",
       "  'Design, synthesis and anticancer activity of a series of imine-pyrazolopyrimidinones is reported for the first time. Compounds 9d, 9n and 9o in the series show encouraging in vitro anticancer activity with low micromolar IC50 values against prostate (PC3) and breast (MCF7) cancer cell lines. Some notions about structure-activity relationships and plausible mechanism of biological activity are presented.'),\n",
       " ('23459444',\n",
       "  'Compelling evidence points to a key role for insulin-like growth factor 1 (IGF1) signaling in breast cancer development and progression. In addition, IGF1 receptor (IGF1R) expression has been correlated and functionally linked with estrogen receptor (ER) signaling. Recent translational studies support a cross talk between IGF1R and ERα at different levels and data suggest enhanced IGF1R signaling as a causative mechanism of tamoxifen (TAM) resistance. We tested whether functional germline variations in the IGF pathway are associated with clinical outcome in ER-positive primary invasive breast cancer patients, who were treated with surgery and adjuvant TAM. Tissue samples of 222 patients with ER+ primary invasive breast cancer, who had undergone surgery at Charing Cross Hospital, London, UK between 1981 and 2003, were analyzed. Genomic DNA was extracted from formalin-fixed, paraffin-embedded tissue samples and six functional IGF1 pathway polymorphisms were analyzed using direct DNA sequencing and PCR-restriction fragment length polymorphism. In multivariable analysis, patients with primary invasive breast cancer carrying IGF1R_rs2016347 G allele had a significantly increased risk of early tumor progression (hazard ratio (HR) 2.01; adjusted P=0.004) and death (HR 1.84; adjusted P=0.023) compared with patients carrying G/T or T/T, independent of established clinicopathological determinants. This association remained significant after adjusting for multiple testing. In addition, we were able to demonstrate that IRS1_rs1801123 and IGFBP3_rs2854744 were significantly associated with lymph node involvement and tumor size, respectively. We provide the first evidence for IGF1R_rs2016347 as an independent prognostic marker for ER+ breast cancer patients treated with TAM and support a rational for combined treatment strategies.')]"
      ]
     },
     "execution_count": 7,
     "metadata": {},
     "output_type": "execute_result"
    }
   ],
   "source": [
    "publications = pd.read_csv('data/dgidb/publications.csv')\n",
    "pmids = publications['pmid'].tolist()\n",
    "pmids = [str(pmid) for pmid in pmids]\n",
    "abstracts = literature.fetch_abstracts(pmids)\n",
    "abstracts[0:5]"
   ]
  },
  {
   "cell_type": "code",
   "execution_count": 11,
   "metadata": {},
   "outputs": [
    {
     "data": {
      "text/html": [
       "<div>\n",
       "<style scoped>\n",
       "    .dataframe tbody tr th:only-of-type {\n",
       "        vertical-align: middle;\n",
       "    }\n",
       "\n",
       "    .dataframe tbody tr th {\n",
       "        vertical-align: top;\n",
       "    }\n",
       "\n",
       "    .dataframe thead th {\n",
       "        text-align: right;\n",
       "    }\n",
       "</style>\n",
       "<table border=\"1\" class=\"dataframe\">\n",
       "  <thead>\n",
       "    <tr style=\"text-align: right;\">\n",
       "      <th></th>\n",
       "      <th>Title</th>\n",
       "      <th>Abstract</th>\n",
       "    </tr>\n",
       "  </thead>\n",
       "  <tbody>\n",
       "    <tr>\n",
       "      <th>0</th>\n",
       "      <td>38496920</td>\n",
       "      <td>Isocitrate dehydrogenase (IDH) is commonly mut...</td>\n",
       "    </tr>\n",
       "    <tr>\n",
       "      <th>1</th>\n",
       "      <td>10100098</td>\n",
       "      <td>The tissue renin-angiotensin system and extrac...</td>\n",
       "    </tr>\n",
       "    <tr>\n",
       "      <th>2</th>\n",
       "      <td>25686592</td>\n",
       "      <td>Intestinal P-glycoprotein (P-gp) is a limiting...</td>\n",
       "    </tr>\n",
       "    <tr>\n",
       "      <th>3</th>\n",
       "      <td>23920485</td>\n",
       "      <td>Design, synthesis and anticancer activity of a...</td>\n",
       "    </tr>\n",
       "    <tr>\n",
       "      <th>4</th>\n",
       "      <td>23459444</td>\n",
       "      <td>Compelling evidence points to a key role for i...</td>\n",
       "    </tr>\n",
       "    <tr>\n",
       "      <th>...</th>\n",
       "      <td>...</td>\n",
       "      <td>...</td>\n",
       "    </tr>\n",
       "    <tr>\n",
       "      <th>12756</th>\n",
       "      <td>20855208</td>\n",
       "      <td>Cancer therapy has moved beyond conventional c...</td>\n",
       "    </tr>\n",
       "    <tr>\n",
       "      <th>12757</th>\n",
       "      <td>22369181</td>\n",
       "      <td>The ligand-regulated nuclear receptor peroxiso...</td>\n",
       "    </tr>\n",
       "    <tr>\n",
       "      <th>12758</th>\n",
       "      <td>37773077</td>\n",
       "      <td>Approximately 10% to 15% of triple-negative br...</td>\n",
       "    </tr>\n",
       "    <tr>\n",
       "      <th>12759</th>\n",
       "      <td>29992026</td>\n",
       "      <td>Tramadol is a complex drug, being metabolized ...</td>\n",
       "    </tr>\n",
       "    <tr>\n",
       "      <th>12760</th>\n",
       "      <td>20542753</td>\n",
       "      <td>Bladder cancer accounts for nearly 5% of all n...</td>\n",
       "    </tr>\n",
       "  </tbody>\n",
       "</table>\n",
       "<p>12761 rows × 2 columns</p>\n",
       "</div>"
      ],
      "text/plain": [
       "          Title                                           Abstract\n",
       "0      38496920  Isocitrate dehydrogenase (IDH) is commonly mut...\n",
       "1      10100098  The tissue renin-angiotensin system and extrac...\n",
       "2      25686592  Intestinal P-glycoprotein (P-gp) is a limiting...\n",
       "3      23920485  Design, synthesis and anticancer activity of a...\n",
       "4      23459444  Compelling evidence points to a key role for i...\n",
       "...         ...                                                ...\n",
       "12756  20855208  Cancer therapy has moved beyond conventional c...\n",
       "12757  22369181  The ligand-regulated nuclear receptor peroxiso...\n",
       "12758  37773077  Approximately 10% to 15% of triple-negative br...\n",
       "12759  29992026  Tramadol is a complex drug, being metabolized ...\n",
       "12760  20542753  Bladder cancer accounts for nearly 5% of all n...\n",
       "\n",
       "[12761 rows x 2 columns]"
      ]
     },
     "execution_count": 11,
     "metadata": {},
     "output_type": "execute_result"
    }
   ],
   "source": [
    "abstract = pd.DataFrame(abstracts, columns=[\"Title\", \"Abstract\"])\n",
    "abstract"
   ]
  },
  {
   "cell_type": "code",
   "execution_count": 11,
   "metadata": {},
   "outputs": [
    {
     "name": "stderr",
     "output_type": "stream",
     "text": [
      "100%|██████████| 12761/12761 [32:21<00:00,  6.57it/s] \n"
     ]
    },
    {
     "data": {
      "text/html": [
       "<div>\n",
       "<style scoped>\n",
       "    .dataframe tbody tr th:only-of-type {\n",
       "        vertical-align: middle;\n",
       "    }\n",
       "\n",
       "    .dataframe tbody tr th {\n",
       "        vertical-align: top;\n",
       "    }\n",
       "\n",
       "    .dataframe thead th {\n",
       "        text-align: right;\n",
       "    }\n",
       "</style>\n",
       "<table border=\"1\" class=\"dataframe\">\n",
       "  <thead>\n",
       "    <tr style=\"text-align: right;\">\n",
       "      <th></th>\n",
       "      <th>entity_group</th>\n",
       "      <th>score</th>\n",
       "      <th>word</th>\n",
       "      <th>start</th>\n",
       "      <th>end</th>\n",
       "      <th>original_text</th>\n",
       "    </tr>\n",
       "  </thead>\n",
       "  <tbody>\n",
       "    <tr>\n",
       "      <th>0</th>\n",
       "      <td>GENETIC</td>\n",
       "      <td>0.999992</td>\n",
       "      <td>Isocitrate dehydrogenase</td>\n",
       "      <td>0</td>\n",
       "      <td>24</td>\n",
       "      <td>Isocitrate dehydrogenase (IDH) is commonly mut...</td>\n",
       "    </tr>\n",
       "    <tr>\n",
       "      <th>1</th>\n",
       "      <td>GENETIC</td>\n",
       "      <td>0.999984</td>\n",
       "      <td>IDH</td>\n",
       "      <td>26</td>\n",
       "      <td>29</td>\n",
       "      <td>Isocitrate dehydrogenase (IDH) is commonly mut...</td>\n",
       "    </tr>\n",
       "    <tr>\n",
       "      <th>2</th>\n",
       "      <td>GENETIC</td>\n",
       "      <td>0.999972</td>\n",
       "      <td>mIDH</td>\n",
       "      <td>52</td>\n",
       "      <td>56</td>\n",
       "      <td>Isocitrate dehydrogenase (IDH) is commonly mut...</td>\n",
       "    </tr>\n",
       "    <tr>\n",
       "      <th>3</th>\n",
       "      <td>GENETIC</td>\n",
       "      <td>0.999993</td>\n",
       "      <td>mIDH1</td>\n",
       "      <td>252</td>\n",
       "      <td>257</td>\n",
       "      <td>Isocitrate dehydrogenase (IDH) is commonly mut...</td>\n",
       "    </tr>\n",
       "    <tr>\n",
       "      <th>4</th>\n",
       "      <td>GENETIC</td>\n",
       "      <td>0.999970</td>\n",
       "      <td>mIDH1</td>\n",
       "      <td>289</td>\n",
       "      <td>294</td>\n",
       "      <td>Isocitrate dehydrogenase (IDH) is commonly mut...</td>\n",
       "    </tr>\n",
       "    <tr>\n",
       "      <th>...</th>\n",
       "      <td>...</td>\n",
       "      <td>...</td>\n",
       "      <td>...</td>\n",
       "      <td>...</td>\n",
       "      <td>...</td>\n",
       "      <td>...</td>\n",
       "    </tr>\n",
       "    <tr>\n",
       "      <th>317746</th>\n",
       "      <td>DISEASE</td>\n",
       "      <td>0.999982</td>\n",
       "      <td>tumor</td>\n",
       "      <td>1252</td>\n",
       "      <td>1257</td>\n",
       "      <td>Bladder cancer accounts for nearly 5% of all n...</td>\n",
       "    </tr>\n",
       "    <tr>\n",
       "      <th>317747</th>\n",
       "      <td>DISEASE</td>\n",
       "      <td>0.999979</td>\n",
       "      <td>tumor</td>\n",
       "      <td>1333</td>\n",
       "      <td>1338</td>\n",
       "      <td>Bladder cancer accounts for nearly 5% of all n...</td>\n",
       "    </tr>\n",
       "    <tr>\n",
       "      <th>317748</th>\n",
       "      <td>DISEASE</td>\n",
       "      <td>0.999992</td>\n",
       "      <td>bladder cancer</td>\n",
       "      <td>1403</td>\n",
       "      <td>1417</td>\n",
       "      <td>Bladder cancer accounts for nearly 5% of all n...</td>\n",
       "    </tr>\n",
       "    <tr>\n",
       "      <th>317749</th>\n",
       "      <td>DISEASE</td>\n",
       "      <td>0.999992</td>\n",
       "      <td>bladder cancer</td>\n",
       "      <td>1509</td>\n",
       "      <td>1523</td>\n",
       "      <td>Bladder cancer accounts for nearly 5% of all n...</td>\n",
       "    </tr>\n",
       "    <tr>\n",
       "      <th>317750</th>\n",
       "      <td>DISEASE</td>\n",
       "      <td>0.999991</td>\n",
       "      <td>bladder tumors</td>\n",
       "      <td>1601</td>\n",
       "      <td>1615</td>\n",
       "      <td>Bladder cancer accounts for nearly 5% of all n...</td>\n",
       "    </tr>\n",
       "  </tbody>\n",
       "</table>\n",
       "<p>317751 rows × 6 columns</p>\n",
       "</div>"
      ],
      "text/plain": [
       "       entity_group     score                      word  start   end  \\\n",
       "0           GENETIC  0.999992  Isocitrate dehydrogenase      0    24   \n",
       "1           GENETIC  0.999984                       IDH     26    29   \n",
       "2           GENETIC  0.999972                      mIDH     52    56   \n",
       "3           GENETIC  0.999993                     mIDH1    252   257   \n",
       "4           GENETIC  0.999970                     mIDH1    289   294   \n",
       "...             ...       ...                       ...    ...   ...   \n",
       "317746      DISEASE  0.999982                     tumor   1252  1257   \n",
       "317747      DISEASE  0.999979                     tumor   1333  1338   \n",
       "317748      DISEASE  0.999992            bladder cancer   1403  1417   \n",
       "317749      DISEASE  0.999992            bladder cancer   1509  1523   \n",
       "317750      DISEASE  0.999991            bladder tumors   1601  1615   \n",
       "\n",
       "                                            original_text  \n",
       "0       Isocitrate dehydrogenase (IDH) is commonly mut...  \n",
       "1       Isocitrate dehydrogenase (IDH) is commonly mut...  \n",
       "2       Isocitrate dehydrogenase (IDH) is commonly mut...  \n",
       "3       Isocitrate dehydrogenase (IDH) is commonly mut...  \n",
       "4       Isocitrate dehydrogenase (IDH) is commonly mut...  \n",
       "...                                                   ...  \n",
       "317746  Bladder cancer accounts for nearly 5% of all n...  \n",
       "317747  Bladder cancer accounts for nearly 5% of all n...  \n",
       "317748  Bladder cancer accounts for nearly 5% of all n...  \n",
       "317749  Bladder cancer accounts for nearly 5% of all n...  \n",
       "317750  Bladder cancer accounts for nearly 5% of all n...  \n",
       "\n",
       "[317751 rows x 6 columns]"
      ]
     },
     "execution_count": 11,
     "metadata": {},
     "output_type": "execute_result"
    }
   ],
   "source": [
    "results = novel.batch(abstract['Abstract'])\n",
    "results"
   ]
  },
  {
   "cell_type": "code",
   "execution_count": 13,
   "metadata": {},
   "outputs": [
    {
     "data": {
      "text/html": [
       "<div>\n",
       "<style scoped>\n",
       "    .dataframe tbody tr th:only-of-type {\n",
       "        vertical-align: middle;\n",
       "    }\n",
       "\n",
       "    .dataframe tbody tr th {\n",
       "        vertical-align: top;\n",
       "    }\n",
       "\n",
       "    .dataframe thead th {\n",
       "        text-align: right;\n",
       "    }\n",
       "</style>\n",
       "<table border=\"1\" class=\"dataframe\">\n",
       "  <thead>\n",
       "    <tr style=\"text-align: right;\">\n",
       "      <th></th>\n",
       "      <th>entity_group</th>\n",
       "      <th>score</th>\n",
       "      <th>word</th>\n",
       "      <th>start</th>\n",
       "      <th>end</th>\n",
       "      <th>original_text</th>\n",
       "      <th>concept_match_type</th>\n",
       "      <th>concept_id</th>\n",
       "      <th>concept_label</th>\n",
       "    </tr>\n",
       "  </thead>\n",
       "  <tbody>\n",
       "    <tr>\n",
       "      <th>5</th>\n",
       "      <td>CHEMICAL</td>\n",
       "      <td>0.999998</td>\n",
       "      <td>Isocitrate</td>\n",
       "      <td>0</td>\n",
       "      <td>10</td>\n",
       "      <td>Isocitrate dehydrogenase (IDH) is commonly mut...</td>\n",
       "      <td>80.0</td>\n",
       "      <td>normalize.therapy.chembl:CHEMBL539669</td>\n",
       "      <td>ISOCITRATE</td>\n",
       "    </tr>\n",
       "    <tr>\n",
       "      <th>6</th>\n",
       "      <td>CHEMICAL</td>\n",
       "      <td>0.999999</td>\n",
       "      <td>2 - hydroxyglutarate</td>\n",
       "      <td>121</td>\n",
       "      <td>139</td>\n",
       "      <td>Isocitrate dehydrogenase (IDH) is commonly mut...</td>\n",
       "      <td>0.0</td>\n",
       "      <td>None</td>\n",
       "      <td>None</td>\n",
       "    </tr>\n",
       "    <tr>\n",
       "      <th>7</th>\n",
       "      <td>CHEMICAL</td>\n",
       "      <td>0.999998</td>\n",
       "      <td>2HG</td>\n",
       "      <td>141</td>\n",
       "      <td>144</td>\n",
       "      <td>Isocitrate dehydrogenase (IDH) is commonly mut...</td>\n",
       "      <td>0.0</td>\n",
       "      <td>None</td>\n",
       "      <td>None</td>\n",
       "    </tr>\n",
       "    <tr>\n",
       "      <th>8</th>\n",
       "      <td>CHEMICAL</td>\n",
       "      <td>0.999994</td>\n",
       "      <td>2HG</td>\n",
       "      <td>147</td>\n",
       "      <td>150</td>\n",
       "      <td>Isocitrate dehydrogenase (IDH) is commonly mut...</td>\n",
       "      <td>0.0</td>\n",
       "      <td>None</td>\n",
       "      <td>None</td>\n",
       "    </tr>\n",
       "    <tr>\n",
       "      <th>9</th>\n",
       "      <td>CHEMICAL</td>\n",
       "      <td>0.999996</td>\n",
       "      <td>Ivosidenib</td>\n",
       "      <td>212</td>\n",
       "      <td>222</td>\n",
       "      <td>Isocitrate dehydrogenase (IDH) is commonly mut...</td>\n",
       "      <td>80.0</td>\n",
       "      <td>normalize.therapy.rxcui:2049873</td>\n",
       "      <td>ivosidenib</td>\n",
       "    </tr>\n",
       "    <tr>\n",
       "      <th>...</th>\n",
       "      <td>...</td>\n",
       "      <td>...</td>\n",
       "      <td>...</td>\n",
       "      <td>...</td>\n",
       "      <td>...</td>\n",
       "      <td>...</td>\n",
       "      <td>...</td>\n",
       "      <td>...</td>\n",
       "      <td>...</td>\n",
       "    </tr>\n",
       "    <tr>\n",
       "      <th>317719</th>\n",
       "      <td>CHEMICAL</td>\n",
       "      <td>0.999972</td>\n",
       "      <td>olaparib</td>\n",
       "      <td>1450</td>\n",
       "      <td>1458</td>\n",
       "      <td>Approximately 10% to 15% of triple-negative br...</td>\n",
       "      <td>NaN</td>\n",
       "      <td>NaN</td>\n",
       "      <td>NaN</td>\n",
       "    </tr>\n",
       "    <tr>\n",
       "      <th>317720</th>\n",
       "      <td>CHEMICAL</td>\n",
       "      <td>0.999997</td>\n",
       "      <td>ceralasertib</td>\n",
       "      <td>1463</td>\n",
       "      <td>1475</td>\n",
       "      <td>Approximately 10% to 15% of triple-negative br...</td>\n",
       "      <td>NaN</td>\n",
       "      <td>NaN</td>\n",
       "      <td>NaN</td>\n",
       "    </tr>\n",
       "    <tr>\n",
       "      <th>317721</th>\n",
       "      <td>CHEMICAL</td>\n",
       "      <td>0.958486</td>\n",
       "      <td>olaparib</td>\n",
       "      <td>1641</td>\n",
       "      <td>1649</td>\n",
       "      <td>Approximately 10% to 15% of triple-negative br...</td>\n",
       "      <td>NaN</td>\n",
       "      <td>NaN</td>\n",
       "      <td>NaN</td>\n",
       "    </tr>\n",
       "    <tr>\n",
       "      <th>317728</th>\n",
       "      <td>CHEMICAL</td>\n",
       "      <td>0.999998</td>\n",
       "      <td>Tramadol</td>\n",
       "      <td>0</td>\n",
       "      <td>8</td>\n",
       "      <td>Tramadol is a complex drug, being metabolized ...</td>\n",
       "      <td>NaN</td>\n",
       "      <td>NaN</td>\n",
       "      <td>NaN</td>\n",
       "    </tr>\n",
       "    <tr>\n",
       "      <th>317729</th>\n",
       "      <td>CHEMICAL</td>\n",
       "      <td>0.999998</td>\n",
       "      <td>tramadol</td>\n",
       "      <td>293</td>\n",
       "      <td>301</td>\n",
       "      <td>Tramadol is a complex drug, being metabolized ...</td>\n",
       "      <td>NaN</td>\n",
       "      <td>NaN</td>\n",
       "      <td>NaN</td>\n",
       "    </tr>\n",
       "  </tbody>\n",
       "</table>\n",
       "<p>100297 rows × 9 columns</p>\n",
       "</div>"
      ],
      "text/plain": [
       "       entity_group     score                  word  start   end  \\\n",
       "5          CHEMICAL  0.999998            Isocitrate      0    10   \n",
       "6          CHEMICAL  0.999999  2 - hydroxyglutarate    121   139   \n",
       "7          CHEMICAL  0.999998                   2HG    141   144   \n",
       "8          CHEMICAL  0.999994                   2HG    147   150   \n",
       "9          CHEMICAL  0.999996            Ivosidenib    212   222   \n",
       "...             ...       ...                   ...    ...   ...   \n",
       "317719     CHEMICAL  0.999972              olaparib   1450  1458   \n",
       "317720     CHEMICAL  0.999997          ceralasertib   1463  1475   \n",
       "317721     CHEMICAL  0.958486              olaparib   1641  1649   \n",
       "317728     CHEMICAL  0.999998              Tramadol      0     8   \n",
       "317729     CHEMICAL  0.999998              tramadol    293   301   \n",
       "\n",
       "                                            original_text  concept_match_type  \\\n",
       "5       Isocitrate dehydrogenase (IDH) is commonly mut...                80.0   \n",
       "6       Isocitrate dehydrogenase (IDH) is commonly mut...                 0.0   \n",
       "7       Isocitrate dehydrogenase (IDH) is commonly mut...                 0.0   \n",
       "8       Isocitrate dehydrogenase (IDH) is commonly mut...                 0.0   \n",
       "9       Isocitrate dehydrogenase (IDH) is commonly mut...                80.0   \n",
       "...                                                   ...                 ...   \n",
       "317719  Approximately 10% to 15% of triple-negative br...                 NaN   \n",
       "317720  Approximately 10% to 15% of triple-negative br...                 NaN   \n",
       "317721  Approximately 10% to 15% of triple-negative br...                 NaN   \n",
       "317728  Tramadol is a complex drug, being metabolized ...                 NaN   \n",
       "317729  Tramadol is a complex drug, being metabolized ...                 NaN   \n",
       "\n",
       "                                   concept_id concept_label  \n",
       "5       normalize.therapy.chembl:CHEMBL539669    ISOCITRATE  \n",
       "6                                        None          None  \n",
       "7                                        None          None  \n",
       "8                                        None          None  \n",
       "9             normalize.therapy.rxcui:2049873    ivosidenib  \n",
       "...                                       ...           ...  \n",
       "317719                                    NaN           NaN  \n",
       "317720                                    NaN           NaN  \n",
       "317721                                    NaN           NaN  \n",
       "317728                                    NaN           NaN  \n",
       "317729                                    NaN           NaN  \n",
       "\n",
       "[100297 rows x 9 columns]"
      ]
     },
     "execution_count": 13,
     "metadata": {},
     "output_type": "execute_result"
    }
   ],
   "source": [
    "results[results['entity_group'] == 'CHEMICAL']"
   ]
  },
  {
   "cell_type": "code",
   "execution_count": null,
   "metadata": {},
   "outputs": [
    {
     "name": "stderr",
     "output_type": "stream",
     "text": [
      "909it [04:04,  3.60it/s]/var/folders/5t/sfw5tjx56m10xb861_pd3wfm0000gq/T/ipykernel_86589/1454545004.py:37: FutureWarning: Setting an item of incompatible dtype is deprecated and will raise an error in a future version of pandas. Value 'Failure to Normalize' has dtype incompatible with float64, please explicitly cast to a compatible dtype first.\n",
      "  results.at[index, 'concept_match_type'] = norm_result[0]\n",
      "5000it [22:47,  8.47s/it]"
     ]
    },
    {
     "name": "stdout",
     "output_type": "stream",
     "text": [
      "Checkpoint saved at row 5000 -> normalized_results_checkpoint_checkpoint_5000.xlsx\n"
     ]
    },
    {
     "name": "stderr",
     "output_type": "stream",
     "text": [
      "10001it [48:24,  5.89s/it]"
     ]
    },
    {
     "name": "stdout",
     "output_type": "stream",
     "text": [
      "Checkpoint saved at row 10000 -> normalized_results_checkpoint_checkpoint_10000.xlsx\n"
     ]
    },
    {
     "name": "stderr",
     "output_type": "stream",
     "text": [
      "15001it [1:08:17,  5.96s/it]"
     ]
    },
    {
     "name": "stdout",
     "output_type": "stream",
     "text": [
      "Checkpoint saved at row 15000 -> normalized_results_checkpoint_checkpoint_15000.xlsx\n"
     ]
    },
    {
     "name": "stderr",
     "output_type": "stream",
     "text": [
      "20000it [1:28:44,  8.67s/it]"
     ]
    },
    {
     "name": "stdout",
     "output_type": "stream",
     "text": [
      "Checkpoint saved at row 20000 -> normalized_results_checkpoint_checkpoint_20000.xlsx\n"
     ]
    },
    {
     "name": "stderr",
     "output_type": "stream",
     "text": [
      "25001it [1:49:18,  6.03s/it]"
     ]
    },
    {
     "name": "stdout",
     "output_type": "stream",
     "text": [
      "Checkpoint saved at row 25000 -> normalized_results_checkpoint_checkpoint_25000.xlsx\n"
     ]
    },
    {
     "name": "stderr",
     "output_type": "stream",
     "text": [
      "30000it [2:09:52,  8.64s/it]"
     ]
    },
    {
     "name": "stdout",
     "output_type": "stream",
     "text": [
      "Checkpoint saved at row 30000 -> normalized_results_checkpoint_checkpoint_30000.xlsx\n"
     ]
    },
    {
     "name": "stderr",
     "output_type": "stream",
     "text": [
      "35002it [2:28:09,  4.17s/it]"
     ]
    },
    {
     "name": "stdout",
     "output_type": "stream",
     "text": [
      "Checkpoint saved at row 35000 -> normalized_results_checkpoint_checkpoint_35000.xlsx\n"
     ]
    },
    {
     "name": "stderr",
     "output_type": "stream",
     "text": [
      "40000it [2:40:19,  5.14s/it]"
     ]
    },
    {
     "name": "stdout",
     "output_type": "stream",
     "text": [
      "Checkpoint saved at row 40000 -> normalized_results_checkpoint_checkpoint_40000.xlsx\n"
     ]
    },
    {
     "name": "stderr",
     "output_type": "stream",
     "text": [
      "45001it [2:52:33,  5.54s/it]"
     ]
    },
    {
     "name": "stdout",
     "output_type": "stream",
     "text": [
      "Checkpoint saved at row 45000 -> normalized_results_checkpoint_checkpoint_45000.xlsx\n"
     ]
    },
    {
     "name": "stderr",
     "output_type": "stream",
     "text": [
      "50000it [3:04:42,  8.20s/it]"
     ]
    },
    {
     "name": "stdout",
     "output_type": "stream",
     "text": [
      "Checkpoint saved at row 50000 -> normalized_results_checkpoint_checkpoint_50000.xlsx\n"
     ]
    },
    {
     "name": "stderr",
     "output_type": "stream",
     "text": [
      "55001it [3:17:14,  5.88s/it]"
     ]
    },
    {
     "name": "stdout",
     "output_type": "stream",
     "text": [
      "Checkpoint saved at row 55000 -> normalized_results_checkpoint_checkpoint_55000.xlsx\n"
     ]
    },
    {
     "name": "stderr",
     "output_type": "stream",
     "text": [
      "60001it [3:29:22,  5.57s/it]"
     ]
    },
    {
     "name": "stdout",
     "output_type": "stream",
     "text": [
      "Checkpoint saved at row 60000 -> normalized_results_checkpoint_checkpoint_60000.xlsx\n"
     ]
    },
    {
     "name": "stderr",
     "output_type": "stream",
     "text": [
      "65002it [3:41:28,  4.50s/it]"
     ]
    },
    {
     "name": "stdout",
     "output_type": "stream",
     "text": [
      "Checkpoint saved at row 65000 -> normalized_results_checkpoint_checkpoint_65000.xlsx\n"
     ]
    },
    {
     "name": "stderr",
     "output_type": "stream",
     "text": [
      "70001it [3:53:19,  5.01s/it]"
     ]
    },
    {
     "name": "stdout",
     "output_type": "stream",
     "text": [
      "Checkpoint saved at row 70000 -> normalized_results_checkpoint_checkpoint_70000.xlsx\n"
     ]
    },
    {
     "name": "stderr",
     "output_type": "stream",
     "text": [
      "75001it [4:05:26,  5.32s/it]"
     ]
    },
    {
     "name": "stdout",
     "output_type": "stream",
     "text": [
      "Checkpoint saved at row 75000 -> normalized_results_checkpoint_checkpoint_75000.xlsx\n"
     ]
    },
    {
     "name": "stderr",
     "output_type": "stream",
     "text": [
      "80001it [4:17:25,  5.81s/it]"
     ]
    },
    {
     "name": "stdout",
     "output_type": "stream",
     "text": [
      "Checkpoint saved at row 80000 -> normalized_results_checkpoint_checkpoint_80000.xlsx\n"
     ]
    },
    {
     "name": "stderr",
     "output_type": "stream",
     "text": [
      "85001it [4:29:30,  4.80s/it]"
     ]
    },
    {
     "name": "stdout",
     "output_type": "stream",
     "text": [
      "Checkpoint saved at row 85000 -> normalized_results_checkpoint_checkpoint_85000.xlsx\n"
     ]
    },
    {
     "name": "stderr",
     "output_type": "stream",
     "text": [
      "90000it [4:41:41,  6.98s/it]"
     ]
    },
    {
     "name": "stdout",
     "output_type": "stream",
     "text": [
      "Checkpoint saved at row 90000 -> normalized_results_checkpoint_checkpoint_90000.xlsx\n"
     ]
    },
    {
     "name": "stderr",
     "output_type": "stream",
     "text": [
      "95001it [4:53:59,  4.49s/it]"
     ]
    },
    {
     "name": "stdout",
     "output_type": "stream",
     "text": [
      "Checkpoint saved at row 95000 -> normalized_results_checkpoint_checkpoint_95000.xlsx\n"
     ]
    },
    {
     "name": "stderr",
     "output_type": "stream",
     "text": [
      "100000it [5:06:24,  8.67s/it]"
     ]
    },
    {
     "name": "stdout",
     "output_type": "stream",
     "text": [
      "Checkpoint saved at row 100000 -> normalized_results_checkpoint_checkpoint_100000.xlsx\n"
     ]
    },
    {
     "name": "stderr",
     "output_type": "stream",
     "text": [
      "100297it [5:07:03,  5.44it/s]\n"
     ]
    },
    {
     "name": "stdout",
     "output_type": "stream",
     "text": [
      "Final results saved -> normalized_results_checkpoint_final.xlsx\n"
     ]
    }
   ],
   "source": [
    "def _singularize(word):\n",
    "    inflector = inflect.engine()\n",
    "    return inflector.singular_noun(word) or word\n",
    "\n",
    "def _normalize_therapy(word):\n",
    "    try:\n",
    "        r = requests.get(\n",
    "            f'https://normalize.cancervariants.org/therapy/normalize?q={word}&infer_namespace=true',\n",
    "            timeout=10  # Set timeout for network reliability\n",
    "        )\n",
    "        r.raise_for_status()\n",
    "        response = r.json()\n",
    "\n",
    "        if isinstance(response, dict) and response.get('match_type') is not None:\n",
    "            if response['match_type'] != 0:\n",
    "                return [\n",
    "                    response['match_type'],\n",
    "                    response['therapy']['id'],\n",
    "                    response['therapy']['name']\n",
    "                ]\n",
    "            else:\n",
    "                return [0, None, None]  # Not matched\n",
    "        else:\n",
    "            return ['Unexpected Response Format', None, None]\n",
    "    except requests.exceptions.RequestException as e:\n",
    "        return ['HTTP Error', str(e), None]\n",
    "    except Exception as e:\n",
    "        return ['Failure to Normalize', str(e), None]\n",
    "\n",
    "# Main loop\n",
    "checkpoint_interval = 5000\n",
    "output_base = \"normalized_results_checkpoint\"\n",
    "for idx, (index, row) in enumerate(tqdm(results[results['entity_group'] == 'CHEMICAL'].iterrows()), 1):\n",
    "    word = _singularize(row['word'])\n",
    "    norm_result = _normalize_therapy(word)\n",
    "\n",
    "    results.at[index, 'concept_match_type'] = norm_result[0]\n",
    "    results.at[index, 'concept_id'] = norm_result[1]\n",
    "    results.at[index, 'concept_label'] = norm_result[2]\n",
    "\n",
    "    if idx % checkpoint_interval == 0:\n",
    "        checkpoint_filename = f\"{output_base}_checkpoint_{idx}.xlsx\"\n",
    "        results.to_excel(checkpoint_filename, index=False)\n",
    "        print(f\"Checkpoint saved at row {idx} -> {checkpoint_filename}\")\n",
    "\n",
    "# Final save after loop completes\n",
    "final_filename = f\"{output_base}_final.xlsx\"\n",
    "# results.to_excel(final_filename, index=False)\n",
    "print(f\"Final results saved -> {final_filename}\")"
   ]
  },
  {
   "cell_type": "code",
   "execution_count": null,
   "metadata": {},
   "outputs": [
    {
     "ename": "NameError",
     "evalue": "name 'results' is not defined",
     "output_type": "error",
     "traceback": [
      "\u001b[0;31m---------------------------------------------------------------------------\u001b[0m",
      "\u001b[0;31mNameError\u001b[0m                                 Traceback (most recent call last)",
      "Cell \u001b[0;32mIn[1], line 1\u001b[0m\n\u001b[0;32m----> 1\u001b[0m \u001b[43mresults\u001b[49m\n",
      "\u001b[0;31mNameError\u001b[0m: name 'results' is not defined"
     ]
    }
   ],
   "source": [
    "results = pd.read_excel('normalized_results_checkpoint_final.xslx')"
   ]
  },
  {
   "cell_type": "code",
   "execution_count": 6,
   "metadata": {},
   "outputs": [
    {
     "name": "stderr",
     "output_type": "stream",
     "text": [
      "/var/folders/5t/sfw5tjx56m10xb861_pd3wfm0000gq/T/ipykernel_28062/3679117155.py:3: DeprecationWarning: DataFrameGroupBy.apply operated on the grouping columns. This behavior is deprecated, and in a future version of pandas the grouping columns will be excluded from the operation. Either pass `include_groups=False` to exclude the groupings or explicitly select the grouping columns after groupby to silence this warning.\n",
      "  condensed_results = tdf.groupby('original_text').apply(\n"
     ]
    },
    {
     "data": {
      "text/html": [
       "<div>\n",
       "<style scoped>\n",
       "    .dataframe tbody tr th:only-of-type {\n",
       "        vertical-align: middle;\n",
       "    }\n",
       "\n",
       "    .dataframe tbody tr th {\n",
       "        vertical-align: top;\n",
       "    }\n",
       "\n",
       "    .dataframe thead th {\n",
       "        text-align: right;\n",
       "    }\n",
       "</style>\n",
       "<table border=\"1\" class=\"dataframe\">\n",
       "  <thead>\n",
       "    <tr style=\"text-align: right;\">\n",
       "      <th></th>\n",
       "      <th>original_text</th>\n",
       "      <th>DRUG_LABELS</th>\n",
       "      <th>DRUG_IDS</th>\n",
       "    </tr>\n",
       "  </thead>\n",
       "  <tbody>\n",
       "    <tr>\n",
       "      <th>0</th>\n",
       "      <td>EAY131-H is an open-label, single-arm study. ...</td>\n",
       "      <td>dabrafenib | trametinib dimethyl sulfoxide</td>\n",
       "      <td>normalize.therapy.rxcui:1424911 | normalize.th...</td>\n",
       "    </tr>\n",
       "    <tr>\n",
       "      <th>1</th>\n",
       "      <td>Eligible patients had HER2-negative MBC with ...</td>\n",
       "      <td>alpelisib | paclitaxel</td>\n",
       "      <td>normalize.therapy.rxcui:2169285 | normalize.th...</td>\n",
       "    </tr>\n",
       "    <tr>\n",
       "      <th>2</th>\n",
       "      <td>Eligible patients had tumors with an activati...</td>\n",
       "      <td>Taselisib</td>\n",
       "      <td>normalize.therapy.ncit:C116876</td>\n",
       "    </tr>\n",
       "    <tr>\n",
       "      <th>3</th>\n",
       "      <td>Following transfection of exon 17 (E17) and e...</td>\n",
       "      <td>tyrosine | Ozogamicin</td>\n",
       "      <td>normalize.therapy.rxcui:10962 | normalize.ther...</td>\n",
       "    </tr>\n",
       "    <tr>\n",
       "      <th>4</th>\n",
       "      <td>One hundred six patients with  Progression-fr...</td>\n",
       "      <td>vemurafenib | irinotecan hydrochloride</td>\n",
       "      <td>normalize.therapy.rxcui:1147220 | normalize.th...</td>\n",
       "    </tr>\n",
       "    <tr>\n",
       "      <th>...</th>\n",
       "      <td>...</td>\n",
       "      <td>...</td>\n",
       "      <td>...</td>\n",
       "    </tr>\n",
       "    <tr>\n",
       "      <th>10703</th>\n",
       "      <td>β-Thalassemia patients develop deficiency in v...</td>\n",
       "      <td>vitamin D | calcitriol | deferasirox</td>\n",
       "      <td>normalize.therapy.rxcui:11253 | normalize.ther...</td>\n",
       "    </tr>\n",
       "    <tr>\n",
       "      <th>10704</th>\n",
       "      <td>β1-Adrenergic receptor (β1-AR) stimulation mod...</td>\n",
       "      <td>sodium | cyclic AMP | flecainide acetate</td>\n",
       "      <td>normalize.therapy.rxcui:9853 | normalize.thera...</td>\n",
       "    </tr>\n",
       "    <tr>\n",
       "      <th>10705</th>\n",
       "      <td>γ-Butyrobetaine hydroxylase (BBOX) is a 2-oxog...</td>\n",
       "      <td>carnitine | zinc | selenium | Ebselen</td>\n",
       "      <td>normalize.therapy.rxcui:2106 | normalize.thera...</td>\n",
       "    </tr>\n",
       "    <tr>\n",
       "      <th>10706</th>\n",
       "      <td>σ-1 receptor (S1R) radioligands have the poten...</td>\n",
       "      <td>haloperidol decanoate</td>\n",
       "      <td>normalize.therapy.rxcui:26420</td>\n",
       "    </tr>\n",
       "    <tr>\n",
       "      <th>10707</th>\n",
       "      <td>•We reported the use of pazopanib in the treat...</td>\n",
       "      <td>pazopanib</td>\n",
       "      <td>normalize.therapy.rxcui:714438</td>\n",
       "    </tr>\n",
       "  </tbody>\n",
       "</table>\n",
       "<p>10708 rows × 3 columns</p>\n",
       "</div>"
      ],
      "text/plain": [
       "                                           original_text  \\\n",
       "0       EAY131-H is an open-label, single-arm study. ...   \n",
       "1       Eligible patients had HER2-negative MBC with ...   \n",
       "2       Eligible patients had tumors with an activati...   \n",
       "3       Following transfection of exon 17 (E17) and e...   \n",
       "4       One hundred six patients with  Progression-fr...   \n",
       "...                                                  ...   \n",
       "10703  β-Thalassemia patients develop deficiency in v...   \n",
       "10704  β1-Adrenergic receptor (β1-AR) stimulation mod...   \n",
       "10705  γ-Butyrobetaine hydroxylase (BBOX) is a 2-oxog...   \n",
       "10706  σ-1 receptor (S1R) radioligands have the poten...   \n",
       "10707  •We reported the use of pazopanib in the treat...   \n",
       "\n",
       "                                      DRUG_LABELS  \\\n",
       "0      dabrafenib | trametinib dimethyl sulfoxide   \n",
       "1                          alpelisib | paclitaxel   \n",
       "2                                       Taselisib   \n",
       "3                           tyrosine | Ozogamicin   \n",
       "4          vemurafenib | irinotecan hydrochloride   \n",
       "...                                           ...   \n",
       "10703        vitamin D | calcitriol | deferasirox   \n",
       "10704    sodium | cyclic AMP | flecainide acetate   \n",
       "10705       carnitine | zinc | selenium | Ebselen   \n",
       "10706                       haloperidol decanoate   \n",
       "10707                                   pazopanib   \n",
       "\n",
       "                                                DRUG_IDS  \n",
       "0      normalize.therapy.rxcui:1424911 | normalize.th...  \n",
       "1      normalize.therapy.rxcui:2169285 | normalize.th...  \n",
       "2                         normalize.therapy.ncit:C116876  \n",
       "3      normalize.therapy.rxcui:10962 | normalize.ther...  \n",
       "4      normalize.therapy.rxcui:1147220 | normalize.th...  \n",
       "...                                                  ...  \n",
       "10703  normalize.therapy.rxcui:11253 | normalize.ther...  \n",
       "10704  normalize.therapy.rxcui:9853 | normalize.thera...  \n",
       "10705  normalize.therapy.rxcui:2106 | normalize.thera...  \n",
       "10706                      normalize.therapy.rxcui:26420  \n",
       "10707                     normalize.therapy.rxcui:714438  \n",
       "\n",
       "[10708 rows x 3 columns]"
      ]
     },
     "execution_count": 6,
     "metadata": {},
     "output_type": "execute_result"
    }
   ],
   "source": [
    "results = pd.read_excel('control_test3_normalized_results_final.xlsx')\n",
    "tdf = results[(results['concept_match_type']!=0) & (results['concept_match_type'].isna()==False)].reset_index(drop=True)\n",
    "condensed_results = tdf.groupby('original_text').apply(\n",
    "    lambda group: pd.Series({\n",
    "        'DRUG_LABELS': ' | '.join(group.loc[group['entity_group'] == 'CHEMICAL', 'concept_label'].dropna().astype(str).unique()),\n",
    "        'DRUG_IDS': ' | '.join(group.loc[group['entity_group'] == 'CHEMICAL', 'concept_id'].dropna().astype(str).unique())\n",
    "    })\n",
    ").reset_index()\n",
    "\n",
    "condensed_results"
   ]
  },
  {
   "cell_type": "code",
   "execution_count": 12,
   "metadata": {},
   "outputs": [
    {
     "data": {
      "text/html": [
       "<div>\n",
       "<style scoped>\n",
       "    .dataframe tbody tr th:only-of-type {\n",
       "        vertical-align: middle;\n",
       "    }\n",
       "\n",
       "    .dataframe tbody tr th {\n",
       "        vertical-align: top;\n",
       "    }\n",
       "\n",
       "    .dataframe thead th {\n",
       "        text-align: right;\n",
       "    }\n",
       "</style>\n",
       "<table border=\"1\" class=\"dataframe\">\n",
       "  <thead>\n",
       "    <tr style=\"text-align: right;\">\n",
       "      <th></th>\n",
       "      <th>Title</th>\n",
       "      <th>Abstract</th>\n",
       "      <th>original_text</th>\n",
       "      <th>DRUG_LABELS</th>\n",
       "      <th>DRUG_IDS</th>\n",
       "    </tr>\n",
       "  </thead>\n",
       "  <tbody>\n",
       "    <tr>\n",
       "      <th>0</th>\n",
       "      <td>38496920</td>\n",
       "      <td>Isocitrate dehydrogenase (IDH) is commonly mut...</td>\n",
       "      <td>Isocitrate dehydrogenase (IDH) is commonly mut...</td>\n",
       "      <td>ISOCITRATE | ivosidenib</td>\n",
       "      <td>normalize.therapy.chembl:CHEMBL539669 | normal...</td>\n",
       "    </tr>\n",
       "    <tr>\n",
       "      <th>1</th>\n",
       "      <td>10100098</td>\n",
       "      <td>The tissue renin-angiotensin system and extrac...</td>\n",
       "      <td>The tissue renin-angiotensin system and extrac...</td>\n",
       "      <td>sodium chloride</td>\n",
       "      <td>normalize.therapy.rxcui:9863</td>\n",
       "    </tr>\n",
       "    <tr>\n",
       "      <th>2</th>\n",
       "      <td>25686592</td>\n",
       "      <td>Intestinal P-glycoprotein (P-gp) is a limiting...</td>\n",
       "      <td>Intestinal P-glycoprotein (P-gp) is a limiting...</td>\n",
       "      <td>XANTHONE | daunorubicin liposomal | paclitaxel...</td>\n",
       "      <td>normalize.therapy.chembl:CHEMBL186784 | normal...</td>\n",
       "    </tr>\n",
       "    <tr>\n",
       "      <th>3</th>\n",
       "      <td>23459444</td>\n",
       "      <td>Compelling evidence points to a key role for i...</td>\n",
       "      <td>Compelling evidence points to a key role for i...</td>\n",
       "      <td>ESTROGEN | tamoxifen | formalin</td>\n",
       "      <td>normalize.therapy.chembl:CHEMBL592868 | normal...</td>\n",
       "    </tr>\n",
       "    <tr>\n",
       "      <th>4</th>\n",
       "      <td>23948351</td>\n",
       "      <td>Icotinib, an oral EGFR tyrosine kinase inhibit...</td>\n",
       "      <td>Icotinib, an oral EGFR tyrosine kinase inhibit...</td>\n",
       "      <td>Icotinib | tyrosine | gefitinib | platinum</td>\n",
       "      <td>normalize.therapy.ncit:C138996 | normalize.the...</td>\n",
       "    </tr>\n",
       "    <tr>\n",
       "      <th>...</th>\n",
       "      <td>...</td>\n",
       "      <td>...</td>\n",
       "      <td>...</td>\n",
       "      <td>...</td>\n",
       "      <td>...</td>\n",
       "    </tr>\n",
       "    <tr>\n",
       "      <th>10703</th>\n",
       "      <td>23786520</td>\n",
       "      <td>Luteolin (1), a natural product occurring in m...</td>\n",
       "      <td>Luteolin (1), a natural product occurring in m...</td>\n",
       "      <td>Luteolin | flavanone | chrysin | apigenin | tr...</td>\n",
       "      <td>normalize.therapy.drugbank:DB15584 | normalize...</td>\n",
       "    </tr>\n",
       "    <tr>\n",
       "      <th>10704</th>\n",
       "      <td>15464068</td>\n",
       "      <td>The aim of the present study was to determine ...</td>\n",
       "      <td>The aim of the present study was to determine ...</td>\n",
       "      <td>tramadol | dopamine</td>\n",
       "      <td>normalize.therapy.rxcui:10689 | normalize.ther...</td>\n",
       "    </tr>\n",
       "    <tr>\n",
       "      <th>10705</th>\n",
       "      <td>20855208</td>\n",
       "      <td>Cancer therapy has moved beyond conventional c...</td>\n",
       "      <td>Cancer therapy has moved beyond conventional c...</td>\n",
       "      <td>vorinostat | selenium</td>\n",
       "      <td>normalize.therapy.rxcui:194337 | normalize.the...</td>\n",
       "    </tr>\n",
       "    <tr>\n",
       "      <th>10706</th>\n",
       "      <td>37773077</td>\n",
       "      <td>Approximately 10% to 15% of triple-negative br...</td>\n",
       "      <td>Approximately 10% to 15% of triple-negative br...</td>\n",
       "      <td>olaparib | Ceralasertib</td>\n",
       "      <td>normalize.therapy.rxcui:1597582 | normalize.th...</td>\n",
       "    </tr>\n",
       "    <tr>\n",
       "      <th>10707</th>\n",
       "      <td>29992026</td>\n",
       "      <td>Tramadol is a complex drug, being metabolized ...</td>\n",
       "      <td>Tramadol is a complex drug, being metabolized ...</td>\n",
       "      <td>tramadol</td>\n",
       "      <td>normalize.therapy.rxcui:10689</td>\n",
       "    </tr>\n",
       "  </tbody>\n",
       "</table>\n",
       "<p>10708 rows × 5 columns</p>\n",
       "</div>"
      ],
      "text/plain": [
       "          Title                                           Abstract  \\\n",
       "0      38496920  Isocitrate dehydrogenase (IDH) is commonly mut...   \n",
       "1      10100098  The tissue renin-angiotensin system and extrac...   \n",
       "2      25686592  Intestinal P-glycoprotein (P-gp) is a limiting...   \n",
       "3      23459444  Compelling evidence points to a key role for i...   \n",
       "4      23948351  Icotinib, an oral EGFR tyrosine kinase inhibit...   \n",
       "...         ...                                                ...   \n",
       "10703  23786520  Luteolin (1), a natural product occurring in m...   \n",
       "10704  15464068  The aim of the present study was to determine ...   \n",
       "10705  20855208  Cancer therapy has moved beyond conventional c...   \n",
       "10706  37773077  Approximately 10% to 15% of triple-negative br...   \n",
       "10707  29992026  Tramadol is a complex drug, being metabolized ...   \n",
       "\n",
       "                                           original_text  \\\n",
       "0      Isocitrate dehydrogenase (IDH) is commonly mut...   \n",
       "1      The tissue renin-angiotensin system and extrac...   \n",
       "2      Intestinal P-glycoprotein (P-gp) is a limiting...   \n",
       "3      Compelling evidence points to a key role for i...   \n",
       "4      Icotinib, an oral EGFR tyrosine kinase inhibit...   \n",
       "...                                                  ...   \n",
       "10703  Luteolin (1), a natural product occurring in m...   \n",
       "10704  The aim of the present study was to determine ...   \n",
       "10705  Cancer therapy has moved beyond conventional c...   \n",
       "10706  Approximately 10% to 15% of triple-negative br...   \n",
       "10707  Tramadol is a complex drug, being metabolized ...   \n",
       "\n",
       "                                             DRUG_LABELS  \\\n",
       "0                                ISOCITRATE | ivosidenib   \n",
       "1                                        sodium chloride   \n",
       "2      XANTHONE | daunorubicin liposomal | paclitaxel...   \n",
       "3                        ESTROGEN | tamoxifen | formalin   \n",
       "4             Icotinib | tyrosine | gefitinib | platinum   \n",
       "...                                                  ...   \n",
       "10703  Luteolin | flavanone | chrysin | apigenin | tr...   \n",
       "10704                                tramadol | dopamine   \n",
       "10705                              vorinostat | selenium   \n",
       "10706                            olaparib | Ceralasertib   \n",
       "10707                                           tramadol   \n",
       "\n",
       "                                                DRUG_IDS  \n",
       "0      normalize.therapy.chembl:CHEMBL539669 | normal...  \n",
       "1                           normalize.therapy.rxcui:9863  \n",
       "2      normalize.therapy.chembl:CHEMBL186784 | normal...  \n",
       "3      normalize.therapy.chembl:CHEMBL592868 | normal...  \n",
       "4      normalize.therapy.ncit:C138996 | normalize.the...  \n",
       "...                                                  ...  \n",
       "10703  normalize.therapy.drugbank:DB15584 | normalize...  \n",
       "10704  normalize.therapy.rxcui:10689 | normalize.ther...  \n",
       "10705  normalize.therapy.rxcui:194337 | normalize.the...  \n",
       "10706  normalize.therapy.rxcui:1597582 | normalize.th...  \n",
       "10707                      normalize.therapy.rxcui:10689  \n",
       "\n",
       "[10708 rows x 5 columns]"
      ]
     },
     "execution_count": 12,
     "metadata": {},
     "output_type": "execute_result"
    }
   ],
   "source": [
    "merged_df = pd.merge(\n",
    "    abstract,\n",
    "    condensed_results,\n",
    "    left_on='Abstract',\n",
    "    right_on='original_text',\n",
    "    how='left'\n",
    ")\n",
    "merged_df = merged_df[merged_df['DRUG_LABELS'].isnull()==False].reset_index(drop=True)\n",
    "merged_df"
   ]
  },
  {
   "cell_type": "markdown",
   "metadata": {},
   "source": [
    "### Generate Score"
   ]
  },
  {
   "cell_type": "code",
   "execution_count": 13,
   "metadata": {},
   "outputs": [
    {
     "data": {
      "text/html": [
       "<div>\n",
       "<style scoped>\n",
       "    .dataframe tbody tr th:only-of-type {\n",
       "        vertical-align: middle;\n",
       "    }\n",
       "\n",
       "    .dataframe tbody tr th {\n",
       "        vertical-align: top;\n",
       "    }\n",
       "\n",
       "    .dataframe thead th {\n",
       "        text-align: right;\n",
       "    }\n",
       "</style>\n",
       "<table border=\"1\" class=\"dataframe\">\n",
       "  <thead>\n",
       "    <tr style=\"text-align: right;\">\n",
       "      <th></th>\n",
       "      <th>nomenclature</th>\n",
       "      <th>Gene</th>\n",
       "      <th>long_name</th>\n",
       "      <th>gene_concept_id</th>\n",
       "      <th>interaction_score</th>\n",
       "      <th>drug_specificity</th>\n",
       "      <th>gene_specificity</th>\n",
       "      <th>evidence_score</th>\n",
       "      <th>source_db_name</th>\n",
       "      <th>source_db_version</th>\n",
       "      <th>...</th>\n",
       "      <th>directionality</th>\n",
       "      <th>definition</th>\n",
       "      <th>reference</th>\n",
       "      <th>drug_name</th>\n",
       "      <th>nomenclature-2</th>\n",
       "      <th>Drug</th>\n",
       "      <th>approved</th>\n",
       "      <th>immunotherapy</th>\n",
       "      <th>anti_neoplastic</th>\n",
       "      <th>drug_concept_id</th>\n",
       "    </tr>\n",
       "  </thead>\n",
       "  <tbody>\n",
       "    <tr>\n",
       "      <th>0</th>\n",
       "      <td>Gene Symbol</td>\n",
       "      <td>BCL2</td>\n",
       "      <td>BCL2 apoptosis regulator</td>\n",
       "      <td>hgnc:990</td>\n",
       "      <td>2.284732</td>\n",
       "      <td>4.141413</td>\n",
       "      <td>0.183893</td>\n",
       "      <td>3.0</td>\n",
       "      <td>TALC</td>\n",
       "      <td>12-May-16</td>\n",
       "      <td>...</td>\n",
       "      <td>1.0</td>\n",
       "      <td>In inhibitor interactions, the drug binds to a...</td>\n",
       "      <td>&lt;a href=\"https://en.wikipedia.org/wiki/Enzyme_...</td>\n",
       "      <td>OBLIMERSEN</td>\n",
       "      <td>Primary Name</td>\n",
       "      <td>OBLIMERSEN</td>\n",
       "      <td>False</td>\n",
       "      <td>False</td>\n",
       "      <td>True</td>\n",
       "      <td>ncit:C1870</td>\n",
       "    </tr>\n",
       "    <tr>\n",
       "      <th>3</th>\n",
       "      <td>Gene Name</td>\n",
       "      <td>BCL2</td>\n",
       "      <td>BCL2 apoptosis regulator</td>\n",
       "      <td>hgnc:990</td>\n",
       "      <td>1.523154</td>\n",
       "      <td>4.141413</td>\n",
       "      <td>0.183893</td>\n",
       "      <td>2.0</td>\n",
       "      <td>NCI</td>\n",
       "      <td>14-Sep-17</td>\n",
       "      <td>...</td>\n",
       "      <td>NaN</td>\n",
       "      <td>NaN</td>\n",
       "      <td>NaN</td>\n",
       "      <td>DOLASTATIN 10</td>\n",
       "      <td>Primary Name</td>\n",
       "      <td>DOLASTATIN 10</td>\n",
       "      <td>False</td>\n",
       "      <td>False</td>\n",
       "      <td>False</td>\n",
       "      <td>ncit:C1300</td>\n",
       "    </tr>\n",
       "    <tr>\n",
       "      <th>4</th>\n",
       "      <td>Gene Name</td>\n",
       "      <td>BCL2</td>\n",
       "      <td>BCL2 apoptosis regulator</td>\n",
       "      <td>hgnc:990</td>\n",
       "      <td>1.523154</td>\n",
       "      <td>4.141413</td>\n",
       "      <td>0.183893</td>\n",
       "      <td>2.0</td>\n",
       "      <td>NCI</td>\n",
       "      <td>14-Sep-17</td>\n",
       "      <td>...</td>\n",
       "      <td>NaN</td>\n",
       "      <td>NaN</td>\n",
       "      <td>NaN</td>\n",
       "      <td>EPISIALIN</td>\n",
       "      <td>Primary Name</td>\n",
       "      <td>MUC-1 ANTIGEN</td>\n",
       "      <td>False</td>\n",
       "      <td>False</td>\n",
       "      <td>False</td>\n",
       "      <td>ncit:C2407</td>\n",
       "    </tr>\n",
       "    <tr>\n",
       "      <th>5</th>\n",
       "      <td>Gene Name</td>\n",
       "      <td>BCL2</td>\n",
       "      <td>BCL2 apoptosis regulator</td>\n",
       "      <td>hgnc:990</td>\n",
       "      <td>1.523154</td>\n",
       "      <td>4.141413</td>\n",
       "      <td>0.183893</td>\n",
       "      <td>2.0</td>\n",
       "      <td>NCI</td>\n",
       "      <td>14-Sep-17</td>\n",
       "      <td>...</td>\n",
       "      <td>NaN</td>\n",
       "      <td>NaN</td>\n",
       "      <td>NaN</td>\n",
       "      <td>MICELLAR PACLITAXEL</td>\n",
       "      <td>Primary Name</td>\n",
       "      <td>MICELLAR PACLITAXEL</td>\n",
       "      <td>False</td>\n",
       "      <td>False</td>\n",
       "      <td>False</td>\n",
       "      <td>ncit:C29256</td>\n",
       "    </tr>\n",
       "    <tr>\n",
       "      <th>6</th>\n",
       "      <td>Gene Name</td>\n",
       "      <td>BCL2</td>\n",
       "      <td>BCL2 apoptosis regulator</td>\n",
       "      <td>hgnc:990</td>\n",
       "      <td>1.523154</td>\n",
       "      <td>4.141413</td>\n",
       "      <td>0.183893</td>\n",
       "      <td>2.0</td>\n",
       "      <td>NCI</td>\n",
       "      <td>14-Sep-17</td>\n",
       "      <td>...</td>\n",
       "      <td>NaN</td>\n",
       "      <td>NaN</td>\n",
       "      <td>NaN</td>\n",
       "      <td>BEAUVERICIN</td>\n",
       "      <td>Primary Name</td>\n",
       "      <td>BEAUVERICIN</td>\n",
       "      <td>False</td>\n",
       "      <td>False</td>\n",
       "      <td>False</td>\n",
       "      <td>ncit:C1011</td>\n",
       "    </tr>\n",
       "  </tbody>\n",
       "</table>\n",
       "<p>5 rows × 31 columns</p>\n",
       "</div>"
      ],
      "text/plain": [
       "  nomenclature  Gene                 long_name gene_concept_id  \\\n",
       "0  Gene Symbol  BCL2  BCL2 apoptosis regulator        hgnc:990   \n",
       "3    Gene Name  BCL2  BCL2 apoptosis regulator        hgnc:990   \n",
       "4    Gene Name  BCL2  BCL2 apoptosis regulator        hgnc:990   \n",
       "5    Gene Name  BCL2  BCL2 apoptosis regulator        hgnc:990   \n",
       "6    Gene Name  BCL2  BCL2 apoptosis regulator        hgnc:990   \n",
       "\n",
       "   interaction_score  drug_specificity  gene_specificity  evidence_score  \\\n",
       "0           2.284732          4.141413          0.183893             3.0   \n",
       "3           1.523154          4.141413          0.183893             2.0   \n",
       "4           1.523154          4.141413          0.183893             2.0   \n",
       "5           1.523154          4.141413          0.183893             2.0   \n",
       "6           1.523154          4.141413          0.183893             2.0   \n",
       "\n",
       "  source_db_name source_db_version  ... directionality  \\\n",
       "0           TALC         12-May-16  ...            1.0   \n",
       "3            NCI         14-Sep-17  ...            NaN   \n",
       "4            NCI         14-Sep-17  ...            NaN   \n",
       "5            NCI         14-Sep-17  ...            NaN   \n",
       "6            NCI         14-Sep-17  ...            NaN   \n",
       "\n",
       "                                          definition  \\\n",
       "0  In inhibitor interactions, the drug binds to a...   \n",
       "3                                                NaN   \n",
       "4                                                NaN   \n",
       "5                                                NaN   \n",
       "6                                                NaN   \n",
       "\n",
       "                                           reference            drug_name  \\\n",
       "0  <a href=\"https://en.wikipedia.org/wiki/Enzyme_...           OBLIMERSEN   \n",
       "3                                                NaN        DOLASTATIN 10   \n",
       "4                                                NaN            EPISIALIN   \n",
       "5                                                NaN  MICELLAR PACLITAXEL   \n",
       "6                                                NaN          BEAUVERICIN   \n",
       "\n",
       "  nomenclature-2                 Drug approved  immunotherapy anti_neoplastic  \\\n",
       "0   Primary Name           OBLIMERSEN    False          False            True   \n",
       "3   Primary Name        DOLASTATIN 10    False          False           False   \n",
       "4   Primary Name        MUC-1 ANTIGEN    False          False           False   \n",
       "5   Primary Name  MICELLAR PACLITAXEL    False          False           False   \n",
       "6   Primary Name          BEAUVERICIN    False          False           False   \n",
       "\n",
       "  drug_concept_id  \n",
       "0      ncit:C1870  \n",
       "3      ncit:C1300  \n",
       "4      ncit:C2407  \n",
       "5     ncit:C29256  \n",
       "6      ncit:C1011  \n",
       "\n",
       "[5 rows x 31 columns]"
      ]
     },
     "execution_count": 13,
     "metadata": {},
     "output_type": "execute_result"
    }
   ],
   "source": [
    "dgidb_df = pd.read_csv('search/2025-08-13_BCL2_clin_score.csv')\n",
    "dgidb_df = dgidb_df.drop_duplicates(subset=['Drug','Gene'], keep='first')\n",
    "dgidb_df.head()"
   ]
  },
  {
   "cell_type": "code",
   "execution_count": 14,
   "metadata": {},
   "outputs": [
    {
     "name": "stderr",
     "output_type": "stream",
     "text": [
      "                                     \r"
     ]
    },
    {
     "name": "stdout",
     "output_type": "stream",
     "text": [
      "Results saved to 2025-08-25_BCL2.zip!\n"
     ]
    }
   ],
   "source": [
    "import importlib\n",
    "importlib.reload(indicator)\n",
    "\n",
    "indicator.generate_interaction_evidence(merged_df, dgidb_df)"
   ]
  },
  {
   "cell_type": "markdown",
   "metadata": {},
   "source": [
    "## Load Scores"
   ]
  },
  {
   "cell_type": "code",
   "execution_count": 16,
   "metadata": {},
   "outputs": [
    {
     "data": {
      "text/html": [
       "<div>\n",
       "<style scoped>\n",
       "    .dataframe tbody tr th:only-of-type {\n",
       "        vertical-align: middle;\n",
       "    }\n",
       "\n",
       "    .dataframe tbody tr th {\n",
       "        vertical-align: top;\n",
       "    }\n",
       "\n",
       "    .dataframe thead th {\n",
       "        text-align: right;\n",
       "    }\n",
       "</style>\n",
       "<table border=\"1\" class=\"dataframe\">\n",
       "  <thead>\n",
       "    <tr style=\"text-align: right;\">\n",
       "      <th></th>\n",
       "      <th>pmid</th>\n",
       "      <th>abstract</th>\n",
       "      <th>label</th>\n",
       "      <th>scores</th>\n",
       "      <th>tagged_drugs</th>\n",
       "      <th>concepts</th>\n",
       "      <th>gene</th>\n",
       "      <th>drug</th>\n",
       "      <th>method</th>\n",
       "    </tr>\n",
       "  </thead>\n",
       "  <tbody>\n",
       "    <tr>\n",
       "      <th>0</th>\n",
       "      <td>38496920</td>\n",
       "      <td>Isocitrate dehydrogenase (IDH) is commonly mut...</td>\n",
       "      <td>interaction_evidence</td>\n",
       "      <td>{'direct_interaction': 0, 'binding_interaction...</td>\n",
       "      <td>ISOCITRATE | ivosidenib</td>\n",
       "      <td>normalize.therapy.chembl:CHEMBL539669 | normal...</td>\n",
       "      <td>BCL2</td>\n",
       "      <td>interaction_search</td>\n",
       "      <td>interaction_search</td>\n",
       "    </tr>\n",
       "    <tr>\n",
       "      <th>1</th>\n",
       "      <td>10100098</td>\n",
       "      <td>The tissue renin-angiotensin system and extrac...</td>\n",
       "      <td>interaction_evidence</td>\n",
       "      <td>{'direct_interaction': 2, 'binding_interaction...</td>\n",
       "      <td>sodium chloride</td>\n",
       "      <td>normalize.therapy.rxcui:9863</td>\n",
       "      <td>BCL2</td>\n",
       "      <td>interaction_search</td>\n",
       "      <td>interaction_search</td>\n",
       "    </tr>\n",
       "    <tr>\n",
       "      <th>2</th>\n",
       "      <td>25686592</td>\n",
       "      <td>Intestinal P-glycoprotein (P-gp) is a limiting...</td>\n",
       "      <td>interaction_evidence</td>\n",
       "      <td>{'direct_interaction': 1, 'binding_interaction...</td>\n",
       "      <td>XANTHONE | daunorubicin liposomal | paclitaxel...</td>\n",
       "      <td>normalize.therapy.chembl:CHEMBL186784 | normal...</td>\n",
       "      <td>BCL2</td>\n",
       "      <td>interaction_search</td>\n",
       "      <td>interaction_search</td>\n",
       "    </tr>\n",
       "    <tr>\n",
       "      <th>3</th>\n",
       "      <td>23459444</td>\n",
       "      <td>Compelling evidence points to a key role for i...</td>\n",
       "      <td>interaction_evidence</td>\n",
       "      <td>{'direct_interaction': 1, 'binding_interaction...</td>\n",
       "      <td>ESTROGEN | tamoxifen | formalin</td>\n",
       "      <td>normalize.therapy.chembl:CHEMBL592868 | normal...</td>\n",
       "      <td>BCL2</td>\n",
       "      <td>interaction_search</td>\n",
       "      <td>interaction_search</td>\n",
       "    </tr>\n",
       "    <tr>\n",
       "      <th>4</th>\n",
       "      <td>23948351</td>\n",
       "      <td>Icotinib, an oral EGFR tyrosine kinase inhibit...</td>\n",
       "      <td>interaction_evidence</td>\n",
       "      <td>{'direct_interaction': 0, 'binding_interaction...</td>\n",
       "      <td>Icotinib | tyrosine | gefitinib | platinum</td>\n",
       "      <td>normalize.therapy.ncit:C138996 | normalize.the...</td>\n",
       "      <td>BCL2</td>\n",
       "      <td>interaction_search</td>\n",
       "      <td>interaction_search</td>\n",
       "    </tr>\n",
       "    <tr>\n",
       "      <th>...</th>\n",
       "      <td>...</td>\n",
       "      <td>...</td>\n",
       "      <td>...</td>\n",
       "      <td>...</td>\n",
       "      <td>...</td>\n",
       "      <td>...</td>\n",
       "      <td>...</td>\n",
       "      <td>...</td>\n",
       "      <td>...</td>\n",
       "    </tr>\n",
       "    <tr>\n",
       "      <th>10210</th>\n",
       "      <td>7499260</td>\n",
       "      <td>It has recently been reported that protein-tyr...</td>\n",
       "      <td>interaction_evidence</td>\n",
       "      <td>{'direct_interaction': 4, 'binding_interaction...</td>\n",
       "      <td>tyrosine | genistein | herbimycin A</td>\n",
       "      <td>normalize.therapy.rxcui:10962 | normalize.ther...</td>\n",
       "      <td>BCL2</td>\n",
       "      <td>interaction_search</td>\n",
       "      <td>interaction_search</td>\n",
       "    </tr>\n",
       "    <tr>\n",
       "      <th>10211</th>\n",
       "      <td>23786520</td>\n",
       "      <td>Luteolin (1), a natural product occurring in m...</td>\n",
       "      <td>interaction_evidence</td>\n",
       "      <td>{'direct_interaction': 4, 'binding_interaction...</td>\n",
       "      <td>Luteolin | flavanone | chrysin | apigenin | tr...</td>\n",
       "      <td>normalize.therapy.drugbank:DB15584 | normalize...</td>\n",
       "      <td>BCL2</td>\n",
       "      <td>interaction_search</td>\n",
       "      <td>interaction_search</td>\n",
       "    </tr>\n",
       "    <tr>\n",
       "      <th>10212</th>\n",
       "      <td>15464068</td>\n",
       "      <td>The aim of the present study was to determine ...</td>\n",
       "      <td>interaction_evidence</td>\n",
       "      <td>{'direct_interaction': 1, 'binding_interaction...</td>\n",
       "      <td>tramadol | dopamine</td>\n",
       "      <td>normalize.therapy.rxcui:10689 | normalize.ther...</td>\n",
       "      <td>BCL2</td>\n",
       "      <td>interaction_search</td>\n",
       "      <td>interaction_search</td>\n",
       "    </tr>\n",
       "    <tr>\n",
       "      <th>10213</th>\n",
       "      <td>20855208</td>\n",
       "      <td>Cancer therapy has moved beyond conventional c...</td>\n",
       "      <td>interaction_evidence</td>\n",
       "      <td>{'direct_interaction': 1, 'binding_interaction...</td>\n",
       "      <td>vorinostat | selenium</td>\n",
       "      <td>normalize.therapy.rxcui:194337 | normalize.the...</td>\n",
       "      <td>BCL2</td>\n",
       "      <td>interaction_search</td>\n",
       "      <td>interaction_search</td>\n",
       "    </tr>\n",
       "    <tr>\n",
       "      <th>10214</th>\n",
       "      <td>37773077</td>\n",
       "      <td>Approximately 10% to 15% of triple-negative br...</td>\n",
       "      <td>interaction_evidence</td>\n",
       "      <td>{'direct_interaction': 0, 'binding_interaction...</td>\n",
       "      <td>olaparib | Ceralasertib</td>\n",
       "      <td>normalize.therapy.rxcui:1597582 | normalize.th...</td>\n",
       "      <td>BCL2</td>\n",
       "      <td>interaction_search</td>\n",
       "      <td>interaction_search</td>\n",
       "    </tr>\n",
       "  </tbody>\n",
       "</table>\n",
       "<p>10215 rows × 9 columns</p>\n",
       "</div>"
      ],
      "text/plain": [
       "           pmid                                           abstract  \\\n",
       "0      38496920  Isocitrate dehydrogenase (IDH) is commonly mut...   \n",
       "1      10100098  The tissue renin-angiotensin system and extrac...   \n",
       "2      25686592  Intestinal P-glycoprotein (P-gp) is a limiting...   \n",
       "3      23459444  Compelling evidence points to a key role for i...   \n",
       "4      23948351  Icotinib, an oral EGFR tyrosine kinase inhibit...   \n",
       "...         ...                                                ...   \n",
       "10210   7499260  It has recently been reported that protein-tyr...   \n",
       "10211  23786520  Luteolin (1), a natural product occurring in m...   \n",
       "10212  15464068  The aim of the present study was to determine ...   \n",
       "10213  20855208  Cancer therapy has moved beyond conventional c...   \n",
       "10214  37773077  Approximately 10% to 15% of triple-negative br...   \n",
       "\n",
       "                      label  \\\n",
       "0      interaction_evidence   \n",
       "1      interaction_evidence   \n",
       "2      interaction_evidence   \n",
       "3      interaction_evidence   \n",
       "4      interaction_evidence   \n",
       "...                     ...   \n",
       "10210  interaction_evidence   \n",
       "10211  interaction_evidence   \n",
       "10212  interaction_evidence   \n",
       "10213  interaction_evidence   \n",
       "10214  interaction_evidence   \n",
       "\n",
       "                                                  scores  \\\n",
       "0      {'direct_interaction': 0, 'binding_interaction...   \n",
       "1      {'direct_interaction': 2, 'binding_interaction...   \n",
       "2      {'direct_interaction': 1, 'binding_interaction...   \n",
       "3      {'direct_interaction': 1, 'binding_interaction...   \n",
       "4      {'direct_interaction': 0, 'binding_interaction...   \n",
       "...                                                  ...   \n",
       "10210  {'direct_interaction': 4, 'binding_interaction...   \n",
       "10211  {'direct_interaction': 4, 'binding_interaction...   \n",
       "10212  {'direct_interaction': 1, 'binding_interaction...   \n",
       "10213  {'direct_interaction': 1, 'binding_interaction...   \n",
       "10214  {'direct_interaction': 0, 'binding_interaction...   \n",
       "\n",
       "                                            tagged_drugs  \\\n",
       "0                                ISOCITRATE | ivosidenib   \n",
       "1                                        sodium chloride   \n",
       "2      XANTHONE | daunorubicin liposomal | paclitaxel...   \n",
       "3                        ESTROGEN | tamoxifen | formalin   \n",
       "4             Icotinib | tyrosine | gefitinib | platinum   \n",
       "...                                                  ...   \n",
       "10210                tyrosine | genistein | herbimycin A   \n",
       "10211  Luteolin | flavanone | chrysin | apigenin | tr...   \n",
       "10212                                tramadol | dopamine   \n",
       "10213                              vorinostat | selenium   \n",
       "10214                            olaparib | Ceralasertib   \n",
       "\n",
       "                                                concepts  gene  \\\n",
       "0      normalize.therapy.chembl:CHEMBL539669 | normal...  BCL2   \n",
       "1                           normalize.therapy.rxcui:9863  BCL2   \n",
       "2      normalize.therapy.chembl:CHEMBL186784 | normal...  BCL2   \n",
       "3      normalize.therapy.chembl:CHEMBL592868 | normal...  BCL2   \n",
       "4      normalize.therapy.ncit:C138996 | normalize.the...  BCL2   \n",
       "...                                                  ...   ...   \n",
       "10210  normalize.therapy.rxcui:10962 | normalize.ther...  BCL2   \n",
       "10211  normalize.therapy.drugbank:DB15584 | normalize...  BCL2   \n",
       "10212  normalize.therapy.rxcui:10689 | normalize.ther...  BCL2   \n",
       "10213  normalize.therapy.rxcui:194337 | normalize.the...  BCL2   \n",
       "10214  normalize.therapy.rxcui:1597582 | normalize.th...  BCL2   \n",
       "\n",
       "                     drug              method  \n",
       "0      interaction_search  interaction_search  \n",
       "1      interaction_search  interaction_search  \n",
       "2      interaction_search  interaction_search  \n",
       "3      interaction_search  interaction_search  \n",
       "4      interaction_search  interaction_search  \n",
       "...                   ...                 ...  \n",
       "10210  interaction_search  interaction_search  \n",
       "10211  interaction_search  interaction_search  \n",
       "10212  interaction_search  interaction_search  \n",
       "10213  interaction_search  interaction_search  \n",
       "10214  interaction_search  interaction_search  \n",
       "\n",
       "[10215 rows x 9 columns]"
      ]
     },
     "execution_count": 16,
     "metadata": {},
     "output_type": "execute_result"
    }
   ],
   "source": [
    "tdf = score.load_pmid_assessments(f'2025-08-25_BCL2.zip', 'interaction_search')\n",
    "tdf = tdf[tdf['label']=='interaction_evidence'].reset_index(drop=True)\n",
    "tdf\n"
   ]
  },
  {
   "cell_type": "code",
   "execution_count": 17,
   "metadata": {},
   "outputs": [
    {
     "data": {
      "text/html": [
       "<div>\n",
       "<style scoped>\n",
       "    .dataframe tbody tr th:only-of-type {\n",
       "        vertical-align: middle;\n",
       "    }\n",
       "\n",
       "    .dataframe tbody tr th {\n",
       "        vertical-align: top;\n",
       "    }\n",
       "\n",
       "    .dataframe thead th {\n",
       "        text-align: right;\n",
       "    }\n",
       "</style>\n",
       "<table border=\"1\" class=\"dataframe\">\n",
       "  <thead>\n",
       "    <tr style=\"text-align: right;\">\n",
       "      <th></th>\n",
       "      <th>pmid</th>\n",
       "      <th>abstract</th>\n",
       "      <th>label</th>\n",
       "      <th>scores</th>\n",
       "      <th>tagged_drugs</th>\n",
       "      <th>concepts</th>\n",
       "      <th>gene</th>\n",
       "      <th>drug</th>\n",
       "      <th>method</th>\n",
       "      <th>total_interaction_evidence</th>\n",
       "      <th>total_regulation_evidence</th>\n",
       "    </tr>\n",
       "  </thead>\n",
       "  <tbody>\n",
       "    <tr>\n",
       "      <th>3947</th>\n",
       "      <td>12941843</td>\n",
       "      <td>Signaling pathways involved in survival respon...</td>\n",
       "      <td>interaction_evidence</td>\n",
       "      <td>{'direct_interaction': 3, 'binding_interaction...</td>\n",
       "      <td>TRAIL | calphostin C | G&amp;ouml; 6976 | rottleri...</td>\n",
       "      <td>normalize.therapy.iuphar.ligand:5065 | normali...</td>\n",
       "      <td>BCL2</td>\n",
       "      <td>interaction_search</td>\n",
       "      <td>interaction_search</td>\n",
       "      <td>16</td>\n",
       "      <td>16</td>\n",
       "    </tr>\n",
       "    <tr>\n",
       "      <th>8892</th>\n",
       "      <td>24398428</td>\n",
       "      <td>Activating BRAF kinase mutations serve as onco...</td>\n",
       "      <td>interaction_evidence</td>\n",
       "      <td>{'direct_interaction': 4, 'binding_interaction...</td>\n",
       "      <td>vemurafenib | Ganetespib</td>\n",
       "      <td>normalize.therapy.rxcui:1147220 | normalize.th...</td>\n",
       "      <td>BCL2</td>\n",
       "      <td>interaction_search</td>\n",
       "      <td>interaction_search</td>\n",
       "      <td>16</td>\n",
       "      <td>16</td>\n",
       "    </tr>\n",
       "    <tr>\n",
       "      <th>7649</th>\n",
       "      <td>15870285</td>\n",
       "      <td>The expression of the glutathione S-transferas...</td>\n",
       "      <td>interaction_evidence</td>\n",
       "      <td>{'direct_interaction': 4, 'binding_interaction...</td>\n",
       "      <td>glutathione | dexamethasone | Oltipraz | Retin...</td>\n",
       "      <td>normalize.therapy.rxcui:4890 | normalize.thera...</td>\n",
       "      <td>BCL2</td>\n",
       "      <td>interaction_search</td>\n",
       "      <td>interaction_search</td>\n",
       "      <td>16</td>\n",
       "      <td>16</td>\n",
       "    </tr>\n",
       "    <tr>\n",
       "      <th>9374</th>\n",
       "      <td>22649091</td>\n",
       "      <td>During a clinical trial of the tyrosine kinase...</td>\n",
       "      <td>interaction_evidence</td>\n",
       "      <td>{'direct_interaction': 4, 'binding_interaction...</td>\n",
       "      <td>tyrosine | dasatinib anhydrous</td>\n",
       "      <td>normalize.therapy.rxcui:10962 | normalize.ther...</td>\n",
       "      <td>BCL2</td>\n",
       "      <td>interaction_search</td>\n",
       "      <td>interaction_search</td>\n",
       "      <td>15</td>\n",
       "      <td>15</td>\n",
       "    </tr>\n",
       "    <tr>\n",
       "      <th>7309</th>\n",
       "      <td>15319449</td>\n",
       "      <td>Leukemia inhibitory factor (LIF) cooperates wi...</td>\n",
       "      <td>interaction_evidence</td>\n",
       "      <td>{'direct_interaction': 3, 'binding_interaction...</td>\n",
       "      <td>serine</td>\n",
       "      <td>normalize.therapy.rxcui:9671</td>\n",
       "      <td>BCL2</td>\n",
       "      <td>interaction_search</td>\n",
       "      <td>interaction_search</td>\n",
       "      <td>15</td>\n",
       "      <td>15</td>\n",
       "    </tr>\n",
       "    <tr>\n",
       "      <th>2170</th>\n",
       "      <td>17227768</td>\n",
       "      <td>Tumor necrosis factor-alpha (TNF-alpha) induce...</td>\n",
       "      <td>interaction_evidence</td>\n",
       "      <td>{'direct_interaction': 5, 'binding_interaction...</td>\n",
       "      <td>anhydrous dextrose | serine</td>\n",
       "      <td>normalize.therapy.rxcui:349730 | normalize.the...</td>\n",
       "      <td>BCL2</td>\n",
       "      <td>interaction_search</td>\n",
       "      <td>interaction_search</td>\n",
       "      <td>15</td>\n",
       "      <td>15</td>\n",
       "    </tr>\n",
       "    <tr>\n",
       "      <th>6823</th>\n",
       "      <td>25658463</td>\n",
       "      <td>The wild-type p53-induced phosphatase 1 (WIP1)...</td>\n",
       "      <td>interaction_evidence</td>\n",
       "      <td>{'direct_interaction': 4, 'binding_interaction...</td>\n",
       "      <td>serine | threonine | GSK2830371 | doxorubicin ...</td>\n",
       "      <td>normalize.therapy.rxcui:9671 | normalize.thera...</td>\n",
       "      <td>BCL2</td>\n",
       "      <td>interaction_search</td>\n",
       "      <td>interaction_search</td>\n",
       "      <td>15</td>\n",
       "      <td>15</td>\n",
       "    </tr>\n",
       "    <tr>\n",
       "      <th>7961</th>\n",
       "      <td>22806357</td>\n",
       "      <td>Nicotinamide adenine dinucleotide phosphate (N...</td>\n",
       "      <td>interaction_evidence</td>\n",
       "      <td>{'direct_interaction': 6, 'binding_interaction...</td>\n",
       "      <td>Nicotinamide adenine dinucleotide phosphate | ...</td>\n",
       "      <td>normalize.therapy.drugbank:DB03461 | normalize...</td>\n",
       "      <td>BCL2</td>\n",
       "      <td>interaction_search</td>\n",
       "      <td>interaction_search</td>\n",
       "      <td>15</td>\n",
       "      <td>15</td>\n",
       "    </tr>\n",
       "    <tr>\n",
       "      <th>3062</th>\n",
       "      <td>18283314</td>\n",
       "      <td>The ErbB3 binding protein (Ebp1) is a transcri...</td>\n",
       "      <td>interaction_evidence</td>\n",
       "      <td>{'direct_interaction': 4, 'binding_interaction...</td>\n",
       "      <td>serine | threonine | tamoxifen | glutamic acid</td>\n",
       "      <td>normalize.therapy.rxcui:9671 | normalize.thera...</td>\n",
       "      <td>BCL2</td>\n",
       "      <td>interaction_search</td>\n",
       "      <td>interaction_search</td>\n",
       "      <td>15</td>\n",
       "      <td>15</td>\n",
       "    </tr>\n",
       "    <tr>\n",
       "      <th>4075</th>\n",
       "      <td>16682955</td>\n",
       "      <td>Fibroblast growth factor (FGF) signaling can b...</td>\n",
       "      <td>interaction_evidence</td>\n",
       "      <td>{'direct_interaction': 3, 'binding_interaction...</td>\n",
       "      <td>ESTROGEN | tyrosine | sirolimus | PI3K/BET Inh...</td>\n",
       "      <td>normalize.therapy.chembl:CHEMBL592868 | normal...</td>\n",
       "      <td>BCL2</td>\n",
       "      <td>interaction_search</td>\n",
       "      <td>interaction_search</td>\n",
       "      <td>14</td>\n",
       "      <td>14</td>\n",
       "    </tr>\n",
       "  </tbody>\n",
       "</table>\n",
       "</div>"
      ],
      "text/plain": [
       "          pmid                                           abstract  \\\n",
       "3947  12941843  Signaling pathways involved in survival respon...   \n",
       "8892  24398428  Activating BRAF kinase mutations serve as onco...   \n",
       "7649  15870285  The expression of the glutathione S-transferas...   \n",
       "9374  22649091  During a clinical trial of the tyrosine kinase...   \n",
       "7309  15319449  Leukemia inhibitory factor (LIF) cooperates wi...   \n",
       "2170  17227768  Tumor necrosis factor-alpha (TNF-alpha) induce...   \n",
       "6823  25658463  The wild-type p53-induced phosphatase 1 (WIP1)...   \n",
       "7961  22806357  Nicotinamide adenine dinucleotide phosphate (N...   \n",
       "3062  18283314  The ErbB3 binding protein (Ebp1) is a transcri...   \n",
       "4075  16682955  Fibroblast growth factor (FGF) signaling can b...   \n",
       "\n",
       "                     label                                             scores  \\\n",
       "3947  interaction_evidence  {'direct_interaction': 3, 'binding_interaction...   \n",
       "8892  interaction_evidence  {'direct_interaction': 4, 'binding_interaction...   \n",
       "7649  interaction_evidence  {'direct_interaction': 4, 'binding_interaction...   \n",
       "9374  interaction_evidence  {'direct_interaction': 4, 'binding_interaction...   \n",
       "7309  interaction_evidence  {'direct_interaction': 3, 'binding_interaction...   \n",
       "2170  interaction_evidence  {'direct_interaction': 5, 'binding_interaction...   \n",
       "6823  interaction_evidence  {'direct_interaction': 4, 'binding_interaction...   \n",
       "7961  interaction_evidence  {'direct_interaction': 6, 'binding_interaction...   \n",
       "3062  interaction_evidence  {'direct_interaction': 4, 'binding_interaction...   \n",
       "4075  interaction_evidence  {'direct_interaction': 3, 'binding_interaction...   \n",
       "\n",
       "                                           tagged_drugs  \\\n",
       "3947  TRAIL | calphostin C | G&ouml; 6976 | rottleri...   \n",
       "8892                           vemurafenib | Ganetespib   \n",
       "7649  glutathione | dexamethasone | Oltipraz | Retin...   \n",
       "9374                     tyrosine | dasatinib anhydrous   \n",
       "7309                                             serine   \n",
       "2170                        anhydrous dextrose | serine   \n",
       "6823  serine | threonine | GSK2830371 | doxorubicin ...   \n",
       "7961  Nicotinamide adenine dinucleotide phosphate | ...   \n",
       "3062     serine | threonine | tamoxifen | glutamic acid   \n",
       "4075  ESTROGEN | tyrosine | sirolimus | PI3K/BET Inh...   \n",
       "\n",
       "                                               concepts  gene  \\\n",
       "3947  normalize.therapy.iuphar.ligand:5065 | normali...  BCL2   \n",
       "8892  normalize.therapy.rxcui:1147220 | normalize.th...  BCL2   \n",
       "7649  normalize.therapy.rxcui:4890 | normalize.thera...  BCL2   \n",
       "9374  normalize.therapy.rxcui:10962 | normalize.ther...  BCL2   \n",
       "7309                       normalize.therapy.rxcui:9671  BCL2   \n",
       "2170  normalize.therapy.rxcui:349730 | normalize.the...  BCL2   \n",
       "6823  normalize.therapy.rxcui:9671 | normalize.thera...  BCL2   \n",
       "7961  normalize.therapy.drugbank:DB03461 | normalize...  BCL2   \n",
       "3062  normalize.therapy.rxcui:9671 | normalize.thera...  BCL2   \n",
       "4075  normalize.therapy.chembl:CHEMBL592868 | normal...  BCL2   \n",
       "\n",
       "                    drug              method  total_interaction_evidence  \\\n",
       "3947  interaction_search  interaction_search                          16   \n",
       "8892  interaction_search  interaction_search                          16   \n",
       "7649  interaction_search  interaction_search                          16   \n",
       "9374  interaction_search  interaction_search                          15   \n",
       "7309  interaction_search  interaction_search                          15   \n",
       "2170  interaction_search  interaction_search                          15   \n",
       "6823  interaction_search  interaction_search                          15   \n",
       "7961  interaction_search  interaction_search                          15   \n",
       "3062  interaction_search  interaction_search                          15   \n",
       "4075  interaction_search  interaction_search                          14   \n",
       "\n",
       "      total_regulation_evidence  \n",
       "3947                         16  \n",
       "8892                         16  \n",
       "7649                         16  \n",
       "9374                         15  \n",
       "7309                         15  \n",
       "2170                         15  \n",
       "6823                         15  \n",
       "7961                         15  \n",
       "3062                         15  \n",
       "4075                         14  "
      ]
     },
     "execution_count": 17,
     "metadata": {},
     "output_type": "execute_result"
    }
   ],
   "source": [
    "def unpack_total(score):\n",
    "    if type(score) is float:\n",
    "        return 0\n",
    "    if score is None:\n",
    "        return 0\n",
    "    return ast.literal_eval(score)['unweighted_total']\n",
    "\n",
    "def unpack_regulation(score):\n",
    "    if type(score) is float:\n",
    "        return 0\n",
    "    if score is None:\n",
    "        return 0\n",
    "    return ast.literal_eval(score)['regulation_changes']\n",
    "\n",
    "tdf['total_interaction_evidence'] = tdf['scores'].apply(unpack_total)\n",
    "tdf['total_regulation_evidence'] = tdf['scores'].apply(unpack_total)\n",
    "\n",
    "\n",
    "tdf.sort_values(by='total_regulation_evidence', ascending=False)[0:10]"
   ]
  },
  {
   "cell_type": "code",
   "execution_count": 18,
   "metadata": {},
   "outputs": [
    {
     "name": "stdout",
     "output_type": "stream",
     "text": [
      "{'direct_interaction': 4, 'binding_interaction': 1, 'regulation_changes': 2, 'sensitivity_resistance': 5, 'pharmacogenomic_signals': 4, 'unweighted_total': 16}\n"
     ]
    }
   ],
   "source": [
    "position = 1\n",
    "print(tdf.sort_values(by='total_interaction_evidence', ascending=False).reset_index(drop=True)['scores'][position])"
   ]
  },
  {
   "cell_type": "markdown",
   "metadata": {},
   "source": [
    "### Build Prompts"
   ]
  },
  {
   "cell_type": "code",
   "execution_count": 19,
   "metadata": {},
   "outputs": [
    {
     "data": {
      "text/html": [
       "<div>\n",
       "<style scoped>\n",
       "    .dataframe tbody tr th:only-of-type {\n",
       "        vertical-align: middle;\n",
       "    }\n",
       "\n",
       "    .dataframe tbody tr th {\n",
       "        vertical-align: top;\n",
       "    }\n",
       "\n",
       "    .dataframe thead th {\n",
       "        text-align: right;\n",
       "    }\n",
       "</style>\n",
       "<table border=\"1\" class=\"dataframe\">\n",
       "  <thead>\n",
       "    <tr style=\"text-align: right;\">\n",
       "      <th></th>\n",
       "      <th>pmid</th>\n",
       "      <th>abstract</th>\n",
       "      <th>label</th>\n",
       "      <th>scores</th>\n",
       "      <th>tagged_drugs</th>\n",
       "      <th>concepts</th>\n",
       "      <th>gene</th>\n",
       "      <th>drug</th>\n",
       "      <th>method</th>\n",
       "      <th>total_interaction_evidence</th>\n",
       "      <th>total_regulation_evidence</th>\n",
       "      <th>context</th>\n",
       "      <th>prompt</th>\n",
       "    </tr>\n",
       "  </thead>\n",
       "  <tbody>\n",
       "    <tr>\n",
       "      <th>0</th>\n",
       "      <td>12941843</td>\n",
       "      <td>Signaling pathways involved in survival respon...</td>\n",
       "      <td>interaction_evidence</td>\n",
       "      <td>{'direct_interaction': 3, 'binding_interaction...</td>\n",
       "      <td>TRAIL | calphostin C | G&amp;ouml; 6976 | rottleri...</td>\n",
       "      <td>normalize.therapy.iuphar.ligand:5065 | normali...</td>\n",
       "      <td>BCL2</td>\n",
       "      <td>interaction_search</td>\n",
       "      <td>interaction_search</td>\n",
       "      <td>16</td>\n",
       "      <td>16</td>\n",
       "      <td>PMID: 12941843\\n Abstract: Signaling pathways ...</td>\n",
       "      <td>You are an expert biomedical scientist, bioche...</td>\n",
       "    </tr>\n",
       "    <tr>\n",
       "      <th>1</th>\n",
       "      <td>24398428</td>\n",
       "      <td>Activating BRAF kinase mutations serve as onco...</td>\n",
       "      <td>interaction_evidence</td>\n",
       "      <td>{'direct_interaction': 4, 'binding_interaction...</td>\n",
       "      <td>vemurafenib | Ganetespib</td>\n",
       "      <td>normalize.therapy.rxcui:1147220 | normalize.th...</td>\n",
       "      <td>BCL2</td>\n",
       "      <td>interaction_search</td>\n",
       "      <td>interaction_search</td>\n",
       "      <td>16</td>\n",
       "      <td>16</td>\n",
       "      <td>PMID: 24398428\\n Abstract: Activating BRAF kin...</td>\n",
       "      <td>You are an expert biomedical scientist, bioche...</td>\n",
       "    </tr>\n",
       "    <tr>\n",
       "      <th>2</th>\n",
       "      <td>15870285</td>\n",
       "      <td>The expression of the glutathione S-transferas...</td>\n",
       "      <td>interaction_evidence</td>\n",
       "      <td>{'direct_interaction': 4, 'binding_interaction...</td>\n",
       "      <td>glutathione | dexamethasone | Oltipraz | Retin...</td>\n",
       "      <td>normalize.therapy.rxcui:4890 | normalize.thera...</td>\n",
       "      <td>BCL2</td>\n",
       "      <td>interaction_search</td>\n",
       "      <td>interaction_search</td>\n",
       "      <td>16</td>\n",
       "      <td>16</td>\n",
       "      <td>PMID: 15870285\\n Abstract: The expression of t...</td>\n",
       "      <td>You are an expert biomedical scientist, bioche...</td>\n",
       "    </tr>\n",
       "    <tr>\n",
       "      <th>3</th>\n",
       "      <td>22649091</td>\n",
       "      <td>During a clinical trial of the tyrosine kinase...</td>\n",
       "      <td>interaction_evidence</td>\n",
       "      <td>{'direct_interaction': 4, 'binding_interaction...</td>\n",
       "      <td>tyrosine | dasatinib anhydrous</td>\n",
       "      <td>normalize.therapy.rxcui:10962 | normalize.ther...</td>\n",
       "      <td>BCL2</td>\n",
       "      <td>interaction_search</td>\n",
       "      <td>interaction_search</td>\n",
       "      <td>15</td>\n",
       "      <td>15</td>\n",
       "      <td>PMID: 22649091\\n Abstract: During a clinical t...</td>\n",
       "      <td>You are an expert biomedical scientist, bioche...</td>\n",
       "    </tr>\n",
       "    <tr>\n",
       "      <th>4</th>\n",
       "      <td>15319449</td>\n",
       "      <td>Leukemia inhibitory factor (LIF) cooperates wi...</td>\n",
       "      <td>interaction_evidence</td>\n",
       "      <td>{'direct_interaction': 3, 'binding_interaction...</td>\n",
       "      <td>serine</td>\n",
       "      <td>normalize.therapy.rxcui:9671</td>\n",
       "      <td>BCL2</td>\n",
       "      <td>interaction_search</td>\n",
       "      <td>interaction_search</td>\n",
       "      <td>15</td>\n",
       "      <td>15</td>\n",
       "      <td>PMID: 15319449\\n Abstract: Leukemia inhibitory...</td>\n",
       "      <td>You are an expert biomedical scientist, bioche...</td>\n",
       "    </tr>\n",
       "  </tbody>\n",
       "</table>\n",
       "</div>"
      ],
      "text/plain": [
       "       pmid                                           abstract  \\\n",
       "0  12941843  Signaling pathways involved in survival respon...   \n",
       "1  24398428  Activating BRAF kinase mutations serve as onco...   \n",
       "2  15870285  The expression of the glutathione S-transferas...   \n",
       "3  22649091  During a clinical trial of the tyrosine kinase...   \n",
       "4  15319449  Leukemia inhibitory factor (LIF) cooperates wi...   \n",
       "\n",
       "                  label                                             scores  \\\n",
       "0  interaction_evidence  {'direct_interaction': 3, 'binding_interaction...   \n",
       "1  interaction_evidence  {'direct_interaction': 4, 'binding_interaction...   \n",
       "2  interaction_evidence  {'direct_interaction': 4, 'binding_interaction...   \n",
       "3  interaction_evidence  {'direct_interaction': 4, 'binding_interaction...   \n",
       "4  interaction_evidence  {'direct_interaction': 3, 'binding_interaction...   \n",
       "\n",
       "                                        tagged_drugs  \\\n",
       "0  TRAIL | calphostin C | G&ouml; 6976 | rottleri...   \n",
       "1                           vemurafenib | Ganetespib   \n",
       "2  glutathione | dexamethasone | Oltipraz | Retin...   \n",
       "3                     tyrosine | dasatinib anhydrous   \n",
       "4                                             serine   \n",
       "\n",
       "                                            concepts  gene  \\\n",
       "0  normalize.therapy.iuphar.ligand:5065 | normali...  BCL2   \n",
       "1  normalize.therapy.rxcui:1147220 | normalize.th...  BCL2   \n",
       "2  normalize.therapy.rxcui:4890 | normalize.thera...  BCL2   \n",
       "3  normalize.therapy.rxcui:10962 | normalize.ther...  BCL2   \n",
       "4                       normalize.therapy.rxcui:9671  BCL2   \n",
       "\n",
       "                 drug              method  total_interaction_evidence  \\\n",
       "0  interaction_search  interaction_search                          16   \n",
       "1  interaction_search  interaction_search                          16   \n",
       "2  interaction_search  interaction_search                          16   \n",
       "3  interaction_search  interaction_search                          15   \n",
       "4  interaction_search  interaction_search                          15   \n",
       "\n",
       "   total_regulation_evidence  \\\n",
       "0                         16   \n",
       "1                         16   \n",
       "2                         16   \n",
       "3                         15   \n",
       "4                         15   \n",
       "\n",
       "                                             context  \\\n",
       "0  PMID: 12941843\\n Abstract: Signaling pathways ...   \n",
       "1  PMID: 24398428\\n Abstract: Activating BRAF kin...   \n",
       "2  PMID: 15870285\\n Abstract: The expression of t...   \n",
       "3  PMID: 22649091\\n Abstract: During a clinical t...   \n",
       "4  PMID: 15319449\\n Abstract: Leukemia inhibitory...   \n",
       "\n",
       "                                              prompt  \n",
       "0  You are an expert biomedical scientist, bioche...  \n",
       "1  You are an expert biomedical scientist, bioche...  \n",
       "2  You are an expert biomedical scientist, bioche...  \n",
       "3  You are an expert biomedical scientist, bioche...  \n",
       "4  You are an expert biomedical scientist, bioche...  "
      ]
     },
     "execution_count": 19,
     "metadata": {},
     "output_type": "execute_result"
    }
   ],
   "source": [
    "here_we_go = tdf.sort_values(by='total_interaction_evidence', ascending=False)[0:100].reset_index(drop=True)\n",
    "\n",
    "def generate_prompt_base(drugs, gene):\n",
    "    prompt = f\"\"\"You are an expert biomedical scientist, biochemist, and scientific curator trained to identify drug-gene interactions from scientific literature. Given a list of drugs, a gene, and a scientific abstract, your task is to determine whether an interaction between a drug and a gene is occuring and assign it an interaction directionality. Use the following tools to help perform these tasks.\n",
    "    \n",
    "    *Interaction*\n",
    "    - An interaction between a small molecule and a gene or gene product. \n",
    "\n",
    "    *Interaction Directionality*\n",
    "    - Activating -> Activating interactions are those where the drug increases the biological activity or expression of a gene target.\n",
    "    - Inhibiting -> Inhibiting interactions are those where the drug decreases the biological activity or expression of a gene target.\n",
    "\n",
    "    The drugs to consider for this task are {drugs}. For each drug, fill out the following JSON schema:\n",
    "    {{\n",
    "        \"pmid\": \"EXACT PMID FROM CONTEXT\",\n",
    "        \"drug_name\": \"NAME OF DRUG\",\n",
    "        \"gene_name\": \"NAME OF GENE BEING INTERACTED WITH\",\n",
    "        \"interaction_occurs_with_gene\": \"YES\" or \"NO\",\n",
    "        \"interaction_type\": \"ACTIVATING\" or \"INHIBITING\",\n",
    "        \"evidence\": \"EXACT SENTENCE FROM ABSTRACT THAT SUPPORTS INTERACTION\"        \n",
    "    }} \n",
    "\n",
    "\"\"\"\n",
    "    \n",
    "    return prompt\n",
    "\n",
    "here_we_go['context'] = None\n",
    "here_we_go['prompt'] = None\n",
    "\n",
    "for idx, row in here_we_go.iterrows():\n",
    "    drugs = row['tagged_drugs']\n",
    "    gene = row['gene']\n",
    "    prompt_base = generate_prompt_base(drugs, gene)\n",
    "\n",
    "    # tdf = here_we_go[here_we['pmid']==row['pmid']].reset_index(drop=True)\n",
    "    context = f'PMID: {row['pmid']}\\n Abstract: {row['abstract']}'\n",
    "\n",
    "    full_prompt = f'{prompt_base}\\n\\n{context}'\n",
    "\n",
    "    here_we_go.at[idx,'context'] = context\n",
    "    here_we_go.at[idx,'prompt'] = full_prompt    \n",
    "\n",
    "\n",
    "\n",
    "here_we_go.head()"
   ]
  },
  {
   "cell_type": "code",
   "execution_count": 22,
   "metadata": {},
   "outputs": [
    {
     "name": "stdout",
     "output_type": "stream",
     "text": [
      "You are an expert biomedical scientist, biochemist, and scientific curator trained to identify drug-gene interactions from scientific literature. Given a list of drugs, a gene, and a scientific abstract, your task is to determine whether an interaction between a drug and a gene is occuring and assign it an interaction directionality. Use the following tools to help perform these tasks.\n",
      "    \n",
      "    *Interaction*\n",
      "    - An interaction between a small molecule and a gene or gene product. \n",
      "\n",
      "    *Interaction Directionality*\n",
      "    - Activating -> Activating interactions are those where the drug increases the biological activity or expression of a gene target.\n",
      "    - Inhibiting -> Inhibiting interactions are those where the drug decreases the biological activity or expression of a gene target.\n",
      "\n",
      "    The drugs to consider for this task are TRAIL | calphostin C | G&ouml; 6976 | rottlerin | phorbol 12-myristate 13-acetate. For each drug, fill out the following JSON schema:\n",
      "    {\n",
      "        \"pmid\": \"EXACT PMID FROM CONTEXT\",\n",
      "        \"drug_name\": \"NAME OF DRUG\",\n",
      "        \"gene_name\": \"NAME OF GENE BEING INTERACTED WITH\",\n",
      "        \"interaction_occurs_with_gene\": \"YES\" or \"NO\",\n",
      "        \"interaction_type\": \"ACTIVATING\" or \"INHIBITING\",\n",
      "        \"evidence\": \"EXACT SENTENCE FROM ABSTRACT THAT SUPPORTS INTERACTION\"        \n",
      "    } \n",
      "\n",
      "\n",
      "\n",
      "PMID: 12941843\n",
      " Abstract: Signaling pathways involved in survival responses may attenuate the apoptotic response to the cytotoxic tumor necrosis factor-related apoptosis-inducing ligand (TRAIL) in human colon carcinomas. In six lines examined, three were sensitive (GC(3)/c1, VRC(5)/c1, HCT116), HT29 demonstrated intermediate sensitivity, and RKO and HCT8 were resistant to TRAIL-induced apoptosis. Calphostin c [an inhibitor of classic and novel isoforms of protein kinase C (PKC)] sensitized five of six cell lines to TRAIL, whereas Go6976, (inhibitor of classic PKC isoforms), did not influence TRAIL sensitivity. Rottlerin, an inhibitor of novel isoforms of PKC, specifically PKC delta, sensitized five of six cell lines to TRAIL-induced apoptosis, suggesting that PKC delta may be involved in the mechanism of TRAIL resistance. Transfection of HCT116 with a proapoptotic cleaved fragment of PKC delta or an antiapoptotic full-length PKC delta did not influence the sensitivity of HCT116 to TRAIL. Furthermore, the incubation of HCT116 or RKO with phorbol myristate acetate for 16 h, which down-regulated the expression of novel PKC isoforms, also did not influence sensitivity to TRAIL either in the absence or presence of rottlerin. However, after 15-min incubation with rottlerin, mitochondrial membrane potential (Delta psi m) was dramatically reduced in RKO cells, and, in cells subsequently treated with TRAIL, rapid apoptosis was evident within 8 h. Calphostin c, but not Go6976, also caused a decrease in Delta psi m. In RKO, rottlerin induced the release of cytochrome c, HtrA2/Omi, Smac/DIABLO, and AIF from the mitochondria, potentiated in combination with TRAIL, with concomitant caspase activation and down-regulation of XIAP. In HT29, the release of proapoptotic factors was demonstrated only when rottlerin and TRAIL were combined, and Bcl-2 overexpression inhibited this release and the induction of apoptosis. TRAIL-induced apoptosis was not influenced by rottlerin or Bcl-2 overexpression in type I (GC(3)/c1) cells. Data suggest that rottlerin affects mitochondrial function independent of PKC delta, thereby sensitizing cells to TRAIL, and that mitochondria constitute an important target in overcoming inherent resistance to TRAIL in colon carcinomas.\n"
     ]
    }
   ],
   "source": [
    "print(here_we_go['prompt'][0])"
   ]
  },
  {
   "cell_type": "code",
   "execution_count": 23,
   "metadata": {},
   "outputs": [],
   "source": [
    "import boto3\n",
    "import json\n",
    "\n",
    "# Initialize the Bedrock Runtime client\n",
    "bedrock = boto3.client(\"bedrock-runtime\", region_name=\"us-east-2\")\n",
    "\n",
    "# Replace with your actual inference profile ID or ARN\n",
    "INFERENCE_PROFILE_ID = \"us.anthropic.claude-3-5-sonnet-20240620-v1:0\"\n",
    "# Not opus 4 I guess????\n",
    "\n",
    "\n",
    "def query_claude_sonnet(prompt: str) -> str:\n",
    "    body = {\n",
    "        \"messages\": [\n",
    "            {\"role\": \"user\", \"content\": prompt}\n",
    "        ],\n",
    "        \"max_tokens\": 1024,\n",
    "        \"temperature\": 0.0,\n",
    "        \"anthropic_version\": \"bedrock-2023-05-31\"\n",
    "    }\n",
    "\n",
    "    try:\n",
    "        response = bedrock.invoke_model(\n",
    "            body=json.dumps(body),\n",
    "            modelId=INFERENCE_PROFILE_ID,\n",
    "            contentType=\"application/json\",\n",
    "            accept=\"application/json\"\n",
    "        )\n",
    "        response_body = json.loads(response[\"body\"].read())\n",
    "        return response_body[\"content\"][0][\"text\"]\n",
    "    except Exception as e:\n",
    "        return f\"[Error] {str(e)}\"\n",
    "\n",
    "# Example usage\n",
    "# response = query_claude_opus(\"Hello! This is a test message!\")\n",
    "# print(response)\n"
   ]
  },
  {
   "cell_type": "code",
   "execution_count": 24,
   "metadata": {},
   "outputs": [
    {
     "name": "stdout",
     "output_type": "stream",
     "text": [
      "0 Done\n",
      "1 Done\n",
      "2 Done\n",
      "3 Done\n",
      "4 Done\n",
      "5 Done\n",
      "6 Done\n",
      "7 Done\n",
      "8 Done\n",
      "9 Done\n",
      "10 Done\n",
      "11 Done\n",
      "12 Done\n",
      "13 Done\n",
      "14 Done\n",
      "15 Done\n",
      "16 Done\n",
      "17 Done\n",
      "18 Done\n",
      "19 Done\n",
      "20 Done\n",
      "21 Done\n",
      "22 Done\n",
      "23 Done\n",
      "24 Done\n",
      "25 Done\n",
      "26 Done\n",
      "27 Done\n",
      "28 Done\n",
      "29 Done\n",
      "30 Done\n",
      "31 Done\n",
      "32 Done\n",
      "33 Done\n",
      "34 Done\n",
      "35 Done\n",
      "36 Done\n",
      "37 Done\n",
      "38 Done\n",
      "39 Done\n",
      "40 Done\n",
      "41 Done\n",
      "42 Done\n",
      "43 Done\n",
      "44 Done\n",
      "45 Done\n",
      "46 Done\n",
      "47 Done\n",
      "48 Done\n",
      "49 Done\n",
      "50 Done\n",
      "51 Done\n",
      "52 Done\n",
      "53 Done\n",
      "54 Done\n",
      "55 Done\n",
      "56 Done\n",
      "57 Done\n",
      "58 Done\n",
      "59 Done\n",
      "60 Done\n",
      "61 Done\n",
      "62 Done\n",
      "63 Done\n",
      "64 Done\n",
      "65 Done\n",
      "66 Done\n",
      "67 Done\n",
      "68 Done\n",
      "69 Done\n",
      "70 Done\n",
      "71 Done\n",
      "72 Done\n",
      "73 Done\n",
      "74 Done\n",
      "75 Done\n",
      "76 Done\n",
      "77 Done\n",
      "78 Done\n",
      "79 Done\n",
      "80 Done\n",
      "81 Done\n",
      "82 Done\n",
      "83 Done\n",
      "84 Done\n",
      "85 Done\n",
      "86 Done\n",
      "87 Done\n",
      "88 Done\n",
      "89 Done\n",
      "90 Done\n",
      "91 Done\n",
      "92 Done\n",
      "93 Done\n",
      "94 Done\n",
      "95 Done\n",
      "96 Done\n",
      "97 Done\n",
      "98 Done\n",
      "99 Done\n"
     ]
    }
   ],
   "source": [
    "here_we_go['response'] = None\n",
    "\n",
    "for idx, row in here_we_go.iterrows():\n",
    "    here_we_go.at[idx,'response'] = query_claude_sonnet(row['prompt'])\n",
    "    print(f'{idx} Done')"
   ]
  },
  {
   "cell_type": "code",
   "execution_count": null,
   "metadata": {},
   "outputs": [],
   "source": [
    "# here_we_go.to_excel('Literature_Prioritization_control3_use_this.xlsx')"
   ]
  },
  {
   "cell_type": "markdown",
   "metadata": {},
   "source": [
    "### Extract!"
   ]
  },
  {
   "cell_type": "code",
   "execution_count": 29,
   "metadata": {},
   "outputs": [],
   "source": [
    "import re, json\n",
    "\n",
    "def extract_json_objects(text):\n",
    "    \"\"\"\n",
    "    Extract all JSON-like objects (dicts) from a text string.\n",
    "    Returns a list of parsed dicts.\n",
    "    \"\"\"\n",
    "    objects = []\n",
    "    brace_stack = []\n",
    "    start = None\n",
    "    \n",
    "    for i, ch in enumerate(text):\n",
    "        if ch == \"{\":\n",
    "            if not brace_stack:\n",
    "                start = i\n",
    "            brace_stack.append(\"{\")\n",
    "        elif ch == \"}\":\n",
    "            if brace_stack:\n",
    "                brace_stack.pop()\n",
    "                if not brace_stack and start is not None:\n",
    "                    snippet = text[start:i+1]\n",
    "                    try:\n",
    "                        objects.append(json.loads(snippet))\n",
    "                    except json.JSONDecodeError:\n",
    "                        # fallback: strip trailing commas etc.\n",
    "                        snippet = re.sub(r\",\\s*}\", \"}\", snippet)\n",
    "                        snippet = re.sub(r\",\\s*]\", \"]\", snippet)\n",
    "                        try:\n",
    "                            objects.append(json.loads(snippet))\n",
    "                        except:\n",
    "                            pass\n",
    "                    start = None\n",
    "    return objects\n",
    "\n",
    "\n",
    "def extract_note_text(text):\n",
    "    \"\"\"\n",
    "    Grab any trailing 'Note:' or 'Explanation:' text from a response.\n",
    "    Returns a single string ('' if none found).\n",
    "    \"\"\"\n",
    "    match = re.search(r\"(?:Note|Explanation)[:\\-–]\\s*(.+)\", text, flags=re.IGNORECASE|re.DOTALL)\n",
    "    return match.group(1).strip() if match else \"\"\n"
   ]
  },
  {
   "cell_type": "code",
   "execution_count": 30,
   "metadata": {},
   "outputs": [
    {
     "data": {
      "text/html": [
       "<div>\n",
       "<style scoped>\n",
       "    .dataframe tbody tr th:only-of-type {\n",
       "        vertical-align: middle;\n",
       "    }\n",
       "\n",
       "    .dataframe tbody tr th {\n",
       "        vertical-align: top;\n",
       "    }\n",
       "\n",
       "    .dataframe thead th {\n",
       "        text-align: right;\n",
       "    }\n",
       "</style>\n",
       "<table border=\"1\" class=\"dataframe\">\n",
       "  <thead>\n",
       "    <tr style=\"text-align: right;\">\n",
       "      <th></th>\n",
       "      <th>pmid</th>\n",
       "      <th>abstract</th>\n",
       "      <th>label</th>\n",
       "      <th>scores</th>\n",
       "      <th>tagged_drugs</th>\n",
       "      <th>concepts</th>\n",
       "      <th>gene</th>\n",
       "      <th>drug</th>\n",
       "      <th>method</th>\n",
       "      <th>total_interaction_evidence</th>\n",
       "      <th>total_regulation_evidence</th>\n",
       "      <th>context</th>\n",
       "      <th>prompt</th>\n",
       "      <th>response</th>\n",
       "      <th>json</th>\n",
       "      <th>free_text_explanation</th>\n",
       "    </tr>\n",
       "  </thead>\n",
       "  <tbody>\n",
       "    <tr>\n",
       "      <th>0</th>\n",
       "      <td>12941843</td>\n",
       "      <td>Signaling pathways involved in survival respon...</td>\n",
       "      <td>interaction_evidence</td>\n",
       "      <td>{'direct_interaction': 3, 'binding_interaction...</td>\n",
       "      <td>TRAIL | calphostin C | G&amp;ouml; 6976 | rottleri...</td>\n",
       "      <td>normalize.therapy.iuphar.ligand:5065 | normali...</td>\n",
       "      <td>BCL2</td>\n",
       "      <td>interaction_search</td>\n",
       "      <td>interaction_search</td>\n",
       "      <td>16</td>\n",
       "      <td>16</td>\n",
       "      <td>PMID: 12941843\\n Abstract: Signaling pathways ...</td>\n",
       "      <td>You are an expert biomedical scientist, bioche...</td>\n",
       "      <td>Based on the abstract provided, I will analyze...</td>\n",
       "      <td>[{'pmid': '12941843', 'drug_name': 'TRAIL', 'g...</td>\n",
       "      <td></td>\n",
       "    </tr>\n",
       "    <tr>\n",
       "      <th>1</th>\n",
       "      <td>24398428</td>\n",
       "      <td>Activating BRAF kinase mutations serve as onco...</td>\n",
       "      <td>interaction_evidence</td>\n",
       "      <td>{'direct_interaction': 4, 'binding_interaction...</td>\n",
       "      <td>vemurafenib | Ganetespib</td>\n",
       "      <td>normalize.therapy.rxcui:1147220 | normalize.th...</td>\n",
       "      <td>BCL2</td>\n",
       "      <td>interaction_search</td>\n",
       "      <td>interaction_search</td>\n",
       "      <td>16</td>\n",
       "      <td>16</td>\n",
       "      <td>PMID: 24398428\\n Abstract: Activating BRAF kin...</td>\n",
       "      <td>You are an expert biomedical scientist, bioche...</td>\n",
       "      <td>Based on the provided abstract, I will fill ou...</td>\n",
       "      <td>[{'pmid': '24398428', 'drug_name': 'vemurafeni...</td>\n",
       "      <td></td>\n",
       "    </tr>\n",
       "    <tr>\n",
       "      <th>2</th>\n",
       "      <td>15870285</td>\n",
       "      <td>The expression of the glutathione S-transferas...</td>\n",
       "      <td>interaction_evidence</td>\n",
       "      <td>{'direct_interaction': 4, 'binding_interaction...</td>\n",
       "      <td>glutathione | dexamethasone | Oltipraz | Retin...</td>\n",
       "      <td>normalize.therapy.rxcui:4890 | normalize.thera...</td>\n",
       "      <td>BCL2</td>\n",
       "      <td>interaction_search</td>\n",
       "      <td>interaction_search</td>\n",
       "      <td>16</td>\n",
       "      <td>16</td>\n",
       "      <td>PMID: 15870285\\n Abstract: The expression of t...</td>\n",
       "      <td>You are an expert biomedical scientist, bioche...</td>\n",
       "      <td>Based on the provided abstract, I will analyze...</td>\n",
       "      <td>[{'pmid': '15870285', 'drug_name': 'dexamethas...</td>\n",
       "      <td></td>\n",
       "    </tr>\n",
       "    <tr>\n",
       "      <th>3</th>\n",
       "      <td>22649091</td>\n",
       "      <td>During a clinical trial of the tyrosine kinase...</td>\n",
       "      <td>interaction_evidence</td>\n",
       "      <td>{'direct_interaction': 4, 'binding_interaction...</td>\n",
       "      <td>tyrosine | dasatinib anhydrous</td>\n",
       "      <td>normalize.therapy.rxcui:10962 | normalize.ther...</td>\n",
       "      <td>BCL2</td>\n",
       "      <td>interaction_search</td>\n",
       "      <td>interaction_search</td>\n",
       "      <td>15</td>\n",
       "      <td>15</td>\n",
       "      <td>PMID: 22649091\\n Abstract: During a clinical t...</td>\n",
       "      <td>You are an expert biomedical scientist, bioche...</td>\n",
       "      <td>Based on the provided abstract, I can identify...</td>\n",
       "      <td>[{'pmid': '22649091', 'drug_name': 'dasatinib ...</td>\n",
       "      <td>The abstract describes an interaction between ...</td>\n",
       "    </tr>\n",
       "    <tr>\n",
       "      <th>4</th>\n",
       "      <td>15319449</td>\n",
       "      <td>Leukemia inhibitory factor (LIF) cooperates wi...</td>\n",
       "      <td>interaction_evidence</td>\n",
       "      <td>{'direct_interaction': 3, 'binding_interaction...</td>\n",
       "      <td>serine</td>\n",
       "      <td>normalize.therapy.rxcui:9671</td>\n",
       "      <td>BCL2</td>\n",
       "      <td>interaction_search</td>\n",
       "      <td>interaction_search</td>\n",
       "      <td>15</td>\n",
       "      <td>15</td>\n",
       "      <td>PMID: 15319449\\n Abstract: Leukemia inhibitory...</td>\n",
       "      <td>You are an expert biomedical scientist, bioche...</td>\n",
       "      <td>Based on the given abstract, there is no menti...</td>\n",
       "      <td>[{'pmid': '15319449', 'drug_name': 'serine', '...</td>\n",
       "      <td></td>\n",
       "    </tr>\n",
       "  </tbody>\n",
       "</table>\n",
       "</div>"
      ],
      "text/plain": [
       "       pmid                                           abstract  \\\n",
       "0  12941843  Signaling pathways involved in survival respon...   \n",
       "1  24398428  Activating BRAF kinase mutations serve as onco...   \n",
       "2  15870285  The expression of the glutathione S-transferas...   \n",
       "3  22649091  During a clinical trial of the tyrosine kinase...   \n",
       "4  15319449  Leukemia inhibitory factor (LIF) cooperates wi...   \n",
       "\n",
       "                  label                                             scores  \\\n",
       "0  interaction_evidence  {'direct_interaction': 3, 'binding_interaction...   \n",
       "1  interaction_evidence  {'direct_interaction': 4, 'binding_interaction...   \n",
       "2  interaction_evidence  {'direct_interaction': 4, 'binding_interaction...   \n",
       "3  interaction_evidence  {'direct_interaction': 4, 'binding_interaction...   \n",
       "4  interaction_evidence  {'direct_interaction': 3, 'binding_interaction...   \n",
       "\n",
       "                                        tagged_drugs  \\\n",
       "0  TRAIL | calphostin C | G&ouml; 6976 | rottleri...   \n",
       "1                           vemurafenib | Ganetespib   \n",
       "2  glutathione | dexamethasone | Oltipraz | Retin...   \n",
       "3                     tyrosine | dasatinib anhydrous   \n",
       "4                                             serine   \n",
       "\n",
       "                                            concepts  gene  \\\n",
       "0  normalize.therapy.iuphar.ligand:5065 | normali...  BCL2   \n",
       "1  normalize.therapy.rxcui:1147220 | normalize.th...  BCL2   \n",
       "2  normalize.therapy.rxcui:4890 | normalize.thera...  BCL2   \n",
       "3  normalize.therapy.rxcui:10962 | normalize.ther...  BCL2   \n",
       "4                       normalize.therapy.rxcui:9671  BCL2   \n",
       "\n",
       "                 drug              method  total_interaction_evidence  \\\n",
       "0  interaction_search  interaction_search                          16   \n",
       "1  interaction_search  interaction_search                          16   \n",
       "2  interaction_search  interaction_search                          16   \n",
       "3  interaction_search  interaction_search                          15   \n",
       "4  interaction_search  interaction_search                          15   \n",
       "\n",
       "   total_regulation_evidence  \\\n",
       "0                         16   \n",
       "1                         16   \n",
       "2                         16   \n",
       "3                         15   \n",
       "4                         15   \n",
       "\n",
       "                                             context  \\\n",
       "0  PMID: 12941843\\n Abstract: Signaling pathways ...   \n",
       "1  PMID: 24398428\\n Abstract: Activating BRAF kin...   \n",
       "2  PMID: 15870285\\n Abstract: The expression of t...   \n",
       "3  PMID: 22649091\\n Abstract: During a clinical t...   \n",
       "4  PMID: 15319449\\n Abstract: Leukemia inhibitory...   \n",
       "\n",
       "                                              prompt  \\\n",
       "0  You are an expert biomedical scientist, bioche...   \n",
       "1  You are an expert biomedical scientist, bioche...   \n",
       "2  You are an expert biomedical scientist, bioche...   \n",
       "3  You are an expert biomedical scientist, bioche...   \n",
       "4  You are an expert biomedical scientist, bioche...   \n",
       "\n",
       "                                            response  \\\n",
       "0  Based on the abstract provided, I will analyze...   \n",
       "1  Based on the provided abstract, I will fill ou...   \n",
       "2  Based on the provided abstract, I will analyze...   \n",
       "3  Based on the provided abstract, I can identify...   \n",
       "4  Based on the given abstract, there is no menti...   \n",
       "\n",
       "                                                json  \\\n",
       "0  [{'pmid': '12941843', 'drug_name': 'TRAIL', 'g...   \n",
       "1  [{'pmid': '24398428', 'drug_name': 'vemurafeni...   \n",
       "2  [{'pmid': '15870285', 'drug_name': 'dexamethas...   \n",
       "3  [{'pmid': '22649091', 'drug_name': 'dasatinib ...   \n",
       "4  [{'pmid': '15319449', 'drug_name': 'serine', '...   \n",
       "\n",
       "                               free_text_explanation  \n",
       "0                                                     \n",
       "1                                                     \n",
       "2                                                     \n",
       "3  The abstract describes an interaction between ...  \n",
       "4                                                     "
      ]
     },
     "execution_count": 30,
     "metadata": {},
     "output_type": "execute_result"
    }
   ],
   "source": [
    "here_we_go['json'] = None\n",
    "here_we_go['free_text_explanation'] = None\n",
    "for idx, row in here_we_go.iterrows():\n",
    "    here_we_go.at[idx, 'free_text_explanation'] = extract_note_text(row['response'])\n",
    "    here_we_go.at[idx,'json'] = extract_json_objects(row['response'])\n",
    "\n",
    "here_we_go.head()"
   ]
  },
  {
   "cell_type": "code",
   "execution_count": 31,
   "metadata": {},
   "outputs": [
    {
     "data": {
      "text/plain": [
       "[{'pmid': '12941843',\n",
       "  'drug_name': 'TRAIL',\n",
       "  'gene_name': 'XIAP',\n",
       "  'interaction_occurs_with_gene': 'YES',\n",
       "  'interaction_type': 'INHIBITING',\n",
       "  'evidence': 'In RKO, rottlerin induced the release of cytochrome c, HtrA2/Omi, Smac/DIABLO, and AIF from the mitochondria, potentiated in combination with TRAIL, with concomitant caspase activation and down-regulation of XIAP.'},\n",
       " {'pmid': '12941843',\n",
       "  'drug_name': 'calphostin C',\n",
       "  'gene_name': 'PKC',\n",
       "  'interaction_occurs_with_gene': 'YES',\n",
       "  'interaction_type': 'INHIBITING',\n",
       "  'evidence': 'Calphostin c [an inhibitor of classic and novel isoforms of protein kinase C (PKC)] sensitized five of six cell lines to TRAIL'},\n",
       " {'pmid': '12941843',\n",
       "  'drug_name': 'Gö 6976',\n",
       "  'gene_name': 'PKC',\n",
       "  'interaction_occurs_with_gene': 'YES',\n",
       "  'interaction_type': 'INHIBITING',\n",
       "  'evidence': 'Go6976, (inhibitor of classic PKC isoforms), did not influence TRAIL sensitivity.'},\n",
       " {'pmid': '12941843',\n",
       "  'drug_name': 'rottlerin',\n",
       "  'gene_name': 'PKC delta',\n",
       "  'interaction_occurs_with_gene': 'YES',\n",
       "  'interaction_type': 'INHIBITING',\n",
       "  'evidence': 'Rottlerin, an inhibitor of novel isoforms of PKC, specifically PKC delta, sensitized five of six cell lines to TRAIL-induced apoptosis, suggesting that PKC delta may be involved in the mechanism of TRAIL resistance.'},\n",
       " {'pmid': '12941843',\n",
       "  'drug_name': 'phorbol 12-myristate 13-acetate',\n",
       "  'gene_name': 'PKC',\n",
       "  'interaction_occurs_with_gene': 'YES',\n",
       "  'interaction_type': 'INHIBITING',\n",
       "  'evidence': 'Furthermore, the incubation of HCT116 or RKO with phorbol myristate acetate for 16 h, which down-regulated the expression of novel PKC isoforms, also did not influence sensitivity to TRAIL either in the absence or presence of rottlerin.'}]"
      ]
     },
     "execution_count": 31,
     "metadata": {},
     "output_type": "execute_result"
    }
   ],
   "source": [
    "here_we_go['json'][0]"
   ]
  },
  {
   "cell_type": "code",
   "execution_count": 32,
   "metadata": {},
   "outputs": [
    {
     "data": {
      "text/html": [
       "<div>\n",
       "<style scoped>\n",
       "    .dataframe tbody tr th:only-of-type {\n",
       "        vertical-align: middle;\n",
       "    }\n",
       "\n",
       "    .dataframe tbody tr th {\n",
       "        vertical-align: top;\n",
       "    }\n",
       "\n",
       "    .dataframe thead th {\n",
       "        text-align: right;\n",
       "    }\n",
       "</style>\n",
       "<table border=\"1\" class=\"dataframe\">\n",
       "  <thead>\n",
       "    <tr style=\"text-align: right;\">\n",
       "      <th></th>\n",
       "      <th>pmid</th>\n",
       "      <th>drug_name</th>\n",
       "      <th>gene_name</th>\n",
       "      <th>interaction_occurs_with_gene</th>\n",
       "      <th>interaction_type</th>\n",
       "      <th>evidence</th>\n",
       "    </tr>\n",
       "  </thead>\n",
       "  <tbody>\n",
       "    <tr>\n",
       "      <th>0</th>\n",
       "      <td>12941843</td>\n",
       "      <td>TRAIL</td>\n",
       "      <td>XIAP</td>\n",
       "      <td>YES</td>\n",
       "      <td>INHIBITING</td>\n",
       "      <td>In RKO, rottlerin induced the release of cytoc...</td>\n",
       "    </tr>\n",
       "    <tr>\n",
       "      <th>1</th>\n",
       "      <td>12941843</td>\n",
       "      <td>calphostin C</td>\n",
       "      <td>PKC</td>\n",
       "      <td>YES</td>\n",
       "      <td>INHIBITING</td>\n",
       "      <td>Calphostin c [an inhibitor of classic and nove...</td>\n",
       "    </tr>\n",
       "    <tr>\n",
       "      <th>2</th>\n",
       "      <td>12941843</td>\n",
       "      <td>Gö 6976</td>\n",
       "      <td>PKC</td>\n",
       "      <td>YES</td>\n",
       "      <td>INHIBITING</td>\n",
       "      <td>Go6976, (inhibitor of classic PKC isoforms), d...</td>\n",
       "    </tr>\n",
       "    <tr>\n",
       "      <th>3</th>\n",
       "      <td>12941843</td>\n",
       "      <td>rottlerin</td>\n",
       "      <td>PKC delta</td>\n",
       "      <td>YES</td>\n",
       "      <td>INHIBITING</td>\n",
       "      <td>Rottlerin, an inhibitor of novel isoforms of P...</td>\n",
       "    </tr>\n",
       "    <tr>\n",
       "      <th>4</th>\n",
       "      <td>12941843</td>\n",
       "      <td>phorbol 12-myristate 13-acetate</td>\n",
       "      <td>PKC</td>\n",
       "      <td>YES</td>\n",
       "      <td>INHIBITING</td>\n",
       "      <td>Furthermore, the incubation of HCT116 or RKO w...</td>\n",
       "    </tr>\n",
       "    <tr>\n",
       "      <th>...</th>\n",
       "      <td>...</td>\n",
       "      <td>...</td>\n",
       "      <td>...</td>\n",
       "      <td>...</td>\n",
       "      <td>...</td>\n",
       "      <td>...</td>\n",
       "    </tr>\n",
       "    <tr>\n",
       "      <th>264</th>\n",
       "      <td>8947586</td>\n",
       "      <td>glycine</td>\n",
       "      <td>RARA</td>\n",
       "      <td>YES</td>\n",
       "      <td>ACTIVATING</td>\n",
       "      <td>DNA sequence analysis revealed a mutation in t...</td>\n",
       "    </tr>\n",
       "    <tr>\n",
       "      <th>265</th>\n",
       "      <td>8947586</td>\n",
       "      <td>aspartic acid</td>\n",
       "      <td>RARA</td>\n",
       "      <td>YES</td>\n",
       "      <td>INHIBITING</td>\n",
       "      <td>DNA sequence analysis revealed a mutation in t...</td>\n",
       "    </tr>\n",
       "    <tr>\n",
       "      <th>266</th>\n",
       "      <td>11125300</td>\n",
       "      <td>Recombinant Tumor Necrosis Factor Family Protein</td>\n",
       "      <td>TNFR1</td>\n",
       "      <td>YES</td>\n",
       "      <td>ACTIVATING</td>\n",
       "      <td>Stimulation of TNFR1 was sufficient to induce ...</td>\n",
       "    </tr>\n",
       "    <tr>\n",
       "      <th>267</th>\n",
       "      <td>11125300</td>\n",
       "      <td>Recombinant Tumor Necrosis Factor Family Protein</td>\n",
       "      <td>TNFR2</td>\n",
       "      <td>YES</td>\n",
       "      <td>ACTIVATING</td>\n",
       "      <td>Experiments based on the use of receptor-agoni...</td>\n",
       "    </tr>\n",
       "    <tr>\n",
       "      <th>268</th>\n",
       "      <td>11125300</td>\n",
       "      <td>dactinomycin</td>\n",
       "      <td>TNFR1</td>\n",
       "      <td>NO</td>\n",
       "      <td></td>\n",
       "      <td></td>\n",
       "    </tr>\n",
       "  </tbody>\n",
       "</table>\n",
       "<p>269 rows × 6 columns</p>\n",
       "</div>"
      ],
      "text/plain": [
       "         pmid                                         drug_name  gene_name  \\\n",
       "0    12941843                                             TRAIL       XIAP   \n",
       "1    12941843                                      calphostin C        PKC   \n",
       "2    12941843                                           Gö 6976        PKC   \n",
       "3    12941843                                         rottlerin  PKC delta   \n",
       "4    12941843                   phorbol 12-myristate 13-acetate        PKC   \n",
       "..        ...                                               ...        ...   \n",
       "264   8947586                                           glycine       RARA   \n",
       "265   8947586                                     aspartic acid       RARA   \n",
       "266  11125300  Recombinant Tumor Necrosis Factor Family Protein      TNFR1   \n",
       "267  11125300  Recombinant Tumor Necrosis Factor Family Protein      TNFR2   \n",
       "268  11125300                                      dactinomycin      TNFR1   \n",
       "\n",
       "    interaction_occurs_with_gene interaction_type  \\\n",
       "0                            YES       INHIBITING   \n",
       "1                            YES       INHIBITING   \n",
       "2                            YES       INHIBITING   \n",
       "3                            YES       INHIBITING   \n",
       "4                            YES       INHIBITING   \n",
       "..                           ...              ...   \n",
       "264                          YES       ACTIVATING   \n",
       "265                          YES       INHIBITING   \n",
       "266                          YES       ACTIVATING   \n",
       "267                          YES       ACTIVATING   \n",
       "268                           NO                    \n",
       "\n",
       "                                              evidence  \n",
       "0    In RKO, rottlerin induced the release of cytoc...  \n",
       "1    Calphostin c [an inhibitor of classic and nove...  \n",
       "2    Go6976, (inhibitor of classic PKC isoforms), d...  \n",
       "3    Rottlerin, an inhibitor of novel isoforms of P...  \n",
       "4    Furthermore, the incubation of HCT116 or RKO w...  \n",
       "..                                                 ...  \n",
       "264  DNA sequence analysis revealed a mutation in t...  \n",
       "265  DNA sequence analysis revealed a mutation in t...  \n",
       "266  Stimulation of TNFR1 was sufficient to induce ...  \n",
       "267  Experiments based on the use of receptor-agoni...  \n",
       "268                                                     \n",
       "\n",
       "[269 rows x 6 columns]"
      ]
     },
     "execution_count": 32,
     "metadata": {},
     "output_type": "execute_result"
    }
   ],
   "source": [
    "flat_df = pd.DataFrame([obj for lst in here_we_go[\"json\"] for obj in lst])\n",
    "flat_df\n"
   ]
  },
  {
   "cell_type": "code",
   "execution_count": 33,
   "metadata": {},
   "outputs": [
    {
     "data": {
      "text/html": [
       "<div>\n",
       "<style scoped>\n",
       "    .dataframe tbody tr th:only-of-type {\n",
       "        vertical-align: middle;\n",
       "    }\n",
       "\n",
       "    .dataframe tbody tr th {\n",
       "        vertical-align: top;\n",
       "    }\n",
       "\n",
       "    .dataframe thead th {\n",
       "        text-align: right;\n",
       "    }\n",
       "</style>\n",
       "<table border=\"1\" class=\"dataframe\">\n",
       "  <thead>\n",
       "    <tr style=\"text-align: right;\">\n",
       "      <th></th>\n",
       "      <th>pmid</th>\n",
       "      <th>drug_name</th>\n",
       "      <th>gene_name</th>\n",
       "      <th>interaction_occurs_with_gene</th>\n",
       "      <th>interaction_type</th>\n",
       "      <th>evidence</th>\n",
       "    </tr>\n",
       "  </thead>\n",
       "  <tbody>\n",
       "    <tr>\n",
       "      <th>0</th>\n",
       "      <td>12941843</td>\n",
       "      <td>TRAIL</td>\n",
       "      <td>XIAP</td>\n",
       "      <td>YES</td>\n",
       "      <td>INHIBITING</td>\n",
       "      <td>In RKO, rottlerin induced the release of cytoc...</td>\n",
       "    </tr>\n",
       "    <tr>\n",
       "      <th>1</th>\n",
       "      <td>12941843</td>\n",
       "      <td>calphostin C</td>\n",
       "      <td>PKC</td>\n",
       "      <td>YES</td>\n",
       "      <td>INHIBITING</td>\n",
       "      <td>Calphostin c [an inhibitor of classic and nove...</td>\n",
       "    </tr>\n",
       "    <tr>\n",
       "      <th>2</th>\n",
       "      <td>12941843</td>\n",
       "      <td>Gö 6976</td>\n",
       "      <td>PKC</td>\n",
       "      <td>YES</td>\n",
       "      <td>INHIBITING</td>\n",
       "      <td>Go6976, (inhibitor of classic PKC isoforms), d...</td>\n",
       "    </tr>\n",
       "    <tr>\n",
       "      <th>3</th>\n",
       "      <td>12941843</td>\n",
       "      <td>rottlerin</td>\n",
       "      <td>PKC delta</td>\n",
       "      <td>YES</td>\n",
       "      <td>INHIBITING</td>\n",
       "      <td>Rottlerin, an inhibitor of novel isoforms of P...</td>\n",
       "    </tr>\n",
       "    <tr>\n",
       "      <th>4</th>\n",
       "      <td>12941843</td>\n",
       "      <td>phorbol 12-myristate 13-acetate</td>\n",
       "      <td>PKC</td>\n",
       "      <td>YES</td>\n",
       "      <td>INHIBITING</td>\n",
       "      <td>Furthermore, the incubation of HCT116 or RKO w...</td>\n",
       "    </tr>\n",
       "    <tr>\n",
       "      <th>...</th>\n",
       "      <td>...</td>\n",
       "      <td>...</td>\n",
       "      <td>...</td>\n",
       "      <td>...</td>\n",
       "      <td>...</td>\n",
       "      <td>...</td>\n",
       "    </tr>\n",
       "    <tr>\n",
       "      <th>263</th>\n",
       "      <td>8947586</td>\n",
       "      <td>vitamin D3</td>\n",
       "      <td>RARA</td>\n",
       "      <td>YES</td>\n",
       "      <td>ACTIVATING</td>\n",
       "      <td>We have observed that the resistant cell line ...</td>\n",
       "    </tr>\n",
       "    <tr>\n",
       "      <th>264</th>\n",
       "      <td>8947586</td>\n",
       "      <td>glycine</td>\n",
       "      <td>RARA</td>\n",
       "      <td>YES</td>\n",
       "      <td>ACTIVATING</td>\n",
       "      <td>DNA sequence analysis revealed a mutation in t...</td>\n",
       "    </tr>\n",
       "    <tr>\n",
       "      <th>265</th>\n",
       "      <td>8947586</td>\n",
       "      <td>aspartic acid</td>\n",
       "      <td>RARA</td>\n",
       "      <td>YES</td>\n",
       "      <td>INHIBITING</td>\n",
       "      <td>DNA sequence analysis revealed a mutation in t...</td>\n",
       "    </tr>\n",
       "    <tr>\n",
       "      <th>266</th>\n",
       "      <td>11125300</td>\n",
       "      <td>Recombinant Tumor Necrosis Factor Family Protein</td>\n",
       "      <td>TNFR1</td>\n",
       "      <td>YES</td>\n",
       "      <td>ACTIVATING</td>\n",
       "      <td>Stimulation of TNFR1 was sufficient to induce ...</td>\n",
       "    </tr>\n",
       "    <tr>\n",
       "      <th>267</th>\n",
       "      <td>11125300</td>\n",
       "      <td>Recombinant Tumor Necrosis Factor Family Protein</td>\n",
       "      <td>TNFR2</td>\n",
       "      <td>YES</td>\n",
       "      <td>ACTIVATING</td>\n",
       "      <td>Experiments based on the use of receptor-agoni...</td>\n",
       "    </tr>\n",
       "  </tbody>\n",
       "</table>\n",
       "<p>212 rows × 6 columns</p>\n",
       "</div>"
      ],
      "text/plain": [
       "         pmid                                         drug_name  gene_name  \\\n",
       "0    12941843                                             TRAIL       XIAP   \n",
       "1    12941843                                      calphostin C        PKC   \n",
       "2    12941843                                           Gö 6976        PKC   \n",
       "3    12941843                                         rottlerin  PKC delta   \n",
       "4    12941843                   phorbol 12-myristate 13-acetate        PKC   \n",
       "..        ...                                               ...        ...   \n",
       "263   8947586                                        vitamin D3       RARA   \n",
       "264   8947586                                           glycine       RARA   \n",
       "265   8947586                                     aspartic acid       RARA   \n",
       "266  11125300  Recombinant Tumor Necrosis Factor Family Protein      TNFR1   \n",
       "267  11125300  Recombinant Tumor Necrosis Factor Family Protein      TNFR2   \n",
       "\n",
       "    interaction_occurs_with_gene interaction_type  \\\n",
       "0                            YES       INHIBITING   \n",
       "1                            YES       INHIBITING   \n",
       "2                            YES       INHIBITING   \n",
       "3                            YES       INHIBITING   \n",
       "4                            YES       INHIBITING   \n",
       "..                           ...              ...   \n",
       "263                          YES       ACTIVATING   \n",
       "264                          YES       ACTIVATING   \n",
       "265                          YES       INHIBITING   \n",
       "266                          YES       ACTIVATING   \n",
       "267                          YES       ACTIVATING   \n",
       "\n",
       "                                              evidence  \n",
       "0    In RKO, rottlerin induced the release of cytoc...  \n",
       "1    Calphostin c [an inhibitor of classic and nove...  \n",
       "2    Go6976, (inhibitor of classic PKC isoforms), d...  \n",
       "3    Rottlerin, an inhibitor of novel isoforms of P...  \n",
       "4    Furthermore, the incubation of HCT116 or RKO w...  \n",
       "..                                                 ...  \n",
       "263  We have observed that the resistant cell line ...  \n",
       "264  DNA sequence analysis revealed a mutation in t...  \n",
       "265  DNA sequence analysis revealed a mutation in t...  \n",
       "266  Stimulation of TNFR1 was sufficient to induce ...  \n",
       "267  Experiments based on the use of receptor-agoni...  \n",
       "\n",
       "[212 rows x 6 columns]"
      ]
     },
     "execution_count": 33,
     "metadata": {},
     "output_type": "execute_result"
    }
   ],
   "source": [
    "flat_df = flat_df[(flat_df['interaction_occurs_with_gene']=='YES') & (flat_df['gene_name']!='N/A')]\n",
    "flat_df"
   ]
  },
  {
   "cell_type": "code",
   "execution_count": 36,
   "metadata": {},
   "outputs": [],
   "source": [
    "def _normalize_gene(word):\n",
    "    try:\n",
    "        r = requests.get(\n",
    "            f'https://normalize.cancervariants.org/gene/normalize?q={word}',\n",
    "            timeout=10  # Set timeout for network reliability\n",
    "        )\n",
    "        r.raise_for_status()\n",
    "        response = r.json()\n",
    "\n",
    "        if isinstance(response, dict) and response.get('match_type') is not None:\n",
    "            if response['match_type'] != 0:\n",
    "                return [\n",
    "                    response['match_type'],\n",
    "                    response['gene']['id'],\n",
    "                    response['gene']['name']\n",
    "                ]\n",
    "            else:\n",
    "                return [0, None, None]  # Not matched\n",
    "        else:\n",
    "            return ['Unexpected Response Format', None, None]\n",
    "    except requests.exceptions.RequestException as e:\n",
    "        return ['HTTP Error', str(e), None]\n",
    "    except Exception as e:\n",
    "        return ['Failure to Normalize', str(e), None]\n",
    "    \n",
    "def _normalize_therapy(word):\n",
    "    try:\n",
    "        r = requests.get(\n",
    "            f'https://normalize.cancervariants.org/therapy/normalize?q={word}&infer_namespace=true',\n",
    "            timeout=10  # Set timeout for network reliability\n",
    "        )\n",
    "        r.raise_for_status()\n",
    "        response = r.json()\n",
    "\n",
    "        if isinstance(response, dict) and response.get('match_type') is not None:\n",
    "            if response['match_type'] != 0:\n",
    "                return [\n",
    "                    response['match_type'],\n",
    "                    response['therapy']['id'],\n",
    "                    response['therapy']['name']\n",
    "                ]\n",
    "            else:\n",
    "                return [0, None, None]  # Not matched\n",
    "        else:\n",
    "            return ['Unexpected Response Format', None, None]\n",
    "    except requests.exceptions.RequestException as e:\n",
    "        return ['HTTP Error', str(e), None]\n",
    "    except Exception as e:\n",
    "        return ['Failure to Normalize', str(e), None]\n"
   ]
  },
  {
   "cell_type": "code",
   "execution_count": 37,
   "metadata": {},
   "outputs": [
    {
     "name": "stderr",
     "output_type": "stream",
     "text": [
      "/var/folders/5t/sfw5tjx56m10xb861_pd3wfm0000gq/T/ipykernel_28062/3895311126.py:1: SettingWithCopyWarning: \n",
      "A value is trying to be set on a copy of a slice from a DataFrame.\n",
      "Try using .loc[row_indexer,col_indexer] = value instead\n",
      "\n",
      "See the caveats in the documentation: https://pandas.pydata.org/pandas-docs/stable/user_guide/indexing.html#returning-a-view-versus-a-copy\n",
      "  flat_df['gene_concept'] = None\n",
      "/var/folders/5t/sfw5tjx56m10xb861_pd3wfm0000gq/T/ipykernel_28062/3895311126.py:2: SettingWithCopyWarning: \n",
      "A value is trying to be set on a copy of a slice from a DataFrame.\n",
      "Try using .loc[row_indexer,col_indexer] = value instead\n",
      "\n",
      "See the caveats in the documentation: https://pandas.pydata.org/pandas-docs/stable/user_guide/indexing.html#returning-a-view-versus-a-copy\n",
      "  flat_df['gene_label'] = None\n",
      "/var/folders/5t/sfw5tjx56m10xb861_pd3wfm0000gq/T/ipykernel_28062/3895311126.py:3: SettingWithCopyWarning: \n",
      "A value is trying to be set on a copy of a slice from a DataFrame.\n",
      "Try using .loc[row_indexer,col_indexer] = value instead\n",
      "\n",
      "See the caveats in the documentation: https://pandas.pydata.org/pandas-docs/stable/user_guide/indexing.html#returning-a-view-versus-a-copy\n",
      "  flat_df['gene_match_type'] = None\n",
      "/var/folders/5t/sfw5tjx56m10xb861_pd3wfm0000gq/T/ipykernel_28062/3895311126.py:4: SettingWithCopyWarning: \n",
      "A value is trying to be set on a copy of a slice from a DataFrame.\n",
      "Try using .loc[row_indexer,col_indexer] = value instead\n",
      "\n",
      "See the caveats in the documentation: https://pandas.pydata.org/pandas-docs/stable/user_guide/indexing.html#returning-a-view-versus-a-copy\n",
      "  flat_df['drug_concept'] = None\n",
      "/var/folders/5t/sfw5tjx56m10xb861_pd3wfm0000gq/T/ipykernel_28062/3895311126.py:5: SettingWithCopyWarning: \n",
      "A value is trying to be set on a copy of a slice from a DataFrame.\n",
      "Try using .loc[row_indexer,col_indexer] = value instead\n",
      "\n",
      "See the caveats in the documentation: https://pandas.pydata.org/pandas-docs/stable/user_guide/indexing.html#returning-a-view-versus-a-copy\n",
      "  flat_df['drug_label'] = None\n",
      "/var/folders/5t/sfw5tjx56m10xb861_pd3wfm0000gq/T/ipykernel_28062/3895311126.py:6: SettingWithCopyWarning: \n",
      "A value is trying to be set on a copy of a slice from a DataFrame.\n",
      "Try using .loc[row_indexer,col_indexer] = value instead\n",
      "\n",
      "See the caveats in the documentation: https://pandas.pydata.org/pandas-docs/stable/user_guide/indexing.html#returning-a-view-versus-a-copy\n",
      "  flat_df['drug_match_type'] = None\n",
      "212it [01:25,  2.47it/s]\n"
     ]
    },
    {
     "data": {
      "text/html": [
       "<div>\n",
       "<style scoped>\n",
       "    .dataframe tbody tr th:only-of-type {\n",
       "        vertical-align: middle;\n",
       "    }\n",
       "\n",
       "    .dataframe tbody tr th {\n",
       "        vertical-align: top;\n",
       "    }\n",
       "\n",
       "    .dataframe thead th {\n",
       "        text-align: right;\n",
       "    }\n",
       "</style>\n",
       "<table border=\"1\" class=\"dataframe\">\n",
       "  <thead>\n",
       "    <tr style=\"text-align: right;\">\n",
       "      <th></th>\n",
       "      <th>pmid</th>\n",
       "      <th>drug_name</th>\n",
       "      <th>gene_name</th>\n",
       "      <th>interaction_occurs_with_gene</th>\n",
       "      <th>interaction_type</th>\n",
       "      <th>evidence</th>\n",
       "      <th>gene_concept</th>\n",
       "      <th>gene_label</th>\n",
       "      <th>gene_match_type</th>\n",
       "      <th>drug_concept</th>\n",
       "      <th>drug_label</th>\n",
       "      <th>drug_match_type</th>\n",
       "    </tr>\n",
       "  </thead>\n",
       "  <tbody>\n",
       "    <tr>\n",
       "      <th>0</th>\n",
       "      <td>12941843</td>\n",
       "      <td>TRAIL</td>\n",
       "      <td>XIAP</td>\n",
       "      <td>YES</td>\n",
       "      <td>INHIBITING</td>\n",
       "      <td>In RKO, rottlerin induced the release of cytoc...</td>\n",
       "      <td>normalize.gene.hgnc:592</td>\n",
       "      <td>XIAP</td>\n",
       "      <td>100</td>\n",
       "      <td>normalize.therapy.iuphar.ligand:5065</td>\n",
       "      <td>TRAIL</td>\n",
       "      <td>80</td>\n",
       "    </tr>\n",
       "    <tr>\n",
       "      <th>1</th>\n",
       "      <td>12941843</td>\n",
       "      <td>calphostin C</td>\n",
       "      <td>PKC</td>\n",
       "      <td>YES</td>\n",
       "      <td>INHIBITING</td>\n",
       "      <td>Calphostin c [an inhibitor of classic and nove...</td>\n",
       "      <td>normalize.gene.hgnc:30500</td>\n",
       "      <td>PRRT2</td>\n",
       "      <td>60</td>\n",
       "      <td>normalize.therapy.iuphar.ligand:5156</td>\n",
       "      <td>calphostin C</td>\n",
       "      <td>80</td>\n",
       "    </tr>\n",
       "    <tr>\n",
       "      <th>2</th>\n",
       "      <td>12941843</td>\n",
       "      <td>Gö 6976</td>\n",
       "      <td>PKC</td>\n",
       "      <td>YES</td>\n",
       "      <td>INHIBITING</td>\n",
       "      <td>Go6976, (inhibitor of classic PKC isoforms), d...</td>\n",
       "      <td>normalize.gene.hgnc:30500</td>\n",
       "      <td>PRRT2</td>\n",
       "      <td>60</td>\n",
       "      <td>None</td>\n",
       "      <td>None</td>\n",
       "      <td>0</td>\n",
       "    </tr>\n",
       "    <tr>\n",
       "      <th>3</th>\n",
       "      <td>12941843</td>\n",
       "      <td>rottlerin</td>\n",
       "      <td>PKC delta</td>\n",
       "      <td>YES</td>\n",
       "      <td>INHIBITING</td>\n",
       "      <td>Rottlerin, an inhibitor of novel isoforms of P...</td>\n",
       "      <td>None</td>\n",
       "      <td>None</td>\n",
       "      <td>0</td>\n",
       "      <td>normalize.therapy.iuphar.ligand:2611</td>\n",
       "      <td>rottlerin</td>\n",
       "      <td>80</td>\n",
       "    </tr>\n",
       "    <tr>\n",
       "      <th>4</th>\n",
       "      <td>12941843</td>\n",
       "      <td>phorbol 12-myristate 13-acetate</td>\n",
       "      <td>PKC</td>\n",
       "      <td>YES</td>\n",
       "      <td>INHIBITING</td>\n",
       "      <td>Furthermore, the incubation of HCT116 or RKO w...</td>\n",
       "      <td>normalize.gene.hgnc:30500</td>\n",
       "      <td>PRRT2</td>\n",
       "      <td>60</td>\n",
       "      <td>normalize.therapy.iuphar.ligand:2341</td>\n",
       "      <td>phorbol 12-myristate 13-acetate</td>\n",
       "      <td>80</td>\n",
       "    </tr>\n",
       "    <tr>\n",
       "      <th>...</th>\n",
       "      <td>...</td>\n",
       "      <td>...</td>\n",
       "      <td>...</td>\n",
       "      <td>...</td>\n",
       "      <td>...</td>\n",
       "      <td>...</td>\n",
       "      <td>...</td>\n",
       "      <td>...</td>\n",
       "      <td>...</td>\n",
       "      <td>...</td>\n",
       "      <td>...</td>\n",
       "      <td>...</td>\n",
       "    </tr>\n",
       "    <tr>\n",
       "      <th>263</th>\n",
       "      <td>8947586</td>\n",
       "      <td>vitamin D3</td>\n",
       "      <td>RARA</td>\n",
       "      <td>YES</td>\n",
       "      <td>ACTIVATING</td>\n",
       "      <td>We have observed that the resistant cell line ...</td>\n",
       "      <td>normalize.gene.hgnc:9864</td>\n",
       "      <td>RARA</td>\n",
       "      <td>100</td>\n",
       "      <td>normalize.therapy.rxcui:1244014</td>\n",
       "      <td>vitamin D3</td>\n",
       "      <td>80</td>\n",
       "    </tr>\n",
       "    <tr>\n",
       "      <th>264</th>\n",
       "      <td>8947586</td>\n",
       "      <td>glycine</td>\n",
       "      <td>RARA</td>\n",
       "      <td>YES</td>\n",
       "      <td>ACTIVATING</td>\n",
       "      <td>DNA sequence analysis revealed a mutation in t...</td>\n",
       "      <td>normalize.gene.hgnc:9864</td>\n",
       "      <td>RARA</td>\n",
       "      <td>100</td>\n",
       "      <td>normalize.therapy.rxcui:4919</td>\n",
       "      <td>glycine</td>\n",
       "      <td>80</td>\n",
       "    </tr>\n",
       "    <tr>\n",
       "      <th>265</th>\n",
       "      <td>8947586</td>\n",
       "      <td>aspartic acid</td>\n",
       "      <td>RARA</td>\n",
       "      <td>YES</td>\n",
       "      <td>INHIBITING</td>\n",
       "      <td>DNA sequence analysis revealed a mutation in t...</td>\n",
       "      <td>normalize.gene.hgnc:9864</td>\n",
       "      <td>RARA</td>\n",
       "      <td>100</td>\n",
       "      <td>normalize.therapy.rxcui:1169</td>\n",
       "      <td>aspartic acid</td>\n",
       "      <td>80</td>\n",
       "    </tr>\n",
       "    <tr>\n",
       "      <th>266</th>\n",
       "      <td>11125300</td>\n",
       "      <td>Recombinant Tumor Necrosis Factor Family Protein</td>\n",
       "      <td>TNFR1</td>\n",
       "      <td>YES</td>\n",
       "      <td>ACTIVATING</td>\n",
       "      <td>Stimulation of TNFR1 was sufficient to induce ...</td>\n",
       "      <td>normalize.gene.hgnc:11916</td>\n",
       "      <td>TNFRSF1A</td>\n",
       "      <td>80</td>\n",
       "      <td>normalize.therapy.ncit:C1941</td>\n",
       "      <td>Recombinant Tumor Necrosis Factor Family Protein</td>\n",
       "      <td>80</td>\n",
       "    </tr>\n",
       "    <tr>\n",
       "      <th>267</th>\n",
       "      <td>11125300</td>\n",
       "      <td>Recombinant Tumor Necrosis Factor Family Protein</td>\n",
       "      <td>TNFR2</td>\n",
       "      <td>YES</td>\n",
       "      <td>ACTIVATING</td>\n",
       "      <td>Experiments based on the use of receptor-agoni...</td>\n",
       "      <td>normalize.gene.hgnc:11917</td>\n",
       "      <td>TNFRSF1B</td>\n",
       "      <td>80</td>\n",
       "      <td>normalize.therapy.ncit:C1941</td>\n",
       "      <td>Recombinant Tumor Necrosis Factor Family Protein</td>\n",
       "      <td>80</td>\n",
       "    </tr>\n",
       "  </tbody>\n",
       "</table>\n",
       "<p>212 rows × 12 columns</p>\n",
       "</div>"
      ],
      "text/plain": [
       "         pmid                                         drug_name  gene_name  \\\n",
       "0    12941843                                             TRAIL       XIAP   \n",
       "1    12941843                                      calphostin C        PKC   \n",
       "2    12941843                                           Gö 6976        PKC   \n",
       "3    12941843                                         rottlerin  PKC delta   \n",
       "4    12941843                   phorbol 12-myristate 13-acetate        PKC   \n",
       "..        ...                                               ...        ...   \n",
       "263   8947586                                        vitamin D3       RARA   \n",
       "264   8947586                                           glycine       RARA   \n",
       "265   8947586                                     aspartic acid       RARA   \n",
       "266  11125300  Recombinant Tumor Necrosis Factor Family Protein      TNFR1   \n",
       "267  11125300  Recombinant Tumor Necrosis Factor Family Protein      TNFR2   \n",
       "\n",
       "    interaction_occurs_with_gene interaction_type  \\\n",
       "0                            YES       INHIBITING   \n",
       "1                            YES       INHIBITING   \n",
       "2                            YES       INHIBITING   \n",
       "3                            YES       INHIBITING   \n",
       "4                            YES       INHIBITING   \n",
       "..                           ...              ...   \n",
       "263                          YES       ACTIVATING   \n",
       "264                          YES       ACTIVATING   \n",
       "265                          YES       INHIBITING   \n",
       "266                          YES       ACTIVATING   \n",
       "267                          YES       ACTIVATING   \n",
       "\n",
       "                                              evidence  \\\n",
       "0    In RKO, rottlerin induced the release of cytoc...   \n",
       "1    Calphostin c [an inhibitor of classic and nove...   \n",
       "2    Go6976, (inhibitor of classic PKC isoforms), d...   \n",
       "3    Rottlerin, an inhibitor of novel isoforms of P...   \n",
       "4    Furthermore, the incubation of HCT116 or RKO w...   \n",
       "..                                                 ...   \n",
       "263  We have observed that the resistant cell line ...   \n",
       "264  DNA sequence analysis revealed a mutation in t...   \n",
       "265  DNA sequence analysis revealed a mutation in t...   \n",
       "266  Stimulation of TNFR1 was sufficient to induce ...   \n",
       "267  Experiments based on the use of receptor-agoni...   \n",
       "\n",
       "                  gene_concept gene_label gene_match_type  \\\n",
       "0      normalize.gene.hgnc:592       XIAP             100   \n",
       "1    normalize.gene.hgnc:30500      PRRT2              60   \n",
       "2    normalize.gene.hgnc:30500      PRRT2              60   \n",
       "3                         None       None               0   \n",
       "4    normalize.gene.hgnc:30500      PRRT2              60   \n",
       "..                         ...        ...             ...   \n",
       "263   normalize.gene.hgnc:9864       RARA             100   \n",
       "264   normalize.gene.hgnc:9864       RARA             100   \n",
       "265   normalize.gene.hgnc:9864       RARA             100   \n",
       "266  normalize.gene.hgnc:11916   TNFRSF1A              80   \n",
       "267  normalize.gene.hgnc:11917   TNFRSF1B              80   \n",
       "\n",
       "                             drug_concept  \\\n",
       "0    normalize.therapy.iuphar.ligand:5065   \n",
       "1    normalize.therapy.iuphar.ligand:5156   \n",
       "2                                    None   \n",
       "3    normalize.therapy.iuphar.ligand:2611   \n",
       "4    normalize.therapy.iuphar.ligand:2341   \n",
       "..                                    ...   \n",
       "263       normalize.therapy.rxcui:1244014   \n",
       "264          normalize.therapy.rxcui:4919   \n",
       "265          normalize.therapy.rxcui:1169   \n",
       "266          normalize.therapy.ncit:C1941   \n",
       "267          normalize.therapy.ncit:C1941   \n",
       "\n",
       "                                           drug_label drug_match_type  \n",
       "0                                               TRAIL              80  \n",
       "1                                        calphostin C              80  \n",
       "2                                                None               0  \n",
       "3                                           rottlerin              80  \n",
       "4                     phorbol 12-myristate 13-acetate              80  \n",
       "..                                                ...             ...  \n",
       "263                                        vitamin D3              80  \n",
       "264                                           glycine              80  \n",
       "265                                     aspartic acid              80  \n",
       "266  Recombinant Tumor Necrosis Factor Family Protein              80  \n",
       "267  Recombinant Tumor Necrosis Factor Family Protein              80  \n",
       "\n",
       "[212 rows x 12 columns]"
      ]
     },
     "execution_count": 37,
     "metadata": {},
     "output_type": "execute_result"
    }
   ],
   "source": [
    "flat_df['gene_concept'] = None\n",
    "flat_df['gene_label'] = None\n",
    "flat_df['gene_match_type'] = None\n",
    "flat_df['drug_concept'] = None\n",
    "flat_df['drug_label'] = None\n",
    "flat_df['drug_match_type'] = None\n",
    "for idx, row in tqdm(flat_df.iterrows()):\n",
    "    drug_match_type, drug_concept, drug_label = _normalize_therapy(row['drug_name'])\n",
    "    gene_match_type, gene_concept, gene_label = _normalize_gene(row['gene_name'])\n",
    "\n",
    "    flat_df.at[idx, 'gene_concept'] = gene_concept\n",
    "    flat_df.at[idx, 'gene_label'] = gene_label\n",
    "    flat_df.at[idx, 'gene_match_type'] = gene_match_type\n",
    "    flat_df.at[idx, 'drug_concept'] = drug_concept\n",
    "    flat_df.at[idx, 'drug_label'] = drug_label\n",
    "    flat_df.at[idx, 'drug_match_type'] = drug_match_type\n",
    "\n",
    "flat_df"
   ]
  },
  {
   "cell_type": "code",
   "execution_count": 38,
   "metadata": {},
   "outputs": [
    {
     "data": {
      "text/plain": [
       "gene_concept\n",
       "None                         24\n",
       "normalize.gene.hgnc:1097     11\n",
       "normalize.gene.hgnc:336      10\n",
       "normalize.gene.hgnc:8975      9\n",
       "normalize.gene.hgnc:12679     9\n",
       "                             ..\n",
       "normalize.gene.hgnc:6973      1\n",
       "normalize.gene.hgnc:5173      1\n",
       "normalize.gene.hgnc:7646      1\n",
       "normalize.gene.hgnc:3553      1\n",
       "normalize.gene.hgnc:11917     1\n",
       "Name: count, Length: 77, dtype: int64"
      ]
     },
     "execution_count": 38,
     "metadata": {},
     "output_type": "execute_result"
    }
   ],
   "source": [
    "flat_df['gene_concept'].value_counts(dropna=False)"
   ]
  },
  {
   "cell_type": "code",
   "execution_count": 39,
   "metadata": {},
   "outputs": [
    {
     "data": {
      "text/plain": [
       "drug_concept\n",
       "normalize.therapy.rxcui:1147220         6\n",
       "normalize.therapy.rxcui:282388          6\n",
       "normalize.therapy.ncit:C148229          6\n",
       "normalize.therapy.rxcui:6964            5\n",
       "normalize.therapy.ncit:C1277            3\n",
       "                                       ..\n",
       "normalize.therapy.rxcui:9671            1\n",
       "normalize.therapy.drugbank:DB02097      1\n",
       "normalize.therapy.rxcui:3024            1\n",
       "normalize.therapy.rxcui:24698           1\n",
       "normalize.therapy.iuphar.ligand:9404    1\n",
       "Name: count, Length: 150, dtype: int64"
      ]
     },
     "execution_count": 39,
     "metadata": {},
     "output_type": "execute_result"
    }
   ],
   "source": [
    "flat_df['drug_concept'].value_counts(dropna=False)"
   ]
  },
  {
   "cell_type": "code",
   "execution_count": 40,
   "metadata": {},
   "outputs": [
    {
     "data": {
      "text/html": [
       "<div>\n",
       "<style scoped>\n",
       "    .dataframe tbody tr th:only-of-type {\n",
       "        vertical-align: middle;\n",
       "    }\n",
       "\n",
       "    .dataframe tbody tr th {\n",
       "        vertical-align: top;\n",
       "    }\n",
       "\n",
       "    .dataframe thead th {\n",
       "        text-align: right;\n",
       "    }\n",
       "</style>\n",
       "<table border=\"1\" class=\"dataframe\">\n",
       "  <thead>\n",
       "    <tr style=\"text-align: right;\">\n",
       "      <th></th>\n",
       "      <th>pmid</th>\n",
       "      <th>drug_name</th>\n",
       "      <th>gene_name</th>\n",
       "      <th>interaction_occurs_with_gene</th>\n",
       "      <th>interaction_type</th>\n",
       "      <th>evidence</th>\n",
       "      <th>gene_concept</th>\n",
       "      <th>gene_label</th>\n",
       "      <th>gene_match_type</th>\n",
       "      <th>drug_concept</th>\n",
       "      <th>drug_label</th>\n",
       "      <th>drug_match_type</th>\n",
       "    </tr>\n",
       "  </thead>\n",
       "  <tbody>\n",
       "    <tr>\n",
       "      <th>0</th>\n",
       "      <td>12941843</td>\n",
       "      <td>TRAIL</td>\n",
       "      <td>XIAP</td>\n",
       "      <td>YES</td>\n",
       "      <td>INHIBITING</td>\n",
       "      <td>In RKO, rottlerin induced the release of cytoc...</td>\n",
       "      <td>normalize.gene.hgnc:592</td>\n",
       "      <td>XIAP</td>\n",
       "      <td>100</td>\n",
       "      <td>normalize.therapy.iuphar.ligand:5065</td>\n",
       "      <td>TRAIL</td>\n",
       "      <td>80</td>\n",
       "    </tr>\n",
       "    <tr>\n",
       "      <th>1</th>\n",
       "      <td>12941843</td>\n",
       "      <td>calphostin C</td>\n",
       "      <td>PKC</td>\n",
       "      <td>YES</td>\n",
       "      <td>INHIBITING</td>\n",
       "      <td>Calphostin c [an inhibitor of classic and nove...</td>\n",
       "      <td>normalize.gene.hgnc:30500</td>\n",
       "      <td>PRRT2</td>\n",
       "      <td>60</td>\n",
       "      <td>normalize.therapy.iuphar.ligand:5156</td>\n",
       "      <td>calphostin C</td>\n",
       "      <td>80</td>\n",
       "    </tr>\n",
       "    <tr>\n",
       "      <th>2</th>\n",
       "      <td>12941843</td>\n",
       "      <td>Gö 6976</td>\n",
       "      <td>PKC</td>\n",
       "      <td>YES</td>\n",
       "      <td>INHIBITING</td>\n",
       "      <td>Go6976, (inhibitor of classic PKC isoforms), d...</td>\n",
       "      <td>normalize.gene.hgnc:30500</td>\n",
       "      <td>PRRT2</td>\n",
       "      <td>60</td>\n",
       "      <td>None</td>\n",
       "      <td>None</td>\n",
       "      <td>0</td>\n",
       "    </tr>\n",
       "    <tr>\n",
       "      <th>3</th>\n",
       "      <td>12941843</td>\n",
       "      <td>phorbol 12-myristate 13-acetate</td>\n",
       "      <td>PKC</td>\n",
       "      <td>YES</td>\n",
       "      <td>INHIBITING</td>\n",
       "      <td>Furthermore, the incubation of HCT116 or RKO w...</td>\n",
       "      <td>normalize.gene.hgnc:30500</td>\n",
       "      <td>PRRT2</td>\n",
       "      <td>60</td>\n",
       "      <td>normalize.therapy.iuphar.ligand:2341</td>\n",
       "      <td>phorbol 12-myristate 13-acetate</td>\n",
       "      <td>80</td>\n",
       "    </tr>\n",
       "    <tr>\n",
       "      <th>4</th>\n",
       "      <td>24398428</td>\n",
       "      <td>vemurafenib</td>\n",
       "      <td>BRAF</td>\n",
       "      <td>YES</td>\n",
       "      <td>INHIBITING</td>\n",
       "      <td>Selective BRAF(V600E) inhibitors, such as vemu...</td>\n",
       "      <td>normalize.gene.hgnc:1097</td>\n",
       "      <td>BRAF</td>\n",
       "      <td>100</td>\n",
       "      <td>normalize.therapy.rxcui:1147220</td>\n",
       "      <td>vemurafenib</td>\n",
       "      <td>80</td>\n",
       "    </tr>\n",
       "    <tr>\n",
       "      <th>...</th>\n",
       "      <td>...</td>\n",
       "      <td>...</td>\n",
       "      <td>...</td>\n",
       "      <td>...</td>\n",
       "      <td>...</td>\n",
       "      <td>...</td>\n",
       "      <td>...</td>\n",
       "      <td>...</td>\n",
       "      <td>...</td>\n",
       "      <td>...</td>\n",
       "      <td>...</td>\n",
       "      <td>...</td>\n",
       "    </tr>\n",
       "    <tr>\n",
       "      <th>183</th>\n",
       "      <td>8947586</td>\n",
       "      <td>vitamin D3</td>\n",
       "      <td>RARA</td>\n",
       "      <td>YES</td>\n",
       "      <td>ACTIVATING</td>\n",
       "      <td>We have observed that the resistant cell line ...</td>\n",
       "      <td>normalize.gene.hgnc:9864</td>\n",
       "      <td>RARA</td>\n",
       "      <td>100</td>\n",
       "      <td>normalize.therapy.rxcui:1244014</td>\n",
       "      <td>vitamin D3</td>\n",
       "      <td>80</td>\n",
       "    </tr>\n",
       "    <tr>\n",
       "      <th>184</th>\n",
       "      <td>8947586</td>\n",
       "      <td>glycine</td>\n",
       "      <td>RARA</td>\n",
       "      <td>YES</td>\n",
       "      <td>ACTIVATING</td>\n",
       "      <td>DNA sequence analysis revealed a mutation in t...</td>\n",
       "      <td>normalize.gene.hgnc:9864</td>\n",
       "      <td>RARA</td>\n",
       "      <td>100</td>\n",
       "      <td>normalize.therapy.rxcui:4919</td>\n",
       "      <td>glycine</td>\n",
       "      <td>80</td>\n",
       "    </tr>\n",
       "    <tr>\n",
       "      <th>185</th>\n",
       "      <td>8947586</td>\n",
       "      <td>aspartic acid</td>\n",
       "      <td>RARA</td>\n",
       "      <td>YES</td>\n",
       "      <td>INHIBITING</td>\n",
       "      <td>DNA sequence analysis revealed a mutation in t...</td>\n",
       "      <td>normalize.gene.hgnc:9864</td>\n",
       "      <td>RARA</td>\n",
       "      <td>100</td>\n",
       "      <td>normalize.therapy.rxcui:1169</td>\n",
       "      <td>aspartic acid</td>\n",
       "      <td>80</td>\n",
       "    </tr>\n",
       "    <tr>\n",
       "      <th>186</th>\n",
       "      <td>11125300</td>\n",
       "      <td>Recombinant Tumor Necrosis Factor Family Protein</td>\n",
       "      <td>TNFR1</td>\n",
       "      <td>YES</td>\n",
       "      <td>ACTIVATING</td>\n",
       "      <td>Stimulation of TNFR1 was sufficient to induce ...</td>\n",
       "      <td>normalize.gene.hgnc:11916</td>\n",
       "      <td>TNFRSF1A</td>\n",
       "      <td>80</td>\n",
       "      <td>normalize.therapy.ncit:C1941</td>\n",
       "      <td>Recombinant Tumor Necrosis Factor Family Protein</td>\n",
       "      <td>80</td>\n",
       "    </tr>\n",
       "    <tr>\n",
       "      <th>187</th>\n",
       "      <td>11125300</td>\n",
       "      <td>Recombinant Tumor Necrosis Factor Family Protein</td>\n",
       "      <td>TNFR2</td>\n",
       "      <td>YES</td>\n",
       "      <td>ACTIVATING</td>\n",
       "      <td>Experiments based on the use of receptor-agoni...</td>\n",
       "      <td>normalize.gene.hgnc:11917</td>\n",
       "      <td>TNFRSF1B</td>\n",
       "      <td>80</td>\n",
       "      <td>normalize.therapy.ncit:C1941</td>\n",
       "      <td>Recombinant Tumor Necrosis Factor Family Protein</td>\n",
       "      <td>80</td>\n",
       "    </tr>\n",
       "  </tbody>\n",
       "</table>\n",
       "<p>188 rows × 12 columns</p>\n",
       "</div>"
      ],
      "text/plain": [
       "         pmid                                         drug_name gene_name  \\\n",
       "0    12941843                                             TRAIL      XIAP   \n",
       "1    12941843                                      calphostin C       PKC   \n",
       "2    12941843                                           Gö 6976       PKC   \n",
       "3    12941843                   phorbol 12-myristate 13-acetate       PKC   \n",
       "4    24398428                                       vemurafenib      BRAF   \n",
       "..        ...                                               ...       ...   \n",
       "183   8947586                                        vitamin D3      RARA   \n",
       "184   8947586                                           glycine      RARA   \n",
       "185   8947586                                     aspartic acid      RARA   \n",
       "186  11125300  Recombinant Tumor Necrosis Factor Family Protein     TNFR1   \n",
       "187  11125300  Recombinant Tumor Necrosis Factor Family Protein     TNFR2   \n",
       "\n",
       "    interaction_occurs_with_gene interaction_type  \\\n",
       "0                            YES       INHIBITING   \n",
       "1                            YES       INHIBITING   \n",
       "2                            YES       INHIBITING   \n",
       "3                            YES       INHIBITING   \n",
       "4                            YES       INHIBITING   \n",
       "..                           ...              ...   \n",
       "183                          YES       ACTIVATING   \n",
       "184                          YES       ACTIVATING   \n",
       "185                          YES       INHIBITING   \n",
       "186                          YES       ACTIVATING   \n",
       "187                          YES       ACTIVATING   \n",
       "\n",
       "                                              evidence  \\\n",
       "0    In RKO, rottlerin induced the release of cytoc...   \n",
       "1    Calphostin c [an inhibitor of classic and nove...   \n",
       "2    Go6976, (inhibitor of classic PKC isoforms), d...   \n",
       "3    Furthermore, the incubation of HCT116 or RKO w...   \n",
       "4    Selective BRAF(V600E) inhibitors, such as vemu...   \n",
       "..                                                 ...   \n",
       "183  We have observed that the resistant cell line ...   \n",
       "184  DNA sequence analysis revealed a mutation in t...   \n",
       "185  DNA sequence analysis revealed a mutation in t...   \n",
       "186  Stimulation of TNFR1 was sufficient to induce ...   \n",
       "187  Experiments based on the use of receptor-agoni...   \n",
       "\n",
       "                  gene_concept gene_label gene_match_type  \\\n",
       "0      normalize.gene.hgnc:592       XIAP             100   \n",
       "1    normalize.gene.hgnc:30500      PRRT2              60   \n",
       "2    normalize.gene.hgnc:30500      PRRT2              60   \n",
       "3    normalize.gene.hgnc:30500      PRRT2              60   \n",
       "4     normalize.gene.hgnc:1097       BRAF             100   \n",
       "..                         ...        ...             ...   \n",
       "183   normalize.gene.hgnc:9864       RARA             100   \n",
       "184   normalize.gene.hgnc:9864       RARA             100   \n",
       "185   normalize.gene.hgnc:9864       RARA             100   \n",
       "186  normalize.gene.hgnc:11916   TNFRSF1A              80   \n",
       "187  normalize.gene.hgnc:11917   TNFRSF1B              80   \n",
       "\n",
       "                             drug_concept  \\\n",
       "0    normalize.therapy.iuphar.ligand:5065   \n",
       "1    normalize.therapy.iuphar.ligand:5156   \n",
       "2                                    None   \n",
       "3    normalize.therapy.iuphar.ligand:2341   \n",
       "4         normalize.therapy.rxcui:1147220   \n",
       "..                                    ...   \n",
       "183       normalize.therapy.rxcui:1244014   \n",
       "184          normalize.therapy.rxcui:4919   \n",
       "185          normalize.therapy.rxcui:1169   \n",
       "186          normalize.therapy.ncit:C1941   \n",
       "187          normalize.therapy.ncit:C1941   \n",
       "\n",
       "                                           drug_label drug_match_type  \n",
       "0                                               TRAIL              80  \n",
       "1                                        calphostin C              80  \n",
       "2                                                None               0  \n",
       "3                     phorbol 12-myristate 13-acetate              80  \n",
       "4                                         vemurafenib              80  \n",
       "..                                                ...             ...  \n",
       "183                                        vitamin D3              80  \n",
       "184                                           glycine              80  \n",
       "185                                     aspartic acid              80  \n",
       "186  Recombinant Tumor Necrosis Factor Family Protein              80  \n",
       "187  Recombinant Tumor Necrosis Factor Family Protein              80  \n",
       "\n",
       "[188 rows x 12 columns]"
      ]
     },
     "execution_count": 40,
     "metadata": {},
     "output_type": "execute_result"
    }
   ],
   "source": [
    "final_results = flat_df[(flat_df['gene_concept'].isna()==False)].reset_index(drop=True)\n",
    "final_results"
   ]
  },
  {
   "cell_type": "code",
   "execution_count": 41,
   "metadata": {},
   "outputs": [
    {
     "data": {
      "text/plain": [
       "0.8867924528301887"
      ]
     },
     "execution_count": 41,
     "metadata": {},
     "output_type": "execute_result"
    }
   ],
   "source": [
    "188 / 212"
   ]
  },
  {
   "cell_type": "code",
   "execution_count": null,
   "metadata": {},
   "outputs": [],
   "source": [
    "# final_results.to_excel('final_results_control_test3.xlsx')"
   ]
  },
  {
   "cell_type": "markdown",
   "metadata": {},
   "source": [
    "### Graph"
   ]
  },
  {
   "cell_type": "code",
   "execution_count": 4,
   "metadata": {},
   "outputs": [],
   "source": [
    "import pandas as pd\n",
    "\n",
    "final_results = pd.read_excel('literature_curation/final_results_control_test3.xlsx')"
   ]
  },
  {
   "cell_type": "code",
   "execution_count": 5,
   "metadata": {},
   "outputs": [
    {
     "name": "stdout",
     "output_type": "stream",
     "text": [
      "Found 88 PMIDs already in DGIdb\n"
     ]
    },
    {
     "name": "stderr",
     "output_type": "stream",
     "text": [
      "/var/folders/5t/sfw5tjx56m10xb861_pd3wfm0000gq/T/ipykernel_38548/3569693172.py:25: UserWarning: pandas only supports SQLAlchemy connectable (engine/connection) or database string URI or sqlite3 DBAPI2 connection. Other DBAPI2 objects are not tested. Please consider using SQLAlchemy.\n",
      "  df = pd.read_sql(query, conn, params=(pmids,))\n"
     ]
    },
    {
     "data": {
      "text/html": [
       "<div>\n",
       "<style scoped>\n",
       "    .dataframe tbody tr th:only-of-type {\n",
       "        vertical-align: middle;\n",
       "    }\n",
       "\n",
       "    .dataframe tbody tr th {\n",
       "        vertical-align: top;\n",
       "    }\n",
       "\n",
       "    .dataframe thead th {\n",
       "        text-align: right;\n",
       "    }\n",
       "</style>\n",
       "<table border=\"1\" class=\"dataframe\">\n",
       "  <thead>\n",
       "    <tr style=\"text-align: right;\">\n",
       "      <th></th>\n",
       "      <th>id</th>\n",
       "      <th>pmid</th>\n",
       "      <th>citation</th>\n",
       "      <th>created_at</th>\n",
       "      <th>updated_at</th>\n",
       "    </tr>\n",
       "  </thead>\n",
       "  <tbody>\n",
       "    <tr>\n",
       "      <th>0</th>\n",
       "      <td>0109e3d8-8420-454b-9654-b6bd6a1da050</td>\n",
       "      <td>34710737</td>\n",
       "      <td>Fang DD et al., 2022, FLT3 inhibition by olver...</td>\n",
       "      <td>2024-11-26 15:26:39.610621</td>\n",
       "      <td>2024-11-26 15:28:51.964822</td>\n",
       "    </tr>\n",
       "    <tr>\n",
       "      <th>1</th>\n",
       "      <td>029dfb2e-6ad3-449f-a579-7cd05f85c487</td>\n",
       "      <td>26494859</td>\n",
       "      <td>Tonsing-Carter E et al., 2015, Potentiation of...</td>\n",
       "      <td>2024-11-26 15:28:40.380681</td>\n",
       "      <td>2024-11-26 15:28:52.002905</td>\n",
       "    </tr>\n",
       "    <tr>\n",
       "      <th>2</th>\n",
       "      <td>03138d54-85b6-4b66-b184-53fdcbef8df5</td>\n",
       "      <td>15632153</td>\n",
       "      <td>White KA et al., 2005, Limiting effects of RIP...</td>\n",
       "      <td>2024-11-26 14:23:28.626572</td>\n",
       "      <td>2024-11-26 14:25:28.349141</td>\n",
       "    </tr>\n",
       "    <tr>\n",
       "      <th>3</th>\n",
       "      <td>03392c0e-8dd1-45b8-897e-6f0a5529ca1d</td>\n",
       "      <td>19891553</td>\n",
       "      <td>Kim SH et al., 2009, Genetic polymorphisms of ...</td>\n",
       "      <td>2024-11-26 14:27:50.762585</td>\n",
       "      <td>2024-11-26 14:33:10.628539</td>\n",
       "    </tr>\n",
       "    <tr>\n",
       "      <th>4</th>\n",
       "      <td>052c03a9-2519-4f0b-9635-48896af98936</td>\n",
       "      <td>26554404</td>\n",
       "      <td>Infarinato NR et al., 2016, The ALK/ROS1 Inhib...</td>\n",
       "      <td>2024-11-26 14:05:03.412722</td>\n",
       "      <td>2024-11-26 14:08:11.783127</td>\n",
       "    </tr>\n",
       "  </tbody>\n",
       "</table>\n",
       "</div>"
      ],
      "text/plain": [
       "                                     id      pmid  \\\n",
       "0  0109e3d8-8420-454b-9654-b6bd6a1da050  34710737   \n",
       "1  029dfb2e-6ad3-449f-a579-7cd05f85c487  26494859   \n",
       "2  03138d54-85b6-4b66-b184-53fdcbef8df5  15632153   \n",
       "3  03392c0e-8dd1-45b8-897e-6f0a5529ca1d  19891553   \n",
       "4  052c03a9-2519-4f0b-9635-48896af98936  26554404   \n",
       "\n",
       "                                            citation  \\\n",
       "0  Fang DD et al., 2022, FLT3 inhibition by olver...   \n",
       "1  Tonsing-Carter E et al., 2015, Potentiation of...   \n",
       "2  White KA et al., 2005, Limiting effects of RIP...   \n",
       "3  Kim SH et al., 2009, Genetic polymorphisms of ...   \n",
       "4  Infarinato NR et al., 2016, The ALK/ROS1 Inhib...   \n",
       "\n",
       "                  created_at                 updated_at  \n",
       "0 2024-11-26 15:26:39.610621 2024-11-26 15:28:51.964822  \n",
       "1 2024-11-26 15:28:40.380681 2024-11-26 15:28:52.002905  \n",
       "2 2024-11-26 14:23:28.626572 2024-11-26 14:25:28.349141  \n",
       "3 2024-11-26 14:27:50.762585 2024-11-26 14:33:10.628539  \n",
       "4 2024-11-26 14:05:03.412722 2024-11-26 14:08:11.783127  "
      ]
     },
     "metadata": {},
     "output_type": "display_data"
    },
    {
     "name": "stdout",
     "output_type": "stream",
     "text": [
      "Novel PMIDs: 0 / 88 = 0.00%\n"
     ]
    }
   ],
   "source": [
    "import psycopg2\n",
    "import pandas as pd\n",
    "import numpy as np\n",
    "\n",
    "# 1) Prepare PMIDs from your DataFrame\n",
    "pmids = pd.Series(final_results['pmid']).dropna().astype(str).unique().tolist()\n",
    "\n",
    "# 2) Connect\n",
    "conn = psycopg2.connect(\n",
    "    dbname=\"dgidb_2025\",\n",
    "    user=\"mjc014\",\n",
    "    password=\"\",\n",
    "    host=\"localhost\",\n",
    "    port=\"5432\"\n",
    ")\n",
    "\n",
    "# 3) Query: cast column -> text so it matches the text[] param\n",
    "query = \"\"\"\n",
    "SELECT *\n",
    "FROM public.publications\n",
    "WHERE pmid::text = ANY(%s)\n",
    "ORDER BY id ASC;\n",
    "\"\"\"\n",
    "\n",
    "df = pd.read_sql(query, conn, params=(pmids,))\n",
    "conn.close()\n",
    "\n",
    "print(f\"Found {len(df)} PMIDs already in DGIdb\")\n",
    "display(df.head())\n",
    "\n",
    "# 4) Novelty %\n",
    "found_pmids = set(df['pmid'].astype(str).unique())\n",
    "all_pmids   = set(pmids)\n",
    "novel_pmids = sorted(all_pmids - found_pmids)\n",
    "\n",
    "novelty_pct = 100.0 * (len(novel_pmids) / max(1, len(all_pmids)))\n",
    "print(f\"Novel PMIDs: {len(novel_pmids)} / {len(all_pmids)} = {novelty_pct:.2f}%\")\n"
   ]
  },
  {
   "cell_type": "code",
   "execution_count": 6,
   "metadata": {},
   "outputs": [
    {
     "data": {
      "application/vnd.plotly.v1+json": {
       "config": {
        "plotlyServerURL": "https://plot.ly"
       },
       "data": [
        {
         "customdata": [
          [
           "Novel PMIDs"
          ],
          [
           "Known PMIDs (in DGIdb)"
          ]
         ],
         "domain": {
          "x": [
           0,
           1
          ],
          "y": [
           0,
           1
          ]
         },
         "hole": 0.35,
         "hovertemplate": "Category=%{customdata[0]}<br>Count=%{value}<extra></extra>",
         "labels": [
          "Novel PMIDs",
          "Known PMIDs (in DGIdb)"
         ],
         "legendgroup": "",
         "marker": {
          "colors": [
           "#1f77b4",
           "#ff7f0e"
          ]
         },
         "name": "",
         "pull": [
          0.05,
          0
         ],
         "showlegend": true,
         "textfont": {
          "size": 16
         },
         "textinfo": "label+percent",
         "type": "pie",
         "values": {
          "bdata": "AFg=",
          "dtype": "i1"
         }
        }
       ],
       "layout": {
        "legend": {
         "font": {
          "size": 14
         },
         "orientation": "h",
         "tracegroupgap": 0,
         "x": 0.5,
         "xanchor": "center",
         "y": -0.15,
         "yanchor": "bottom"
        },
        "margin": {
         "b": 60,
         "l": 40,
         "r": 40,
         "t": 60
        },
        "template": {
         "data": {
          "bar": [
           {
            "error_x": {
             "color": "#2a3f5f"
            },
            "error_y": {
             "color": "#2a3f5f"
            },
            "marker": {
             "line": {
              "color": "#E5ECF6",
              "width": 0.5
             },
             "pattern": {
              "fillmode": "overlay",
              "size": 10,
              "solidity": 0.2
             }
            },
            "type": "bar"
           }
          ],
          "barpolar": [
           {
            "marker": {
             "line": {
              "color": "#E5ECF6",
              "width": 0.5
             },
             "pattern": {
              "fillmode": "overlay",
              "size": 10,
              "solidity": 0.2
             }
            },
            "type": "barpolar"
           }
          ],
          "carpet": [
           {
            "aaxis": {
             "endlinecolor": "#2a3f5f",
             "gridcolor": "white",
             "linecolor": "white",
             "minorgridcolor": "white",
             "startlinecolor": "#2a3f5f"
            },
            "baxis": {
             "endlinecolor": "#2a3f5f",
             "gridcolor": "white",
             "linecolor": "white",
             "minorgridcolor": "white",
             "startlinecolor": "#2a3f5f"
            },
            "type": "carpet"
           }
          ],
          "choropleth": [
           {
            "colorbar": {
             "outlinewidth": 0,
             "ticks": ""
            },
            "type": "choropleth"
           }
          ],
          "contour": [
           {
            "colorbar": {
             "outlinewidth": 0,
             "ticks": ""
            },
            "colorscale": [
             [
              0,
              "#0d0887"
             ],
             [
              0.1111111111111111,
              "#46039f"
             ],
             [
              0.2222222222222222,
              "#7201a8"
             ],
             [
              0.3333333333333333,
              "#9c179e"
             ],
             [
              0.4444444444444444,
              "#bd3786"
             ],
             [
              0.5555555555555556,
              "#d8576b"
             ],
             [
              0.6666666666666666,
              "#ed7953"
             ],
             [
              0.7777777777777778,
              "#fb9f3a"
             ],
             [
              0.8888888888888888,
              "#fdca26"
             ],
             [
              1,
              "#f0f921"
             ]
            ],
            "type": "contour"
           }
          ],
          "contourcarpet": [
           {
            "colorbar": {
             "outlinewidth": 0,
             "ticks": ""
            },
            "type": "contourcarpet"
           }
          ],
          "heatmap": [
           {
            "colorbar": {
             "outlinewidth": 0,
             "ticks": ""
            },
            "colorscale": [
             [
              0,
              "#0d0887"
             ],
             [
              0.1111111111111111,
              "#46039f"
             ],
             [
              0.2222222222222222,
              "#7201a8"
             ],
             [
              0.3333333333333333,
              "#9c179e"
             ],
             [
              0.4444444444444444,
              "#bd3786"
             ],
             [
              0.5555555555555556,
              "#d8576b"
             ],
             [
              0.6666666666666666,
              "#ed7953"
             ],
             [
              0.7777777777777778,
              "#fb9f3a"
             ],
             [
              0.8888888888888888,
              "#fdca26"
             ],
             [
              1,
              "#f0f921"
             ]
            ],
            "type": "heatmap"
           }
          ],
          "histogram": [
           {
            "marker": {
             "pattern": {
              "fillmode": "overlay",
              "size": 10,
              "solidity": 0.2
             }
            },
            "type": "histogram"
           }
          ],
          "histogram2d": [
           {
            "colorbar": {
             "outlinewidth": 0,
             "ticks": ""
            },
            "colorscale": [
             [
              0,
              "#0d0887"
             ],
             [
              0.1111111111111111,
              "#46039f"
             ],
             [
              0.2222222222222222,
              "#7201a8"
             ],
             [
              0.3333333333333333,
              "#9c179e"
             ],
             [
              0.4444444444444444,
              "#bd3786"
             ],
             [
              0.5555555555555556,
              "#d8576b"
             ],
             [
              0.6666666666666666,
              "#ed7953"
             ],
             [
              0.7777777777777778,
              "#fb9f3a"
             ],
             [
              0.8888888888888888,
              "#fdca26"
             ],
             [
              1,
              "#f0f921"
             ]
            ],
            "type": "histogram2d"
           }
          ],
          "histogram2dcontour": [
           {
            "colorbar": {
             "outlinewidth": 0,
             "ticks": ""
            },
            "colorscale": [
             [
              0,
              "#0d0887"
             ],
             [
              0.1111111111111111,
              "#46039f"
             ],
             [
              0.2222222222222222,
              "#7201a8"
             ],
             [
              0.3333333333333333,
              "#9c179e"
             ],
             [
              0.4444444444444444,
              "#bd3786"
             ],
             [
              0.5555555555555556,
              "#d8576b"
             ],
             [
              0.6666666666666666,
              "#ed7953"
             ],
             [
              0.7777777777777778,
              "#fb9f3a"
             ],
             [
              0.8888888888888888,
              "#fdca26"
             ],
             [
              1,
              "#f0f921"
             ]
            ],
            "type": "histogram2dcontour"
           }
          ],
          "mesh3d": [
           {
            "colorbar": {
             "outlinewidth": 0,
             "ticks": ""
            },
            "type": "mesh3d"
           }
          ],
          "parcoords": [
           {
            "line": {
             "colorbar": {
              "outlinewidth": 0,
              "ticks": ""
             }
            },
            "type": "parcoords"
           }
          ],
          "pie": [
           {
            "automargin": true,
            "type": "pie"
           }
          ],
          "scatter": [
           {
            "fillpattern": {
             "fillmode": "overlay",
             "size": 10,
             "solidity": 0.2
            },
            "type": "scatter"
           }
          ],
          "scatter3d": [
           {
            "line": {
             "colorbar": {
              "outlinewidth": 0,
              "ticks": ""
             }
            },
            "marker": {
             "colorbar": {
              "outlinewidth": 0,
              "ticks": ""
             }
            },
            "type": "scatter3d"
           }
          ],
          "scattercarpet": [
           {
            "marker": {
             "colorbar": {
              "outlinewidth": 0,
              "ticks": ""
             }
            },
            "type": "scattercarpet"
           }
          ],
          "scattergeo": [
           {
            "marker": {
             "colorbar": {
              "outlinewidth": 0,
              "ticks": ""
             }
            },
            "type": "scattergeo"
           }
          ],
          "scattergl": [
           {
            "marker": {
             "colorbar": {
              "outlinewidth": 0,
              "ticks": ""
             }
            },
            "type": "scattergl"
           }
          ],
          "scattermap": [
           {
            "marker": {
             "colorbar": {
              "outlinewidth": 0,
              "ticks": ""
             }
            },
            "type": "scattermap"
           }
          ],
          "scattermapbox": [
           {
            "marker": {
             "colorbar": {
              "outlinewidth": 0,
              "ticks": ""
             }
            },
            "type": "scattermapbox"
           }
          ],
          "scatterpolar": [
           {
            "marker": {
             "colorbar": {
              "outlinewidth": 0,
              "ticks": ""
             }
            },
            "type": "scatterpolar"
           }
          ],
          "scatterpolargl": [
           {
            "marker": {
             "colorbar": {
              "outlinewidth": 0,
              "ticks": ""
             }
            },
            "type": "scatterpolargl"
           }
          ],
          "scatterternary": [
           {
            "marker": {
             "colorbar": {
              "outlinewidth": 0,
              "ticks": ""
             }
            },
            "type": "scatterternary"
           }
          ],
          "surface": [
           {
            "colorbar": {
             "outlinewidth": 0,
             "ticks": ""
            },
            "colorscale": [
             [
              0,
              "#0d0887"
             ],
             [
              0.1111111111111111,
              "#46039f"
             ],
             [
              0.2222222222222222,
              "#7201a8"
             ],
             [
              0.3333333333333333,
              "#9c179e"
             ],
             [
              0.4444444444444444,
              "#bd3786"
             ],
             [
              0.5555555555555556,
              "#d8576b"
             ],
             [
              0.6666666666666666,
              "#ed7953"
             ],
             [
              0.7777777777777778,
              "#fb9f3a"
             ],
             [
              0.8888888888888888,
              "#fdca26"
             ],
             [
              1,
              "#f0f921"
             ]
            ],
            "type": "surface"
           }
          ],
          "table": [
           {
            "cells": {
             "fill": {
              "color": "#EBF0F8"
             },
             "line": {
              "color": "white"
             }
            },
            "header": {
             "fill": {
              "color": "#C8D4E3"
             },
             "line": {
              "color": "white"
             }
            },
            "type": "table"
           }
          ]
         },
         "layout": {
          "annotationdefaults": {
           "arrowcolor": "#2a3f5f",
           "arrowhead": 0,
           "arrowwidth": 1
          },
          "autotypenumbers": "strict",
          "coloraxis": {
           "colorbar": {
            "outlinewidth": 0,
            "ticks": ""
           }
          },
          "colorscale": {
           "diverging": [
            [
             0,
             "#8e0152"
            ],
            [
             0.1,
             "#c51b7d"
            ],
            [
             0.2,
             "#de77ae"
            ],
            [
             0.3,
             "#f1b6da"
            ],
            [
             0.4,
             "#fde0ef"
            ],
            [
             0.5,
             "#f7f7f7"
            ],
            [
             0.6,
             "#e6f5d0"
            ],
            [
             0.7,
             "#b8e186"
            ],
            [
             0.8,
             "#7fbc41"
            ],
            [
             0.9,
             "#4d9221"
            ],
            [
             1,
             "#276419"
            ]
           ],
           "sequential": [
            [
             0,
             "#0d0887"
            ],
            [
             0.1111111111111111,
             "#46039f"
            ],
            [
             0.2222222222222222,
             "#7201a8"
            ],
            [
             0.3333333333333333,
             "#9c179e"
            ],
            [
             0.4444444444444444,
             "#bd3786"
            ],
            [
             0.5555555555555556,
             "#d8576b"
            ],
            [
             0.6666666666666666,
             "#ed7953"
            ],
            [
             0.7777777777777778,
             "#fb9f3a"
            ],
            [
             0.8888888888888888,
             "#fdca26"
            ],
            [
             1,
             "#f0f921"
            ]
           ],
           "sequentialminus": [
            [
             0,
             "#0d0887"
            ],
            [
             0.1111111111111111,
             "#46039f"
            ],
            [
             0.2222222222222222,
             "#7201a8"
            ],
            [
             0.3333333333333333,
             "#9c179e"
            ],
            [
             0.4444444444444444,
             "#bd3786"
            ],
            [
             0.5555555555555556,
             "#d8576b"
            ],
            [
             0.6666666666666666,
             "#ed7953"
            ],
            [
             0.7777777777777778,
             "#fb9f3a"
            ],
            [
             0.8888888888888888,
             "#fdca26"
            ],
            [
             1,
             "#f0f921"
            ]
           ]
          },
          "colorway": [
           "#636efa",
           "#EF553B",
           "#00cc96",
           "#ab63fa",
           "#FFA15A",
           "#19d3f3",
           "#FF6692",
           "#B6E880",
           "#FF97FF",
           "#FECB52"
          ],
          "font": {
           "color": "#2a3f5f"
          },
          "geo": {
           "bgcolor": "white",
           "lakecolor": "white",
           "landcolor": "#E5ECF6",
           "showlakes": true,
           "showland": true,
           "subunitcolor": "white"
          },
          "hoverlabel": {
           "align": "left"
          },
          "hovermode": "closest",
          "mapbox": {
           "style": "light"
          },
          "paper_bgcolor": "white",
          "plot_bgcolor": "#E5ECF6",
          "polar": {
           "angularaxis": {
            "gridcolor": "white",
            "linecolor": "white",
            "ticks": ""
           },
           "bgcolor": "#E5ECF6",
           "radialaxis": {
            "gridcolor": "white",
            "linecolor": "white",
            "ticks": ""
           }
          },
          "scene": {
           "xaxis": {
            "backgroundcolor": "#E5ECF6",
            "gridcolor": "white",
            "gridwidth": 2,
            "linecolor": "white",
            "showbackground": true,
            "ticks": "",
            "zerolinecolor": "white"
           },
           "yaxis": {
            "backgroundcolor": "#E5ECF6",
            "gridcolor": "white",
            "gridwidth": 2,
            "linecolor": "white",
            "showbackground": true,
            "ticks": "",
            "zerolinecolor": "white"
           },
           "zaxis": {
            "backgroundcolor": "#E5ECF6",
            "gridcolor": "white",
            "gridwidth": 2,
            "linecolor": "white",
            "showbackground": true,
            "ticks": "",
            "zerolinecolor": "white"
           }
          },
          "shapedefaults": {
           "line": {
            "color": "#2a3f5f"
           }
          },
          "ternary": {
           "aaxis": {
            "gridcolor": "white",
            "linecolor": "white",
            "ticks": ""
           },
           "baxis": {
            "gridcolor": "white",
            "linecolor": "white",
            "ticks": ""
           },
           "bgcolor": "#E5ECF6",
           "caxis": {
            "gridcolor": "white",
            "linecolor": "white",
            "ticks": ""
           }
          },
          "title": {
           "x": 0.05
          },
          "xaxis": {
           "automargin": true,
           "gridcolor": "white",
           "linecolor": "white",
           "ticks": "",
           "title": {
            "standoff": 15
           },
           "zerolinecolor": "white",
           "zerolinewidth": 2
          },
          "yaxis": {
           "automargin": true,
           "gridcolor": "white",
           "linecolor": "white",
           "ticks": "",
           "title": {
            "standoff": 15
           },
           "zerolinecolor": "white",
           "zerolinewidth": 2
          }
         }
        },
        "title": {
         "font": {
          "family": "Arial, sans-serif",
          "size": 22
         },
         "text": "Novelty of PMIDs Compared to DGIdb",
         "x": 0.5,
         "xanchor": "center"
        }
       }
      }
     },
     "metadata": {},
     "output_type": "display_data"
    },
    {
     "name": "stdout",
     "output_type": "stream",
     "text": [
      "plotly: 6.0.0\n"
     ]
    }
   ],
   "source": [
    "\n",
    "import plotly.express as px\n",
    "\n",
    "# Data summary\n",
    "counts = {\n",
    "    \"Novel PMIDs\": len(novel_pmids),\n",
    "    \"Known PMIDs (in DGIdb)\": len(found_pmids)\n",
    "}\n",
    "\n",
    "# Create dataframe\n",
    "plot_df = pd.DataFrame(list(counts.items()), columns=[\"Category\", \"Count\"])\n",
    "\n",
    "# Build pie chart\n",
    "fig = px.pie(\n",
    "    plot_df,\n",
    "    names=\"Category\",\n",
    "    values=\"Count\",\n",
    "    color=\"Category\",\n",
    "    color_discrete_map={\n",
    "        \"Novel PMIDs\": \"#1f77b4\",            # blue\n",
    "        \"Known PMIDs (in DGIdb)\": \"#ff7f0e\"  # orange\n",
    "    },\n",
    "    hole=0.35  # makes it a donut chart, easier to read in talks/posters\n",
    ")\n",
    "\n",
    "# Update layout for professional styling\n",
    "fig.update_traces(\n",
    "    textinfo=\"label+percent\",   # show both category and %\n",
    "    textfont_size=16,\n",
    "    pull=[0.05, 0]  # gently pull out the \"Novel\" slice for emphasis\n",
    ")\n",
    "\n",
    "fig.update_layout(\n",
    "    title=dict(\n",
    "        text=\"Novelty of PMIDs Compared to DGIdb\",\n",
    "        font=dict(size=22, family=\"Arial, sans-serif\"),\n",
    "        x=0.5, xanchor=\"center\"\n",
    "    ),\n",
    "    legend=dict(\n",
    "        font=dict(size=14),\n",
    "        orientation=\"h\",\n",
    "        yanchor=\"bottom\",\n",
    "        y=-0.15,\n",
    "        xanchor=\"center\",\n",
    "        x=0.5\n",
    "    ),\n",
    "    margin=dict(t=60, b=60, l=40, r=40)\n",
    ")\n",
    "\n",
    "fig.show()\n",
    "\n",
    "\n",
    "import plotly\n",
    "import plotly.io as pio\n",
    "\n",
    "print(\"plotly:\", plotly.__version__)\n",
    "\n",
    "# Save as high-res PNG\n",
    "fig.write_image(\"pmid_control_novelty_pie.png\",\n",
    "                engine=\"kaleido\",\n",
    "                width=1600, height=1200, scale=3)\n",
    "\n",
    "# Vector versions (great for posters)\n",
    "fig.write_image(\"pmid_control_novelty_pie.svg\", engine=\"kaleido\")\n",
    "fig.write_image(\"pmid_control_novelty_pie.pdf\", engine=\"kaleido\")\n",
    "\n"
   ]
  },
  {
   "cell_type": "code",
   "execution_count": 7,
   "metadata": {},
   "outputs": [
    {
     "name": "stdout",
     "output_type": "stream",
     "text": [
      "Unique gene–drug pairs: 169\n",
      "Known in DGIdb:         72\n",
      "Novel (not in DGIdb):   97\n",
      "Novelty = 57.40%\n"
     ]
    },
    {
     "data": {
      "text/html": [
       "<div>\n",
       "<style scoped>\n",
       "    .dataframe tbody tr th:only-of-type {\n",
       "        vertical-align: middle;\n",
       "    }\n",
       "\n",
       "    .dataframe tbody tr th {\n",
       "        vertical-align: top;\n",
       "    }\n",
       "\n",
       "    .dataframe thead th {\n",
       "        text-align: right;\n",
       "    }\n",
       "</style>\n",
       "<table border=\"1\" class=\"dataframe\">\n",
       "  <thead>\n",
       "    <tr style=\"text-align: right;\">\n",
       "      <th></th>\n",
       "      <th>gene_label</th>\n",
       "      <th>drug_label</th>\n",
       "      <th>known_in_dgidb</th>\n",
       "    </tr>\n",
       "  </thead>\n",
       "  <tbody>\n",
       "    <tr>\n",
       "      <th>42</th>\n",
       "      <td>ABL1</td>\n",
       "      <td>panobinostat</td>\n",
       "      <td>False</td>\n",
       "    </tr>\n",
       "    <tr>\n",
       "      <th>52</th>\n",
       "      <td>AGTR1</td>\n",
       "      <td>EXP3174</td>\n",
       "      <td>False</td>\n",
       "    </tr>\n",
       "    <tr>\n",
       "      <th>177</th>\n",
       "      <td>AGTR2</td>\n",
       "      <td>ORTHOVANADATE</td>\n",
       "      <td>False</td>\n",
       "    </tr>\n",
       "    <tr>\n",
       "      <th>164</th>\n",
       "      <td>AR</td>\n",
       "      <td>Therapeutic Androgen</td>\n",
       "      <td>False</td>\n",
       "    </tr>\n",
       "    <tr>\n",
       "      <th>19</th>\n",
       "      <td>BCL2</td>\n",
       "      <td>Lisaftoclax</td>\n",
       "      <td>False</td>\n",
       "    </tr>\n",
       "    <tr>\n",
       "      <th>72</th>\n",
       "      <td>CD5</td>\n",
       "      <td>cyclosporine</td>\n",
       "      <td>False</td>\n",
       "    </tr>\n",
       "    <tr>\n",
       "      <th>75</th>\n",
       "      <td>CD5</td>\n",
       "      <td>phorbol 12-myristate 13-acetate</td>\n",
       "      <td>False</td>\n",
       "    </tr>\n",
       "    <tr>\n",
       "      <th>73</th>\n",
       "      <td>CD5</td>\n",
       "      <td>sirolimus</td>\n",
       "      <td>False</td>\n",
       "    </tr>\n",
       "    <tr>\n",
       "      <th>130</th>\n",
       "      <td>CDK1</td>\n",
       "      <td>threonine</td>\n",
       "      <td>False</td>\n",
       "    </tr>\n",
       "    <tr>\n",
       "      <th>129</th>\n",
       "      <td>CDK1</td>\n",
       "      <td>tyrosine</td>\n",
       "      <td>False</td>\n",
       "    </tr>\n",
       "  </tbody>\n",
       "</table>\n",
       "</div>"
      ],
      "text/plain": [
       "    gene_label                       drug_label  known_in_dgidb\n",
       "42        ABL1                     panobinostat           False\n",
       "52       AGTR1                          EXP3174           False\n",
       "177      AGTR2                    ORTHOVANADATE           False\n",
       "164         AR             Therapeutic Androgen           False\n",
       "19        BCL2                      Lisaftoclax           False\n",
       "72         CD5                     cyclosporine           False\n",
       "75         CD5  phorbol 12-myristate 13-acetate           False\n",
       "73         CD5                        sirolimus           False\n",
       "130       CDK1                        threonine           False\n",
       "129       CDK1                         tyrosine           False"
      ]
     },
     "execution_count": 7,
     "metadata": {},
     "output_type": "execute_result"
    }
   ],
   "source": [
    "import pandas as pd\n",
    "import requests\n",
    "from collections import defaultdict\n",
    "\n",
    "# -------- Inputs --------\n",
    "df_in = final_results.copy()\n",
    "df_in[\"gene_label\"] = df_in[\"gene_label\"].astype(str).str.strip()\n",
    "df_in[\"drug_label\"] = df_in[\"drug_label\"].astype(str).str.strip()\n",
    "\n",
    "# Unique pairs and gene list\n",
    "pairs = df_in[[\"gene_label\", \"drug_label\"]].dropna().drop_duplicates()\n",
    "genes = sorted(pairs[\"gene_label\"].unique().tolist())\n",
    "\n",
    "GQL_URL = \"https://dgidb.org/api/graphql\"\n",
    "\n",
    "GQL_QUERY = \"\"\"\n",
    "query GeneInteractions($genes: [String!]!) {\n",
    "  genes(names: $genes) {\n",
    "    nodes {\n",
    "      name\n",
    "      conceptId\n",
    "      interactions {\n",
    "        drug {\n",
    "          name\n",
    "          conceptId\n",
    "          approved\n",
    "        }\n",
    "        gene {\n",
    "          name\n",
    "          conceptId\n",
    "          longName\n",
    "        }\n",
    "        interactionScore\n",
    "        interactionTypes { type directionality }\n",
    "        interactionAttributes { name value }\n",
    "        publications { pmid }\n",
    "        sources { sourceDbName }\n",
    "      }\n",
    "    }\n",
    "  }\n",
    "}\n",
    "\"\"\"\n",
    "\n",
    "def batched(seq, n=40):\n",
    "    for i in range(0, len(seq), n):\n",
    "        yield seq[i:i+n]\n",
    "\n",
    "# gene -> set of lowercase drug names that DGIdb reports for that gene\n",
    "gene_to_known_drugs = defaultdict(set)\n",
    "session = requests.Session()\n",
    "session.headers.update({\"Accept\": \"application/json\"})\n",
    "\n",
    "for chunk in batched(genes, 40):\n",
    "    resp = session.post(GQL_URL, json={\"query\": GQL_QUERY, \"variables\": {\"genes\": chunk}}, timeout=60)\n",
    "    resp.raise_for_status()\n",
    "    data = resp.json()\n",
    "    if \"errors\" in data:\n",
    "        raise RuntimeError(data[\"errors\"])\n",
    "    nodes = (data.get(\"data\", {}).get(\"genes\", {}) or {}).get(\"nodes\", []) or []\n",
    "    for node in nodes:\n",
    "        gname = (node.get(\"name\") or \"\").strip()\n",
    "        if not gname:\n",
    "            continue\n",
    "        known = gene_to_known_drugs[gname]\n",
    "        for itx in node.get(\"interactions\", []) or []:\n",
    "            drug_obj = itx.get(\"drug\") or {}\n",
    "            # Prefer structured drug.name; fall back if older fields exist\n",
    "            dname = (drug_obj.get(\"name\")\n",
    "                     or itx.get(\"drugName\")  # backward compat (older examples)\n",
    "                     or \"\").strip()\n",
    "            if dname:\n",
    "                known.add(dname.lower())\n",
    "\n",
    "# Flag known vs novel (case-insensitive drug name check per gene)\n",
    "pairs[\"known_in_dgidb\"] = pairs.apply(\n",
    "    lambda r: r[\"drug_label\"].lower() in gene_to_known_drugs.get(r[\"gene_label\"], set()),\n",
    "    axis=1\n",
    ")\n",
    "\n",
    "# Metrics\n",
    "n_total = len(pairs)\n",
    "n_known = int(pairs[\"known_in_dgidb\"].sum())\n",
    "n_novel = int((~pairs[\"known_in_dgidb\"]).sum())\n",
    "pct_novel = (100.0 * n_novel / n_total) if n_total else 0.0\n",
    "\n",
    "print(f\"Unique gene–drug pairs: {n_total}\")\n",
    "print(f\"Known in DGIdb:         {n_known}\")\n",
    "print(f\"Novel (not in DGIdb):   {n_novel}\")\n",
    "print(f\"Novelty = {pct_novel:.2f}%\")\n",
    "\n",
    "# Inspect a few novel pairs\n",
    "pairs.loc[~pairs[\"known_in_dgidb\"]].sort_values([\"gene_label\",\"drug_label\"]).head(10)\n"
   ]
  },
  {
   "cell_type": "code",
   "execution_count": 8,
   "metadata": {},
   "outputs": [
    {
     "data": {
      "application/vnd.plotly.v1+json": {
       "config": {
        "plotlyServerURL": "https://plot.ly"
       },
       "data": [
        {
         "hovertemplate": "Novel: %{x:.1f}%<br>Count: 97<extra></extra>",
         "marker": {
          "color": "#1f77b4"
         },
         "name": "Novel",
         "orientation": "h",
         "text": [
          "57.4% (97)"
         ],
         "textfont": {
          "size": 16
         },
         "textposition": "inside",
         "type": "bar",
         "x": [
          57.396449704142015
         ],
         "y": [
          "Interactions"
         ]
        },
        {
         "hovertemplate": "Known: %{x:.1f}%<br>Count: 72<extra></extra>",
         "marker": {
          "color": "#ff7f0e"
         },
         "name": "Known in DGIdb",
         "orientation": "h",
         "text": [
          "42.6% (72)"
         ],
         "textfont": {
          "size": 16
         },
         "textposition": "inside",
         "type": "bar",
         "x": [
          42.603550295857985
         ],
         "y": [
          "Interactions"
         ]
        }
       ],
       "layout": {
        "annotations": [
         {
          "font": {
           "color": "gray",
           "size": 14
          },
          "showarrow": false,
          "text": "Total unique pairs: 169 • Generated 2025-08-25",
          "x": 0.5,
          "xref": "paper",
          "y": -0.35,
          "yref": "paper"
         }
        ],
        "barmode": "stack",
        "font": {
         "family": "Arial, sans-serif",
         "size": 16
        },
        "legend": {
         "font": {
          "size": 14
         },
         "orientation": "h",
         "x": 0.5,
         "xanchor": "center",
         "y": -0.15,
         "yanchor": "bottom"
        },
        "margin": {
         "b": 80,
         "l": 40,
         "r": 40,
         "t": 80
        },
        "paper_bgcolor": "white",
        "plot_bgcolor": "white",
        "template": {
         "data": {
          "bar": [
           {
            "error_x": {
             "color": "#2a3f5f"
            },
            "error_y": {
             "color": "#2a3f5f"
            },
            "marker": {
             "line": {
              "color": "#E5ECF6",
              "width": 0.5
             },
             "pattern": {
              "fillmode": "overlay",
              "size": 10,
              "solidity": 0.2
             }
            },
            "type": "bar"
           }
          ],
          "barpolar": [
           {
            "marker": {
             "line": {
              "color": "#E5ECF6",
              "width": 0.5
             },
             "pattern": {
              "fillmode": "overlay",
              "size": 10,
              "solidity": 0.2
             }
            },
            "type": "barpolar"
           }
          ],
          "carpet": [
           {
            "aaxis": {
             "endlinecolor": "#2a3f5f",
             "gridcolor": "white",
             "linecolor": "white",
             "minorgridcolor": "white",
             "startlinecolor": "#2a3f5f"
            },
            "baxis": {
             "endlinecolor": "#2a3f5f",
             "gridcolor": "white",
             "linecolor": "white",
             "minorgridcolor": "white",
             "startlinecolor": "#2a3f5f"
            },
            "type": "carpet"
           }
          ],
          "choropleth": [
           {
            "colorbar": {
             "outlinewidth": 0,
             "ticks": ""
            },
            "type": "choropleth"
           }
          ],
          "contour": [
           {
            "colorbar": {
             "outlinewidth": 0,
             "ticks": ""
            },
            "colorscale": [
             [
              0,
              "#0d0887"
             ],
             [
              0.1111111111111111,
              "#46039f"
             ],
             [
              0.2222222222222222,
              "#7201a8"
             ],
             [
              0.3333333333333333,
              "#9c179e"
             ],
             [
              0.4444444444444444,
              "#bd3786"
             ],
             [
              0.5555555555555556,
              "#d8576b"
             ],
             [
              0.6666666666666666,
              "#ed7953"
             ],
             [
              0.7777777777777778,
              "#fb9f3a"
             ],
             [
              0.8888888888888888,
              "#fdca26"
             ],
             [
              1,
              "#f0f921"
             ]
            ],
            "type": "contour"
           }
          ],
          "contourcarpet": [
           {
            "colorbar": {
             "outlinewidth": 0,
             "ticks": ""
            },
            "type": "contourcarpet"
           }
          ],
          "heatmap": [
           {
            "colorbar": {
             "outlinewidth": 0,
             "ticks": ""
            },
            "colorscale": [
             [
              0,
              "#0d0887"
             ],
             [
              0.1111111111111111,
              "#46039f"
             ],
             [
              0.2222222222222222,
              "#7201a8"
             ],
             [
              0.3333333333333333,
              "#9c179e"
             ],
             [
              0.4444444444444444,
              "#bd3786"
             ],
             [
              0.5555555555555556,
              "#d8576b"
             ],
             [
              0.6666666666666666,
              "#ed7953"
             ],
             [
              0.7777777777777778,
              "#fb9f3a"
             ],
             [
              0.8888888888888888,
              "#fdca26"
             ],
             [
              1,
              "#f0f921"
             ]
            ],
            "type": "heatmap"
           }
          ],
          "histogram": [
           {
            "marker": {
             "pattern": {
              "fillmode": "overlay",
              "size": 10,
              "solidity": 0.2
             }
            },
            "type": "histogram"
           }
          ],
          "histogram2d": [
           {
            "colorbar": {
             "outlinewidth": 0,
             "ticks": ""
            },
            "colorscale": [
             [
              0,
              "#0d0887"
             ],
             [
              0.1111111111111111,
              "#46039f"
             ],
             [
              0.2222222222222222,
              "#7201a8"
             ],
             [
              0.3333333333333333,
              "#9c179e"
             ],
             [
              0.4444444444444444,
              "#bd3786"
             ],
             [
              0.5555555555555556,
              "#d8576b"
             ],
             [
              0.6666666666666666,
              "#ed7953"
             ],
             [
              0.7777777777777778,
              "#fb9f3a"
             ],
             [
              0.8888888888888888,
              "#fdca26"
             ],
             [
              1,
              "#f0f921"
             ]
            ],
            "type": "histogram2d"
           }
          ],
          "histogram2dcontour": [
           {
            "colorbar": {
             "outlinewidth": 0,
             "ticks": ""
            },
            "colorscale": [
             [
              0,
              "#0d0887"
             ],
             [
              0.1111111111111111,
              "#46039f"
             ],
             [
              0.2222222222222222,
              "#7201a8"
             ],
             [
              0.3333333333333333,
              "#9c179e"
             ],
             [
              0.4444444444444444,
              "#bd3786"
             ],
             [
              0.5555555555555556,
              "#d8576b"
             ],
             [
              0.6666666666666666,
              "#ed7953"
             ],
             [
              0.7777777777777778,
              "#fb9f3a"
             ],
             [
              0.8888888888888888,
              "#fdca26"
             ],
             [
              1,
              "#f0f921"
             ]
            ],
            "type": "histogram2dcontour"
           }
          ],
          "mesh3d": [
           {
            "colorbar": {
             "outlinewidth": 0,
             "ticks": ""
            },
            "type": "mesh3d"
           }
          ],
          "parcoords": [
           {
            "line": {
             "colorbar": {
              "outlinewidth": 0,
              "ticks": ""
             }
            },
            "type": "parcoords"
           }
          ],
          "pie": [
           {
            "automargin": true,
            "type": "pie"
           }
          ],
          "scatter": [
           {
            "fillpattern": {
             "fillmode": "overlay",
             "size": 10,
             "solidity": 0.2
            },
            "type": "scatter"
           }
          ],
          "scatter3d": [
           {
            "line": {
             "colorbar": {
              "outlinewidth": 0,
              "ticks": ""
             }
            },
            "marker": {
             "colorbar": {
              "outlinewidth": 0,
              "ticks": ""
             }
            },
            "type": "scatter3d"
           }
          ],
          "scattercarpet": [
           {
            "marker": {
             "colorbar": {
              "outlinewidth": 0,
              "ticks": ""
             }
            },
            "type": "scattercarpet"
           }
          ],
          "scattergeo": [
           {
            "marker": {
             "colorbar": {
              "outlinewidth": 0,
              "ticks": ""
             }
            },
            "type": "scattergeo"
           }
          ],
          "scattergl": [
           {
            "marker": {
             "colorbar": {
              "outlinewidth": 0,
              "ticks": ""
             }
            },
            "type": "scattergl"
           }
          ],
          "scattermap": [
           {
            "marker": {
             "colorbar": {
              "outlinewidth": 0,
              "ticks": ""
             }
            },
            "type": "scattermap"
           }
          ],
          "scattermapbox": [
           {
            "marker": {
             "colorbar": {
              "outlinewidth": 0,
              "ticks": ""
             }
            },
            "type": "scattermapbox"
           }
          ],
          "scatterpolar": [
           {
            "marker": {
             "colorbar": {
              "outlinewidth": 0,
              "ticks": ""
             }
            },
            "type": "scatterpolar"
           }
          ],
          "scatterpolargl": [
           {
            "marker": {
             "colorbar": {
              "outlinewidth": 0,
              "ticks": ""
             }
            },
            "type": "scatterpolargl"
           }
          ],
          "scatterternary": [
           {
            "marker": {
             "colorbar": {
              "outlinewidth": 0,
              "ticks": ""
             }
            },
            "type": "scatterternary"
           }
          ],
          "surface": [
           {
            "colorbar": {
             "outlinewidth": 0,
             "ticks": ""
            },
            "colorscale": [
             [
              0,
              "#0d0887"
             ],
             [
              0.1111111111111111,
              "#46039f"
             ],
             [
              0.2222222222222222,
              "#7201a8"
             ],
             [
              0.3333333333333333,
              "#9c179e"
             ],
             [
              0.4444444444444444,
              "#bd3786"
             ],
             [
              0.5555555555555556,
              "#d8576b"
             ],
             [
              0.6666666666666666,
              "#ed7953"
             ],
             [
              0.7777777777777778,
              "#fb9f3a"
             ],
             [
              0.8888888888888888,
              "#fdca26"
             ],
             [
              1,
              "#f0f921"
             ]
            ],
            "type": "surface"
           }
          ],
          "table": [
           {
            "cells": {
             "fill": {
              "color": "#EBF0F8"
             },
             "line": {
              "color": "white"
             }
            },
            "header": {
             "fill": {
              "color": "#C8D4E3"
             },
             "line": {
              "color": "white"
             }
            },
            "type": "table"
           }
          ]
         },
         "layout": {
          "annotationdefaults": {
           "arrowcolor": "#2a3f5f",
           "arrowhead": 0,
           "arrowwidth": 1
          },
          "autotypenumbers": "strict",
          "coloraxis": {
           "colorbar": {
            "outlinewidth": 0,
            "ticks": ""
           }
          },
          "colorscale": {
           "diverging": [
            [
             0,
             "#8e0152"
            ],
            [
             0.1,
             "#c51b7d"
            ],
            [
             0.2,
             "#de77ae"
            ],
            [
             0.3,
             "#f1b6da"
            ],
            [
             0.4,
             "#fde0ef"
            ],
            [
             0.5,
             "#f7f7f7"
            ],
            [
             0.6,
             "#e6f5d0"
            ],
            [
             0.7,
             "#b8e186"
            ],
            [
             0.8,
             "#7fbc41"
            ],
            [
             0.9,
             "#4d9221"
            ],
            [
             1,
             "#276419"
            ]
           ],
           "sequential": [
            [
             0,
             "#0d0887"
            ],
            [
             0.1111111111111111,
             "#46039f"
            ],
            [
             0.2222222222222222,
             "#7201a8"
            ],
            [
             0.3333333333333333,
             "#9c179e"
            ],
            [
             0.4444444444444444,
             "#bd3786"
            ],
            [
             0.5555555555555556,
             "#d8576b"
            ],
            [
             0.6666666666666666,
             "#ed7953"
            ],
            [
             0.7777777777777778,
             "#fb9f3a"
            ],
            [
             0.8888888888888888,
             "#fdca26"
            ],
            [
             1,
             "#f0f921"
            ]
           ],
           "sequentialminus": [
            [
             0,
             "#0d0887"
            ],
            [
             0.1111111111111111,
             "#46039f"
            ],
            [
             0.2222222222222222,
             "#7201a8"
            ],
            [
             0.3333333333333333,
             "#9c179e"
            ],
            [
             0.4444444444444444,
             "#bd3786"
            ],
            [
             0.5555555555555556,
             "#d8576b"
            ],
            [
             0.6666666666666666,
             "#ed7953"
            ],
            [
             0.7777777777777778,
             "#fb9f3a"
            ],
            [
             0.8888888888888888,
             "#fdca26"
            ],
            [
             1,
             "#f0f921"
            ]
           ]
          },
          "colorway": [
           "#636efa",
           "#EF553B",
           "#00cc96",
           "#ab63fa",
           "#FFA15A",
           "#19d3f3",
           "#FF6692",
           "#B6E880",
           "#FF97FF",
           "#FECB52"
          ],
          "font": {
           "color": "#2a3f5f"
          },
          "geo": {
           "bgcolor": "white",
           "lakecolor": "white",
           "landcolor": "#E5ECF6",
           "showlakes": true,
           "showland": true,
           "subunitcolor": "white"
          },
          "hoverlabel": {
           "align": "left"
          },
          "hovermode": "closest",
          "mapbox": {
           "style": "light"
          },
          "paper_bgcolor": "white",
          "plot_bgcolor": "#E5ECF6",
          "polar": {
           "angularaxis": {
            "gridcolor": "white",
            "linecolor": "white",
            "ticks": ""
           },
           "bgcolor": "#E5ECF6",
           "radialaxis": {
            "gridcolor": "white",
            "linecolor": "white",
            "ticks": ""
           }
          },
          "scene": {
           "xaxis": {
            "backgroundcolor": "#E5ECF6",
            "gridcolor": "white",
            "gridwidth": 2,
            "linecolor": "white",
            "showbackground": true,
            "ticks": "",
            "zerolinecolor": "white"
           },
           "yaxis": {
            "backgroundcolor": "#E5ECF6",
            "gridcolor": "white",
            "gridwidth": 2,
            "linecolor": "white",
            "showbackground": true,
            "ticks": "",
            "zerolinecolor": "white"
           },
           "zaxis": {
            "backgroundcolor": "#E5ECF6",
            "gridcolor": "white",
            "gridwidth": 2,
            "linecolor": "white",
            "showbackground": true,
            "ticks": "",
            "zerolinecolor": "white"
           }
          },
          "shapedefaults": {
           "line": {
            "color": "#2a3f5f"
           }
          },
          "ternary": {
           "aaxis": {
            "gridcolor": "white",
            "linecolor": "white",
            "ticks": ""
           },
           "baxis": {
            "gridcolor": "white",
            "linecolor": "white",
            "ticks": ""
           },
           "bgcolor": "#E5ECF6",
           "caxis": {
            "gridcolor": "white",
            "linecolor": "white",
            "ticks": ""
           }
          },
          "title": {
           "x": 0.05
          },
          "xaxis": {
           "automargin": true,
           "gridcolor": "white",
           "linecolor": "white",
           "ticks": "",
           "title": {
            "standoff": 15
           },
           "zerolinecolor": "white",
           "zerolinewidth": 2
          },
          "yaxis": {
           "automargin": true,
           "gridcolor": "white",
           "linecolor": "white",
           "ticks": "",
           "title": {
            "standoff": 15
           },
           "zerolinecolor": "white",
           "zerolinewidth": 2
          }
         }
        },
        "title": {
         "font": {
          "family": "Arial, sans-serif",
          "size": 22
         },
         "text": "Novelty of Gene–Drug Interactions vs DGIdb",
         "x": 0.5,
         "xanchor": "center"
        },
        "xaxis": {
         "range": [
          0,
          100
         ],
         "showgrid": false,
         "showticklabels": false,
         "title": {}
        },
        "yaxis": {
         "showgrid": false,
         "title": {}
        }
       }
      }
     },
     "metadata": {},
     "output_type": "display_data"
    }
   ],
   "source": [
    "import pandas as pd\n",
    "import plotly.graph_objects as go\n",
    "from datetime import date\n",
    "\n",
    "# ---- Inputs: counts from your earlier classification ----\n",
    "n_total = len(pairs)\n",
    "n_known = int(pairs[\"known_in_dgidb\"].sum())\n",
    "n_novel = int((~pairs[\"known_in_dgidb\"]).sum())\n",
    "\n",
    "pct_known = (100.0 * n_known / n_total) if n_total else 0.0\n",
    "pct_novel = (100.0 * n_novel / n_total) if n_total else 0.0\n",
    "\n",
    "# ---- Data frame (for clarity; not strictly required) ----\n",
    "df_plot = pd.DataFrame({\n",
    "    \"Category\": [\"Novel Interactions\", \"Known Interactions (DGIdb)\"],\n",
    "    \"Count\": [n_novel, n_known],\n",
    "    \"Percent\": [pct_novel, pct_known],\n",
    "})\n",
    "\n",
    "# ---- Colors (high-contrast, colorblind-friendly) ----\n",
    "COLOR_NOVEL = \"#1f77b4\"   # blue\n",
    "COLOR_KNOWN = \"#ff7f0e\"   # orange\n",
    "\n",
    "# ---- Build a 100% stacked horizontal bar ----\n",
    "fig = go.Figure()\n",
    "\n",
    "fig.add_trace(go.Bar(\n",
    "    x=[pct_novel], y=[\"Interactions\"],\n",
    "    orientation=\"h\",\n",
    "    name=\"Novel\",\n",
    "    marker_color=COLOR_NOVEL,\n",
    "    text=[f\"{pct_novel:.1f}% ({n_novel:,})\"],\n",
    "    textposition=\"inside\",\n",
    "    textfont=dict(size=16),\n",
    "    hovertemplate=\"Novel: %{x:.1f}%<br>Count: \" + f\"{n_novel:,}\" + \"<extra></extra>\"\n",
    "))\n",
    "\n",
    "fig.add_trace(go.Bar(\n",
    "    x=[pct_known], y=[\"Interactions\"],\n",
    "    orientation=\"h\",\n",
    "    name=\"Known in DGIdb\",\n",
    "    marker_color=COLOR_KNOWN,\n",
    "    text=[f\"{pct_known:.1f}% ({n_known:,})\"],\n",
    "    textposition=\"inside\",\n",
    "    textfont=dict(size=16),\n",
    "    hovertemplate=\"Known: %{x:.1f}%<br>Count: \" + f\"{n_known:,}\" + \"<extra></extra>\"\n",
    "))\n",
    "\n",
    "fig.update_layout(\n",
    "    barmode=\"stack\",\n",
    "    xaxis=dict(range=[0, 100], title=None, showgrid=False, showticklabels=False),\n",
    "    yaxis=dict(title=None, showgrid=False),\n",
    "    plot_bgcolor=\"white\",\n",
    "    paper_bgcolor=\"white\",\n",
    "    legend=dict(\n",
    "        orientation=\"h\",\n",
    "        yanchor=\"bottom\", y=-0.15,\n",
    "        xanchor=\"center\", x=0.5,\n",
    "        font=dict(size=14)\n",
    "    ),\n",
    "    margin=dict(t=80, b=80, l=40, r=40),\n",
    "    title=dict(\n",
    "        text=f\"Novelty of Gene–Drug Interactions vs DGIdb\",\n",
    "        x=0.5, xanchor=\"center\",\n",
    "        font=dict(size=22, family=\"Arial, sans-serif\")\n",
    "    ),\n",
    "    font=dict(family=\"Arial, sans-serif\", size=16)\n",
    ")\n",
    "\n",
    "# Subtitle-like annotation with totals and date\n",
    "fig.add_annotation(\n",
    "    x=0.5, y=-0.35, xref=\"paper\", yref=\"paper\", showarrow=False,\n",
    "    text=f\"Total unique pairs: {n_total:,} • Generated {date.today().isoformat()}\",\n",
    "    font=dict(size=14, color=\"gray\")\n",
    ")\n",
    "\n",
    "fig.show()\n",
    "\n",
    "# ---- High-quality export (PNG/SVG/PDF) via PlotlyScope ----\n",
    "from kaleido.scopes.plotly import PlotlyScope\n",
    "scope = PlotlyScope()\n",
    "\n",
    "png = scope.transform(fig.to_dict(), format=\"png\", width=1600, height=900, scale=3)\n",
    "with open(\"interaction_control_novelty_100pct_bar.png\", \"wb\") as f:\n",
    "    f.write(png)\n",
    "\n",
    "svg = scope.transform(fig.to_dict(), format=\"svg\", width=1600, height=900, scale=3)\n",
    "with open(\"interaction_control_novelty_100pct_bar.svg\", \"wb\") as f:\n",
    "    f.write(svg)\n",
    "\n",
    "pdf = scope.transform(fig.to_dict(), format=\"pdf\", width=1600, height=900, scale=3)\n",
    "with open(\"interaction_control_novelty_100pct_bar.pdf\", \"wb\") as f:\n",
    "    f.write(pdf)\n"
   ]
  }
 ],
 "metadata": {
  "kernelspec": {
   "display_name": "3.12.2",
   "language": "python",
   "name": "python3"
  },
  "language_info": {
   "codemirror_mode": {
    "name": "ipython",
    "version": 3
   },
   "file_extension": ".py",
   "mimetype": "text/x-python",
   "name": "python",
   "nbconvert_exporter": "python",
   "pygments_lexer": "ipython3",
   "version": "3.12.2"
  }
 },
 "nbformat": 4,
 "nbformat_minor": 2
}
