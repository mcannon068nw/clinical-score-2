{
 "cells": [
  {
   "cell_type": "code",
   "execution_count": null,
   "metadata": {},
   "outputs": [],
   "source": [
    "import pandas as pd\n",
    "import plotly.express as px\n",
    "import plotly.graph_objects as go\n",
    "from Bio import Entrez"
   ]
  },
  {
   "cell_type": "markdown",
   "metadata": {},
   "source": [
    "# PMID Quality Statistics\n",
    "Evaluate quality of PMIDs for results set returned from a search result and prioritze result. Things to consider:\n",
    "- Recency\n",
    "- Article Type\n",
    "- Journal\n",
    "- Impact Factor\n",
    "- Scientific Field"
   ]
  },
  {
   "cell_type": "markdown",
   "metadata": {},
   "source": [
    "### Load Data"
   ]
  },
  {
   "cell_type": "code",
   "execution_count": 22,
   "metadata": {},
   "outputs": [
    {
     "data": {
      "text/html": [
       "<div>\n",
       "<style scoped>\n",
       "    .dataframe tbody tr th:only-of-type {\n",
       "        vertical-align: middle;\n",
       "    }\n",
       "\n",
       "    .dataframe tbody tr th {\n",
       "        vertical-align: top;\n",
       "    }\n",
       "\n",
       "    .dataframe thead th {\n",
       "        text-align: right;\n",
       "    }\n",
       "</style>\n",
       "<table border=\"1\" class=\"dataframe\">\n",
       "  <thead>\n",
       "    <tr style=\"text-align: right;\">\n",
       "      <th></th>\n",
       "      <th>Unnamed: 0</th>\n",
       "      <th>pmid</th>\n",
       "      <th>drug_name</th>\n",
       "      <th>gene_name</th>\n",
       "      <th>interaction_occurs_with_gene</th>\n",
       "      <th>interaction_type</th>\n",
       "      <th>evidence</th>\n",
       "      <th>gene_concept</th>\n",
       "      <th>gene_label</th>\n",
       "      <th>gene_match_type</th>\n",
       "      <th>drug_concept</th>\n",
       "      <th>drug_label</th>\n",
       "      <th>drug_match_type</th>\n",
       "    </tr>\n",
       "  </thead>\n",
       "  <tbody>\n",
       "    <tr>\n",
       "      <th>0</th>\n",
       "      <td>50</td>\n",
       "      <td>37726279</td>\n",
       "      <td>venetoclax</td>\n",
       "      <td>ABCC1</td>\n",
       "      <td>YES</td>\n",
       "      <td>INHIBITING</td>\n",
       "      <td>Genetic and pharmacologic ABCC1 inactivation p...</td>\n",
       "      <td>normalize.gene.hgnc:51</td>\n",
       "      <td>ABCC1</td>\n",
       "      <td>100</td>\n",
       "      <td>normalize.therapy.rxcui:1747556</td>\n",
       "      <td>venetoclax</td>\n",
       "      <td>80</td>\n",
       "    </tr>\n",
       "    <tr>\n",
       "      <th>1</th>\n",
       "      <td>51</td>\n",
       "      <td>37726279</td>\n",
       "      <td>glutathione</td>\n",
       "      <td>ABCC1</td>\n",
       "      <td>YES</td>\n",
       "      <td>ACTIVATING</td>\n",
       "      <td>Consistent with ABCC1-specific export of gluta...</td>\n",
       "      <td>normalize.gene.hgnc:51</td>\n",
       "      <td>ABCC1</td>\n",
       "      <td>100</td>\n",
       "      <td>normalize.therapy.rxcui:4890</td>\n",
       "      <td>glutathione</td>\n",
       "      <td>80</td>\n",
       "    </tr>\n",
       "    <tr>\n",
       "      <th>2</th>\n",
       "      <td>7</td>\n",
       "      <td>37004989</td>\n",
       "      <td>Kynurenine</td>\n",
       "      <td>AhR</td>\n",
       "      <td>YES</td>\n",
       "      <td>ACTIVATING</td>\n",
       "      <td>An endogenous AhR ligand, kynurenine (Kyn), wa...</td>\n",
       "      <td>normalize.gene.hgnc:348</td>\n",
       "      <td>AHR</td>\n",
       "      <td>100</td>\n",
       "      <td>normalize.therapy.drugbank:DB02070</td>\n",
       "      <td>Kynurenine</td>\n",
       "      <td>80</td>\n",
       "    </tr>\n",
       "    <tr>\n",
       "      <th>3</th>\n",
       "      <td>32</td>\n",
       "      <td>33932119</td>\n",
       "      <td>ONC201</td>\n",
       "      <td>AKT</td>\n",
       "      <td>YES</td>\n",
       "      <td>INHIBITING</td>\n",
       "      <td>The compensatory, pro-survival PI3K/AKT/mTOR p...</td>\n",
       "      <td>normalize.gene.hgnc:391</td>\n",
       "      <td>AKT1</td>\n",
       "      <td>60</td>\n",
       "      <td>normalize.therapy.iuphar.ligand:9978</td>\n",
       "      <td>ONC201</td>\n",
       "      <td>80</td>\n",
       "    </tr>\n",
       "    <tr>\n",
       "      <th>4</th>\n",
       "      <td>36</td>\n",
       "      <td>26884600</td>\n",
       "      <td>ONC201</td>\n",
       "      <td>AKT</td>\n",
       "      <td>YES</td>\n",
       "      <td>INHIBITING</td>\n",
       "      <td>ONC201 (also called TIC10) is a small molecule...</td>\n",
       "      <td>normalize.gene.hgnc:391</td>\n",
       "      <td>AKT1</td>\n",
       "      <td>60</td>\n",
       "      <td>normalize.therapy.iuphar.ligand:9978</td>\n",
       "      <td>ONC201</td>\n",
       "      <td>80</td>\n",
       "    </tr>\n",
       "  </tbody>\n",
       "</table>\n",
       "</div>"
      ],
      "text/plain": [
       "   Unnamed: 0      pmid    drug_name gene_name interaction_occurs_with_gene  \\\n",
       "0          50  37726279   venetoclax     ABCC1                          YES   \n",
       "1          51  37726279  glutathione     ABCC1                          YES   \n",
       "2           7  37004989   Kynurenine       AhR                          YES   \n",
       "3          32  33932119       ONC201       AKT                          YES   \n",
       "4          36  26884600       ONC201       AKT                          YES   \n",
       "\n",
       "  interaction_type                                           evidence  \\\n",
       "0       INHIBITING  Genetic and pharmacologic ABCC1 inactivation p...   \n",
       "1       ACTIVATING  Consistent with ABCC1-specific export of gluta...   \n",
       "2       ACTIVATING  An endogenous AhR ligand, kynurenine (Kyn), wa...   \n",
       "3       INHIBITING  The compensatory, pro-survival PI3K/AKT/mTOR p...   \n",
       "4       INHIBITING  ONC201 (also called TIC10) is a small molecule...   \n",
       "\n",
       "              gene_concept gene_label  gene_match_type  \\\n",
       "0   normalize.gene.hgnc:51      ABCC1              100   \n",
       "1   normalize.gene.hgnc:51      ABCC1              100   \n",
       "2  normalize.gene.hgnc:348        AHR              100   \n",
       "3  normalize.gene.hgnc:391       AKT1               60   \n",
       "4  normalize.gene.hgnc:391       AKT1               60   \n",
       "\n",
       "                           drug_concept   drug_label  drug_match_type  \n",
       "0       normalize.therapy.rxcui:1747556   venetoclax               80  \n",
       "1          normalize.therapy.rxcui:4890  glutathione               80  \n",
       "2    normalize.therapy.drugbank:DB02070   Kynurenine               80  \n",
       "3  normalize.therapy.iuphar.ligand:9978       ONC201               80  \n",
       "4  normalize.therapy.iuphar.ligand:9978       ONC201               80  "
      ]
     },
     "execution_count": 22,
     "metadata": {},
     "output_type": "execute_result"
    }
   ],
   "source": [
    "df = pd.read_excel('data/final_results_test3.xlsx')\n",
    "df.head()"
   ]
  },
  {
   "cell_type": "code",
   "execution_count": null,
   "metadata": {},
   "outputs": [],
   "source": [
    "Entrez.email = \"mcannon068nw@gmail.com\"\n",
    "handle = Entrez.efetch(db=\"pubmed\", id=df['pmid'].unique().tolist(), rettype=\"xml\")\n",
    "records = Entrez.read(handle)"
   ]
  },
  {
   "cell_type": "code",
   "execution_count": 24,
   "metadata": {},
   "outputs": [
    {
     "name": "stdout",
     "output_type": "stream",
     "text": [
      "[{'QualifierName': [], 'DescriptorName': StringElement('Humans', attributes={'UI': 'D006801', 'MajorTopicYN': 'N'})}, {'QualifierName': [StringElement('pharmacology', attributes={'UI': 'Q000494', 'MajorTopicYN': 'N'}), StringElement('therapeutic use', attributes={'UI': 'Q000627', 'MajorTopicYN': 'N'})], 'DescriptorName': StringElement('Sulfonamides', attributes={'UI': 'D013449', 'MajorTopicYN': 'N'})}, {'QualifierName': [], 'DescriptorName': StringElement('ATP-Binding Cassette Transporters', attributes={'UI': 'D018528', 'MajorTopicYN': 'N'})}, {'QualifierName': [], 'DescriptorName': StringElement('Antineoplastic Agents', attributes={'UI': 'D000970', 'MajorTopicYN': 'Y'})}, {'QualifierName': [StringElement('drug therapy', attributes={'UI': 'Q000188', 'MajorTopicYN': 'N'}), StringElement('genetics', attributes={'UI': 'Q000235', 'MajorTopicYN': 'N'})], 'DescriptorName': StringElement('Leukemia, Myeloid, Acute', attributes={'UI': 'D015470', 'MajorTopicYN': 'Y'})}, {'QualifierName': [], 'DescriptorName': StringElement('Glutathione', attributes={'UI': 'D005978', 'MajorTopicYN': 'N'})}, {'QualifierName': [StringElement('genetics', attributes={'UI': 'Q000235', 'MajorTopicYN': 'N'})], 'DescriptorName': StringElement('Proto-Oncogene Proteins c-bcl-2', attributes={'UI': 'D019253', 'MajorTopicYN': 'N'})}]\n"
     ]
    }
   ],
   "source": [
    "for article in records['PubmedArticle']:\n",
    "    if 'MeshHeadingList' in article['MedlineCitation'].keys():\n",
    "        print(article['MedlineCitation']['MeshHeadingList'])\n",
    "        break"
   ]
  },
  {
   "cell_type": "code",
   "execution_count": 31,
   "metadata": {},
   "outputs": [
    {
     "data": {
      "text/html": [
       "<div>\n",
       "<style scoped>\n",
       "    .dataframe tbody tr th:only-of-type {\n",
       "        vertical-align: middle;\n",
       "    }\n",
       "\n",
       "    .dataframe tbody tr th {\n",
       "        vertical-align: top;\n",
       "    }\n",
       "\n",
       "    .dataframe thead th {\n",
       "        text-align: right;\n",
       "    }\n",
       "</style>\n",
       "<table border=\"1\" class=\"dataframe\">\n",
       "  <thead>\n",
       "    <tr style=\"text-align: right;\">\n",
       "      <th></th>\n",
       "      <th>Unnamed: 0</th>\n",
       "      <th>pmid</th>\n",
       "      <th>drug_name</th>\n",
       "      <th>gene_name</th>\n",
       "      <th>interaction_occurs_with_gene</th>\n",
       "      <th>interaction_type</th>\n",
       "      <th>evidence</th>\n",
       "      <th>gene_concept</th>\n",
       "      <th>gene_label</th>\n",
       "      <th>gene_match_type</th>\n",
       "      <th>...</th>\n",
       "      <th>drug_match_type</th>\n",
       "      <th>publish_year</th>\n",
       "      <th>article_type</th>\n",
       "      <th>journal</th>\n",
       "      <th>SJR Best Quartile</th>\n",
       "      <th>SJR</th>\n",
       "      <th>H index</th>\n",
       "      <th>Ref. / Doc.</th>\n",
       "      <th>Categories</th>\n",
       "      <th>mesh_terms</th>\n",
       "    </tr>\n",
       "  </thead>\n",
       "  <tbody>\n",
       "    <tr>\n",
       "      <th>0</th>\n",
       "      <td>50</td>\n",
       "      <td>37726279</td>\n",
       "      <td>venetoclax</td>\n",
       "      <td>ABCC1</td>\n",
       "      <td>YES</td>\n",
       "      <td>INHIBITING</td>\n",
       "      <td>Genetic and pharmacologic ABCC1 inactivation p...</td>\n",
       "      <td>normalize.gene.hgnc:51</td>\n",
       "      <td>ABCC1</td>\n",
       "      <td>100</td>\n",
       "      <td>...</td>\n",
       "      <td>80</td>\n",
       "      <td>2023</td>\n",
       "      <td>Journal Article; Research Support, N.I.H., Ext...</td>\n",
       "      <td>Nature communications</td>\n",
       "      <td>Q1</td>\n",
       "      <td>4.761</td>\n",
       "      <td>577.0</td>\n",
       "      <td>63,52</td>\n",
       "      <td>Biochemistry, Genetics and Molecular Biology (...</td>\n",
       "      <td>Humans; Sulfonamides/pharmacology; Sulfonamide...</td>\n",
       "    </tr>\n",
       "    <tr>\n",
       "      <th>1</th>\n",
       "      <td>51</td>\n",
       "      <td>37726279</td>\n",
       "      <td>glutathione</td>\n",
       "      <td>ABCC1</td>\n",
       "      <td>YES</td>\n",
       "      <td>ACTIVATING</td>\n",
       "      <td>Consistent with ABCC1-specific export of gluta...</td>\n",
       "      <td>normalize.gene.hgnc:51</td>\n",
       "      <td>ABCC1</td>\n",
       "      <td>100</td>\n",
       "      <td>...</td>\n",
       "      <td>80</td>\n",
       "      <td>2023</td>\n",
       "      <td>Journal Article; Research Support, N.I.H., Ext...</td>\n",
       "      <td>Nature communications</td>\n",
       "      <td>Q1</td>\n",
       "      <td>4.761</td>\n",
       "      <td>577.0</td>\n",
       "      <td>63,52</td>\n",
       "      <td>Biochemistry, Genetics and Molecular Biology (...</td>\n",
       "      <td>Humans; Sulfonamides/pharmacology; Sulfonamide...</td>\n",
       "    </tr>\n",
       "    <tr>\n",
       "      <th>2</th>\n",
       "      <td>7</td>\n",
       "      <td>37004989</td>\n",
       "      <td>Kynurenine</td>\n",
       "      <td>AhR</td>\n",
       "      <td>YES</td>\n",
       "      <td>ACTIVATING</td>\n",
       "      <td>An endogenous AhR ligand, kynurenine (Kyn), wa...</td>\n",
       "      <td>normalize.gene.hgnc:348</td>\n",
       "      <td>AHR</td>\n",
       "      <td>100</td>\n",
       "      <td>...</td>\n",
       "      <td>80</td>\n",
       "      <td>2023</td>\n",
       "      <td>Journal Article; Research Support, N.I.H., Ext...</td>\n",
       "      <td>Molecular metabolism</td>\n",
       "      <td>Q1</td>\n",
       "      <td>3.235</td>\n",
       "      <td>115.0</td>\n",
       "      <td>64,90</td>\n",
       "      <td>Cell Biology (Q1); Molecular Biology (Q1)</td>\n",
       "      <td>Mice; Animals; Reactive Oxygen Species/metabol...</td>\n",
       "    </tr>\n",
       "    <tr>\n",
       "      <th>3</th>\n",
       "      <td>32</td>\n",
       "      <td>33932119</td>\n",
       "      <td>ONC201</td>\n",
       "      <td>AKT</td>\n",
       "      <td>YES</td>\n",
       "      <td>INHIBITING</td>\n",
       "      <td>The compensatory, pro-survival PI3K/AKT/mTOR p...</td>\n",
       "      <td>normalize.gene.hgnc:391</td>\n",
       "      <td>AKT1</td>\n",
       "      <td>60</td>\n",
       "      <td>...</td>\n",
       "      <td>80</td>\n",
       "      <td>2021</td>\n",
       "      <td>Journal Article</td>\n",
       "      <td>Cancer medicine</td>\n",
       "      <td>Q1</td>\n",
       "      <td>1.201</td>\n",
       "      <td>95.0</td>\n",
       "      <td>43,41</td>\n",
       "      <td>Radiology, Nuclear Medicine and Imaging (Q1); ...</td>\n",
       "      <td>Antineoplastic Agents/pharmacology; Carcinoma,...</td>\n",
       "    </tr>\n",
       "    <tr>\n",
       "      <th>4</th>\n",
       "      <td>36</td>\n",
       "      <td>26884600</td>\n",
       "      <td>ONC201</td>\n",
       "      <td>AKT</td>\n",
       "      <td>YES</td>\n",
       "      <td>INHIBITING</td>\n",
       "      <td>ONC201 (also called TIC10) is a small molecule...</td>\n",
       "      <td>normalize.gene.hgnc:391</td>\n",
       "      <td>AKT1</td>\n",
       "      <td>60</td>\n",
       "      <td>...</td>\n",
       "      <td>80</td>\n",
       "      <td>2016</td>\n",
       "      <td>Journal Article; Research Support, N.I.H., Ext...</td>\n",
       "      <td>Science signaling</td>\n",
       "      <td>Q1</td>\n",
       "      <td>2.143</td>\n",
       "      <td>187.0</td>\n",
       "      <td>50,34</td>\n",
       "      <td>Biochemistry (Q1); Cell Biology (Q1); Molecula...</td>\n",
       "      <td>Activating Transcription Factor 4/genetics; Ac...</td>\n",
       "    </tr>\n",
       "    <tr>\n",
       "      <th>...</th>\n",
       "      <td>...</td>\n",
       "      <td>...</td>\n",
       "      <td>...</td>\n",
       "      <td>...</td>\n",
       "      <td>...</td>\n",
       "      <td>...</td>\n",
       "      <td>...</td>\n",
       "      <td>...</td>\n",
       "      <td>...</td>\n",
       "      <td>...</td>\n",
       "      <td>...</td>\n",
       "      <td>...</td>\n",
       "      <td>...</td>\n",
       "      <td>...</td>\n",
       "      <td>...</td>\n",
       "      <td>...</td>\n",
       "      <td>...</td>\n",
       "      <td>...</td>\n",
       "      <td>...</td>\n",
       "      <td>...</td>\n",
       "      <td>...</td>\n",
       "    </tr>\n",
       "    <tr>\n",
       "      <th>132</th>\n",
       "      <td>35</td>\n",
       "      <td>26884600</td>\n",
       "      <td>ONC201</td>\n",
       "      <td>TRAIL</td>\n",
       "      <td>YES</td>\n",
       "      <td>ACTIVATING</td>\n",
       "      <td>ONC201 (also called TIC10) is a small molecule...</td>\n",
       "      <td>normalize.gene.hgnc:11925</td>\n",
       "      <td>TNFSF10</td>\n",
       "      <td>60</td>\n",
       "      <td>...</td>\n",
       "      <td>80</td>\n",
       "      <td>2016</td>\n",
       "      <td>Journal Article; Research Support, N.I.H., Ext...</td>\n",
       "      <td>Science signaling</td>\n",
       "      <td>Q1</td>\n",
       "      <td>2.143</td>\n",
       "      <td>187.0</td>\n",
       "      <td>50,34</td>\n",
       "      <td>Biochemistry (Q1); Cell Biology (Q1); Molecula...</td>\n",
       "      <td>Activating Transcription Factor 4/genetics; Ac...</td>\n",
       "    </tr>\n",
       "    <tr>\n",
       "      <th>133</th>\n",
       "      <td>56</td>\n",
       "      <td>37942576</td>\n",
       "      <td>melphalan</td>\n",
       "      <td>Trip13</td>\n",
       "      <td>YES</td>\n",
       "      <td>INHIBITING</td>\n",
       "      <td>Combining with melphalan or HDAC inhibitor pan...</td>\n",
       "      <td>normalize.gene.hgnc:12307</td>\n",
       "      <td>TRIP13</td>\n",
       "      <td>100</td>\n",
       "      <td>...</td>\n",
       "      <td>80</td>\n",
       "      <td>2023</td>\n",
       "      <td>Journal Article; Research Support, Non-U.S. Gov't</td>\n",
       "      <td>Cancer medicine</td>\n",
       "      <td>Q1</td>\n",
       "      <td>1.201</td>\n",
       "      <td>95.0</td>\n",
       "      <td>43,41</td>\n",
       "      <td>Radiology, Nuclear Medicine and Imaging (Q1); ...</td>\n",
       "      <td>Animals; Humans; Mice; Cell Cycle; Cell Cycle ...</td>\n",
       "    </tr>\n",
       "    <tr>\n",
       "      <th>134</th>\n",
       "      <td>57</td>\n",
       "      <td>37942576</td>\n",
       "      <td>panobinostat</td>\n",
       "      <td>Trip13</td>\n",
       "      <td>YES</td>\n",
       "      <td>INHIBITING</td>\n",
       "      <td>Combining with melphalan or HDAC inhibitor pan...</td>\n",
       "      <td>normalize.gene.hgnc:12307</td>\n",
       "      <td>TRIP13</td>\n",
       "      <td>100</td>\n",
       "      <td>...</td>\n",
       "      <td>80</td>\n",
       "      <td>2023</td>\n",
       "      <td>Journal Article; Research Support, Non-U.S. Gov't</td>\n",
       "      <td>Cancer medicine</td>\n",
       "      <td>Q1</td>\n",
       "      <td>1.201</td>\n",
       "      <td>95.0</td>\n",
       "      <td>43,41</td>\n",
       "      <td>Radiology, Nuclear Medicine and Imaging (Q1); ...</td>\n",
       "      <td>Animals; Humans; Mice; Cell Cycle; Cell Cycle ...</td>\n",
       "    </tr>\n",
       "    <tr>\n",
       "      <th>135</th>\n",
       "      <td>135</td>\n",
       "      <td>39047882</td>\n",
       "      <td>galangin</td>\n",
       "      <td>TRPV1</td>\n",
       "      <td>YES</td>\n",
       "      <td>INHIBITING</td>\n",
       "      <td>Molecularly, galangin demonstrated favorable b...</td>\n",
       "      <td>normalize.gene.hgnc:12716</td>\n",
       "      <td>TRPV1</td>\n",
       "      <td>100</td>\n",
       "      <td>...</td>\n",
       "      <td>80</td>\n",
       "      <td>2024</td>\n",
       "      <td>Journal Article</td>\n",
       "      <td>Journal of ethnopharmacology</td>\n",
       "      <td>Q1</td>\n",
       "      <td>1.142</td>\n",
       "      <td>243.0</td>\n",
       "      <td>64,32</td>\n",
       "      <td>Drug Discovery (Q1); Pharmacology (Q1)</td>\n",
       "      <td>Animals; Flavonoids/pharmacology; Ethanol; TRP...</td>\n",
       "    </tr>\n",
       "    <tr>\n",
       "      <th>136</th>\n",
       "      <td>65</td>\n",
       "      <td>35530310</td>\n",
       "      <td>cysteine</td>\n",
       "      <td>USP14</td>\n",
       "      <td>YES</td>\n",
       "      <td>INHIBITING</td>\n",
       "      <td>b-AP15 binds covalently to two cysteines, Cys2...</td>\n",
       "      <td>normalize.gene.hgnc:12612</td>\n",
       "      <td>USP14</td>\n",
       "      <td>100</td>\n",
       "      <td>...</td>\n",
       "      <td>80</td>\n",
       "      <td>2022</td>\n",
       "      <td>Journal Article</td>\n",
       "      <td>Frontiers in oncology</td>\n",
       "      <td>Q2</td>\n",
       "      <td>1.075</td>\n",
       "      <td>156.0</td>\n",
       "      <td>48,54</td>\n",
       "      <td>Cancer Research (Q2); Oncology (Q2)</td>\n",
       "      <td></td>\n",
       "    </tr>\n",
       "  </tbody>\n",
       "</table>\n",
       "<p>137 rows × 22 columns</p>\n",
       "</div>"
      ],
      "text/plain": [
       "     Unnamed: 0      pmid     drug_name gene_name  \\\n",
       "0            50  37726279    venetoclax     ABCC1   \n",
       "1            51  37726279   glutathione     ABCC1   \n",
       "2             7  37004989    Kynurenine       AhR   \n",
       "3            32  33932119        ONC201       AKT   \n",
       "4            36  26884600        ONC201       AKT   \n",
       "..          ...       ...           ...       ...   \n",
       "132          35  26884600        ONC201     TRAIL   \n",
       "133          56  37942576     melphalan    Trip13   \n",
       "134          57  37942576  panobinostat    Trip13   \n",
       "135         135  39047882      galangin     TRPV1   \n",
       "136          65  35530310      cysteine     USP14   \n",
       "\n",
       "    interaction_occurs_with_gene interaction_type  \\\n",
       "0                            YES       INHIBITING   \n",
       "1                            YES       ACTIVATING   \n",
       "2                            YES       ACTIVATING   \n",
       "3                            YES       INHIBITING   \n",
       "4                            YES       INHIBITING   \n",
       "..                           ...              ...   \n",
       "132                          YES       ACTIVATING   \n",
       "133                          YES       INHIBITING   \n",
       "134                          YES       INHIBITING   \n",
       "135                          YES       INHIBITING   \n",
       "136                          YES       INHIBITING   \n",
       "\n",
       "                                              evidence  \\\n",
       "0    Genetic and pharmacologic ABCC1 inactivation p...   \n",
       "1    Consistent with ABCC1-specific export of gluta...   \n",
       "2    An endogenous AhR ligand, kynurenine (Kyn), wa...   \n",
       "3    The compensatory, pro-survival PI3K/AKT/mTOR p...   \n",
       "4    ONC201 (also called TIC10) is a small molecule...   \n",
       "..                                                 ...   \n",
       "132  ONC201 (also called TIC10) is a small molecule...   \n",
       "133  Combining with melphalan or HDAC inhibitor pan...   \n",
       "134  Combining with melphalan or HDAC inhibitor pan...   \n",
       "135  Molecularly, galangin demonstrated favorable b...   \n",
       "136  b-AP15 binds covalently to two cysteines, Cys2...   \n",
       "\n",
       "                  gene_concept gene_label  gene_match_type  ...  \\\n",
       "0       normalize.gene.hgnc:51      ABCC1              100  ...   \n",
       "1       normalize.gene.hgnc:51      ABCC1              100  ...   \n",
       "2      normalize.gene.hgnc:348        AHR              100  ...   \n",
       "3      normalize.gene.hgnc:391       AKT1               60  ...   \n",
       "4      normalize.gene.hgnc:391       AKT1               60  ...   \n",
       "..                         ...        ...              ...  ...   \n",
       "132  normalize.gene.hgnc:11925    TNFSF10               60  ...   \n",
       "133  normalize.gene.hgnc:12307     TRIP13              100  ...   \n",
       "134  normalize.gene.hgnc:12307     TRIP13              100  ...   \n",
       "135  normalize.gene.hgnc:12716      TRPV1              100  ...   \n",
       "136  normalize.gene.hgnc:12612      USP14              100  ...   \n",
       "\n",
       "    drug_match_type publish_year  \\\n",
       "0                80         2023   \n",
       "1                80         2023   \n",
       "2                80         2023   \n",
       "3                80         2021   \n",
       "4                80         2016   \n",
       "..              ...          ...   \n",
       "132              80         2016   \n",
       "133              80         2023   \n",
       "134              80         2023   \n",
       "135              80         2024   \n",
       "136              80         2022   \n",
       "\n",
       "                                          article_type  \\\n",
       "0    Journal Article; Research Support, N.I.H., Ext...   \n",
       "1    Journal Article; Research Support, N.I.H., Ext...   \n",
       "2    Journal Article; Research Support, N.I.H., Ext...   \n",
       "3                                      Journal Article   \n",
       "4    Journal Article; Research Support, N.I.H., Ext...   \n",
       "..                                                 ...   \n",
       "132  Journal Article; Research Support, N.I.H., Ext...   \n",
       "133  Journal Article; Research Support, Non-U.S. Gov't   \n",
       "134  Journal Article; Research Support, Non-U.S. Gov't   \n",
       "135                                    Journal Article   \n",
       "136                                    Journal Article   \n",
       "\n",
       "                          journal SJR Best Quartile    SJR H index  \\\n",
       "0           Nature communications                Q1  4.761   577.0   \n",
       "1           Nature communications                Q1  4.761   577.0   \n",
       "2            Molecular metabolism                Q1  3.235   115.0   \n",
       "3                 Cancer medicine                Q1  1.201    95.0   \n",
       "4               Science signaling                Q1  2.143   187.0   \n",
       "..                            ...               ...    ...     ...   \n",
       "132             Science signaling                Q1  2.143   187.0   \n",
       "133               Cancer medicine                Q1  1.201    95.0   \n",
       "134               Cancer medicine                Q1  1.201    95.0   \n",
       "135  Journal of ethnopharmacology                Q1  1.142   243.0   \n",
       "136         Frontiers in oncology                Q2  1.075   156.0   \n",
       "\n",
       "     Ref. / Doc.                                         Categories  \\\n",
       "0          63,52  Biochemistry, Genetics and Molecular Biology (...   \n",
       "1          63,52  Biochemistry, Genetics and Molecular Biology (...   \n",
       "2          64,90          Cell Biology (Q1); Molecular Biology (Q1)   \n",
       "3          43,41  Radiology, Nuclear Medicine and Imaging (Q1); ...   \n",
       "4          50,34  Biochemistry (Q1); Cell Biology (Q1); Molecula...   \n",
       "..           ...                                                ...   \n",
       "132        50,34  Biochemistry (Q1); Cell Biology (Q1); Molecula...   \n",
       "133        43,41  Radiology, Nuclear Medicine and Imaging (Q1); ...   \n",
       "134        43,41  Radiology, Nuclear Medicine and Imaging (Q1); ...   \n",
       "135        64,32             Drug Discovery (Q1); Pharmacology (Q1)   \n",
       "136        48,54                Cancer Research (Q2); Oncology (Q2)   \n",
       "\n",
       "                                            mesh_terms  \n",
       "0    Humans; Sulfonamides/pharmacology; Sulfonamide...  \n",
       "1    Humans; Sulfonamides/pharmacology; Sulfonamide...  \n",
       "2    Mice; Animals; Reactive Oxygen Species/metabol...  \n",
       "3    Antineoplastic Agents/pharmacology; Carcinoma,...  \n",
       "4    Activating Transcription Factor 4/genetics; Ac...  \n",
       "..                                                 ...  \n",
       "132  Activating Transcription Factor 4/genetics; Ac...  \n",
       "133  Animals; Humans; Mice; Cell Cycle; Cell Cycle ...  \n",
       "134  Animals; Humans; Mice; Cell Cycle; Cell Cycle ...  \n",
       "135  Animals; Flavonoids/pharmacology; Ethanol; TRP...  \n",
       "136                                                     \n",
       "\n",
       "[137 rows x 22 columns]"
      ]
     },
     "execution_count": 31,
     "metadata": {},
     "output_type": "execute_result"
    }
   ],
   "source": [
    "for article in records['PubmedArticle']:\n",
    "    pmid = int(article['MedlineCitation']['PMID'])\n",
    "\n",
    "    # Extract article type(s) as strings\n",
    "    types = article['MedlineCitation']['Article']['PublicationTypeList']\n",
    "    article_types = [str(t) for t in types]\n",
    "    article_types_str = '; '.join(article_types)  # Or use ', '.join(...) if preferred\n",
    "    journal = article['MedlineCitation']['Article']['Journal']['Title']\n",
    "\n",
    "    # Extract publication year\n",
    "    pub_date_info = article['MedlineCitation']['Article']['Journal']['JournalIssue']['PubDate']\n",
    "    if 'Year' in pub_date_info:\n",
    "        pub_year = pub_date_info['Year']\n",
    "    elif 'MedlineDate' in pub_date_info:\n",
    "        pub_year = int(pub_date_info['MedlineDate'].split(' ')[0])\n",
    "    else:\n",
    "        pub_year = None\n",
    "\n",
    "    # Extract MeSH Terms\n",
    "    mesh_terms = []\n",
    "    if 'MeshHeadingList' in article['MedlineCitation']:\n",
    "        for mh in article['MedlineCitation']['MeshHeadingList']:\n",
    "            descriptor = str(mh['DescriptorName'])\n",
    "            qualifiers = [str(q) for q in mh.get('QualifierName', [])]\n",
    "            if qualifiers:\n",
    "                for q in qualifiers:\n",
    "                    mesh_terms.append(f\"{descriptor}/{q}\")\n",
    "            else:\n",
    "                mesh_terms.append(descriptor)\n",
    "    mesh_terms_str = '; '.join(mesh_terms)\n",
    "\n",
    "    # Assign values to DataFrame\n",
    "    df.loc[df['pmid'] == pmid, 'publish_year'] = pub_year\n",
    "    df.loc[df['pmid'] == pmid, 'article_type'] = article_types_str\n",
    "    df.loc[df['pmid'] == pmid, 'journal'] = journal\n",
    "    df.loc[df['pmid'] == pmid, 'mesh_terms'] = mesh_terms_str\n",
    "\n",
    "df\n"
   ]
  },
  {
   "cell_type": "markdown",
   "metadata": {},
   "source": [
    "### SJR Score / H-Index"
   ]
  },
  {
   "cell_type": "code",
   "execution_count": null,
   "metadata": {},
   "outputs": [],
   "source": [
    "# Load SJR data\n",
    "sjr = pd.read_csv(\"data/scimagojr2024.csv\", sep=';')\n",
    "\n",
    "# Normalize journal names for matching\n",
    "df['journal_norm'] = df['journal'].str.lower().str.replace(r'[^a-z0-9 ]', '', regex=True)\n",
    "sjr['Title_norm'] = sjr['Title'].str.lower().str.replace(r'[^a-z0-9 ]', '', regex=True)\n",
    "\n",
    "# Merge on normalized title\n",
    "df = df.merge(sjr[['Title_norm', 'SJR Best Quartile', 'SJR', 'H index', 'Ref. / Doc.', 'Categories']],\n",
    "              left_on='journal_norm', right_on='Title_norm', how='left')\n",
    "\n",
    "# Clean up\n",
    "df = df.drop(columns=['journal_norm', 'Title_norm'])\n"
   ]
  },
  {
   "cell_type": "markdown",
   "metadata": {},
   "source": [
    "#### Some Definitions from SJR\n",
    "*via https://www.scimagojr.com/help.php*  \n",
    "  \n",
    "**SJR (SCImago Journal Rank) indicator**  \n",
    "Represents the average number of weighted citations received in the selected year by documents published in the chosen journal during the previous three years. For example, it counts the weighted citations received in year X for documents published in the journal in years X-1, X-2, and X-3. See detailed description of SJR (PDF). The set of journals are ranked according to their SJR and divided into four equal groups (Quartiles), with Q1 representing the highest value and Q4 the lowest. The Quartile data is only available for Journals and Book Series.  \n",
    "  \n",
    "**H Index**  \n",
    "The h-index expresses the journal's number of articles (h) that have received at least h citations. It quantifies both journal scientific output and scientific impact; it is also applicable to scientists, countries, etc. (See Hirsch, J.E. (2005)).  \n",
    "  \n",
    "**References per Document**  \n",
    "Average number of references per document in the selected year."
   ]
  },
  {
   "cell_type": "code",
   "execution_count": 28,
   "metadata": {},
   "outputs": [
    {
     "data": {
      "text/plain": [
       "journal                                                                          SJR    H index\n",
       "European urology                                                                 8.529  274.0      5\n",
       "Blood                                                                            5.823  540.0      1\n",
       "Circulation research                                                             4.897  402.0      1\n",
       "Nature communications                                                            4.761  577.0      2\n",
       "Autophagy                                                                        4.447  202.0      7\n",
       "PLoS medicine                                                                    4.279  289.0      2\n",
       "Cancer research                                                                  3.879  510.0      4\n",
       "Diabetologia                                                                     3.617  266.0      1\n",
       "EBioMedicine                                                                     3.591  136.0      2\n",
       "Leukemia                                                                         3.458  229.0      4\n",
       "Proceedings of the National Academy of Sciences of the United States of America  3.414  896.0      3\n",
       "Redox biology                                                                    3.374  158.0      1\n",
       "Biomarker research                                                               3.296  60.0       3\n",
       "Molecular metabolism                                                             3.235  115.0      1\n",
       "Journal of neuroinflammation                                                     3.183  168.0      1\n",
       "Clinical and translational medicine                                              3.030  24.0       1\n",
       "JCI insight                                                                      2.917  129.0      1\n",
       "American journal of obstetrics and gynecology                                    2.772  274.0      1\n",
       "International journal of biological sciences                                     2.715  129.0      3\n",
       "Pharmacological research                                                         2.664  183.0      1\n",
       "Oncogene                                                                         2.489  380.0      3\n",
       "Haematologica                                                                    2.449  172.0      1\n",
       "Science signaling                                                                2.143  187.0      5\n",
       "Cancer cell international                                                        1.500  90.0       1\n",
       "Cancers                                                                          1.462  157.0      2\n",
       "Translational oncology                                                           1.408  78.0       3\n",
       "Cellular signalling                                                              1.239  172.0      1\n",
       "Cancer medicine                                                                  1.201  95.0       9\n",
       "BMC cancer                                                                       1.178  171.0      1\n",
       "Journal of ethnopharmacology                                                     1.142  243.0      3\n",
       "Frontiers in oncology                                                            1.075  156.0      1\n",
       "Scientific reports                                                               0.874  347.0      4\n",
       "Frontiers in genetics                                                            0.863  135.0      1\n",
       "Molecular medicine reports                                                       0.841  96.0       1\n",
       "OncoTargets and therapy                                                          0.818  94.0       1\n",
       "PloS one                                                                         0.803  467.0      6\n",
       "Thoracic cancer                                                                  0.795  55.0       1\n",
       "Oncotarget                                                                       0.785  192.0      5\n",
       "Journal of cellular biochemistry                                                 0.782  192.0      1\n",
       "FASEB bioAdvances                                                                0.748  23.0       2\n",
       "BioMed research international                                                    0.744  203.0      2\n",
       "Oncology letters                                                                 0.663  89.0       4\n",
       "Name: count, dtype: int64"
      ]
     },
     "execution_count": 28,
     "metadata": {},
     "output_type": "execute_result"
    }
   ],
   "source": [
    "df['SJR'] = df['SJR'].apply(lambda x: str(x).replace(',', '.') if isinstance(x, str) else x)\n",
    "df[['journal','SJR','H index']].value_counts().sort_index(level=\"SJR\", ascending=False)"
   ]
  },
  {
   "cell_type": "code",
   "execution_count": 68,
   "metadata": {},
   "outputs": [
    {
     "data": {
      "application/vnd.plotly.v1+json": {
       "config": {
        "plotlyServerURL": "https://plot.ly"
       },
       "data": [
        {
         "hovertemplate": "Number of Unique Articles=%{text}<br>Journal=%{y}<extra></extra>",
         "legendgroup": "",
         "marker": {
          "color": "#636efa",
          "line": {
           "color": "black",
           "width": 0.5
          },
          "pattern": {
           "shape": ""
          }
         },
         "name": "",
         "orientation": "h",
         "showlegend": false,
         "text": {
          "bdata": "AAAAAAAAEEAAAAAAAAAIQAAAAAAAAAhAAAAAAAAACEAAAAAAAAAAQAAAAAAAAABAAAAAAAAAAEAAAAAAAAAAQAAAAAAAAABAAAAAAAAAAEAAAAAAAAAAQAAAAAAAAABAAAAAAAAAAEAAAAAAAADwPwAAAAAAAPA/AAAAAAAA8D8AAAAAAADwPwAAAAAAAPA/AAAAAAAA8D8AAAAAAADwPw==",
          "dtype": "f8"
         },
         "textposition": "outside",
         "texttemplate": "%{text}",
         "type": "bar",
         "x": {
          "bdata": "BAMDAwICAgICAgICAgEBAQEBAQE=",
          "dtype": "i1"
         },
         "xaxis": "x",
         "y": [
          "Autophagy",
          "Scientific reports",
          "Oncogene",
          "PloS one",
          "PLoS medicine",
          "Cancers",
          "Leukemia",
          "European urology",
          "Oncotarget",
          "Journal of ethnopharmacology",
          "Cancer research",
          "Cancer medicine",
          "Proceedings of the National Academy of Sciences of the United States of America",
          "Pharmacological research",
          "Journal of neuroinflammation",
          "Oncology letters",
          "Redox biology",
          "OncoTargets and therapy",
          "Nature communications",
          "Molecular metabolism"
         ],
         "yaxis": "y"
        }
       ],
       "layout": {
        "barmode": "relative",
        "font": {
         "size": 14
        },
        "legend": {
         "tracegroupgap": 0
        },
        "margin": {
         "b": 40,
         "l": 250,
         "r": 40,
         "t": 80
        },
        "template": {
         "data": {
          "bar": [
           {
            "error_x": {
             "color": "#2a3f5f"
            },
            "error_y": {
             "color": "#2a3f5f"
            },
            "marker": {
             "line": {
              "color": "white",
              "width": 0.5
             },
             "pattern": {
              "fillmode": "overlay",
              "size": 10,
              "solidity": 0.2
             }
            },
            "type": "bar"
           }
          ],
          "barpolar": [
           {
            "marker": {
             "line": {
              "color": "white",
              "width": 0.5
             },
             "pattern": {
              "fillmode": "overlay",
              "size": 10,
              "solidity": 0.2
             }
            },
            "type": "barpolar"
           }
          ],
          "carpet": [
           {
            "aaxis": {
             "endlinecolor": "#2a3f5f",
             "gridcolor": "#C8D4E3",
             "linecolor": "#C8D4E3",
             "minorgridcolor": "#C8D4E3",
             "startlinecolor": "#2a3f5f"
            },
            "baxis": {
             "endlinecolor": "#2a3f5f",
             "gridcolor": "#C8D4E3",
             "linecolor": "#C8D4E3",
             "minorgridcolor": "#C8D4E3",
             "startlinecolor": "#2a3f5f"
            },
            "type": "carpet"
           }
          ],
          "choropleth": [
           {
            "colorbar": {
             "outlinewidth": 0,
             "ticks": ""
            },
            "type": "choropleth"
           }
          ],
          "contour": [
           {
            "colorbar": {
             "outlinewidth": 0,
             "ticks": ""
            },
            "colorscale": [
             [
              0,
              "#0d0887"
             ],
             [
              0.1111111111111111,
              "#46039f"
             ],
             [
              0.2222222222222222,
              "#7201a8"
             ],
             [
              0.3333333333333333,
              "#9c179e"
             ],
             [
              0.4444444444444444,
              "#bd3786"
             ],
             [
              0.5555555555555556,
              "#d8576b"
             ],
             [
              0.6666666666666666,
              "#ed7953"
             ],
             [
              0.7777777777777778,
              "#fb9f3a"
             ],
             [
              0.8888888888888888,
              "#fdca26"
             ],
             [
              1,
              "#f0f921"
             ]
            ],
            "type": "contour"
           }
          ],
          "contourcarpet": [
           {
            "colorbar": {
             "outlinewidth": 0,
             "ticks": ""
            },
            "type": "contourcarpet"
           }
          ],
          "heatmap": [
           {
            "colorbar": {
             "outlinewidth": 0,
             "ticks": ""
            },
            "colorscale": [
             [
              0,
              "#0d0887"
             ],
             [
              0.1111111111111111,
              "#46039f"
             ],
             [
              0.2222222222222222,
              "#7201a8"
             ],
             [
              0.3333333333333333,
              "#9c179e"
             ],
             [
              0.4444444444444444,
              "#bd3786"
             ],
             [
              0.5555555555555556,
              "#d8576b"
             ],
             [
              0.6666666666666666,
              "#ed7953"
             ],
             [
              0.7777777777777778,
              "#fb9f3a"
             ],
             [
              0.8888888888888888,
              "#fdca26"
             ],
             [
              1,
              "#f0f921"
             ]
            ],
            "type": "heatmap"
           }
          ],
          "histogram": [
           {
            "marker": {
             "pattern": {
              "fillmode": "overlay",
              "size": 10,
              "solidity": 0.2
             }
            },
            "type": "histogram"
           }
          ],
          "histogram2d": [
           {
            "colorbar": {
             "outlinewidth": 0,
             "ticks": ""
            },
            "colorscale": [
             [
              0,
              "#0d0887"
             ],
             [
              0.1111111111111111,
              "#46039f"
             ],
             [
              0.2222222222222222,
              "#7201a8"
             ],
             [
              0.3333333333333333,
              "#9c179e"
             ],
             [
              0.4444444444444444,
              "#bd3786"
             ],
             [
              0.5555555555555556,
              "#d8576b"
             ],
             [
              0.6666666666666666,
              "#ed7953"
             ],
             [
              0.7777777777777778,
              "#fb9f3a"
             ],
             [
              0.8888888888888888,
              "#fdca26"
             ],
             [
              1,
              "#f0f921"
             ]
            ],
            "type": "histogram2d"
           }
          ],
          "histogram2dcontour": [
           {
            "colorbar": {
             "outlinewidth": 0,
             "ticks": ""
            },
            "colorscale": [
             [
              0,
              "#0d0887"
             ],
             [
              0.1111111111111111,
              "#46039f"
             ],
             [
              0.2222222222222222,
              "#7201a8"
             ],
             [
              0.3333333333333333,
              "#9c179e"
             ],
             [
              0.4444444444444444,
              "#bd3786"
             ],
             [
              0.5555555555555556,
              "#d8576b"
             ],
             [
              0.6666666666666666,
              "#ed7953"
             ],
             [
              0.7777777777777778,
              "#fb9f3a"
             ],
             [
              0.8888888888888888,
              "#fdca26"
             ],
             [
              1,
              "#f0f921"
             ]
            ],
            "type": "histogram2dcontour"
           }
          ],
          "mesh3d": [
           {
            "colorbar": {
             "outlinewidth": 0,
             "ticks": ""
            },
            "type": "mesh3d"
           }
          ],
          "parcoords": [
           {
            "line": {
             "colorbar": {
              "outlinewidth": 0,
              "ticks": ""
             }
            },
            "type": "parcoords"
           }
          ],
          "pie": [
           {
            "automargin": true,
            "type": "pie"
           }
          ],
          "scatter": [
           {
            "fillpattern": {
             "fillmode": "overlay",
             "size": 10,
             "solidity": 0.2
            },
            "type": "scatter"
           }
          ],
          "scatter3d": [
           {
            "line": {
             "colorbar": {
              "outlinewidth": 0,
              "ticks": ""
             }
            },
            "marker": {
             "colorbar": {
              "outlinewidth": 0,
              "ticks": ""
             }
            },
            "type": "scatter3d"
           }
          ],
          "scattercarpet": [
           {
            "marker": {
             "colorbar": {
              "outlinewidth": 0,
              "ticks": ""
             }
            },
            "type": "scattercarpet"
           }
          ],
          "scattergeo": [
           {
            "marker": {
             "colorbar": {
              "outlinewidth": 0,
              "ticks": ""
             }
            },
            "type": "scattergeo"
           }
          ],
          "scattergl": [
           {
            "marker": {
             "colorbar": {
              "outlinewidth": 0,
              "ticks": ""
             }
            },
            "type": "scattergl"
           }
          ],
          "scattermap": [
           {
            "marker": {
             "colorbar": {
              "outlinewidth": 0,
              "ticks": ""
             }
            },
            "type": "scattermap"
           }
          ],
          "scattermapbox": [
           {
            "marker": {
             "colorbar": {
              "outlinewidth": 0,
              "ticks": ""
             }
            },
            "type": "scattermapbox"
           }
          ],
          "scatterpolar": [
           {
            "marker": {
             "colorbar": {
              "outlinewidth": 0,
              "ticks": ""
             }
            },
            "type": "scatterpolar"
           }
          ],
          "scatterpolargl": [
           {
            "marker": {
             "colorbar": {
              "outlinewidth": 0,
              "ticks": ""
             }
            },
            "type": "scatterpolargl"
           }
          ],
          "scatterternary": [
           {
            "marker": {
             "colorbar": {
              "outlinewidth": 0,
              "ticks": ""
             }
            },
            "type": "scatterternary"
           }
          ],
          "surface": [
           {
            "colorbar": {
             "outlinewidth": 0,
             "ticks": ""
            },
            "colorscale": [
             [
              0,
              "#0d0887"
             ],
             [
              0.1111111111111111,
              "#46039f"
             ],
             [
              0.2222222222222222,
              "#7201a8"
             ],
             [
              0.3333333333333333,
              "#9c179e"
             ],
             [
              0.4444444444444444,
              "#bd3786"
             ],
             [
              0.5555555555555556,
              "#d8576b"
             ],
             [
              0.6666666666666666,
              "#ed7953"
             ],
             [
              0.7777777777777778,
              "#fb9f3a"
             ],
             [
              0.8888888888888888,
              "#fdca26"
             ],
             [
              1,
              "#f0f921"
             ]
            ],
            "type": "surface"
           }
          ],
          "table": [
           {
            "cells": {
             "fill": {
              "color": "#EBF0F8"
             },
             "line": {
              "color": "white"
             }
            },
            "header": {
             "fill": {
              "color": "#C8D4E3"
             },
             "line": {
              "color": "white"
             }
            },
            "type": "table"
           }
          ]
         },
         "layout": {
          "annotationdefaults": {
           "arrowcolor": "#2a3f5f",
           "arrowhead": 0,
           "arrowwidth": 1
          },
          "autotypenumbers": "strict",
          "coloraxis": {
           "colorbar": {
            "outlinewidth": 0,
            "ticks": ""
           }
          },
          "colorscale": {
           "diverging": [
            [
             0,
             "#8e0152"
            ],
            [
             0.1,
             "#c51b7d"
            ],
            [
             0.2,
             "#de77ae"
            ],
            [
             0.3,
             "#f1b6da"
            ],
            [
             0.4,
             "#fde0ef"
            ],
            [
             0.5,
             "#f7f7f7"
            ],
            [
             0.6,
             "#e6f5d0"
            ],
            [
             0.7,
             "#b8e186"
            ],
            [
             0.8,
             "#7fbc41"
            ],
            [
             0.9,
             "#4d9221"
            ],
            [
             1,
             "#276419"
            ]
           ],
           "sequential": [
            [
             0,
             "#0d0887"
            ],
            [
             0.1111111111111111,
             "#46039f"
            ],
            [
             0.2222222222222222,
             "#7201a8"
            ],
            [
             0.3333333333333333,
             "#9c179e"
            ],
            [
             0.4444444444444444,
             "#bd3786"
            ],
            [
             0.5555555555555556,
             "#d8576b"
            ],
            [
             0.6666666666666666,
             "#ed7953"
            ],
            [
             0.7777777777777778,
             "#fb9f3a"
            ],
            [
             0.8888888888888888,
             "#fdca26"
            ],
            [
             1,
             "#f0f921"
            ]
           ],
           "sequentialminus": [
            [
             0,
             "#0d0887"
            ],
            [
             0.1111111111111111,
             "#46039f"
            ],
            [
             0.2222222222222222,
             "#7201a8"
            ],
            [
             0.3333333333333333,
             "#9c179e"
            ],
            [
             0.4444444444444444,
             "#bd3786"
            ],
            [
             0.5555555555555556,
             "#d8576b"
            ],
            [
             0.6666666666666666,
             "#ed7953"
            ],
            [
             0.7777777777777778,
             "#fb9f3a"
            ],
            [
             0.8888888888888888,
             "#fdca26"
            ],
            [
             1,
             "#f0f921"
            ]
           ]
          },
          "colorway": [
           "#636efa",
           "#EF553B",
           "#00cc96",
           "#ab63fa",
           "#FFA15A",
           "#19d3f3",
           "#FF6692",
           "#B6E880",
           "#FF97FF",
           "#FECB52"
          ],
          "font": {
           "color": "#2a3f5f"
          },
          "geo": {
           "bgcolor": "white",
           "lakecolor": "white",
           "landcolor": "white",
           "showlakes": true,
           "showland": true,
           "subunitcolor": "#C8D4E3"
          },
          "hoverlabel": {
           "align": "left"
          },
          "hovermode": "closest",
          "mapbox": {
           "style": "light"
          },
          "paper_bgcolor": "white",
          "plot_bgcolor": "white",
          "polar": {
           "angularaxis": {
            "gridcolor": "#EBF0F8",
            "linecolor": "#EBF0F8",
            "ticks": ""
           },
           "bgcolor": "white",
           "radialaxis": {
            "gridcolor": "#EBF0F8",
            "linecolor": "#EBF0F8",
            "ticks": ""
           }
          },
          "scene": {
           "xaxis": {
            "backgroundcolor": "white",
            "gridcolor": "#DFE8F3",
            "gridwidth": 2,
            "linecolor": "#EBF0F8",
            "showbackground": true,
            "ticks": "",
            "zerolinecolor": "#EBF0F8"
           },
           "yaxis": {
            "backgroundcolor": "white",
            "gridcolor": "#DFE8F3",
            "gridwidth": 2,
            "linecolor": "#EBF0F8",
            "showbackground": true,
            "ticks": "",
            "zerolinecolor": "#EBF0F8"
           },
           "zaxis": {
            "backgroundcolor": "white",
            "gridcolor": "#DFE8F3",
            "gridwidth": 2,
            "linecolor": "#EBF0F8",
            "showbackground": true,
            "ticks": "",
            "zerolinecolor": "#EBF0F8"
           }
          },
          "shapedefaults": {
           "line": {
            "color": "#2a3f5f"
           }
          },
          "ternary": {
           "aaxis": {
            "gridcolor": "#DFE8F3",
            "linecolor": "#A2B1C6",
            "ticks": ""
           },
           "baxis": {
            "gridcolor": "#DFE8F3",
            "linecolor": "#A2B1C6",
            "ticks": ""
           },
           "bgcolor": "white",
           "caxis": {
            "gridcolor": "#DFE8F3",
            "linecolor": "#A2B1C6",
            "ticks": ""
           }
          },
          "title": {
           "x": 0.05
          },
          "xaxis": {
           "automargin": true,
           "gridcolor": "#EBF0F8",
           "linecolor": "#EBF0F8",
           "ticks": "",
           "title": {
            "standoff": 15
           },
           "zerolinecolor": "#EBF0F8",
           "zerolinewidth": 2
          },
          "yaxis": {
           "automargin": true,
           "gridcolor": "#EBF0F8",
           "linecolor": "#EBF0F8",
           "ticks": "",
           "title": {
            "standoff": 15
           },
           "zerolinecolor": "#EBF0F8",
           "zerolinewidth": 2
          }
         }
        },
        "title": {
         "font": {
          "size": 22
         },
         "text": "Top 20 Journals by Article Count \n(unique articles n=83)",
         "x": 0.5
        },
        "xaxis": {
         "anchor": "y",
         "domain": [
          0,
          1
         ],
         "gridcolor": "lightgray",
         "showgrid": true,
         "title": {
          "font": {
           "size": 16
          },
          "text": "Number of Unique Articles"
         }
        },
        "yaxis": {
         "anchor": "x",
         "categoryorder": "total ascending",
         "domain": [
          0,
          1
         ],
         "tickfont": {
          "size": 12
         },
         "title": {
          "font": {
           "size": 16
          },
          "text": "Journal"
         }
        }
       }
      }
     },
     "metadata": {},
     "output_type": "display_data"
    }
   ],
   "source": [
    "import pandas as pd\n",
    "import plotly.express as px\n",
    "\n",
    "# --- Build (pmid, journal, SJR, H index) pairs ---\n",
    "journal_pairs = df[[\"pmid\", \"journal\", \"SJR\", \"H index\"]].copy()\n",
    "\n",
    "# --- Deduplicate by PMID ---\n",
    "journal_pairs = journal_pairs.drop_duplicates(subset=[\"pmid\"])\n",
    "\n",
    "# --- Count number of unique PMIDs per journal ---\n",
    "journal_counts = (\n",
    "    journal_pairs.groupby([\"journal\", \"SJR\", \"H index\"])[\"pmid\"]\n",
    "    .nunique()\n",
    "    .reset_index(name=\"count\")\n",
    "    .sort_values(\"count\", ascending=False)\n",
    ")\n",
    "\n",
    "# Select top N journals\n",
    "top_n = 20\n",
    "journal_top = journal_counts.head(top_n)\n",
    "\n",
    "# --- Plotly bar chart ---\n",
    "fig = px.bar(\n",
    "    journal_top,\n",
    "    x=\"count\",\n",
    "    y=\"journal\",\n",
    "    orientation=\"h\",\n",
    "    text=\"count\",\n",
    "    title=f\"Top {top_n} Journals by Article Count \\n(unique articles n={df['pmid'].nunique()})\",\n",
    "    labels={\"count\": \"Number of Unique Articles\", \"journal\": \"Journal\"}\n",
    ")\n",
    "\n",
    "fig.update_traces(\n",
    "    texttemplate=\"%{text}\",\n",
    "    textposition=\"outside\",\n",
    "    marker=dict(line=dict(width=0.5, color=\"black\"))\n",
    ")\n",
    "\n",
    "fig.update_layout(\n",
    "    template=\"plotly_white\",\n",
    "    title=dict(x=0.5, font=dict(size=22)),\n",
    "    xaxis=dict(showgrid=True, gridcolor=\"lightgray\", title_font=dict(size=16)),\n",
    "    yaxis=dict(title_font=dict(size=16), tickfont=dict(size=12), categoryorder=\"total ascending\"),\n",
    "    font=dict(size=14),\n",
    "    margin=dict(l=250, r=40, t=80, b=40)  # wider margin for long journal names\n",
    ")\n",
    "fig.write_image('graphs/top_journals_by_article-d1.png', width=1000, height=400, scale=3)\n",
    "fig.show()\n"
   ]
  },
  {
   "cell_type": "code",
   "execution_count": 71,
   "metadata": {},
   "outputs": [
    {
     "data": {
      "application/vnd.plotly.v1+json": {
       "config": {
        "plotlyServerURL": "https://plot.ly"
       },
       "data": [
        {
         "bingroup": "x",
         "hovertemplate": "SJR Score=%{x}<br>count=%{y}<extra></extra>",
         "legendgroup": "",
         "marker": {
          "color": "#636efa",
          "opacity": 0.75,
          "pattern": {
           "shape": ""
          }
         },
         "name": "",
         "nbinsx": 30,
         "orientation": "v",
         "showlegend": false,
         "type": "histogram",
         "x": {
          "bdata": "JQaBlUMLE0DhehSuR+EJQJ7vp8ZLN/M/vp8aL90kAUAdWmQ7308FQB+F61G4Huk/nu+nxks35T+28/3UeOkDQAAAAAAAAPh/AiuHFtkOIUAAAAAAAAD4f0oMAiuHlhNAtvP91HjpA0CgGi/dJAbpPwIrhxbZDiFARIts5/upC0AxCKwcWmT3P2Q730+NlwNAke18PzVeCkC6SQwCK4f2PwwCK4cW2fI/HVpkO99PC0DVeOkmMQgPQFYOLbKd7wxAAAAAAAAA+H8fhetRuB7pPx1aZDvfTwtAAAAAAAAA+H8AAAAAAAD4fxkEVg4tsuk/7nw/NV66DEAZBFYOLbLpP1YOLbKd7+c/AAAAAAAA+H89CtejcD0IQNV46SYxCA9AAAAAAAAA+H8rhxbZzvfrPwRWDi2yHRFAkxgEVg4t6j8AAAAAAAD4fyuHFtnO9+s/kxgEVg4tBkAAAAAAAAD4PwAAAAAAAPh/AiuHFtnO5z8AAAAAAAD4fwAAAAAAAPh/BFYOLbIdEUBxPQrXo3DpP8uhRbbz/QpAAAAAAAAA+H8Sg8DKoUXyPyuHFtnO9+s/AAAAAAAA+H+28/3UeOnqPxkEVg4tsuk/AAAAAAAA+H+YbhKDwEoXQAAAAAAAAPh/AAAAAAAA+H8QWDm0yHYJQAAAAAAAAPh/RIts5/upC0C4HoXrUbgFQARWDi2ynes/AAAAAAAA+H8AAAAAAAD4fzEIrBxaZPc/tvP91HjpA0Bt5/up8dLzPwAAAAAAAPh/fT81XrrJEUB9PzVeuskRQLx0kxgEVgdAAAAAAAAA+H8AAAAAAAD4fwAAAAAAAPh/fT81XrrJEUB9PzVeuskRQJ7vp8ZLN/M/EoPAyqFF8j8zMzMzMzPxPw==",
          "dtype": "f8"
         },
         "xaxis": "x",
         "yaxis": "y"
        },
        {
         "hovertemplate": "SJR Score=%{x}<extra></extra>",
         "legendgroup": "",
         "marker": {
          "color": "#636efa"
         },
         "name": "",
         "notched": true,
         "showlegend": false,
         "type": "box",
         "x": {
          "bdata": "JQaBlUMLE0DhehSuR+EJQJ7vp8ZLN/M/vp8aL90kAUAdWmQ7308FQB+F61G4Huk/nu+nxks35T+28/3UeOkDQAAAAAAAAPh/AiuHFtkOIUAAAAAAAAD4f0oMAiuHlhNAtvP91HjpA0CgGi/dJAbpPwIrhxbZDiFARIts5/upC0AxCKwcWmT3P2Q730+NlwNAke18PzVeCkC6SQwCK4f2PwwCK4cW2fI/HVpkO99PC0DVeOkmMQgPQFYOLbKd7wxAAAAAAAAA+H8fhetRuB7pPx1aZDvfTwtAAAAAAAAA+H8AAAAAAAD4fxkEVg4tsuk/7nw/NV66DEAZBFYOLbLpP1YOLbKd7+c/AAAAAAAA+H89CtejcD0IQNV46SYxCA9AAAAAAAAA+H8rhxbZzvfrPwRWDi2yHRFAkxgEVg4t6j8AAAAAAAD4fyuHFtnO9+s/kxgEVg4tBkAAAAAAAAD4PwAAAAAAAPh/AiuHFtnO5z8AAAAAAAD4fwAAAAAAAPh/BFYOLbIdEUBxPQrXo3DpP8uhRbbz/QpAAAAAAAAA+H8Sg8DKoUXyPyuHFtnO9+s/AAAAAAAA+H+28/3UeOnqPxkEVg4tsuk/AAAAAAAA+H+YbhKDwEoXQAAAAAAAAPh/AAAAAAAA+H8QWDm0yHYJQAAAAAAAAPh/RIts5/upC0C4HoXrUbgFQARWDi2ynes/AAAAAAAA+H8AAAAAAAD4fzEIrBxaZPc/tvP91HjpA0Bt5/up8dLzPwAAAAAAAPh/fT81XrrJEUB9PzVeuskRQLx0kxgEVgdAAAAAAAAA+H8AAAAAAAD4fwAAAAAAAPh/fT81XrrJEUB9PzVeuskRQJ7vp8ZLN/M/EoPAyqFF8j8zMzMzMzPxPw==",
          "dtype": "f8"
         },
         "xaxis": "x2",
         "yaxis": "y2"
        }
       ],
       "layout": {
        "bargap": 0.05,
        "barmode": "relative",
        "font": {
         "size": 14
        },
        "legend": {
         "tracegroupgap": 0
        },
        "template": {
         "data": {
          "bar": [
           {
            "error_x": {
             "color": "#2a3f5f"
            },
            "error_y": {
             "color": "#2a3f5f"
            },
            "marker": {
             "line": {
              "color": "white",
              "width": 0.5
             },
             "pattern": {
              "fillmode": "overlay",
              "size": 10,
              "solidity": 0.2
             }
            },
            "type": "bar"
           }
          ],
          "barpolar": [
           {
            "marker": {
             "line": {
              "color": "white",
              "width": 0.5
             },
             "pattern": {
              "fillmode": "overlay",
              "size": 10,
              "solidity": 0.2
             }
            },
            "type": "barpolar"
           }
          ],
          "carpet": [
           {
            "aaxis": {
             "endlinecolor": "#2a3f5f",
             "gridcolor": "#C8D4E3",
             "linecolor": "#C8D4E3",
             "minorgridcolor": "#C8D4E3",
             "startlinecolor": "#2a3f5f"
            },
            "baxis": {
             "endlinecolor": "#2a3f5f",
             "gridcolor": "#C8D4E3",
             "linecolor": "#C8D4E3",
             "minorgridcolor": "#C8D4E3",
             "startlinecolor": "#2a3f5f"
            },
            "type": "carpet"
           }
          ],
          "choropleth": [
           {
            "colorbar": {
             "outlinewidth": 0,
             "ticks": ""
            },
            "type": "choropleth"
           }
          ],
          "contour": [
           {
            "colorbar": {
             "outlinewidth": 0,
             "ticks": ""
            },
            "colorscale": [
             [
              0,
              "#0d0887"
             ],
             [
              0.1111111111111111,
              "#46039f"
             ],
             [
              0.2222222222222222,
              "#7201a8"
             ],
             [
              0.3333333333333333,
              "#9c179e"
             ],
             [
              0.4444444444444444,
              "#bd3786"
             ],
             [
              0.5555555555555556,
              "#d8576b"
             ],
             [
              0.6666666666666666,
              "#ed7953"
             ],
             [
              0.7777777777777778,
              "#fb9f3a"
             ],
             [
              0.8888888888888888,
              "#fdca26"
             ],
             [
              1,
              "#f0f921"
             ]
            ],
            "type": "contour"
           }
          ],
          "contourcarpet": [
           {
            "colorbar": {
             "outlinewidth": 0,
             "ticks": ""
            },
            "type": "contourcarpet"
           }
          ],
          "heatmap": [
           {
            "colorbar": {
             "outlinewidth": 0,
             "ticks": ""
            },
            "colorscale": [
             [
              0,
              "#0d0887"
             ],
             [
              0.1111111111111111,
              "#46039f"
             ],
             [
              0.2222222222222222,
              "#7201a8"
             ],
             [
              0.3333333333333333,
              "#9c179e"
             ],
             [
              0.4444444444444444,
              "#bd3786"
             ],
             [
              0.5555555555555556,
              "#d8576b"
             ],
             [
              0.6666666666666666,
              "#ed7953"
             ],
             [
              0.7777777777777778,
              "#fb9f3a"
             ],
             [
              0.8888888888888888,
              "#fdca26"
             ],
             [
              1,
              "#f0f921"
             ]
            ],
            "type": "heatmap"
           }
          ],
          "histogram": [
           {
            "marker": {
             "pattern": {
              "fillmode": "overlay",
              "size": 10,
              "solidity": 0.2
             }
            },
            "type": "histogram"
           }
          ],
          "histogram2d": [
           {
            "colorbar": {
             "outlinewidth": 0,
             "ticks": ""
            },
            "colorscale": [
             [
              0,
              "#0d0887"
             ],
             [
              0.1111111111111111,
              "#46039f"
             ],
             [
              0.2222222222222222,
              "#7201a8"
             ],
             [
              0.3333333333333333,
              "#9c179e"
             ],
             [
              0.4444444444444444,
              "#bd3786"
             ],
             [
              0.5555555555555556,
              "#d8576b"
             ],
             [
              0.6666666666666666,
              "#ed7953"
             ],
             [
              0.7777777777777778,
              "#fb9f3a"
             ],
             [
              0.8888888888888888,
              "#fdca26"
             ],
             [
              1,
              "#f0f921"
             ]
            ],
            "type": "histogram2d"
           }
          ],
          "histogram2dcontour": [
           {
            "colorbar": {
             "outlinewidth": 0,
             "ticks": ""
            },
            "colorscale": [
             [
              0,
              "#0d0887"
             ],
             [
              0.1111111111111111,
              "#46039f"
             ],
             [
              0.2222222222222222,
              "#7201a8"
             ],
             [
              0.3333333333333333,
              "#9c179e"
             ],
             [
              0.4444444444444444,
              "#bd3786"
             ],
             [
              0.5555555555555556,
              "#d8576b"
             ],
             [
              0.6666666666666666,
              "#ed7953"
             ],
             [
              0.7777777777777778,
              "#fb9f3a"
             ],
             [
              0.8888888888888888,
              "#fdca26"
             ],
             [
              1,
              "#f0f921"
             ]
            ],
            "type": "histogram2dcontour"
           }
          ],
          "mesh3d": [
           {
            "colorbar": {
             "outlinewidth": 0,
             "ticks": ""
            },
            "type": "mesh3d"
           }
          ],
          "parcoords": [
           {
            "line": {
             "colorbar": {
              "outlinewidth": 0,
              "ticks": ""
             }
            },
            "type": "parcoords"
           }
          ],
          "pie": [
           {
            "automargin": true,
            "type": "pie"
           }
          ],
          "scatter": [
           {
            "fillpattern": {
             "fillmode": "overlay",
             "size": 10,
             "solidity": 0.2
            },
            "type": "scatter"
           }
          ],
          "scatter3d": [
           {
            "line": {
             "colorbar": {
              "outlinewidth": 0,
              "ticks": ""
             }
            },
            "marker": {
             "colorbar": {
              "outlinewidth": 0,
              "ticks": ""
             }
            },
            "type": "scatter3d"
           }
          ],
          "scattercarpet": [
           {
            "marker": {
             "colorbar": {
              "outlinewidth": 0,
              "ticks": ""
             }
            },
            "type": "scattercarpet"
           }
          ],
          "scattergeo": [
           {
            "marker": {
             "colorbar": {
              "outlinewidth": 0,
              "ticks": ""
             }
            },
            "type": "scattergeo"
           }
          ],
          "scattergl": [
           {
            "marker": {
             "colorbar": {
              "outlinewidth": 0,
              "ticks": ""
             }
            },
            "type": "scattergl"
           }
          ],
          "scattermap": [
           {
            "marker": {
             "colorbar": {
              "outlinewidth": 0,
              "ticks": ""
             }
            },
            "type": "scattermap"
           }
          ],
          "scattermapbox": [
           {
            "marker": {
             "colorbar": {
              "outlinewidth": 0,
              "ticks": ""
             }
            },
            "type": "scattermapbox"
           }
          ],
          "scatterpolar": [
           {
            "marker": {
             "colorbar": {
              "outlinewidth": 0,
              "ticks": ""
             }
            },
            "type": "scatterpolar"
           }
          ],
          "scatterpolargl": [
           {
            "marker": {
             "colorbar": {
              "outlinewidth": 0,
              "ticks": ""
             }
            },
            "type": "scatterpolargl"
           }
          ],
          "scatterternary": [
           {
            "marker": {
             "colorbar": {
              "outlinewidth": 0,
              "ticks": ""
             }
            },
            "type": "scatterternary"
           }
          ],
          "surface": [
           {
            "colorbar": {
             "outlinewidth": 0,
             "ticks": ""
            },
            "colorscale": [
             [
              0,
              "#0d0887"
             ],
             [
              0.1111111111111111,
              "#46039f"
             ],
             [
              0.2222222222222222,
              "#7201a8"
             ],
             [
              0.3333333333333333,
              "#9c179e"
             ],
             [
              0.4444444444444444,
              "#bd3786"
             ],
             [
              0.5555555555555556,
              "#d8576b"
             ],
             [
              0.6666666666666666,
              "#ed7953"
             ],
             [
              0.7777777777777778,
              "#fb9f3a"
             ],
             [
              0.8888888888888888,
              "#fdca26"
             ],
             [
              1,
              "#f0f921"
             ]
            ],
            "type": "surface"
           }
          ],
          "table": [
           {
            "cells": {
             "fill": {
              "color": "#EBF0F8"
             },
             "line": {
              "color": "white"
             }
            },
            "header": {
             "fill": {
              "color": "#C8D4E3"
             },
             "line": {
              "color": "white"
             }
            },
            "type": "table"
           }
          ]
         },
         "layout": {
          "annotationdefaults": {
           "arrowcolor": "#2a3f5f",
           "arrowhead": 0,
           "arrowwidth": 1
          },
          "autotypenumbers": "strict",
          "coloraxis": {
           "colorbar": {
            "outlinewidth": 0,
            "ticks": ""
           }
          },
          "colorscale": {
           "diverging": [
            [
             0,
             "#8e0152"
            ],
            [
             0.1,
             "#c51b7d"
            ],
            [
             0.2,
             "#de77ae"
            ],
            [
             0.3,
             "#f1b6da"
            ],
            [
             0.4,
             "#fde0ef"
            ],
            [
             0.5,
             "#f7f7f7"
            ],
            [
             0.6,
             "#e6f5d0"
            ],
            [
             0.7,
             "#b8e186"
            ],
            [
             0.8,
             "#7fbc41"
            ],
            [
             0.9,
             "#4d9221"
            ],
            [
             1,
             "#276419"
            ]
           ],
           "sequential": [
            [
             0,
             "#0d0887"
            ],
            [
             0.1111111111111111,
             "#46039f"
            ],
            [
             0.2222222222222222,
             "#7201a8"
            ],
            [
             0.3333333333333333,
             "#9c179e"
            ],
            [
             0.4444444444444444,
             "#bd3786"
            ],
            [
             0.5555555555555556,
             "#d8576b"
            ],
            [
             0.6666666666666666,
             "#ed7953"
            ],
            [
             0.7777777777777778,
             "#fb9f3a"
            ],
            [
             0.8888888888888888,
             "#fdca26"
            ],
            [
             1,
             "#f0f921"
            ]
           ],
           "sequentialminus": [
            [
             0,
             "#0d0887"
            ],
            [
             0.1111111111111111,
             "#46039f"
            ],
            [
             0.2222222222222222,
             "#7201a8"
            ],
            [
             0.3333333333333333,
             "#9c179e"
            ],
            [
             0.4444444444444444,
             "#bd3786"
            ],
            [
             0.5555555555555556,
             "#d8576b"
            ],
            [
             0.6666666666666666,
             "#ed7953"
            ],
            [
             0.7777777777777778,
             "#fb9f3a"
            ],
            [
             0.8888888888888888,
             "#fdca26"
            ],
            [
             1,
             "#f0f921"
            ]
           ]
          },
          "colorway": [
           "#636efa",
           "#EF553B",
           "#00cc96",
           "#ab63fa",
           "#FFA15A",
           "#19d3f3",
           "#FF6692",
           "#B6E880",
           "#FF97FF",
           "#FECB52"
          ],
          "font": {
           "color": "#2a3f5f"
          },
          "geo": {
           "bgcolor": "white",
           "lakecolor": "white",
           "landcolor": "white",
           "showlakes": true,
           "showland": true,
           "subunitcolor": "#C8D4E3"
          },
          "hoverlabel": {
           "align": "left"
          },
          "hovermode": "closest",
          "mapbox": {
           "style": "light"
          },
          "paper_bgcolor": "white",
          "plot_bgcolor": "white",
          "polar": {
           "angularaxis": {
            "gridcolor": "#EBF0F8",
            "linecolor": "#EBF0F8",
            "ticks": ""
           },
           "bgcolor": "white",
           "radialaxis": {
            "gridcolor": "#EBF0F8",
            "linecolor": "#EBF0F8",
            "ticks": ""
           }
          },
          "scene": {
           "xaxis": {
            "backgroundcolor": "white",
            "gridcolor": "#DFE8F3",
            "gridwidth": 2,
            "linecolor": "#EBF0F8",
            "showbackground": true,
            "ticks": "",
            "zerolinecolor": "#EBF0F8"
           },
           "yaxis": {
            "backgroundcolor": "white",
            "gridcolor": "#DFE8F3",
            "gridwidth": 2,
            "linecolor": "#EBF0F8",
            "showbackground": true,
            "ticks": "",
            "zerolinecolor": "#EBF0F8"
           },
           "zaxis": {
            "backgroundcolor": "white",
            "gridcolor": "#DFE8F3",
            "gridwidth": 2,
            "linecolor": "#EBF0F8",
            "showbackground": true,
            "ticks": "",
            "zerolinecolor": "#EBF0F8"
           }
          },
          "shapedefaults": {
           "line": {
            "color": "#2a3f5f"
           }
          },
          "ternary": {
           "aaxis": {
            "gridcolor": "#DFE8F3",
            "linecolor": "#A2B1C6",
            "ticks": ""
           },
           "baxis": {
            "gridcolor": "#DFE8F3",
            "linecolor": "#A2B1C6",
            "ticks": ""
           },
           "bgcolor": "white",
           "caxis": {
            "gridcolor": "#DFE8F3",
            "linecolor": "#A2B1C6",
            "ticks": ""
           }
          },
          "title": {
           "x": 0.05
          },
          "xaxis": {
           "automargin": true,
           "gridcolor": "#EBF0F8",
           "linecolor": "#EBF0F8",
           "ticks": "",
           "title": {
            "standoff": 15
           },
           "zerolinecolor": "#EBF0F8",
           "zerolinewidth": 2
          },
          "yaxis": {
           "automargin": true,
           "gridcolor": "#EBF0F8",
           "linecolor": "#EBF0F8",
           "ticks": "",
           "title": {
            "standoff": 15
           },
           "zerolinecolor": "#EBF0F8",
           "zerolinewidth": 2
          }
         }
        },
        "title": {
         "font": {
          "size": 20
         },
         "text": "Distribution of SJR Scores",
         "x": 0.5
        },
        "xaxis": {
         "anchor": "y",
         "domain": [
          0,
          1
         ],
         "gridcolor": "lightgray",
         "showgrid": true,
         "title": {
          "text": "SJR Score"
         }
        },
        "xaxis2": {
         "anchor": "y2",
         "domain": [
          0,
          1
         ],
         "matches": "x",
         "showgrid": true,
         "showticklabels": false
        },
        "yaxis": {
         "anchor": "x",
         "domain": [
          0,
          0.8316
         ],
         "gridcolor": "lightgray",
         "showgrid": true,
         "title": {
          "text": "count"
         }
        },
        "yaxis2": {
         "anchor": "x2",
         "domain": [
          0.8416,
          1
         ],
         "matches": "y2",
         "showgrid": false,
         "showline": false,
         "showticklabels": false,
         "ticks": ""
        }
       }
      }
     },
     "metadata": {},
     "output_type": "display_data"
    },
    {
     "data": {
      "application/vnd.plotly.v1+json": {
       "config": {
        "plotlyServerURL": "https://plot.ly"
       },
       "data": [
        {
         "bingroup": "x",
         "hovertemplate": "H-index=%{x}<br>count=%{y}<extra></extra>",
         "legendgroup": "",
         "marker": {
          "color": "#636efa",
          "opacity": 0.75,
          "pattern": {
           "shape": ""
          }
         },
         "name": "",
         "nbinsx": 30,
         "orientation": "v",
         "showlegend": false,
         "type": "histogram",
         "x": {
          "bdata": "AAAAAAAIgkAAAAAAAMBcQAAAAAAAwFdAAAAAAABgZ0AAAAAAAOBmQAAAAAAAAGhAAAAAAABAVkAAAAAAAMB3QAAAAAAAAPh/AAAAAAAgcUAAAAAAAAD4fwAAAAAAIHlAAAAAAADAd0AAAAAAAABoQAAAAAAAIHFAAAAAAACgbEAAAAAAAKBjQAAAAAAAgGVAAAAAAAAATkAAAAAAAIBTQAAAAAAAYGVAAAAAAAAAjEAAAAAAAOB/QAAAAAAAoHBAAAAAAAAA+H8AAAAAAABoQAAAAAAAAIxAAAAAAAAA+H8AAAAAAAD4fwAAAAAAMH1AAAAAAAAAYUAAAAAAADB9QAAAAAAAADdAAAAAAAAA+H8AAAAAAAA4QAAAAAAA4H9AAAAAAAAA+H8AAAAAALB1QAAAAAAAEHJAAAAAAACAV0AAAAAAAAD4fwAAAAAAsHVAAAAAAAAgcUAAAAAAAIBWQAAAAAAAAPh/AAAAAABgaUAAAAAAAAD4fwAAAAAAAPh/AAAAAAAQckAAAAAAAIBLQAAAAAAAwGNAAAAAAAAA+H8AAAAAAGBuQAAAAAAAsHVAAAAAAAAA+H8AAAAAAABYQAAAAAAAMH1AAAAAAAAA+H8AAAAAAOCAQAAAAAAAAPh/AAAAAAAA+H8AAAAAAABlQAAAAAAAAPh/AAAAAACgbEAAAAAAACBgQAAAAAAA4GBAAAAAAAAA+H8AAAAAAAD4fwAAAAAAoGNAAAAAAADAd0AAAAAAAIBlQAAAAAAAAPh/AAAAAABAaUAAAAAAAEBpQAAAAAAAIGBAAAAAAAAA+H8AAAAAAAD4fwAAAAAAAPh/AAAAAABAaUAAAAAAAEBpQAAAAAAAwFdAAAAAAABgbkAAAAAAAIBjQA==",
          "dtype": "f8"
         },
         "xaxis": "x",
         "yaxis": "y"
        },
        {
         "hovertemplate": "H-index=%{x}<extra></extra>",
         "legendgroup": "",
         "marker": {
          "color": "#636efa"
         },
         "name": "",
         "notched": true,
         "showlegend": false,
         "type": "box",
         "x": {
          "bdata": "AAAAAAAIgkAAAAAAAMBcQAAAAAAAwFdAAAAAAABgZ0AAAAAAAOBmQAAAAAAAAGhAAAAAAABAVkAAAAAAAMB3QAAAAAAAAPh/AAAAAAAgcUAAAAAAAAD4fwAAAAAAIHlAAAAAAADAd0AAAAAAAABoQAAAAAAAIHFAAAAAAACgbEAAAAAAAKBjQAAAAAAAgGVAAAAAAAAATkAAAAAAAIBTQAAAAAAAYGVAAAAAAAAAjEAAAAAAAOB/QAAAAAAAoHBAAAAAAAAA+H8AAAAAAABoQAAAAAAAAIxAAAAAAAAA+H8AAAAAAAD4fwAAAAAAMH1AAAAAAAAAYUAAAAAAADB9QAAAAAAAADdAAAAAAAAA+H8AAAAAAAA4QAAAAAAA4H9AAAAAAAAA+H8AAAAAALB1QAAAAAAAEHJAAAAAAACAV0AAAAAAAAD4fwAAAAAAsHVAAAAAAAAgcUAAAAAAAIBWQAAAAAAAAPh/AAAAAABgaUAAAAAAAAD4fwAAAAAAAPh/AAAAAAAQckAAAAAAAIBLQAAAAAAAwGNAAAAAAAAA+H8AAAAAAGBuQAAAAAAAsHVAAAAAAAAA+H8AAAAAAABYQAAAAAAAMH1AAAAAAAAA+H8AAAAAAOCAQAAAAAAAAPh/AAAAAAAA+H8AAAAAAABlQAAAAAAAAPh/AAAAAACgbEAAAAAAACBgQAAAAAAA4GBAAAAAAAAA+H8AAAAAAAD4fwAAAAAAoGNAAAAAAADAd0AAAAAAAIBlQAAAAAAAAPh/AAAAAABAaUAAAAAAAEBpQAAAAAAAIGBAAAAAAAAA+H8AAAAAAAD4fwAAAAAAAPh/AAAAAABAaUAAAAAAAEBpQAAAAAAAwFdAAAAAAABgbkAAAAAAAIBjQA==",
          "dtype": "f8"
         },
         "xaxis": "x2",
         "yaxis": "y2"
        }
       ],
       "layout": {
        "bargap": 0.05,
        "barmode": "relative",
        "font": {
         "size": 14
        },
        "legend": {
         "tracegroupgap": 0
        },
        "template": {
         "data": {
          "bar": [
           {
            "error_x": {
             "color": "#2a3f5f"
            },
            "error_y": {
             "color": "#2a3f5f"
            },
            "marker": {
             "line": {
              "color": "white",
              "width": 0.5
             },
             "pattern": {
              "fillmode": "overlay",
              "size": 10,
              "solidity": 0.2
             }
            },
            "type": "bar"
           }
          ],
          "barpolar": [
           {
            "marker": {
             "line": {
              "color": "white",
              "width": 0.5
             },
             "pattern": {
              "fillmode": "overlay",
              "size": 10,
              "solidity": 0.2
             }
            },
            "type": "barpolar"
           }
          ],
          "carpet": [
           {
            "aaxis": {
             "endlinecolor": "#2a3f5f",
             "gridcolor": "#C8D4E3",
             "linecolor": "#C8D4E3",
             "minorgridcolor": "#C8D4E3",
             "startlinecolor": "#2a3f5f"
            },
            "baxis": {
             "endlinecolor": "#2a3f5f",
             "gridcolor": "#C8D4E3",
             "linecolor": "#C8D4E3",
             "minorgridcolor": "#C8D4E3",
             "startlinecolor": "#2a3f5f"
            },
            "type": "carpet"
           }
          ],
          "choropleth": [
           {
            "colorbar": {
             "outlinewidth": 0,
             "ticks": ""
            },
            "type": "choropleth"
           }
          ],
          "contour": [
           {
            "colorbar": {
             "outlinewidth": 0,
             "ticks": ""
            },
            "colorscale": [
             [
              0,
              "#0d0887"
             ],
             [
              0.1111111111111111,
              "#46039f"
             ],
             [
              0.2222222222222222,
              "#7201a8"
             ],
             [
              0.3333333333333333,
              "#9c179e"
             ],
             [
              0.4444444444444444,
              "#bd3786"
             ],
             [
              0.5555555555555556,
              "#d8576b"
             ],
             [
              0.6666666666666666,
              "#ed7953"
             ],
             [
              0.7777777777777778,
              "#fb9f3a"
             ],
             [
              0.8888888888888888,
              "#fdca26"
             ],
             [
              1,
              "#f0f921"
             ]
            ],
            "type": "contour"
           }
          ],
          "contourcarpet": [
           {
            "colorbar": {
             "outlinewidth": 0,
             "ticks": ""
            },
            "type": "contourcarpet"
           }
          ],
          "heatmap": [
           {
            "colorbar": {
             "outlinewidth": 0,
             "ticks": ""
            },
            "colorscale": [
             [
              0,
              "#0d0887"
             ],
             [
              0.1111111111111111,
              "#46039f"
             ],
             [
              0.2222222222222222,
              "#7201a8"
             ],
             [
              0.3333333333333333,
              "#9c179e"
             ],
             [
              0.4444444444444444,
              "#bd3786"
             ],
             [
              0.5555555555555556,
              "#d8576b"
             ],
             [
              0.6666666666666666,
              "#ed7953"
             ],
             [
              0.7777777777777778,
              "#fb9f3a"
             ],
             [
              0.8888888888888888,
              "#fdca26"
             ],
             [
              1,
              "#f0f921"
             ]
            ],
            "type": "heatmap"
           }
          ],
          "histogram": [
           {
            "marker": {
             "pattern": {
              "fillmode": "overlay",
              "size": 10,
              "solidity": 0.2
             }
            },
            "type": "histogram"
           }
          ],
          "histogram2d": [
           {
            "colorbar": {
             "outlinewidth": 0,
             "ticks": ""
            },
            "colorscale": [
             [
              0,
              "#0d0887"
             ],
             [
              0.1111111111111111,
              "#46039f"
             ],
             [
              0.2222222222222222,
              "#7201a8"
             ],
             [
              0.3333333333333333,
              "#9c179e"
             ],
             [
              0.4444444444444444,
              "#bd3786"
             ],
             [
              0.5555555555555556,
              "#d8576b"
             ],
             [
              0.6666666666666666,
              "#ed7953"
             ],
             [
              0.7777777777777778,
              "#fb9f3a"
             ],
             [
              0.8888888888888888,
              "#fdca26"
             ],
             [
              1,
              "#f0f921"
             ]
            ],
            "type": "histogram2d"
           }
          ],
          "histogram2dcontour": [
           {
            "colorbar": {
             "outlinewidth": 0,
             "ticks": ""
            },
            "colorscale": [
             [
              0,
              "#0d0887"
             ],
             [
              0.1111111111111111,
              "#46039f"
             ],
             [
              0.2222222222222222,
              "#7201a8"
             ],
             [
              0.3333333333333333,
              "#9c179e"
             ],
             [
              0.4444444444444444,
              "#bd3786"
             ],
             [
              0.5555555555555556,
              "#d8576b"
             ],
             [
              0.6666666666666666,
              "#ed7953"
             ],
             [
              0.7777777777777778,
              "#fb9f3a"
             ],
             [
              0.8888888888888888,
              "#fdca26"
             ],
             [
              1,
              "#f0f921"
             ]
            ],
            "type": "histogram2dcontour"
           }
          ],
          "mesh3d": [
           {
            "colorbar": {
             "outlinewidth": 0,
             "ticks": ""
            },
            "type": "mesh3d"
           }
          ],
          "parcoords": [
           {
            "line": {
             "colorbar": {
              "outlinewidth": 0,
              "ticks": ""
             }
            },
            "type": "parcoords"
           }
          ],
          "pie": [
           {
            "automargin": true,
            "type": "pie"
           }
          ],
          "scatter": [
           {
            "fillpattern": {
             "fillmode": "overlay",
             "size": 10,
             "solidity": 0.2
            },
            "type": "scatter"
           }
          ],
          "scatter3d": [
           {
            "line": {
             "colorbar": {
              "outlinewidth": 0,
              "ticks": ""
             }
            },
            "marker": {
             "colorbar": {
              "outlinewidth": 0,
              "ticks": ""
             }
            },
            "type": "scatter3d"
           }
          ],
          "scattercarpet": [
           {
            "marker": {
             "colorbar": {
              "outlinewidth": 0,
              "ticks": ""
             }
            },
            "type": "scattercarpet"
           }
          ],
          "scattergeo": [
           {
            "marker": {
             "colorbar": {
              "outlinewidth": 0,
              "ticks": ""
             }
            },
            "type": "scattergeo"
           }
          ],
          "scattergl": [
           {
            "marker": {
             "colorbar": {
              "outlinewidth": 0,
              "ticks": ""
             }
            },
            "type": "scattergl"
           }
          ],
          "scattermap": [
           {
            "marker": {
             "colorbar": {
              "outlinewidth": 0,
              "ticks": ""
             }
            },
            "type": "scattermap"
           }
          ],
          "scattermapbox": [
           {
            "marker": {
             "colorbar": {
              "outlinewidth": 0,
              "ticks": ""
             }
            },
            "type": "scattermapbox"
           }
          ],
          "scatterpolar": [
           {
            "marker": {
             "colorbar": {
              "outlinewidth": 0,
              "ticks": ""
             }
            },
            "type": "scatterpolar"
           }
          ],
          "scatterpolargl": [
           {
            "marker": {
             "colorbar": {
              "outlinewidth": 0,
              "ticks": ""
             }
            },
            "type": "scatterpolargl"
           }
          ],
          "scatterternary": [
           {
            "marker": {
             "colorbar": {
              "outlinewidth": 0,
              "ticks": ""
             }
            },
            "type": "scatterternary"
           }
          ],
          "surface": [
           {
            "colorbar": {
             "outlinewidth": 0,
             "ticks": ""
            },
            "colorscale": [
             [
              0,
              "#0d0887"
             ],
             [
              0.1111111111111111,
              "#46039f"
             ],
             [
              0.2222222222222222,
              "#7201a8"
             ],
             [
              0.3333333333333333,
              "#9c179e"
             ],
             [
              0.4444444444444444,
              "#bd3786"
             ],
             [
              0.5555555555555556,
              "#d8576b"
             ],
             [
              0.6666666666666666,
              "#ed7953"
             ],
             [
              0.7777777777777778,
              "#fb9f3a"
             ],
             [
              0.8888888888888888,
              "#fdca26"
             ],
             [
              1,
              "#f0f921"
             ]
            ],
            "type": "surface"
           }
          ],
          "table": [
           {
            "cells": {
             "fill": {
              "color": "#EBF0F8"
             },
             "line": {
              "color": "white"
             }
            },
            "header": {
             "fill": {
              "color": "#C8D4E3"
             },
             "line": {
              "color": "white"
             }
            },
            "type": "table"
           }
          ]
         },
         "layout": {
          "annotationdefaults": {
           "arrowcolor": "#2a3f5f",
           "arrowhead": 0,
           "arrowwidth": 1
          },
          "autotypenumbers": "strict",
          "coloraxis": {
           "colorbar": {
            "outlinewidth": 0,
            "ticks": ""
           }
          },
          "colorscale": {
           "diverging": [
            [
             0,
             "#8e0152"
            ],
            [
             0.1,
             "#c51b7d"
            ],
            [
             0.2,
             "#de77ae"
            ],
            [
             0.3,
             "#f1b6da"
            ],
            [
             0.4,
             "#fde0ef"
            ],
            [
             0.5,
             "#f7f7f7"
            ],
            [
             0.6,
             "#e6f5d0"
            ],
            [
             0.7,
             "#b8e186"
            ],
            [
             0.8,
             "#7fbc41"
            ],
            [
             0.9,
             "#4d9221"
            ],
            [
             1,
             "#276419"
            ]
           ],
           "sequential": [
            [
             0,
             "#0d0887"
            ],
            [
             0.1111111111111111,
             "#46039f"
            ],
            [
             0.2222222222222222,
             "#7201a8"
            ],
            [
             0.3333333333333333,
             "#9c179e"
            ],
            [
             0.4444444444444444,
             "#bd3786"
            ],
            [
             0.5555555555555556,
             "#d8576b"
            ],
            [
             0.6666666666666666,
             "#ed7953"
            ],
            [
             0.7777777777777778,
             "#fb9f3a"
            ],
            [
             0.8888888888888888,
             "#fdca26"
            ],
            [
             1,
             "#f0f921"
            ]
           ],
           "sequentialminus": [
            [
             0,
             "#0d0887"
            ],
            [
             0.1111111111111111,
             "#46039f"
            ],
            [
             0.2222222222222222,
             "#7201a8"
            ],
            [
             0.3333333333333333,
             "#9c179e"
            ],
            [
             0.4444444444444444,
             "#bd3786"
            ],
            [
             0.5555555555555556,
             "#d8576b"
            ],
            [
             0.6666666666666666,
             "#ed7953"
            ],
            [
             0.7777777777777778,
             "#fb9f3a"
            ],
            [
             0.8888888888888888,
             "#fdca26"
            ],
            [
             1,
             "#f0f921"
            ]
           ]
          },
          "colorway": [
           "#636efa",
           "#EF553B",
           "#00cc96",
           "#ab63fa",
           "#FFA15A",
           "#19d3f3",
           "#FF6692",
           "#B6E880",
           "#FF97FF",
           "#FECB52"
          ],
          "font": {
           "color": "#2a3f5f"
          },
          "geo": {
           "bgcolor": "white",
           "lakecolor": "white",
           "landcolor": "white",
           "showlakes": true,
           "showland": true,
           "subunitcolor": "#C8D4E3"
          },
          "hoverlabel": {
           "align": "left"
          },
          "hovermode": "closest",
          "mapbox": {
           "style": "light"
          },
          "paper_bgcolor": "white",
          "plot_bgcolor": "white",
          "polar": {
           "angularaxis": {
            "gridcolor": "#EBF0F8",
            "linecolor": "#EBF0F8",
            "ticks": ""
           },
           "bgcolor": "white",
           "radialaxis": {
            "gridcolor": "#EBF0F8",
            "linecolor": "#EBF0F8",
            "ticks": ""
           }
          },
          "scene": {
           "xaxis": {
            "backgroundcolor": "white",
            "gridcolor": "#DFE8F3",
            "gridwidth": 2,
            "linecolor": "#EBF0F8",
            "showbackground": true,
            "ticks": "",
            "zerolinecolor": "#EBF0F8"
           },
           "yaxis": {
            "backgroundcolor": "white",
            "gridcolor": "#DFE8F3",
            "gridwidth": 2,
            "linecolor": "#EBF0F8",
            "showbackground": true,
            "ticks": "",
            "zerolinecolor": "#EBF0F8"
           },
           "zaxis": {
            "backgroundcolor": "white",
            "gridcolor": "#DFE8F3",
            "gridwidth": 2,
            "linecolor": "#EBF0F8",
            "showbackground": true,
            "ticks": "",
            "zerolinecolor": "#EBF0F8"
           }
          },
          "shapedefaults": {
           "line": {
            "color": "#2a3f5f"
           }
          },
          "ternary": {
           "aaxis": {
            "gridcolor": "#DFE8F3",
            "linecolor": "#A2B1C6",
            "ticks": ""
           },
           "baxis": {
            "gridcolor": "#DFE8F3",
            "linecolor": "#A2B1C6",
            "ticks": ""
           },
           "bgcolor": "white",
           "caxis": {
            "gridcolor": "#DFE8F3",
            "linecolor": "#A2B1C6",
            "ticks": ""
           }
          },
          "title": {
           "x": 0.05
          },
          "xaxis": {
           "automargin": true,
           "gridcolor": "#EBF0F8",
           "linecolor": "#EBF0F8",
           "ticks": "",
           "title": {
            "standoff": 15
           },
           "zerolinecolor": "#EBF0F8",
           "zerolinewidth": 2
          },
          "yaxis": {
           "automargin": true,
           "gridcolor": "#EBF0F8",
           "linecolor": "#EBF0F8",
           "ticks": "",
           "title": {
            "standoff": 15
           },
           "zerolinecolor": "#EBF0F8",
           "zerolinewidth": 2
          }
         }
        },
        "title": {
         "font": {
          "size": 20
         },
         "text": "Distribution of H-index Scores",
         "x": 0.5
        },
        "xaxis": {
         "anchor": "y",
         "domain": [
          0,
          1
         ],
         "gridcolor": "lightgray",
         "showgrid": true,
         "title": {
          "text": "H-index"
         }
        },
        "xaxis2": {
         "anchor": "y2",
         "domain": [
          0,
          1
         ],
         "matches": "x",
         "showgrid": true,
         "showticklabels": false
        },
        "yaxis": {
         "anchor": "x",
         "domain": [
          0,
          0.8316
         ],
         "gridcolor": "lightgray",
         "showgrid": true,
         "title": {
          "text": "count"
         }
        },
        "yaxis2": {
         "anchor": "x2",
         "domain": [
          0.8416,
          1
         ],
         "matches": "y2",
         "showgrid": false,
         "showline": false,
         "showticklabels": false,
         "ticks": ""
        }
       }
      }
     },
     "metadata": {},
     "output_type": "display_data"
    }
   ],
   "source": [
    "import pandas as pd\n",
    "import plotly.express as px\n",
    "\n",
    "# Deduplicate by PMID\n",
    "tdf = df.drop_duplicates(subset=[\"pmid\"]).copy()\n",
    "\n",
    "# Ensure numerics\n",
    "tdf['SJR'] = pd.to_numeric(tdf['SJR'], errors='coerce')\n",
    "tdf['H index'] = pd.to_numeric(tdf['H index'], errors='coerce')\n",
    "\n",
    "# Plot\n",
    "fig_sjr = px.histogram(\n",
    "    tdf,\n",
    "    x=\"SJR\",\n",
    "    nbins=30,\n",
    "    marginal=\"box\",\n",
    "    opacity=0.75,\n",
    "    title=\"Distribution of SJR Scores\",\n",
    "    labels={\"SJR\": \"SJR Score\", \"count\": \"Frequency\"},\n",
    ")\n",
    "\n",
    "fig_sjr.update_layout(\n",
    "    template=\"plotly_white\",\n",
    "    title=dict(x=0.5, font=dict(size=20)),\n",
    "    xaxis=dict(showgrid=True, gridcolor=\"lightgray\"),\n",
    "    yaxis=dict(showgrid=True, gridcolor=\"lightgray\"),\n",
    "    font=dict(size=14),\n",
    "    bargap=0.05\n",
    ")\n",
    "\n",
    "\n",
    "fig_hindex = px.histogram(\n",
    "    tdf,\n",
    "    x=\"H index\",\n",
    "    nbins=30,\n",
    "    marginal=\"box\",\n",
    "    opacity=0.75,\n",
    "    title=\"Distribution of H-index Scores\",\n",
    "    labels={\"H index\": \"H-index\", \"count\": \"Frequency\"},\n",
    ")\n",
    "\n",
    "fig_hindex.update_layout(\n",
    "    template=\"plotly_white\",\n",
    "    title=dict(x=0.5, font=dict(size=20)),\n",
    "    xaxis=dict(showgrid=True, gridcolor=\"lightgray\"),\n",
    "    yaxis=dict(showgrid=True, gridcolor=\"lightgray\"),\n",
    "    font=dict(size=14),\n",
    "    bargap=0.05\n",
    ")\n",
    "\n",
    "fig_sjr.show()\n",
    "fig_sjr.write_image('graphs/sjr_distribution-d1.png', width=1000, height=400, scale=3)\n",
    "\n",
    "fig_hindex.show()\n",
    "fig_hindex.write_image('graphs/h_index_distribution-d1.png', width=1000, height=400, scale=3)"
   ]
  },
  {
   "cell_type": "markdown",
   "metadata": {},
   "source": [
    "**SJR Score Interpretation**:  \n",
    "The SJR is normalized so that the average SJR score across all journals in a particular subject area is 1.0. A journal with an SJR greater than 1.0 is considered to have above-average citation potential and prestige within its discipline. For example in this dataset, the SJR of the prestigious hematology journal *Blood* is  5.823.  \n",
    "  \n",
    "For the *h-index*, higher is better. For journals, it is the number *h* papers that have been cited at least *h* times. In this dataset, the h-index of the prestigious hematology journal *Blood* is 540. "
   ]
  },
  {
   "cell_type": "markdown",
   "metadata": {},
   "source": [
    "### MeSH Headings"
   ]
  },
  {
   "cell_type": "code",
   "execution_count": 74,
   "metadata": {},
   "outputs": [
    {
     "data": {
      "application/vnd.plotly.v1+json": {
       "config": {
        "plotlyServerURL": "https://plot.ly"
       },
       "data": [
        {
         "hovertemplate": "Number of Articles=%{text}<br>MeSH Term=%{y}<extra></extra>",
         "legendgroup": "",
         "marker": {
          "color": "#636efa",
          "line": {
           "color": "black",
           "width": 0.5
          },
          "pattern": {
           "shape": ""
          }
         },
         "name": "",
         "orientation": "h",
         "showlegend": false,
         "text": {
          "bdata": "AAAAAAAAT0AAAAAAAABFQAAAAAAAgEFAAAAAAAAAP0AAAAAAAAA4QAAAAAAAADFAAAAAAAAAKkAAAAAAAAAqQAAAAAAAAChAAAAAAAAAKEAAAAAAAAAmQAAAAAAAACRAAAAAAAAAIkAAAAAAAAAiQAAAAAAAACBAAAAAAAAAIEAAAAAAAAAgQAAAAAAAACBAAAAAAAAAIEAAAAAAAAAcQA==",
          "dtype": "f8"
         },
         "textposition": "outside",
         "texttemplate": "%{text}",
         "type": "bar",
         "x": {
          "bdata": "PiojHxgRDQ0MDAsKCQkICAgICAc=",
          "dtype": "i1"
         },
         "xaxis": "x",
         "y": [
          "Humans",
          "Cell Line, Tumor",
          "Animals",
          "Mice",
          "Apoptosis/drug effects",
          "Female",
          "Signal Transduction/drug effects",
          "Drug Resistance, Neoplasm/genetics",
          "Male",
          "Signal Transduction",
          "Antineoplastic Agents/pharmacology",
          "Apoptosis",
          "Xenograft Model Antitumor Assays",
          "Gene Expression Regulation, Neoplastic",
          "Cell Proliferation/drug effects",
          "Gene Expression Regulation, Neoplastic/drug effects",
          "Drug Resistance, Neoplasm",
          "Drug Resistance, Neoplasm/drug effects",
          "Mutation",
          "Breast Neoplasms/metabolism"
         ],
         "yaxis": "y"
        }
       ],
       "layout": {
        "barmode": "relative",
        "font": {
         "size": 14
        },
        "legend": {
         "tracegroupgap": 0
        },
        "margin": {
         "b": 40,
         "l": 150,
         "r": 40,
         "t": 80
        },
        "template": {
         "data": {
          "bar": [
           {
            "error_x": {
             "color": "#2a3f5f"
            },
            "error_y": {
             "color": "#2a3f5f"
            },
            "marker": {
             "line": {
              "color": "white",
              "width": 0.5
             },
             "pattern": {
              "fillmode": "overlay",
              "size": 10,
              "solidity": 0.2
             }
            },
            "type": "bar"
           }
          ],
          "barpolar": [
           {
            "marker": {
             "line": {
              "color": "white",
              "width": 0.5
             },
             "pattern": {
              "fillmode": "overlay",
              "size": 10,
              "solidity": 0.2
             }
            },
            "type": "barpolar"
           }
          ],
          "carpet": [
           {
            "aaxis": {
             "endlinecolor": "#2a3f5f",
             "gridcolor": "#C8D4E3",
             "linecolor": "#C8D4E3",
             "minorgridcolor": "#C8D4E3",
             "startlinecolor": "#2a3f5f"
            },
            "baxis": {
             "endlinecolor": "#2a3f5f",
             "gridcolor": "#C8D4E3",
             "linecolor": "#C8D4E3",
             "minorgridcolor": "#C8D4E3",
             "startlinecolor": "#2a3f5f"
            },
            "type": "carpet"
           }
          ],
          "choropleth": [
           {
            "colorbar": {
             "outlinewidth": 0,
             "ticks": ""
            },
            "type": "choropleth"
           }
          ],
          "contour": [
           {
            "colorbar": {
             "outlinewidth": 0,
             "ticks": ""
            },
            "colorscale": [
             [
              0,
              "#0d0887"
             ],
             [
              0.1111111111111111,
              "#46039f"
             ],
             [
              0.2222222222222222,
              "#7201a8"
             ],
             [
              0.3333333333333333,
              "#9c179e"
             ],
             [
              0.4444444444444444,
              "#bd3786"
             ],
             [
              0.5555555555555556,
              "#d8576b"
             ],
             [
              0.6666666666666666,
              "#ed7953"
             ],
             [
              0.7777777777777778,
              "#fb9f3a"
             ],
             [
              0.8888888888888888,
              "#fdca26"
             ],
             [
              1,
              "#f0f921"
             ]
            ],
            "type": "contour"
           }
          ],
          "contourcarpet": [
           {
            "colorbar": {
             "outlinewidth": 0,
             "ticks": ""
            },
            "type": "contourcarpet"
           }
          ],
          "heatmap": [
           {
            "colorbar": {
             "outlinewidth": 0,
             "ticks": ""
            },
            "colorscale": [
             [
              0,
              "#0d0887"
             ],
             [
              0.1111111111111111,
              "#46039f"
             ],
             [
              0.2222222222222222,
              "#7201a8"
             ],
             [
              0.3333333333333333,
              "#9c179e"
             ],
             [
              0.4444444444444444,
              "#bd3786"
             ],
             [
              0.5555555555555556,
              "#d8576b"
             ],
             [
              0.6666666666666666,
              "#ed7953"
             ],
             [
              0.7777777777777778,
              "#fb9f3a"
             ],
             [
              0.8888888888888888,
              "#fdca26"
             ],
             [
              1,
              "#f0f921"
             ]
            ],
            "type": "heatmap"
           }
          ],
          "histogram": [
           {
            "marker": {
             "pattern": {
              "fillmode": "overlay",
              "size": 10,
              "solidity": 0.2
             }
            },
            "type": "histogram"
           }
          ],
          "histogram2d": [
           {
            "colorbar": {
             "outlinewidth": 0,
             "ticks": ""
            },
            "colorscale": [
             [
              0,
              "#0d0887"
             ],
             [
              0.1111111111111111,
              "#46039f"
             ],
             [
              0.2222222222222222,
              "#7201a8"
             ],
             [
              0.3333333333333333,
              "#9c179e"
             ],
             [
              0.4444444444444444,
              "#bd3786"
             ],
             [
              0.5555555555555556,
              "#d8576b"
             ],
             [
              0.6666666666666666,
              "#ed7953"
             ],
             [
              0.7777777777777778,
              "#fb9f3a"
             ],
             [
              0.8888888888888888,
              "#fdca26"
             ],
             [
              1,
              "#f0f921"
             ]
            ],
            "type": "histogram2d"
           }
          ],
          "histogram2dcontour": [
           {
            "colorbar": {
             "outlinewidth": 0,
             "ticks": ""
            },
            "colorscale": [
             [
              0,
              "#0d0887"
             ],
             [
              0.1111111111111111,
              "#46039f"
             ],
             [
              0.2222222222222222,
              "#7201a8"
             ],
             [
              0.3333333333333333,
              "#9c179e"
             ],
             [
              0.4444444444444444,
              "#bd3786"
             ],
             [
              0.5555555555555556,
              "#d8576b"
             ],
             [
              0.6666666666666666,
              "#ed7953"
             ],
             [
              0.7777777777777778,
              "#fb9f3a"
             ],
             [
              0.8888888888888888,
              "#fdca26"
             ],
             [
              1,
              "#f0f921"
             ]
            ],
            "type": "histogram2dcontour"
           }
          ],
          "mesh3d": [
           {
            "colorbar": {
             "outlinewidth": 0,
             "ticks": ""
            },
            "type": "mesh3d"
           }
          ],
          "parcoords": [
           {
            "line": {
             "colorbar": {
              "outlinewidth": 0,
              "ticks": ""
             }
            },
            "type": "parcoords"
           }
          ],
          "pie": [
           {
            "automargin": true,
            "type": "pie"
           }
          ],
          "scatter": [
           {
            "fillpattern": {
             "fillmode": "overlay",
             "size": 10,
             "solidity": 0.2
            },
            "type": "scatter"
           }
          ],
          "scatter3d": [
           {
            "line": {
             "colorbar": {
              "outlinewidth": 0,
              "ticks": ""
             }
            },
            "marker": {
             "colorbar": {
              "outlinewidth": 0,
              "ticks": ""
             }
            },
            "type": "scatter3d"
           }
          ],
          "scattercarpet": [
           {
            "marker": {
             "colorbar": {
              "outlinewidth": 0,
              "ticks": ""
             }
            },
            "type": "scattercarpet"
           }
          ],
          "scattergeo": [
           {
            "marker": {
             "colorbar": {
              "outlinewidth": 0,
              "ticks": ""
             }
            },
            "type": "scattergeo"
           }
          ],
          "scattergl": [
           {
            "marker": {
             "colorbar": {
              "outlinewidth": 0,
              "ticks": ""
             }
            },
            "type": "scattergl"
           }
          ],
          "scattermap": [
           {
            "marker": {
             "colorbar": {
              "outlinewidth": 0,
              "ticks": ""
             }
            },
            "type": "scattermap"
           }
          ],
          "scattermapbox": [
           {
            "marker": {
             "colorbar": {
              "outlinewidth": 0,
              "ticks": ""
             }
            },
            "type": "scattermapbox"
           }
          ],
          "scatterpolar": [
           {
            "marker": {
             "colorbar": {
              "outlinewidth": 0,
              "ticks": ""
             }
            },
            "type": "scatterpolar"
           }
          ],
          "scatterpolargl": [
           {
            "marker": {
             "colorbar": {
              "outlinewidth": 0,
              "ticks": ""
             }
            },
            "type": "scatterpolargl"
           }
          ],
          "scatterternary": [
           {
            "marker": {
             "colorbar": {
              "outlinewidth": 0,
              "ticks": ""
             }
            },
            "type": "scatterternary"
           }
          ],
          "surface": [
           {
            "colorbar": {
             "outlinewidth": 0,
             "ticks": ""
            },
            "colorscale": [
             [
              0,
              "#0d0887"
             ],
             [
              0.1111111111111111,
              "#46039f"
             ],
             [
              0.2222222222222222,
              "#7201a8"
             ],
             [
              0.3333333333333333,
              "#9c179e"
             ],
             [
              0.4444444444444444,
              "#bd3786"
             ],
             [
              0.5555555555555556,
              "#d8576b"
             ],
             [
              0.6666666666666666,
              "#ed7953"
             ],
             [
              0.7777777777777778,
              "#fb9f3a"
             ],
             [
              0.8888888888888888,
              "#fdca26"
             ],
             [
              1,
              "#f0f921"
             ]
            ],
            "type": "surface"
           }
          ],
          "table": [
           {
            "cells": {
             "fill": {
              "color": "#EBF0F8"
             },
             "line": {
              "color": "white"
             }
            },
            "header": {
             "fill": {
              "color": "#C8D4E3"
             },
             "line": {
              "color": "white"
             }
            },
            "type": "table"
           }
          ]
         },
         "layout": {
          "annotationdefaults": {
           "arrowcolor": "#2a3f5f",
           "arrowhead": 0,
           "arrowwidth": 1
          },
          "autotypenumbers": "strict",
          "coloraxis": {
           "colorbar": {
            "outlinewidth": 0,
            "ticks": ""
           }
          },
          "colorscale": {
           "diverging": [
            [
             0,
             "#8e0152"
            ],
            [
             0.1,
             "#c51b7d"
            ],
            [
             0.2,
             "#de77ae"
            ],
            [
             0.3,
             "#f1b6da"
            ],
            [
             0.4,
             "#fde0ef"
            ],
            [
             0.5,
             "#f7f7f7"
            ],
            [
             0.6,
             "#e6f5d0"
            ],
            [
             0.7,
             "#b8e186"
            ],
            [
             0.8,
             "#7fbc41"
            ],
            [
             0.9,
             "#4d9221"
            ],
            [
             1,
             "#276419"
            ]
           ],
           "sequential": [
            [
             0,
             "#0d0887"
            ],
            [
             0.1111111111111111,
             "#46039f"
            ],
            [
             0.2222222222222222,
             "#7201a8"
            ],
            [
             0.3333333333333333,
             "#9c179e"
            ],
            [
             0.4444444444444444,
             "#bd3786"
            ],
            [
             0.5555555555555556,
             "#d8576b"
            ],
            [
             0.6666666666666666,
             "#ed7953"
            ],
            [
             0.7777777777777778,
             "#fb9f3a"
            ],
            [
             0.8888888888888888,
             "#fdca26"
            ],
            [
             1,
             "#f0f921"
            ]
           ],
           "sequentialminus": [
            [
             0,
             "#0d0887"
            ],
            [
             0.1111111111111111,
             "#46039f"
            ],
            [
             0.2222222222222222,
             "#7201a8"
            ],
            [
             0.3333333333333333,
             "#9c179e"
            ],
            [
             0.4444444444444444,
             "#bd3786"
            ],
            [
             0.5555555555555556,
             "#d8576b"
            ],
            [
             0.6666666666666666,
             "#ed7953"
            ],
            [
             0.7777777777777778,
             "#fb9f3a"
            ],
            [
             0.8888888888888888,
             "#fdca26"
            ],
            [
             1,
             "#f0f921"
            ]
           ]
          },
          "colorway": [
           "#636efa",
           "#EF553B",
           "#00cc96",
           "#ab63fa",
           "#FFA15A",
           "#19d3f3",
           "#FF6692",
           "#B6E880",
           "#FF97FF",
           "#FECB52"
          ],
          "font": {
           "color": "#2a3f5f"
          },
          "geo": {
           "bgcolor": "white",
           "lakecolor": "white",
           "landcolor": "white",
           "showlakes": true,
           "showland": true,
           "subunitcolor": "#C8D4E3"
          },
          "hoverlabel": {
           "align": "left"
          },
          "hovermode": "closest",
          "mapbox": {
           "style": "light"
          },
          "paper_bgcolor": "white",
          "plot_bgcolor": "white",
          "polar": {
           "angularaxis": {
            "gridcolor": "#EBF0F8",
            "linecolor": "#EBF0F8",
            "ticks": ""
           },
           "bgcolor": "white",
           "radialaxis": {
            "gridcolor": "#EBF0F8",
            "linecolor": "#EBF0F8",
            "ticks": ""
           }
          },
          "scene": {
           "xaxis": {
            "backgroundcolor": "white",
            "gridcolor": "#DFE8F3",
            "gridwidth": 2,
            "linecolor": "#EBF0F8",
            "showbackground": true,
            "ticks": "",
            "zerolinecolor": "#EBF0F8"
           },
           "yaxis": {
            "backgroundcolor": "white",
            "gridcolor": "#DFE8F3",
            "gridwidth": 2,
            "linecolor": "#EBF0F8",
            "showbackground": true,
            "ticks": "",
            "zerolinecolor": "#EBF0F8"
           },
           "zaxis": {
            "backgroundcolor": "white",
            "gridcolor": "#DFE8F3",
            "gridwidth": 2,
            "linecolor": "#EBF0F8",
            "showbackground": true,
            "ticks": "",
            "zerolinecolor": "#EBF0F8"
           }
          },
          "shapedefaults": {
           "line": {
            "color": "#2a3f5f"
           }
          },
          "ternary": {
           "aaxis": {
            "gridcolor": "#DFE8F3",
            "linecolor": "#A2B1C6",
            "ticks": ""
           },
           "baxis": {
            "gridcolor": "#DFE8F3",
            "linecolor": "#A2B1C6",
            "ticks": ""
           },
           "bgcolor": "white",
           "caxis": {
            "gridcolor": "#DFE8F3",
            "linecolor": "#A2B1C6",
            "ticks": ""
           }
          },
          "title": {
           "x": 0.05
          },
          "xaxis": {
           "automargin": true,
           "gridcolor": "#EBF0F8",
           "linecolor": "#EBF0F8",
           "ticks": "",
           "title": {
            "standoff": 15
           },
           "zerolinecolor": "#EBF0F8",
           "zerolinewidth": 2
          },
          "yaxis": {
           "automargin": true,
           "gridcolor": "#EBF0F8",
           "linecolor": "#EBF0F8",
           "ticks": "",
           "title": {
            "standoff": 15
           },
           "zerolinecolor": "#EBF0F8",
           "zerolinewidth": 2
          }
         }
        },
        "title": {
         "font": {
          "size": 22
         },
         "text": "Top 20 MeSH Terms \n(MeSH terms n=864)",
         "x": 0.5
        },
        "xaxis": {
         "anchor": "y",
         "domain": [
          0,
          1
         ],
         "gridcolor": "lightgray",
         "showgrid": true,
         "title": {
          "font": {
           "size": 16
          },
          "text": "Number of Articles"
         }
        },
        "yaxis": {
         "anchor": "x",
         "categoryorder": "total ascending",
         "domain": [
          0,
          1
         ],
         "tickfont": {
          "size": 12
         },
         "title": {
          "font": {
           "size": 16
          },
          "text": "MeSH Term"
         }
        }
       }
      }
     },
     "metadata": {},
     "output_type": "display_data"
    }
   ],
   "source": [
    "mesh_pairs = []\n",
    "for idx, row in df.iterrows():\n",
    "    pmid = row['pmid']\n",
    "    if pd.notnull(row['mesh_terms']):\n",
    "        terms = row['mesh_terms'].split('; ')\n",
    "        for term in terms:\n",
    "            if term.strip():  # drop empty strings\n",
    "                mesh_pairs.append((pmid, term.strip()))\n",
    "\n",
    "mesh_df = pd.DataFrame(mesh_pairs, columns=[\"pmid\", \"MeSH Term\"])\n",
    "\n",
    "# Dedup\n",
    "mesh_df = mesh_df.drop_duplicates(subset=[\"pmid\", \"MeSH Term\"])\n",
    "\n",
    "mesh_counts = (\n",
    "    mesh_df.groupby(\"MeSH Term\")[\"pmid\"]\n",
    "    .nunique()\n",
    "    .reset_index(name=\"count\")\n",
    "    .sort_values(\"count\", ascending=False)\n",
    ")\n",
    "\n",
    "top_n = 20\n",
    "mesh_top = mesh_counts.head(top_n)\n",
    "\n",
    "# Plot\n",
    "fig = px.bar(\n",
    "    mesh_top,\n",
    "    x=\"count\",\n",
    "    y=\"MeSH Term\",\n",
    "    orientation=\"h\",\n",
    "    text=\"count\",\n",
    "    title=f\"Top {top_n} MeSH Terms \\n(MeSH terms n={len(set(mesh_terms))})\",\n",
    "    labels={\"count\": \"Number of Articles\", \"MeSH Term\": \"MeSH Term\"}\n",
    ")\n",
    "\n",
    "fig.update_traces(\n",
    "    texttemplate=\"%{text}\",\n",
    "    textposition=\"outside\",\n",
    "    marker=dict(line=dict(width=0.5, color=\"black\"))\n",
    ")\n",
    "\n",
    "fig.update_layout(\n",
    "    template=\"plotly_white\",\n",
    "    title=dict(x=0.5, font=dict(size=22)),\n",
    "    xaxis=dict(showgrid=True, gridcolor=\"lightgray\", title_font=dict(size=16)),\n",
    "    yaxis=dict(title_font=dict(size=16), tickfont=dict(size=12), categoryorder=\"total ascending\"),\n",
    "    font=dict(size=14),\n",
    "    margin=dict(l=150, r=40, t=80, b=40)\n",
    ")\n",
    "\n",
    "fig.show()\n",
    "fig.write_image('graphs/top_mesh_terms-d1.png', width=1000, height=600, scale=3)\n"
   ]
  }
 ],
 "metadata": {
  "kernelspec": {
   "display_name": "3.12.2",
   "language": "python",
   "name": "python3"
  },
  "language_info": {
   "codemirror_mode": {
    "name": "ipython",
    "version": 3
   },
   "file_extension": ".py",
   "mimetype": "text/x-python",
   "name": "python",
   "nbconvert_exporter": "python",
   "pygments_lexer": "ipython3",
   "version": "3.12.2"
  }
 },
 "nbformat": 4,
 "nbformat_minor": 2
}
